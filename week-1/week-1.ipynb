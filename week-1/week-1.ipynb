{
 "cells": [
  {
   "cell_type": "code",
   "execution_count": 1,
   "metadata": {},
   "outputs": [
    {
     "name": "stdout",
     "output_type": "stream",
     "text": [
      "10\n"
     ]
    }
   ],
   "source": [
    "# 1. create a variable and assign the value 10 to it. print the value of x\n",
    "\n",
    "x = 10\n",
    "print(x)"
   ]
  },
  {
   "cell_type": "code",
   "execution_count": null,
   "metadata": {},
   "outputs": [
    {
     "name": "stdout",
     "output_type": "stream",
     "text": [
      "my name is John I'm 25 years old, 5.9m tall, my active paticipation of arewa data science fellowship is: True\n"
     ]
    }
   ],
   "source": [
    "'''\n",
    "2. assigning different data types\n",
    "\n",
    "task: create variables of difference data type:\n",
    "\n",
    "interger: age = 25\n",
    "float: height = 5.9\n",
    "String: name = \"John\"\n",
    "Boolean: is_active = True\n",
    "print all the value\n",
    "\n",
    "'''\n",
    "\n",
    "age = 25\n",
    "height =  5.9\n",
    "name = \"John\"\n",
    "is_active = True\n",
    "\n",
    "print(f\"my name is {name} I'm {age} years old, {height}m tall, my active paticipation of arewa data science fellowship is: {is_active}\")\n"
   ]
  },
  {
   "cell_type": "code",
   "execution_count": null,
   "metadata": {},
   "outputs": [
    {
     "name": "stdout",
     "output_type": "stream",
     "text": [
      "the sum of a and b is: 50\n"
     ]
    }
   ],
   "source": [
    "'''\n",
    "3. simple addition.\n",
    " \n",
    "Task: Create two variables, a and b, and assign them interger values. calculate their sum and print the result.\n",
    "'''\n",
    "\n",
    "a = 20\n",
    "b = 30\n",
    "sum = a + b\n",
    "\n",
    "print(f'the sum of a and b is: {sum}')"
   ]
  },
  {
   "cell_type": "code",
   "execution_count": null,
   "metadata": {},
   "outputs": [
    {
     "name": "stdout",
     "output_type": "stream",
     "text": [
      "My full name is: Alice Wonderland\n"
     ]
    }
   ],
   "source": [
    "'''\n",
    "4. String Concantenation.\n",
    "\n",
    "task: Create teo string variables\n",
    "\n",
    "first_name = \"Alice\" and last_name = \"Wonderland\".\n",
    "\n",
    "concatenate them to create a full name and print the result\n",
    "\n",
    "'''\n",
    "\n",
    "first_name = \"Alice \"\n",
    "last_name = \"Wonderland\"\n",
    "full_name = first_name + last_name\n",
    "\n",
    "print(f\"My full name is: {full_name}\")"
   ]
  },
  {
   "cell_type": "code",
   "execution_count": null,
   "metadata": {},
   "outputs": [
    {
     "name": "stdout",
     "output_type": "stream",
     "text": [
      "<class 'str'>\n"
     ]
    }
   ],
   "source": [
    "'''\n",
    "5. Variable Type Check.\n",
    "\n",
    "\n",
    "Task: Create a variable x = \"Hello\"\n",
    "\n",
    "Check and print the type of x using the type() function\n",
    "'''\n",
    "\n",
    "x = \"Hello\"\n",
    "print(type(x)) # x of string data type"
   ]
  },
  {
   "cell_type": "code",
   "execution_count": 12,
   "metadata": {},
   "outputs": [
    {
     "name": "stdout",
     "output_type": "stream",
     "text": [
      "10 5\n",
      "10 10\n"
     ]
    }
   ],
   "source": [
    "'''\n",
    "6. Swap Two Variables.\n",
    "\n",
    "Task: Create two variables a = 10 and b = 5.\n",
    "\n",
    "Swap their values without using a temporary variable.\n",
    "\n",
    "print the new values of a and b\n",
    "'''\n",
    "\n",
    "\n",
    "a = 10\n",
    "b = 5\n",
    "\n",
    "print(a,b)\n",
    "\n",
    "b = a\n",
    "a = b\n",
    "print(a, b)"
   ]
  },
  {
   "cell_type": "code",
   "execution_count": null,
   "metadata": {},
   "outputs": [],
   "source": [
    "'''\n",
    "7. Arithmetic Operaations\n",
    "\n",
    "Task: Creaate teo variables x = 15 and y = 4.\n",
    "\n",
    "performe addition, division, and modulus operations.\n",
    "\n",
    "print the results.\n",
    "'''\n",
    "\n",
    "x = 15\n",
    "y = 4\n",
    "\n",
    "# performing  addition operation\n",
    "sum_xy = x + y\n",
    "print(f\"addition: {sum_xy}\")\n",
    "\n",
    "\n",
    "# performing divion operation\n",
    "div_xy = x / y\n",
    "print(div_xy)\n",
    "\n",
    "\n",
    "# performing modulus operation\n",
    "mod_xy = x % y\n",
    "print(mod_xy)\n"
   ]
  },
  {
   "cell_type": "code",
   "execution_count": 16,
   "metadata": {},
   "outputs": [
    {
     "name": "stdout",
     "output_type": "stream",
     "text": [
      "x:1 y:2 z:3\n"
     ]
    }
   ],
   "source": [
    "'''\n",
    "8. Multiple Variable Assignment\n",
    "Task: Assign values to multiple variables in a single line:\n",
    "\n",
    "x = 1, y = 2, z = 3\n",
    "Print the values of all three variables.\n",
    "\n",
    "'''\n",
    "x = 1; y = 2; z = 3\n",
    "print(f\"x:{x} y:{y} z:{z}\")\n"
   ]
  },
  {
   "cell_type": "code",
   "execution_count": 19,
   "metadata": {},
   "outputs": [
    {
     "name": "stdout",
     "output_type": "stream",
     "text": [
      "15\n",
      "12\n"
     ]
    }
   ],
   "source": [
    "''' \n",
    "9. Updating Variable Values\n",
    "\n",
    "Task: Create a variable counter = 10. \n",
    "Increase its value by 5 using an assignment operation (+=). \n",
    "Then decrease its value by 3 (-=). \n",
    "Print the final value of counter.\n",
    "\n",
    "'''\n",
    "\n",
    "counter = 10\n",
    "\n",
    "counter += 5\n",
    "\n",
    "print(counter)\n",
    "\n",
    "counter -= 3\n",
    "print(counter)"
   ]
  },
  {
   "cell_type": "code",
   "execution_count": null,
   "metadata": {},
   "outputs": [
    {
     "name": "stdout",
     "output_type": "stream",
     "text": [
      "50\n"
     ]
    }
   ],
   "source": [
    "''' \n",
    "10. Variable Re-Assignment\n",
    "\n",
    "Task: Create a variable x = 100. \n",
    "\n",
    "Reassign its value to x = 50. \n",
    "\n",
    "Print the new value of x\n",
    "\n",
    "'''\n",
    "x = 100\n",
    "x = 50\n",
    "print(x) # python overite the previous value of initial x\n"
   ]
  },
  {
   "cell_type": "code",
   "execution_count": 22,
   "metadata": {},
   "outputs": [
    {
     "name": "stdout",
     "output_type": "stream",
     "text": [
      "welcome to Arewa Data Science Fellowship Mr. Adamu Labaran\n"
     ]
    }
   ],
   "source": [
    "''' \n",
    "11. User Input and Variable Assignment\n",
    "\n",
    "Task: Use the input() function to assign the user's name to a variable and print a greeting message with the user's name.\n",
    "\n",
    "'''\n",
    "user_name = input(\"what is your \")\n",
    "greeting = f\"welcome to Arewa Data Science Fellowship Mr. {user_name}\"\n",
    "print(greeting)\n"
   ]
  },
  {
   "cell_type": "code",
   "execution_count": 25,
   "metadata": {},
   "outputs": [
    {
     "name": "stdout",
     "output_type": "stream",
     "text": [
      "42\n",
      "<class 'int'>\n",
      "<class 'str'>\n"
     ]
    }
   ],
   "source": [
    "''' \n",
    "12. String to Integer Conversion\n",
    "\n",
    "Task: Create a string variable num_str = \"42\". \n",
    "\n",
    "Convert it to an integer and print the result.\n",
    "'''\n",
    "\n",
    "num_str = \"42\"\n",
    "num_int =  int(num_str)\n",
    "print(num_int)\n",
    "print(type(num_int))\n",
    "print(type(num_str))"
   ]
  },
  {
   "cell_type": "code",
   "execution_count": 28,
   "metadata": {},
   "outputs": [
    {
     "name": "stdout",
     "output_type": "stream",
     "text": [
      "100\n",
      "<class 'str'>\n",
      "<class 'int'>\n"
     ]
    }
   ],
   "source": [
    "''' \n",
    "13. Integer to String Conversion\n",
    "\n",
    "Task: Create an integer variable num = 100. Convert it to a string and print the result.\n",
    "'''\n",
    "\n",
    "num_int = 100\n",
    "num_str = str(num_int)\n",
    "print(num_str)\n",
    "print(type(num_str))\n",
    "print(type(num_int))"
   ]
  },
  {
   "cell_type": "code",
   "execution_count": null,
   "metadata": {},
   "outputs": [
    {
     "name": "stdout",
     "output_type": "stream",
     "text": [
      "my favourite fruite apple\n"
     ]
    }
   ],
   "source": [
    "''' \n",
    "14. Working with Lists\n",
    "\n",
    "Task: Create a list fruits = [\"apple\", \"banana\", \"cherry\"]. \n",
    "\n",
    "Assign the first element of the list to a variable favorite_fruit and print it.\n",
    "\n",
    "'''\n",
    "fruits = [\"apple\", \"bannana\", \"cherry\"]\n",
    "favorite_fruit = fruits[0]\n",
    "print(f\"my favourite fruite {favorite_fruit}\")\n"
   ]
  },
  {
   "cell_type": "code",
   "execution_count": 32,
   "metadata": {},
   "outputs": [
    {
     "name": "stdout",
     "output_type": "stream",
     "text": [
      "the lenght of message variable is 13\n"
     ]
    }
   ],
   "source": [
    "''' \n",
    "15. String Length\n",
    "\n",
    "Task: Create a string variable message = \"Hello, Python!\". \n",
    "\n",
    "Assign the length of the string to a variable length and print it.\n",
    "'''\n",
    "message = \"Hello, Python\"\n",
    "print(f\"the lenght of message variable is {len(message)}\")"
   ]
  },
  {
   "cell_type": "code",
   "execution_count": 34,
   "metadata": {},
   "outputs": [
    {
     "name": "stdout",
     "output_type": "stream",
     "text": [
      "5.85\n",
      "0.43000000000000016\n",
      "0.43000000000000016\n"
     ]
    }
   ],
   "source": [
    "''' \n",
    "16. Floating-Point Arithmetic\n",
    "\n",
    "Task: Create two floating-point variables a = 3.14 and b = 2.71. \n",
    "\n",
    "Add them together, subtract them, and multiply them. Print the results.\n",
    "'''\n",
    "a = 3.14\n",
    "b = 2.71\n",
    "\n",
    "# performing addition \n",
    "sum_ab = a + b\n",
    "print(sum_ab)\n",
    "\n",
    "# performing subtraction\n",
    "sub_ab = a - b \n",
    "print(sub_ab)\n",
    "\n",
    "# performing modulus\n",
    "mod_ab = a % b\n",
    "print(mod_ab)\n"
   ]
  },
  {
   "cell_type": "code",
   "execution_count": 37,
   "metadata": {},
   "outputs": [
    {
     "name": "stdout",
     "output_type": "stream",
     "text": [
      "Hello my name is John Doe!. Happy coding\n"
     ]
    }
   ],
   "source": [
    "''' \n",
    "17. Combining Strings with Variables\n",
    "\n",
    "Task: Create variables first_name = \"John\" and last_name = \"Doe\". \n",
    "\n",
    "Use string concatenation to print Hello, John Doe!.\n",
    "'''\n",
    "first_name = \"John \"\n",
    "last_name = \"Doe!\"\n",
    "print(f\"Hello my name is {first_name}{last_name}. Happy coding\")"
   ]
  },
  {
   "cell_type": "code",
   "execution_count": 38,
   "metadata": {},
   "outputs": [
    {
     "name": "stdout",
     "output_type": "stream",
     "text": [
      "MY name is Alice and I am 25 years old.\n"
     ]
    }
   ],
   "source": [
    "''' \n",
    "18. String Formatting with f-strings\n",
    "\n",
    "Task: Create variables age = 25 and name = \"Alice\". \n",
    "\n",
    "Use an f-string to print: \"My name is Alice and I am 25 years old.\"\n",
    "\n",
    "'''\n",
    "\n",
    "age = 25\n",
    "name = \"Alice\"\n",
    "print(f\"MY name is {name} and I am {age} years old.\")"
   ]
  },
  {
   "cell_type": "code",
   "execution_count": 39,
   "metadata": {},
   "outputs": [
    {
     "name": "stdout",
     "output_type": "stream",
     "text": [
      "3.14159\n"
     ]
    }
   ],
   "source": [
    "''' \n",
    "19. Constants Convention.\n",
    "\n",
    "Task: Define a constant PI = 3.14159. \n",
    "Print the value of PI and explain why constants are written in uppercase.\n",
    "'''\n",
    "PI = 3.14159\n",
    "print(PI)\n"
   ]
  },
  {
   "cell_type": "code",
   "execution_count": 40,
   "metadata": {},
   "outputs": [
    {
     "name": "stdout",
     "output_type": "stream",
     "text": [
      "25\n"
     ]
    }
   ],
   "source": [
    "''' \n",
    "20. Working with Dictionaries.\n",
    "\n",
    "Task: Create a dictionary person = {\"name\": \"Alice\", \"age\": 25}. \n",
    "\n",
    "Assign the value of \"age\" from the dictionary to a variable age_value and print it.\n",
    "'''\n",
    "person = {\"name\":\"alice\", \"age\":25}\n",
    "age_value = person[\"age\"]\n",
    "print(age_value)"
   ]
  },
  {
   "cell_type": "code",
   "execution_count": 46,
   "metadata": {},
   "outputs": [
    {
     "name": "stdout",
     "output_type": "stream",
     "text": [
      "local x: x decleared inside a function is 5\n",
      "global x: x deleared outside of a function is 10\n"
     ]
    }
   ],
   "source": [
    "''' \n",
    "21. Using Global and Local Variables.\n",
    "\n",
    "Task: Create a global variable x = 10. \n",
    "\n",
    "In a function, assign a new value to x (locally) and print both the local and global values of x.\n",
    "'''\n",
    "x = 10\n",
    "\n",
    "def local_x():\n",
    "    x = 5\n",
    "    return x\n",
    "\n",
    "local_x = local_x()\n",
    "\n",
    "print(f\"local x: x decleared inside a function is {local_x}\")\n",
    "print(f\"global x: x deleared outside of a function is {x}\")"
   ]
  },
  {
   "cell_type": "code",
   "execution_count": null,
   "metadata": {},
   "outputs": [],
   "source": [
    "''' \n",
    "22. Swapping Values with Pythonic Method\n",
    "\n",
    "Task: Swap the values of two variables x = 5 and y = 10 using Python's multiple assignment feature. \n",
    "\n",
    "Print the new values of x and y.\n",
    "\n",
    "'''\n",
    "\n"
   ]
  },
  {
   "cell_type": "code",
   "execution_count": null,
   "metadata": {},
   "outputs": [],
   "source": [
    "''' \n",
    "23. Boolean Expressions.\n",
    "\n",
    "Task: Create two boolean variables is_sunny = True and is_raining = False. \n",
    "\n",
    "Print a message based on the result of is_sunny and is_raining.\n",
    "'''\n",
    "\n",
    "\n"
   ]
  },
  {
   "cell_type": "code",
   "execution_count": 47,
   "metadata": {},
   "outputs": [
    {
     "name": "stdout",
     "output_type": "stream",
     "text": [
      "100\n",
      "50\n",
      "30\n"
     ]
    }
   ],
   "source": [
    "''' \n",
    "24. Typecasting Multiple Variables.\n",
    "\n",
    "Task: Create a variable x = \"100\", y = \"50\", and z = \"30\". \n",
    "\n",
    "Convert all of them to integers and print their sum.\n",
    "'''\n",
    "\n",
    "x = \"100\"\n",
    "y = \"50\"\n",
    "z = \"30\"\n",
    "\n",
    "# convertion from string to integer\n",
    "x = int(x)\n",
    "print(x)\n",
    "\n",
    "y = int(y)\n",
    "print(y)\n",
    "\n",
    "z = int(z)\n",
    "print(z)\n"
   ]
  },
  {
   "cell_type": "code",
   "execution_count": null,
   "metadata": {},
   "outputs": [],
   "source": [
    "''' \n",
    "25. Modifying String Values.\n",
    "\n",
    "Task: Create a string variable sentence = \"Python is awesome\". \n",
    "\n",
    "Replace the word \"awesome\" with \"cool\" and print the modified string.\n",
    "'''\n",
    "sentence = \"Python is awesome\"\n",
    "new_sentence = \n"
   ]
  },
  {
   "cell_type": "code",
   "execution_count": null,
   "metadata": {},
   "outputs": [],
   "source": [
    "''' \n",
    "26. Complex Variable Assignment.\n",
    "\n",
    "Task: Create a variable person = {\"name\": \"Bob\", \"age\": 30}. \n",
    "\n",
    "Assign the value of \"name\" to a variable person_name and \"age\" to person_age. \n",
    "\n",
    "Print both variables.\n",
    "'''\n",
    "\n"
   ]
  },
  {
   "cell_type": "code",
   "execution_count": null,
   "metadata": {},
   "outputs": [],
   "source": [
    "''' \n",
    "27. Using Variables in Functions.\n",
    "\n",
    "Task: Create a function greet(name) that takes a string argument name and prints \"Hello, <name>!\". Call the function with your n\n",
    "'''"
   ]
  },
  {
   "cell_type": "code",
   "execution_count": null,
   "metadata": {},
   "outputs": [],
   "source": [
    "''' \n",
    "28. Counting Occurrences.\n",
    "\n",
    "Task: Create a string text = \"apple apple banana apple\". Count how many times the word \"apple\" appears in the string and store it in a variable apple_count. Print the count.\n",
    "'''"
   ]
  },
  {
   "cell_type": "code",
   "execution_count": null,
   "metadata": {},
   "outputs": [],
   "source": [
    "''' \n",
    "29. Working with Multiple Variables in a Function.\n",
    "\n",
    "Task: Write a function add_numbers(a, b) that takes two numbers and returns their sum. Call the function with the arguments a = 5 and b = 7 and store the result in a variable result. Print result.\n",
    "'''"
   ]
  },
  {
   "cell_type": "code",
   "execution_count": null,
   "metadata": {},
   "outputs": [],
   "source": [
    "''' \n",
    "30. Using Variables in Lists and Loops.\n",
    "\n",
    "Task: Create a list numbers = [1, 2, 3, 4, 5]. Use a for loop to multiply each number by 2, and store the results in a new list doubled_numbers. Print the doubled_numbers list.\n",
    "\n",
    "\n",
    "'''"
   ]
  },
  {
   "cell_type": "code",
   "execution_count": null,
   "metadata": {},
   "outputs": [],
   "source": []
  },
  {
   "cell_type": "code",
   "execution_count": null,
   "metadata": {},
   "outputs": [],
   "source": []
  },
  {
   "cell_type": "code",
   "execution_count": null,
   "metadata": {},
   "outputs": [],
   "source": []
  },
  {
   "cell_type": "code",
   "execution_count": null,
   "metadata": {},
   "outputs": [],
   "source": []
  }
 ],
 "metadata": {
  "kernelspec": {
   "display_name": "Python 3",
   "language": "python",
   "name": "python3"
  },
  "language_info": {
   "codemirror_mode": {
    "name": "ipython",
    "version": 3
   },
   "file_extension": ".py",
   "mimetype": "text/x-python",
   "name": "python",
   "nbconvert_exporter": "python",
   "pygments_lexer": "ipython3",
   "version": "3.12.7"
  }
 },
 "nbformat": 4,
 "nbformat_minor": 2
}

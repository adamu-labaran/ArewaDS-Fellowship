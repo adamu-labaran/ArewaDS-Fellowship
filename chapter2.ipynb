{
 "cells": [
  {
   "cell_type": "markdown",
   "metadata": {},
   "source": [
    "# VARIABLE\n",
    "- A variable in Python is like a labeled container that holds data.\n",
    "\n",
    "- Think of it as a box where you can store something and give it a name so you can use it later.\n",
    "\n",
    "▪ Just like you label a box to know what's inside, you assign a name to a variable to reference the data it holds.\n",
    "\n",
    "▪ Variable names should be descriptive and follow naming rules (e.g., start with a letter or underscore, no spaces).\n",
    "\n",
    "▪ Variables can store various types of data, such as numbers, text, lists, or more complex objects.\n",
    "\n",
    "▪ The data stored can change over time, making variables flexible for different operations.\n",
    "\n",
    "# Real-World Analogy\n",
    "Imagine you're organizing a kitchen:\n",
    "\n",
    "- Variable as a Container:\n",
    "\n",
    "▪  You have containers (variables) labeled \"Flour,\" \"Sugar,\" and \"Eggs.\"\n",
    "▪ Each container holds a specific ingredient (data).\n",
    "\n",
    "- Changing Contents:\n",
    "\n",
    "▪ If you use some sugar, you can refill the \"Sugar\" container.\n",
    "▪ This is similar to updating the value of a variable.\n",
    "\n",
    "# Variables in Python\n",
    "1. Variable names can contain only letters\n",
    "\n",
    "2. Spaces are not allowed in variable names, but underscores can be used\n",
    "\n",
    "3. Avoid using Python keywords and function names as variable names\n",
    "\n",
    "4. Variable names should be short but descriptive.\n",
    "\n"
   ]
  },
  {
   "cell_type": "markdown",
   "metadata": {},
   "source": [
    "# VARIABLE IN ACTION"
   ]
  },
  {
   "cell_type": "code",
   "execution_count": 4,
   "metadata": {},
   "outputs": [
    {
     "data": {
      "text/plain": [
       "'Hello World!'"
      ]
     },
     "execution_count": 4,
     "metadata": {},
     "output_type": "execute_result"
    }
   ],
   "source": [
    "greet = \"Hello World!\"\n",
    "greet"
   ]
  },
  {
   "cell_type": "code",
   "execution_count": 5,
   "metadata": {},
   "outputs": [
    {
     "data": {
      "text/plain": [
       "'Hello python from Arewa Data Sceince Acedemy'"
      ]
     },
     "execution_count": 5,
     "metadata": {},
     "output_type": "execute_result"
    }
   ],
   "source": [
    "greet = \"Hello python from Arewa Data Sceince Acedemy\"\n",
    "greet"
   ]
  },
  {
   "cell_type": "code",
   "execution_count": 7,
   "metadata": {},
   "outputs": [
    {
     "name": "stdout",
     "output_type": "stream",
     "text": [
      "Hello python from Arewa Data Sceince Acedemy\n"
     ]
    }
   ],
   "source": [
    "print(greet)"
   ]
  },
  {
   "cell_type": "code",
   "execution_count": 9,
   "metadata": {},
   "outputs": [
    {
     "name": "stdout",
     "output_type": "stream",
     "text": [
      "6\n"
     ]
    }
   ],
   "source": [
    "# INTERGER VARIABLE\n",
    "a  = 2\n",
    "b = 4\n",
    "c = a + b\n",
    "print(c)"
   ]
  },
  {
   "cell_type": "markdown",
   "metadata": {},
   "source": [
    "- When an error occurs in your program, the Python interpreter provides a traceback when a program cannot run successfully.\n",
    "- A traceback is a record of where the interpreter ran into trouble when trying to execute your code.\n",
    "- Here’s an example of the traceback that Python provides after you’ve accidentally misspelled a variable’s name:"
   ]
  },
  {
   "cell_type": "code",
   "execution_count": 10,
   "metadata": {},
   "outputs": [
    {
     "ename": "ZeroDivisionError",
     "evalue": "division by zero",
     "output_type": "error",
     "traceback": [
      "\u001b[1;31m---------------------------------------------------------------------------\u001b[0m",
      "\u001b[1;31mZeroDivisionError\u001b[0m                         Traceback (most recent call last)",
      "Cell \u001b[1;32mIn[10], line 1\u001b[0m\n\u001b[1;32m----> 1\u001b[0m \u001b[38;5;241;43m1\u001b[39;49m\u001b[38;5;241;43m/\u001b[39;49m\u001b[38;5;241;43m0\u001b[39;49m\n",
      "\u001b[1;31mZeroDivisionError\u001b[0m: division by zero"
     ]
    }
   ],
   "source": [
    "1/0"
   ]
  },
  {
   "cell_type": "markdown",
   "metadata": {},
   "source": [
    "# STRING\n",
    "\n",
    "- A String is a series of characters.\n",
    "\n",
    "- Anything inside quotes is considered a string in python, and you use single or double quotes around your strings like"
   ]
  },
  {
   "cell_type": "code",
   "execution_count": 11,
   "metadata": {},
   "outputs": [
    {
     "name": "stdout",
     "output_type": "stream",
     "text": [
      "Adamu Labaran\n"
     ]
    }
   ],
   "source": [
    "# string in action\n",
    "name = \"Adamu Labaran\"\n",
    "print(name)"
   ]
  },
  {
   "cell_type": "markdown",
   "metadata": {},
   "source": [
    "# FLEXIBILITY OF SINGLE AND DOUBLE QUOTES"
   ]
  },
  {
   "cell_type": "code",
   "execution_count": 14,
   "metadata": {},
   "outputs": [
    {
     "name": "stdout",
     "output_type": "stream",
     "text": [
      "I told my friend, \"Python is my favorite language!\" \n",
      "\n",
      "The language 'Python' is named after Monty Python, not the snaake.  \n"
     ]
    }
   ],
   "source": [
    "# single quotes in action\n",
    "single_quote = 'I told my friend, \"Python is my favorite language!\" '\n",
    "print(single_quote)\n",
    "print()\n",
    "\n",
    "# double quote in action \n",
    "double_quotes = \"The language 'Python' is named after Monty Python, not the snaake.  \"\n",
    "print(double_quotes)\n"
   ]
  },
  {
   "cell_type": "markdown",
   "metadata": {},
   "source": [
    "### METHOD IN PYTHON\n",
    "\n",
    "A method is an action that python that can perform on a piece of data.\n",
    "\n",
    "- For example, if you have a string, you can convert it to uppercase using a method.\n",
    "\n",
    "- For example if you have a string, you can convert it to lowercase using a method.\n",
    "\n",
    "- Methods are called by placing a dot after the data, then the method name, and finally parentheses."
   ]
  },
  {
   "cell_type": "markdown",
   "metadata": {},
   "source": [
    "# STRING METHOD IN ACTION"
   ]
  },
  {
   "cell_type": "code",
   "execution_count": 15,
   "metadata": {},
   "outputs": [
    {
     "data": {
      "text/plain": [
       "'Adamu Labaran'"
      ]
     },
     "execution_count": 15,
     "metadata": {},
     "output_type": "execute_result"
    }
   ],
   "source": [
    "# Changing Case in a String with Methods\n",
    "name = \"Adamu Labaran\" # name is an object of string\n",
    "\n",
    "# The title() method converts the first character of each word in the string to uppercase and the rest to lowercase.\n",
    "print(name.title())  # Output: Ada Lovelace\n",
    "\n",
    "# using  lower case\n",
    "print(name.lower)\n",
    "\n",
    "  "
   ]
  },
  {
   "cell_type": "markdown",
   "metadata": {},
   "source": []
  },
  {
   "cell_type": "markdown",
   "metadata": {},
   "source": [
    "### METHOD IN PYTHON"
   ]
  },
  {
   "cell_type": "code",
   "execution_count": null,
   "metadata": {},
   "outputs": [],
   "source": []
  }
 ],
 "metadata": {
  "kernelspec": {
   "display_name": "Python 3",
   "language": "python",
   "name": "python3"
  },
  "language_info": {
   "codemirror_mode": {
    "name": "ipython",
    "version": 3
   },
   "file_extension": ".py",
   "mimetype": "text/x-python",
   "name": "python",
   "nbconvert_exporter": "python",
   "pygments_lexer": "ipython3",
   "version": "3.12.7"
  }
 },
 "nbformat": 4,
 "nbformat_minor": 2
}

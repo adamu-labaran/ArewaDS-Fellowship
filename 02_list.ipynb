{
 "cells": [
  {
   "cell_type": "code",
   "execution_count": 1,
   "metadata": {},
   "outputs": [],
   "source": [
    "# working with list\n",
    "lst = [1, 2, 3, 4, 5, 6, 7, 8, 9, 10]\n",
    "fruit = [\"apple\", \"banana\", \"orange\", \"pineaple\", \"mango\"]\n",
    "\n",
    "# list can also be empty\n",
    "lst1 = []\n"
   ]
  },
  {
   "cell_type": "markdown",
   "metadata": {},
   "source": [
    "__working with list__\n",
    "\n",
    "__W O R K I N G   W I T H   L I S T S__\n",
    "\n",
    ">In Chapter 3 you learned how to make a simple list, and you learned to work with the individual elements in a list. In this chapter you’ll learn how to loop through an entire list using just a few lines of code, regardless of how long the list is. Looping allows you to take the same action, or set of actions, with every item in a list. As a result, you’ll be able to work efficiently with lists of any length, including those with thousands or even millions of items.\n",
    "\n",
    "__Looping Through an Entire List__\n",
    "\n",
    ">You’ll often want to run through all entries in a list, performing the same task with each item. For example, in a game you might want to move every element on the screen by the same amount. In a list of numbers, you might want to perform the same statistical operation on every element. \n",
    "\n",
    ">Or perhaps you’ll want to display each headline from a list of articles on a website. When you want to do the same action with every item in a list, you can use Python’s for loop.Say we have a list of magicians’ names, and we want to print out each name in the list. We could do this by retrieving each name from the list indi-vidually, but this approach could cause several problems. For one, it would be repetitive to do this with a long list of names. Also, we’d have to change our code each time the list’s length changed. Using a for loop avoids both of these issues by letting Python manage these issues internally.Let’s use a for loop to print out each name in a list of magicians:"
   ]
  },
  {
   "cell_type": "code",
   "execution_count": 2,
   "metadata": {},
   "outputs": [
    {
     "name": "stdout",
     "output_type": "stream",
     "text": [
      "alice\n",
      "david\n",
      "carolina\n"
     ]
    }
   ],
   "source": [
    "magicians = ['alice', 'david', 'carolina']\n",
    "\n",
    "for magician in magicians:\n",
    "    print(magician)"
   ]
  },
  {
   "cell_type": "code",
   "execution_count": 3,
   "metadata": {},
   "outputs": [
    {
     "name": "stdout",
     "output_type": "stream",
     "text": [
      "Alice, that was a great trick!\n",
      "David, that was a great trick!\n",
      "Carolina, that was a great trick!\n"
     ]
    }
   ],
   "source": [
    "magicians = ['alice', 'david', 'carolina']\n",
    "for magician in magicians:\n",
    "    print(f\"{magician.title()}, that was a great trick!\")\n"
   ]
  },
  {
   "cell_type": "code",
   "execution_count": 4,
   "metadata": {},
   "outputs": [
    {
     "name": "stdout",
     "output_type": "stream",
     "text": [
      "Alice, that was a great trick!\n",
      "I can't wait to see your next trick, Alice.\n",
      "\n",
      "David, that was a great trick!\n",
      "I can't wait to see your next trick, David.\n",
      "\n",
      "Carolina, that was a great trick!\n",
      "I can't wait to see your next trick, Carolina.\n",
      "\n"
     ]
    }
   ],
   "source": [
    "# Let’s add a second line to our message, telling each magician that we’re looking forward to their next trick:\n",
    "magicians = ['alice', 'david', 'carolina']\n",
    "for magician in magicians: \n",
    "    print(f\"{magician.title()}, that was a great trick!\")\n",
    "    print(f\"I can't wait to see your next trick, {magician.title()}.\\n\")"
   ]
  },
  {
   "cell_type": "code",
   "execution_count": 5,
   "metadata": {},
   "outputs": [
    {
     "name": "stdout",
     "output_type": "stream",
     "text": [
      "Alice, that was a great trick!\n",
      "I can't wait to see your next trick, Alice.\n",
      "\n",
      "David, that was a great trick!\n",
      "I can't wait to see your next trick, David.\n",
      "\n",
      "Carolina, that was a great trick!\n",
      "I can't wait to see your next trick, Carolina.\n",
      "\n",
      "Thank you, everyone. That was a great magic show!\n"
     ]
    }
   ],
   "source": [
    "# Let’s write a thank you to the group of magicians as a whole, thanking them for putting on an excellent show. \n",
    "# To display this group message after all of the individual messages have been printed, \n",
    "# we place the thank you message after the for loop, without indentation:\n",
    "\n",
    "magicians = ['alice', 'david', 'carolina']\n",
    "for magician in magicians:\n",
    "    print(f\"{magician.title()}, that was a great trick!\")\n",
    "    print(f\"I can't wait to see your next trick, {magician.title()}.\\n\")\n",
    "print(\"Thank you, everyone. That was a great magic show!\")\n"
   ]
  },
  {
   "cell_type": "code",
   "execution_count": 6,
   "metadata": {},
   "outputs": [
    {
     "name": "stdout",
     "output_type": "stream",
     "text": [
      "Alice, that was a great trick!\n",
      "David, that was a great trick!\n",
      "Carolina, that was a great trick!\n",
      "I can't wait to see your next trick, Carolina.\n",
      "\n"
     ]
    },
    {
     "data": {
      "text/plain": [
       "\"Alice, that was a great trick!David, that was a great trick!Carolina, \\nthat was a great trick!I can't wait to see your next trick, Carolina.\\nThis is a logical error. The syntax is valid Python code, but the code does not produce the desired result because a problem occurs in its logic. \\nIf you expect to see a certain action repeated once for each item in a list and it’s executed only once, \\ndetermine whether you need to simply indent a line or a group of lines.\""
      ]
     },
     "execution_count": 6,
     "metadata": {},
     "output_type": "execute_result"
    }
   ],
   "source": [
    "magicians = ['alice', 'david', 'carolina']\n",
    "for magician in magicians:\n",
    "    print(f\"{magician.title()}, that was a great trick!\")\n",
    "print(f\"I can't wait to see your next trick, {magician.title()}.\\n\")\n",
    "\n",
    "\"\"\"Alice, that was a great trick!David, that was a great trick!Carolina, \n",
    "that was a great trick!I can't wait to see your next trick, Carolina.\n",
    "This is a logical error. The syntax is valid Python code, but the code does not produce the desired result because a problem occurs in its logic. \n",
    "If you expect to see a certain action repeated once for each item in a list and it’s executed only once, \n",
    "determine whether you need to simply indent a line or a group of lines.\"\"\""
   ]
  },
  {
   "cell_type": "markdown",
   "metadata": {},
   "source": [
    "__T R Y   I T   Y O U R S E L F__ \n",
    "\n",
    ">4-1. Pizzas: Think of at least three kinds of your favorite pizza. Store these pizza names in a list, and then use a for loop to print the name of each pizza.• Modify your for loop to print a sentence using the name of the pizza, instead of printing just the name of the pizza. For each pizza, you should have one line of output containing a simple statement like I like pep-peroni pizza.• Add a line at the end of your program, outside the for loop, that states how much you like pizza. The output should consist of three or more lines about the kinds of pizza you like and then an additional sentence, such as \n",
    "***\n",
    "I really love pizza!\n",
    "***\n",
    ">4-2. Animals: Think of at least three different animals that have a common char-acteristic. Store the names of these animals in a list, and then use a for loop to print out the name of each animal.• Modify your program to print a statement about each animal, such as A dog would make a great pet.\n",
    "\n",
    ">• Add a line at the end of your program, stating what these animals have in common. You could print a sentence, such as Any of these animals would make a great pet!\n",
    "***\n",
    "Making Numerical Lists\n",
    "Making Numerical Lists\n",
    "***"
   ]
  },
  {
   "cell_type": "markdown",
   "metadata": {},
   "source": [
    ">Many reasons exist to store a set of numbers. For example, you’ll need to keep track of the positions of each character in a game, and you might want  to keep track of a player’s high scores as well. In data visualizations, you’ll almost always work with sets of numbers, such as temperatures, distances, population sizes, or latitude and longitude values, among other types of numerical sets.\n",
    "\n",
    ">Lists are ideal for storing sets of numbers, and Python provides a variety of tools to help you work efficiently with lists of numbers. Once you under-stand how to use these tools effectively, your code will work well even when your lists contain millions of items.\n",
    "\n",
    "__Using the range() Function__\n",
    "\n",
    ">Python’s range() function makes it easy to generate a series of numbers.  For example, you can use the range() function to print a series of numbers like this:"
   ]
  },
  {
   "cell_type": "code",
   "execution_count": 7,
   "metadata": {},
   "outputs": [
    {
     "name": "stdout",
     "output_type": "stream",
     "text": [
      "1\n",
      "2\n",
      "3\n",
      "4\n"
     ]
    }
   ],
   "source": [
    "for value in range(1, 5):\n",
    "    print(value)"
   ]
  },
  {
   "cell_type": "markdown",
   "metadata": {},
   "source": [
    ">Although this code looks like it should print the numbers from 1 to 5, it doesn’t print the number 5: 1234\n",
    "\n",
    ">In this example, range() prints only the numbers 1 through 4. This is another result of the off-by-one behavior you’ll see often in programming languages. The range() function causes Python to start counting at the first value you give it, and it stops when it reaches the second value you provide. Because it stops at that second value, the output never contains the end value, which would have been 5 in this case.To print the numbers from 1 to 5, you would use range(1, 6):\n"
   ]
  },
  {
   "cell_type": "code",
   "execution_count": 8,
   "metadata": {},
   "outputs": [
    {
     "name": "stdout",
     "output_type": "stream",
     "text": [
      "1\n",
      "2\n",
      "3\n",
      "4\n",
      "5\n"
     ]
    }
   ],
   "source": [
    "for value in range(1, 6):    \n",
    "    print(value)"
   ]
  },
  {
   "cell_type": "markdown",
   "metadata": {},
   "source": [
    ">This time the output starts at 1 and ends at 5: 12345\n",
    "\n",
    ">If your output is different from what you expect when you’re using  range(), try adjusting your end value by 1.You can also pass range() only one argument, and it will start the sequence of numbers at 0. For example, range(6) would return the numbers from 0 through 5."
   ]
  },
  {
   "cell_type": "markdown",
   "metadata": {},
   "source": [
    "__Using range() to Make a List of Numbers__\n",
    "\n",
    ">If you want to make a list of numbers, you can convert the results of range() directly into a list using the list() function. When you wrap list() around a call to the range() function, the output will be a list of numbers.\n",
    "\n",
    ">In the example in the previous section, we simply printed out a series of numbers. We can use list() to convert that same set of numbers into a list:"
   ]
  },
  {
   "cell_type": "code",
   "execution_count": 9,
   "metadata": {},
   "outputs": [
    {
     "name": "stdout",
     "output_type": "stream",
     "text": [
      "[1, 2, 3, 4, 5]\n"
     ]
    }
   ],
   "source": [
    "numbers = list(range(1, 6))\n",
    "print(numbers)"
   ]
  },
  {
   "cell_type": "markdown",
   "metadata": {},
   "source": [
    "__This is the result:__ \n",
    "***\n",
    "[1, 2, 3, 4, 5]\n",
    "***\n",
    "\n",
    ">We can also use the range() function to tell Python to skip numbers in a given range. If you pass a third argument to range(), Python uses that value as a step size when generating numbers.For example, here’s how to list the even numbers between 1 and 10:"
   ]
  },
  {
   "cell_type": "code",
   "execution_count": 10,
   "metadata": {},
   "outputs": [
    {
     "name": "stdout",
     "output_type": "stream",
     "text": [
      "[2, 4, 6, 8, 10]\n"
     ]
    }
   ],
   "source": [
    "even_numbers = list(range(2, 11, 2))\n",
    "print(even_numbers)"
   ]
  },
  {
   "cell_type": "markdown",
   "metadata": {},
   "source": [
    ">In this example, the range() function starts with the value 2 and then adds 2 to that value. It adds 2 repeatedly until it reaches or passes the end value, 11, and produces this result:\n",
    "***\n",
    "[2, 4, 6, 8, 10]\n",
    "***\n",
    "\n",
    ">You can create almost any set of numbers you want to using the range() function. For example, consider how you might make a list of the first 10 square numbers (that is, the square of each integer from 1 through 10). In Python, two asterisks (**) represent exponents. Here’s how you might put the first 10 square numbers into a list:"
   ]
  },
  {
   "cell_type": "code",
   "execution_count": 11,
   "metadata": {},
   "outputs": [
    {
     "name": "stdout",
     "output_type": "stream",
     "text": [
      "[1]\n",
      "[1, 4]\n",
      "[1, 4, 9]\n",
      "[1, 4, 9, 16]\n",
      "[1, 4, 9, 16, 25]\n",
      "[1, 4, 9, 16, 25, 36]\n",
      "[1, 4, 9, 16, 25, 36, 49]\n",
      "[1, 4, 9, 16, 25, 36, 49, 64]\n",
      "[1, 4, 9, 16, 25, 36, 49, 64, 81]\n",
      "[1, 4, 9, 16, 25, 36, 49, 64, 81, 100]\n"
     ]
    }
   ],
   "source": [
    "squares = []\n",
    "for value in range(1, 11):\n",
    "    square = value ** 2 \n",
    "    squares.append(square)\n",
    "    print(squares)"
   ]
  },
  {
   "cell_type": "code",
   "execution_count": 12,
   "metadata": {},
   "outputs": [
    {
     "name": "stdout",
     "output_type": "stream",
     "text": [
      "[1]\n",
      "[1, 4]\n",
      "[1, 4, 9]\n",
      "[1, 4, 9, 16]\n",
      "[1, 4, 9, 16, 25]\n",
      "[1, 4, 9, 16, 25, 36]\n",
      "[1, 4, 9, 16, 25, 36, 49]\n",
      "[1, 4, 9, 16, 25, 36, 49, 64]\n",
      "[1, 4, 9, 16, 25, 36, 49, 64, 81]\n",
      "[1, 4, 9, 16, 25, 36, 49, 64, 81, 100]\n"
     ]
    }
   ],
   "source": [
    "\"\"\"\n",
    "To write this code more concisely, \n",
    "omit the temporary variable square and append each new value directly to the list:\n",
    "\"\"\"\n",
    "squares = []\n",
    "for value in range(1,11):\n",
    "    squares.append(value**2)\n",
    "    print(squares)"
   ]
  },
  {
   "cell_type": "markdown",
   "metadata": {},
   "source": [
    ">This line does the same work as the lines inside the for loop in the pre-vious listing. Each value in the loop is raised to the second power and then immediately appended to the list of squares.You can use either of these approaches when you’re making more com-plex lists. Sometimes using a temporary variable makes your code easier to read; other times it makes the code unnecessarily long. Focus first on writ-ing code that you understand clearly, and does what you want it to do. Then look for more efficient approaches as you review your code."
   ]
  },
  {
   "cell_type": "markdown",
   "metadata": {},
   "source": [
    "__Simple Statistics with a List of Numbers__\n",
    "\n",
    ">A few Python functions are helpful when working with lists of numbers. For example, you can easily find the minimum, maximum, and sum of a list of numbers:"
   ]
  },
  {
   "cell_type": "code",
   "execution_count": 13,
   "metadata": {},
   "outputs": [
    {
     "name": "stdout",
     "output_type": "stream",
     "text": [
      "0\n",
      "9\n",
      "45\n"
     ]
    }
   ],
   "source": [
    "digits = [1, 2, 3, 4, 5, 6, 7, 8, 9, 0]\n",
    "print(min(digits))\n",
    "print(max(digits))\n",
    "print(sum(digits))"
   ]
  },
  {
   "cell_type": "markdown",
   "metadata": {},
   "source": [
    "___N O T E___  \n",
    "\n",
    ">The examples in this section use short lists of numbers that fit easily on the page. They would work just as well if your list contained a million or more numbers.\n",
    "\n",
    "__List Comprehensions__\n",
    "\n",
    ">The approach described earlier for generating the list squares consisted of using three or four lines of code. A list comprehension allows you to generate this same list in just one line of code. A list comprehension combines the\n",
    "\n",
    ">for loop and the creation of new elements into one line, and automatically appends each new element. List comprehensions are not always presented to beginners, but I’ve included them here because you’ll most likely see them as soon as you start looking at other people’s code.The following example builds the same list of square numbers you saw earlier but uses a list comprehension:"
   ]
  },
  {
   "cell_type": "code",
   "execution_count": 14,
   "metadata": {},
   "outputs": [
    {
     "name": "stdout",
     "output_type": "stream",
     "text": [
      "[1, 4, 9, 16, 25, 36, 49, 64, 81, 100]\n"
     ]
    }
   ],
   "source": [
    "squares = [value**2 for value in range(1, 11)]\n",
    "print(squares)"
   ]
  },
  {
   "cell_type": "markdown",
   "metadata": {},
   "source": [
    "__output__\n",
    "***\n",
    "[1, 4, 9, 16, 25, 36, 49, 64, 81, 100]"
   ]
  },
  {
   "cell_type": "code",
   "execution_count": 15,
   "metadata": {},
   "outputs": [
    {
     "name": "stdout",
     "output_type": "stream",
     "text": [
      "[0, 2, 4, 6, 8, 10, 12, 14, 16, 18, 20, 22, 24, 26, 28, 30, 32, 34, 36, 38, 40, 42, 44, 46, 48, 50, 52, 54, 56, 58, 60, 62, 64, 66, 68, 70, 72, 74, 76, 78, 80, 82, 84, 86, 88, 90, 92, 94, 96, 98]\n"
     ]
    }
   ],
   "source": [
    "even = [num for num in range(0, 100, 2)]\n",
    "print(even)"
   ]
  },
  {
   "cell_type": "markdown",
   "metadata": {},
   "source": [
    ">To use this syntax, begin with a descriptive name for the list, such as squares. Next, open a set of square brackets and define the expression for the values you want to store in the new list. In this example the expression is value**2, which raises the value to the second power. Then, write a for loop to generate the numbers you want to feed into the expression, and close the square brackets. The for loop in this example is for value in range(1, 11), which feeds the values 1 through 10 into the expression value**2. Note that no colon is used at the end of the for statement.The result is the same list of square numbers you saw earlier:"
   ]
  },
  {
   "cell_type": "code",
   "execution_count": 16,
   "metadata": {},
   "outputs": [
    {
     "name": "stdout",
     "output_type": "stream",
     "text": [
      "[0, 4, 16, 36, 64, 100, 144, 196, 256, 324, 400, 484, 576, 676, 784, 900, 1024, 1156, 1296, 1444, 1600, 1764, 1936, 2116, 2304, 2500, 2704, 2916, 3136, 3364, 3600, 3844, 4096, 4356, 4624, 4900, 5184, 5476, 5776, 6084, 6400, 6724, 7056, 7396, 7744, 8100, 8464, 8836, 9216, 9604]\n"
     ]
    },
    {
     "data": {
      "text/plain": [
       "[4,\n",
       " 9,\n",
       " 16,\n",
       " 25,\n",
       " 36,\n",
       " 49,\n",
       " 64,\n",
       " 81,\n",
       " 100,\n",
       " 121,\n",
       " 144,\n",
       " 169,\n",
       " 196,\n",
       " 225,\n",
       " 256,\n",
       " 289,\n",
       " 324,\n",
       " 361,\n",
       " 400,\n",
       " 441,\n",
       " 484,\n",
       " 529,\n",
       " 576,\n",
       " 625,\n",
       " 676,\n",
       " 729,\n",
       " 784,\n",
       " 841,\n",
       " 900,\n",
       " 961,\n",
       " 1024,\n",
       " 1089,\n",
       " 1156,\n",
       " 1225,\n",
       " 1296,\n",
       " 1369,\n",
       " 1444,\n",
       " 1521,\n",
       " 1600,\n",
       " 1681,\n",
       " 1764,\n",
       " 1849,\n",
       " 1936,\n",
       " 2025,\n",
       " 2116,\n",
       " 2209,\n",
       " 2304,\n",
       " 2401,\n",
       " 2500,\n",
       " 2601,\n",
       " 2704,\n",
       " 2809,\n",
       " 2916,\n",
       " 3025,\n",
       " 3136,\n",
       " 3249,\n",
       " 3364,\n",
       " 3481,\n",
       " 3600,\n",
       " 3721,\n",
       " 3844,\n",
       " 3969,\n",
       " 4096,\n",
       " 4225,\n",
       " 4356,\n",
       " 4489,\n",
       " 4624,\n",
       " 4761,\n",
       " 4900,\n",
       " 5041,\n",
       " 5184,\n",
       " 5329,\n",
       " 5476,\n",
       " 5625,\n",
       " 5776,\n",
       " 5929,\n",
       " 6084,\n",
       " 6241,\n",
       " 6400,\n",
       " 6561,\n",
       " 6724,\n",
       " 6889,\n",
       " 7056,\n",
       " 7225,\n",
       " 7396,\n",
       " 7569,\n",
       " 7744,\n",
       " 7921,\n",
       " 8100,\n",
       " 8281,\n",
       " 8464,\n",
       " 8649,\n",
       " 8836,\n",
       " 9025,\n",
       " 9216,\n",
       " 9409,\n",
       " 9604,\n",
       " 9801]"
      ]
     },
     "execution_count": 16,
     "metadata": {},
     "output_type": "execute_result"
    }
   ],
   "source": [
    "even_sqr = [num**2 for num in range(0, 100, 2)]\n",
    "print(even_sqr)\n",
    "\n",
    "even_sqr = [num**2 for num in range(2, 100)]\n",
    "even_sqr"
   ]
  },
  {
   "cell_type": "markdown",
   "metadata": {},
   "source": [
    "__T R Y   I T   Y O U R S E L F__\n",
    "\n",
    ">4-3. Counting to Twenty: Use a for loop to print the numbers from 1 to 20, inclusive.\n",
    "\n",
    ">4-4. One Million: Make a list of the numbers from one to one million, and then use a for loop to print the numbers. (If the output is taking too long, stop it by pressing CTRL-C or by closing the output window.)\n",
    "\n",
    ">4-5. Summing a Million: Make a list of the numbers from one to one million, and then use min() and max() to make sure your list actually starts at one and ends at one million. Also, use the sum() function to see how quickly Python can add a million numbers.\n",
    "\n",
    ">4-6. Odd Numbers: Use the third argument of the range() function to make a list of the odd numbers from 1 to 20. Use a for loop to print each number.\n",
    "\n",
    ">4-7. Threes: Make a list of the multiples of 3, from 3 to 30. Use a for loop to print the numbers in your list.\n",
    "\n",
    ">4-8. Cubes: A number raised to the third power is called a cube. For example, the cube of 2 is written as 2**3 in Python. Make a list of the first 10 cubes (that is, the cube of each integer from 1 through 10), and use a for loop to print out the value of each cube.\n",
    "\n",
    ">4-9. Cube Comprehension: Use a list comprehension to generate a list of the first 10 cubes."
   ]
  },
  {
   "cell_type": "markdown",
   "metadata": {},
   "source": [
    "__Copying a List__\n",
    "\n",
    ">Often, you’ll want to start with an existing list and make an entirely new list based on the first one. Let’s explore how copying a list works and examine one situation in which copying a list is useful.\n",
    "\n",
    ">To copy a list, you can make a slice that includes the entire original list by omitting the first index and the second index ([:]). This tells Python to make a slice that starts at the first item and ends with the last item, produc-ing a copy of the entire list.\n",
    "\n",
    ">For example, imagine we have a list of our favorite foods and want to make a separate list of foods that a friend likes. This friend likes everything in our list so far, so we can create their list by copying ours:"
   ]
  },
  {
   "cell_type": "code",
   "execution_count": 17,
   "metadata": {},
   "outputs": [
    {
     "name": "stdout",
     "output_type": "stream",
     "text": [
      "My favorite foods are:\n",
      "['pizza', 'falafel', 'carrot cake']\n",
      "\n",
      "My friend's favorite foods are:\n",
      "['pizza', 'falafel', 'carrot cake']\n"
     ]
    }
   ],
   "source": [
    "my_foods = ['pizza', 'falafel', 'carrot cake']\n",
    "friend_foods = my_foods[:]\n",
    "print(\"My favorite foods are:\")\n",
    "print(my_foods)\n",
    "print(\"\\nMy friend's favorite foods are:\")\n",
    "print(friend_foods)"
   ]
  },
  {
   "cell_type": "markdown",
   "metadata": {},
   "source": [
    ">First, we make a list of the foods we like called my_foods. Then we make  a new list called friend_foods. We make a copy of my_foods by asking for a  slice of my_foods without specifying any indices 1, and assign the copy to friend_foods. When we print each list, we see that they both contain the same foods:\n",
    "***\n",
    "\n",
    "__My favorite foods are:['pizza', 'falafel', 'carrot cake']__\n",
    "\n",
    "__My friend's favorite foods are:['pizza', 'falafel', 'carrot cake']__\n",
    "\n",
    ">To prove that we actually have two separate lists, we’ll add a new food to each list and show that each list keeps track of the appropriate person’s favorite foods:"
   ]
  },
  {
   "cell_type": "code",
   "execution_count": 18,
   "metadata": {},
   "outputs": [
    {
     "name": "stdout",
     "output_type": "stream",
     "text": [
      "My favorite foods are:\n",
      "['pizza', 'falafel', 'carrot cake', 'cannoli']\n",
      "\n",
      "My friend's favorite foods are:\n",
      "['pizza', 'falafel', 'carrot cake', 'ice cream']\n"
     ]
    }
   ],
   "source": [
    "my_foods = ['pizza', 'falafel', 'carrot cake']\n",
    "friend_foods = my_foods[:]\n",
    "my_foods.append('cannoli')\n",
    "friend_foods.append('ice cream')\n",
    "print(\"My favorite foods are:\")\n",
    "print(my_foods)\n",
    "print(\"\\nMy friend's favorite foods are:\")\n",
    "print(friend_foods)"
   ]
  },
  {
   "cell_type": "markdown",
   "metadata": {},
   "source": [
    ">We copy the original items in my_foods to the new list friend_foods, as we did in the previous example 1. Next, we add a new food to each list: we add 'cannoli' to my_foods 2, and we add 'ice cream' to friend_foods 3. We then print the two lists to see whether each of these foods is in the appropriate list:\n",
    "***\n",
    "__My favorite foods are:['pizza', 'falafel', 'carrot cake', 'cannoli']__\n",
    "\n",
    "__My friend's favorite foods are:['pizza', 'falafel', 'carrot cake', 'ice cream']__\n",
    "***\n",
    "\n",
    ">The output shows that 'cannoli' now appears in our list of favorite foods but 'ice cream' does not. We can see that 'ice cream' now appears in our friend’s list but 'cannoli' does not. If we had simply set friend_foods equal to my_foods, we would not produce two separate lists. For example, here’s what happens when you try to copy a list without using a slice:"
   ]
  },
  {
   "cell_type": "code",
   "execution_count": 19,
   "metadata": {},
   "outputs": [
    {
     "name": "stdout",
     "output_type": "stream",
     "text": [
      "My favorite foods are:\n",
      "['pizza', 'falafel', 'carrot cake', 'cannoli', 'ice cream']\n",
      "\n",
      "My friend's favorite foods are:\n",
      "['pizza', 'falafel', 'carrot cake', 'cannoli', 'ice cream']\n"
     ]
    }
   ],
   "source": [
    "my_foods = ['pizza', 'falafel', 'carrot cake']# This doesn't work:\n",
    "friend_foods = my_foods\n",
    "my_foods.append('cannoli')\n",
    "friend_foods.append('ice cream')\n",
    "print(\"My favorite foods are:\")\n",
    "print(my_foods)\n",
    "print(\"\\nMy friend's favorite foods are:\")\n",
    "print(friend_foods)"
   ]
  },
  {
   "cell_type": "markdown",
   "metadata": {},
   "source": [
    ">Instead of assigning a copy of my_foods to friend_foods, we set friend_foods equal to my_foods. This syntax actually tells Python to associate the new vari-able friend_foods with the list that is already associated with my_foods, so now both variables point to the same list. As a result, when we add 'cannoli' to \n",
    "\n",
    ">my_foods, it will also appear in friend_foods. Likewise 'ice cream' will appear in both lists, even though it appears to be added only to friend_foods.The output shows that both lists are the same now, which is not what we wanted:\n",
    "***\n",
    "__My favorite foods are:['pizza', 'falafel', 'carrot cake', 'cannoli', 'ice cream']__\n",
    "\n",
    "__My friend's favorite foods are:['pizza', 'falafel', 'carrot cake', 'cannoli', 'ice cream']__\n",
    "***"
   ]
  },
  {
   "cell_type": "markdown",
   "metadata": {},
   "source": [
    "__T R Y   I T   Y O U R S E L F__ \n",
    "\n",
    ">4-1. Pizzas: Think of at least three kinds of your favorite pizza. Store these pizza names in a list, and then use a for loop to print the name of each pizza.\n",
    "\n",
    ">Modify your for loop to print a sentence using the name of the pizza, instead of printing just the name of the pizza. For each pizza, you should have one line of output containing a simple statement like I like pep-peroni pizza.\n",
    "\n",
    ">Add a line at the end of your program, outside the for loop, that states how much you like pizza. The output should consist of three or more lines about the kinds of pizza you like and then an additional sentence, such as I really love pizza!\n",
    "\n",
    ">4-2. Animals: Think of at least three different animals that have a common char-acteristic. Store the names of these animals in a list, and then use a for loop to print out the name of each animal.• Modify your program to print a statement about each animal, such as A dog would make a great pet.\n",
    "\n",
    ">Add a line at the end of your program, stating what these animals have in common. You could print a sentence, such as Any of these animals would make a great pet!\n"
   ]
  },
  {
   "cell_type": "markdown",
   "metadata": {},
   "source": [
    "__T R Y   I T   Y O U R S E L F__ \n",
    "\n",
    ">4-3. Counting to Twenty: Use a for loop to print the numbers from 1 to 20, inclusive.\n",
    "\n",
    ">4-4. One Million: Make a list of the numbers from one to one million, and then use a for loop to print the numbers. (If the output is taking too long, stop it by pressing CTRL-C or by closing the output window.)\n",
    "\n",
    ">4-5. Summing a Million: Make a list of the numbers from one to one million, and then use min() and max() to make sure your list actually starts at one and ends at one million. Also, use the sum() function to see how quickly Python can add a million numbers.\n",
    "\n",
    ">4-6. Odd Numbers: Use the third argument of the range() function to make a list of the odd numbers from 1 to 20. Use a for loop to print each number.\n",
    "\n",
    ">4-7. Threes: Make a list of the multiples of 3, from 3 to 30. Use a for loop to print the numbers in your list.\n",
    "\n",
    ">4-8. Cubes: A number raised to the third power is called a cube. For example, the cube of 2 is written as 2**3 in Python. Make a list of the first 10 cubes (that is, the cube of each integer from 1 through 10), and use a for loop to print out the value of each cube.\n",
    "\n",
    ">4-9. Cube Comprehension: Use a list comprehension to generate a list of the first 10 cubes."
   ]
  },
  {
   "cell_type": "markdown",
   "metadata": {},
   "source": [
    "__Working with Part of a List__\n",
    "\n",
    ">In Chapter 3 you learned how to access single elements in a list, and in this chapter you’ve been learning how to work through all the elements in a list. You can also work with a specific group of items in a list, called a slice in Python.\n",
    "\n",
    "__Slicing a List__\n",
    "\n",
    ">To make a slice, you specify the index of the first and last elements you want to work with. As with the range() function, Python stops one item before the second index you specify. To output the first three elements in a list, you would request indices 0 through 3, which would return elements 0, 1, and 2.The following example involves a list of players on a team:\n"
   ]
  },
  {
   "cell_type": "code",
   "execution_count": 20,
   "metadata": {},
   "outputs": [
    {
     "name": "stdout",
     "output_type": "stream",
     "text": [
      "['charles', 'martina', 'michael']\n"
     ]
    }
   ],
   "source": [
    "players = ['charles', 'martina', 'michael', 'florence', 'eli']\n",
    "print(players[0:3])"
   ]
  },
  {
   "cell_type": "markdown",
   "metadata": {},
   "source": [
    ">This code prints a slice of the list. The output retains the structure of the list, and includes the first three players in the list:\n",
    "***\n",
    "__['charles', 'martina', 'michael']__\n",
    "***\n",
    ">You can generate any subset of a list. For example, if you want the sec-ond, third, and fourth items in a list, you would start the slice at index 1 and end it at index 4:"
   ]
  },
  {
   "cell_type": "code",
   "execution_count": 21,
   "metadata": {},
   "outputs": [
    {
     "name": "stdout",
     "output_type": "stream",
     "text": [
      "['martina', 'michael', 'florence']\n"
     ]
    }
   ],
   "source": [
    "players = ['charles', 'martina', 'michael', 'florence', 'eli']\n",
    "print(players[1:4])"
   ]
  },
  {
   "cell_type": "markdown",
   "metadata": {},
   "source": [
    ">This time the slice starts with 'martina' and ends with 'florence':\n",
    "***\n",
    "__['martina', 'michael', 'florence']__\n",
    "***\n",
    ">If you omit the first index in a slice, Python automatically starts your slice at the beginning of the list:"
   ]
  },
  {
   "cell_type": "code",
   "execution_count": 22,
   "metadata": {},
   "outputs": [
    {
     "name": "stdout",
     "output_type": "stream",
     "text": [
      "['charles', 'martina', 'michael', 'florence']\n"
     ]
    }
   ],
   "source": [
    "players = ['charles', 'martina', 'michael', 'florence', 'eli']\n",
    "print(players[:4])"
   ]
  },
  {
   "cell_type": "markdown",
   "metadata": {},
   "source": [
    ">Without a starting index, Python starts at the beginning of the list:\n",
    "***\n",
    "__['charles', 'martina', 'michael', 'florence']__\n",
    "***\n",
    "\n",
    ">A similar syntax works if you want a slice that includes the end of a list. For example, if you want all items from the third item through the last item, you can start with index 2 and omit the second index:"
   ]
  },
  {
   "cell_type": "code",
   "execution_count": 23,
   "metadata": {},
   "outputs": [
    {
     "name": "stdout",
     "output_type": "stream",
     "text": [
      "['michael', 'florence', 'eli']\n"
     ]
    }
   ],
   "source": [
    "players = ['charles', 'martina', 'michael', 'florence', 'eli']\n",
    "print(players[2:])"
   ]
  },
  {
   "cell_type": "markdown",
   "metadata": {},
   "source": [
    ">Python returns all items from the third item through the end of the list:\n",
    "***\n",
    "__['michael', 'florence', 'eli']__\n",
    "***"
   ]
  },
  {
   "cell_type": "markdown",
   "metadata": {},
   "source": [
    ">This syntax allows you to output all of the elements from any point in your list to the end, regardless of the length of the list. Recall that a nega-tive index returns an element a certain distance from the end of a list; \n",
    "\n",
    ">therefore, you can output any slice from the end of a list. \n",
    "\n",
    ">For example, if we want to output the last three players on the roster, we can use the slice"
   ]
  },
  {
   "cell_type": "code",
   "execution_count": 24,
   "metadata": {},
   "outputs": [
    {
     "data": {
      "text/plain": [
       "['michael', 'florence', 'eli']"
      ]
     },
     "execution_count": 24,
     "metadata": {},
     "output_type": "execute_result"
    }
   ],
   "source": [
    "players[-3:]"
   ]
  },
  {
   "cell_type": "code",
   "execution_count": 25,
   "metadata": {},
   "outputs": [
    {
     "name": "stdout",
     "output_type": "stream",
     "text": [
      "['michael', 'florence', 'eli']\n"
     ]
    }
   ],
   "source": [
    "players = ['charles', 'martina', 'michael', 'florence', 'eli']\n",
    "print(players[-3:])"
   ]
  },
  {
   "cell_type": "markdown",
   "metadata": {},
   "source": [
    ">This prints the names of the last three players and will continue to work as the list of players changes in size.\n",
    "\n",
    "___N O T E:___ \n",
    "_You can include a third value in the brackets indicating a slice. If a third value is included, this tells Python how many items to skip between items in the specified range._"
   ]
  },
  {
   "cell_type": "markdown",
   "metadata": {},
   "source": [
    "__Looping Through a Slice__\n",
    "\n",
    ">You can use a slice in a for loop if you want to loop through a subset of the elements in a list. \n",
    "\n",
    ">In the next example, we loop through the first three play-ers and print their names as part of a simple roster:"
   ]
  },
  {
   "cell_type": "code",
   "execution_count": 26,
   "metadata": {},
   "outputs": [
    {
     "name": "stdout",
     "output_type": "stream",
     "text": [
      "Here are the first three players on my team:\n"
     ]
    }
   ],
   "source": [
    "players = ['charles', 'martina', 'michael', 'florence', 'eli']\n",
    "print(\"Here are the first three players on my team:\")"
   ]
  },
  {
   "cell_type": "code",
   "execution_count": 27,
   "metadata": {},
   "outputs": [
    {
     "name": "stdout",
     "output_type": "stream",
     "text": [
      "Charles\n",
      "Martina\n",
      "Michael\n"
     ]
    }
   ],
   "source": [
    "for player in players[:3]:\n",
    "    print(player.title())\n"
   ]
  },
  {
   "cell_type": "markdown",
   "metadata": {},
   "source": [
    ">Instead of looping through the entire list of players, Python loops through only the first three names 1: Here are the first three players on my team:CharlesMartinaMichael\n",
    "\n",
    ">Slices are very useful in a number of situations. \n",
    "\n",
    ">For instance, when you’re creating a game, you could add a player’s final score to a list every time that player finishes playing. \n",
    "\n",
    ">You could then get a player’s top three scores by sorting the list in decreasing order and taking a slice that includes just the first three scores. When you’re working with data, you can use slices to process your data in chunks of a specific size. \n",
    "\n",
    ">Or, when you’re building a web application, you could use slices to display information in a series of pages with an appropriate amount of information on each page."
   ]
  },
  {
   "cell_type": "markdown",
   "metadata": {},
   "source": [
    "__Copying a List__\n",
    "\n",
    ">Often, you’ll want to start with an existing list and make an entirely new list based on the first one. Let’s explore how copying a list works and examine one situation in which copying a list is useful.\n",
    "\n",
    ">To copy a list, you can make a slice that includes the entire original list by omitting the first index and the second index ([:]). \n",
    "\n",
    ">This tells Python to make a slice that starts at the first item and ends with the last item, produc-ing a copy of the entire list.For example, imagine we have a list of our favorite foods and want to make a separate list of foods that a friend likes. \n",
    "\n",
    ">This friend likes everything in our list so far, so we can create their list by copying ours:"
   ]
  },
  {
   "cell_type": "code",
   "execution_count": 27,
   "metadata": {},
   "outputs": [
    {
     "name": "stdout",
     "output_type": "stream",
     "text": [
      "My favorite foods are:\n",
      "['pizza', 'falafel', 'carrot cake']\n",
      "\n",
      "My friend's favorite foods are:\n",
      "['pizza', 'falafel', 'carrot cake']\n"
     ]
    }
   ],
   "source": [
    "my_foods = ['pizza', 'falafel', 'carrot cake']\n",
    "friend_foods = my_foods[:]\n",
    "print(\"My favorite foods are:\")\n",
    "print(my_foods)\n",
    "print(\"\\nMy friend's favorite foods are:\")\n",
    "print(friend_foods)"
   ]
  },
  {
   "cell_type": "markdown",
   "metadata": {},
   "source": [
    ">First, we make a list of the foods we like called my_foods. Then we make  a new list called friend_foods. \n",
    "\n",
    ">We make a copy of my_foods by asking for a  slice of my_foods without specifying any indices 1, and assign the copy to friend_foods. When we print each list, we see that they both contain the same foods:\n",
    "***\n",
    "__My favorite foods are:['pizza', 'falafel', 'carrot cake']__\n",
    "__My friend's favorite foods are:['pizza', 'falafel', 'carrot cake']__\n",
    "***\n",
    "\n",
    ">To prove that we actually have two separate lists, we’ll add a new food to each list and show that each list keeps track of the appropriate person’s favorite foods:"
   ]
  },
  {
   "cell_type": "code",
   "execution_count": 28,
   "metadata": {},
   "outputs": [
    {
     "name": "stdout",
     "output_type": "stream",
     "text": [
      "My favorite foods are:\n",
      "['pizza', 'falafel', 'carrot cake', 'cannoli']\n",
      "\n",
      "My friend's favorite foods are:\n",
      "['pizza', 'falafel', 'carrot cake', 'ice cream']\n"
     ]
    }
   ],
   "source": [
    "my_foods = ['pizza', 'falafel', 'carrot cake']\n",
    "friend_foods = my_foods[:]\n",
    "my_foods.append('cannoli')\n",
    "friend_foods.append('ice cream')\n",
    "print(\"My favorite foods are:\")\n",
    "print(my_foods)\n",
    "print(\"\\nMy friend's favorite foods are:\")\n",
    "print(friend_foods)\n"
   ]
  },
  {
   "cell_type": "markdown",
   "metadata": {},
   "source": [
    ">We copy the original items in my_foods to the new list friend_foods, as we did in the previous example 1. Next, we add a new food to each list: we add 'cannoli' to my_foods 2, and we add 'ice cream' to friend_foods 3. We then print the two lists to see whether each of these foods is in the appropriate list:\n",
    "***\n",
    "__My favorite foods are:['pizza', 'falafel', 'carrot cake', 'cannoli']__\n",
    "__My friend's favorite foods are:['pizza', 'falafel', 'carrot cake', 'ice cream']__\n",
    "***\n",
    "\n",
    ">The output shows that 'cannoli' now appears in our list of favorite foods but 'ice cream' does not. We can see that 'ice cream' now appears in our friend’s list but 'cannoli' does not. If we had simply set friend_foods equal to my_foods, we would not produce two separate lists. For example, here’s what happens when you try to copy a list without using a slice:"
   ]
  },
  {
   "cell_type": "code",
   "execution_count": 29,
   "metadata": {},
   "outputs": [
    {
     "name": "stdout",
     "output_type": "stream",
     "text": [
      "My favorite foods are:\n",
      "['pizza', 'falafel', 'carrot cake', 'cannoli', 'ice cream']\n",
      "\n",
      "My friend's favorite foods are:\n",
      "['pizza', 'falafel', 'carrot cake', 'cannoli', 'ice cream']\n"
     ]
    }
   ],
   "source": [
    "my_foods = ['pizza', 'falafel', 'carrot cake']# This doesn't work:\n",
    "friend_foods = my_foods\n",
    "my_foods.append('cannoli')\n",
    "friend_foods.append('ice cream')\n",
    "print(\"My favorite foods are:\")\n",
    "print(my_foods)\n",
    "print(\"\\nMy friend's favorite foods are:\")\n",
    "print(friend_foods)"
   ]
  },
  {
   "cell_type": "markdown",
   "metadata": {},
   "source": [
    ">Instead of assigning a copy of my_foods to friend_foods, we set friend_foods equal to my_foods. \n",
    "\n",
    ">This syntax actually tells Python to associate the new vari-able friend_foods with the list that is already associated with my_foods, so now both variables point to the same list. As a result, when we add 'cannoli' to my_foods, it will also appear in friend_foods. \n",
    "\n",
    ">Likewise 'ice cream' will appear in both lists, even though it appears to be added only to friend_foods.\n",
    "\n",
    ">The output shows that both lists are the same now, which is not what we wanted:\n",
    "***\n",
    "__My favorite foods are:['pizza', 'falafel', 'carrot cake', 'cannoli', 'ice cream']__\n",
    "__My friend's favorite foods are:['pizza', 'falafel', 'carrot cake', 'cannoli', 'ice cream']__\n",
    "***\n",
    "___N O T E:___  _Don’t worry about the details in this example for now._ \n",
    "\n",
    ">If you’re trying to work with a copy of a list and you see unexpected behavior, make sure you are copying the list using a slice, as we did in the first example."
   ]
  },
  {
   "cell_type": "markdown",
   "metadata": {},
   "source": [
    "__T R Y   I T   Y O U R S E L F__ "
   ]
  },
  {
   "cell_type": "markdown",
   "metadata": {},
   "source": [
    ">4-10. Slices: Using one of the programs you wrote in this chapter, add several lines to the end of the program that do the following:• Print the message The first three items in the list are:. Then use a slice to print the first three items from that program’s list.• Print the message Three items from the middle of the list are:. Then use a slice to print three items from the middle of the list.• Print the message The last three items in the list are:. Then use a slice to print the last three items in the list."
   ]
  },
  {
   "cell_type": "code",
   "execution_count": 30,
   "metadata": {},
   "outputs": [
    {
     "name": "stdout",
     "output_type": "stream",
     "text": [
      "The first three items in the list are:\n",
      "['pizza', 'burger', 'sushi']\n",
      "Three items from the middle of the list are:\n",
      "['sushi', 'pasta', 'salad']\n",
      "The last three items in the list are:\n",
      "['salad', 'sandwich', 'tacos']\n"
     ]
    },
    {
     "data": {
      "text/plain": [
       "'\\nThe foods[:3] slice retrieves the first three items.\\nThe middle three items are obtained using a slice centered around the middle index.\\nThe foods[-3:] slice retrieves the last three items.\\n'"
      ]
     },
     "execution_count": 30,
     "metadata": {},
     "output_type": "execute_result"
    }
   ],
   "source": [
    "# Example list of foods\n",
    "foods = ['pizza', 'burger', 'sushi', 'pasta', 'salad', 'sandwich', 'tacos']\n",
    "\n",
    "# Print the first three items in the list\n",
    "print(\"The first three items in the list are:\")\n",
    "print(foods[:3])\n",
    "\n",
    "# Print three items from the middle of the list\n",
    "print(\"Three items from the middle of the list are:\")\n",
    "middle_index = len(foods) // 2\n",
    "print(foods[middle_index - 1:middle_index + 2])\n",
    "\n",
    "# Print the last three items in the list\n",
    "print(\"The last three items in the list are:\")\n",
    "print(foods[-3:])\n",
    "\n",
    "\"\"\"\n",
    "The foods[:3] slice retrieves the first three items.\n",
    "The middle three items are obtained using a slice centered around the middle index.\n",
    "The foods[-3:] slice retrieves the last three items.\n",
    "\"\"\""
   ]
  },
  {
   "cell_type": "markdown",
   "metadata": {},
   "source": [
    ">4-11. My Pizzas, Your Pizzas: Start with your program from Exercise 4-1 (page 56).  Make a copy of the list of pizzas, and call it friend_pizzas. Then, do the following:• Add a new pizza to the original list.• Add a different pizza to the list friend_pizzas.• Prove that you have two separate lists. Print the message My favorite piz-zas are:, and then use a for loop to print the first list. Print the message My friend’s favorite pizzas are:, and then use a for loop to print the second list. Make sure each new pizza is stored in the appropriate list."
   ]
  },
  {
   "cell_type": "code",
   "execution_count": 31,
   "metadata": {},
   "outputs": [
    {
     "name": "stdout",
     "output_type": "stream",
     "text": [
      "My favorite pizzas are:\n",
      "pepperoni\n",
      "margherita\n",
      "bbq chicken\n",
      "hawaiian\n",
      "\n",
      "My friend’s favorite pizzas are:\n",
      "pepperoni\n",
      "margherita\n",
      "bbq chicken\n",
      "veggie\n"
     ]
    },
    {
     "data": {
      "text/plain": [
       "'\\nThe friend_pizzas = my_pizzas[:] line creates a shallow copy of the list to ensure both lists are independent.\\nAdding pizzas to each list demonstrates they are separate.\\n'"
      ]
     },
     "execution_count": 31,
     "metadata": {},
     "output_type": "execute_result"
    }
   ],
   "source": [
    "# Original list of pizzas\n",
    "my_pizzas = ['pepperoni', 'margherita', 'bbq chicken']\n",
    "\n",
    "# Copy the list and assign it to a new variable\n",
    "friend_pizzas = my_pizzas[:]\n",
    "\n",
    "# Add a new pizza to the original list\n",
    "my_pizzas.append('hawaiian')\n",
    "\n",
    "# Add a different pizza to the friend's list\n",
    "friend_pizzas.append('veggie')\n",
    "\n",
    "# Print both lists to prove they are separate\n",
    "print(\"My favorite pizzas are:\")\n",
    "for pizza in my_pizzas:\n",
    "    print(pizza)\n",
    "\n",
    "print(\"\\nMy friend’s favorite pizzas are:\")\n",
    "for pizza in friend_pizzas:\n",
    "    print(pizza)\n",
    "\n",
    "\"\"\"\n",
    "The friend_pizzas = my_pizzas[:] line creates a shallow copy of the list to ensure both lists are independent.\n",
    "Adding pizzas to each list demonstrates they are separate.\n",
    "\"\"\""
   ]
  },
  {
   "cell_type": "markdown",
   "metadata": {},
   "source": [
    ">4-12. More Loops: All versions of foods.py in this section have avoided using for loops when printing, to save space. Choose a version of foods.py, and write two for loops to print each list of foods."
   ]
  },
  {
   "cell_type": "code",
   "execution_count": 32,
   "metadata": {},
   "outputs": [
    {
     "name": "stdout",
     "output_type": "stream",
     "text": [
      "My favorite foods are:\n",
      "pizza\n",
      "falafel\n",
      "carrot cake\n",
      "\n",
      "My friend’s favorite foods are:\n",
      "ice cream\n",
      "pancakes\n",
      "burger\n"
     ]
    },
    {
     "data": {
      "text/plain": [
       "'\\nA simple for loop is used to iterate over both my_foods and friend_foods and print each item individually.\\n'"
      ]
     },
     "execution_count": 32,
     "metadata": {},
     "output_type": "execute_result"
    }
   ],
   "source": [
    "# Example lists of foods\n",
    "my_foods = ['pizza', 'falafel', 'carrot cake']\n",
    "friend_foods = ['ice cream', 'pancakes', 'burger']\n",
    "\n",
    "# Print each list using a for loop\n",
    "print(\"My favorite foods are:\")\n",
    "for food in my_foods:\n",
    "    print(food)\n",
    "\n",
    "print(\"\\nMy friend’s favorite foods are:\")\n",
    "for food in friend_foods:\n",
    "    print(food)\n",
    "    \n",
    "\"\"\"\n",
    "A simple for loop is used to iterate over both my_foods and friend_foods and print each item individually.\n",
    "\"\"\""
   ]
  },
  {
   "cell_type": "markdown",
   "metadata": {},
   "source": [
    "__think python by Allen B. Downey__\n",
    "\n",
    "___Lists___\n",
    "\n",
    ">This chapter presents one of Python’s most useful built-in types, lists. You will also learn more about objects and what can happen when you have more than one name for the same object.\n",
    "***\n",
    "__10.1 A list is a sequence__\n",
    "***\n",
    "\n",
    ">Like a string, a list is a sequence of values. In a string, the values are characters; in a list, they can be any type. The values in a list are called elements or sometimes items.\n",
    "\n",
    ">There are several ways to create a new list; the simplest is to enclose the elements in square brackets ([ and ]):\n",
    "***\n",
    "__[10, 20, 30, 40]__\n",
    "\n",
    "__['crunchy frog', 'ram bladder', 'lark vomit']__\n",
    "***\n",
    "\n",
    ">The first example is a list of four integers. The second is a list of three strings. The elements of a list don’t have to be the same type. The following list contains a string, a float, an integer, and (lo!) another list:\n",
    "***\n",
    "__['spam', 2.0, 5, [10, 20]]__\n",
    "***\n",
    "\n",
    "__A list within another list is nested.__\n",
    "\n",
    ">A list that contains no elements is called an empty list; you can create one with empty brackets, [].\n",
    "\n",
    ">As you might expect, you can assign list values to variables:"
   ]
  },
  {
   "cell_type": "code",
   "execution_count": 33,
   "metadata": {},
   "outputs": [
    {
     "name": "stdout",
     "output_type": "stream",
     "text": [
      "['Cheddar', 'Edam', 'Gouda'] [42, 123] []\n"
     ]
    }
   ],
   "source": [
    "cheeses = ['Cheddar', 'Edam', 'Gouda']\n",
    "numbers = [42, 123]\n",
    "empty = []\n",
    "print(cheeses, numbers, empty)"
   ]
  },
  {
   "cell_type": "markdown",
   "metadata": {},
   "source": [
    "__10.2 Lists are mutable__\n",
    "\n",
    ">The syntax for accessing the elements of a list is the same as for accessing the characters of a string—the bracket operator. The expression inside the brackets specifies the index. \n",
    "\n",
    "__Remember that the indices start at 0:__"
   ]
  },
  {
   "cell_type": "code",
   "execution_count": 34,
   "metadata": {},
   "outputs": [
    {
     "data": {
      "text/plain": [
       "'Cheddar'"
      ]
     },
     "execution_count": 34,
     "metadata": {},
     "output_type": "execute_result"
    }
   ],
   "source": [
    "cheeses[0]"
   ]
  },
  {
   "cell_type": "code",
   "execution_count": 35,
   "metadata": {},
   "outputs": [
    {
     "name": "stdout",
     "output_type": "stream",
     "text": [
      "[42, 5]\n"
     ]
    }
   ],
   "source": [
    "numbers = [42, 123]\n",
    "numbers[1] = 5\n",
    "print(numbers)"
   ]
  },
  {
   "cell_type": "markdown",
   "metadata": {},
   "source": [
    ">Unlike strings, lists are mutable. When the bracket operator appears on the left side of an assignment, it identifies the element of the list that will be assigned."
   ]
  },
  {
   "cell_type": "markdown",
   "metadata": {},
   "source": [
    ">The one-eth element of numbers, which used to be 123, is now 5.\n",
    "\n",
    ">Figure 10.1 shows the state diagram for cheeses, numbers and empty: \n",
    "\n",
    ">Lists are represented by boxes with the word “list” outside and the elements of the list inside. cheeses refers to a list with three elements indexed 0, 1 and 2. numbers contains two elements; the diagram shows that the value of the second element has been reassigned from 123 to 5. empty refers to a list with no elements."
   ]
  },
  {
   "cell_type": "markdown",
   "metadata": {},
   "source": [
    ">List indices work the same way as string indices:\n",
    "\n",
    ">• Any integer expression can be used as an index.\n",
    "\n",
    ">• If you try to read or write an element that does not exist, you get an IndexError.\n",
    "\n",
    ">• If an index has a negative value, it counts backward from the end of the list."
   ]
  },
  {
   "cell_type": "code",
   "execution_count": 36,
   "metadata": {},
   "outputs": [
    {
     "data": {
      "text/plain": [
       "True"
      ]
     },
     "execution_count": 36,
     "metadata": {},
     "output_type": "execute_result"
    }
   ],
   "source": [
    "# The in operator also works on lists.\n",
    "cheeses = ['Cheddar', 'Edam', 'Gouda']\n",
    "'Edam' in cheeses"
   ]
  },
  {
   "cell_type": "code",
   "execution_count": 37,
   "metadata": {},
   "outputs": [
    {
     "data": {
      "text/plain": [
       "False"
      ]
     },
     "execution_count": 37,
     "metadata": {},
     "output_type": "execute_result"
    }
   ],
   "source": [
    "'Brie' in cheeses"
   ]
  },
  {
   "cell_type": "markdown",
   "metadata": {},
   "source": [
    "__10.3 Traversing a list__\n",
    "\n",
    ">The most common way to traverse the elements of a list is with a for loop. The syntax is the same as for strings:"
   ]
  },
  {
   "cell_type": "code",
   "execution_count": 38,
   "metadata": {},
   "outputs": [
    {
     "name": "stdout",
     "output_type": "stream",
     "text": [
      "Cheddar\n",
      "Edam\n",
      "Gouda\n"
     ]
    }
   ],
   "source": [
    "for cheese in cheeses:\n",
    "    print(cheese)"
   ]
  },
  {
   "cell_type": "markdown",
   "metadata": {},
   "source": [
    ">This works well if you only need to read the elements of the list. But if you want to write or update the elements, you need the indices. A common way to do that is to combine the built-in functions range and len:"
   ]
  },
  {
   "cell_type": "code",
   "execution_count": 39,
   "metadata": {},
   "outputs": [],
   "source": [
    "for i in range(len(numbers)):\n",
    "    numbers[i] = numbers[i] * 2"
   ]
  },
  {
   "cell_type": "markdown",
   "metadata": {},
   "source": [
    ">This loop traverses the list and updates each element. len returns the number of elements in the list. range returns a list of indices from 0 to n − 1, where n is the length of the list.\n",
    "\n",
    ">Each time through the loop i gets the index of the next element. The assignment statement in the body uses i to read the old value of the element and to assign the new value. A for loop over an empty list never runs the body:"
   ]
  },
  {
   "cell_type": "code",
   "execution_count": 40,
   "metadata": {},
   "outputs": [],
   "source": [
    "for x in []:\n",
    "    print('This never happens.')"
   ]
  },
  {
   "cell_type": "markdown",
   "metadata": {},
   "source": [
    ">Although a list can contain another list, the nested list still counts as a single element. The length of this list is four: \n",
    "\n",
    "__['spam', 1, ['Brie', 'Roquefort', 'Pol le Veq'], [1, 2, 3]]__"
   ]
  },
  {
   "cell_type": "markdown",
   "metadata": {},
   "source": [
    ">10.4 List operations: The + operator concatenates lists:"
   ]
  },
  {
   "cell_type": "code",
   "execution_count": 41,
   "metadata": {},
   "outputs": [
    {
     "data": {
      "text/plain": [
       "[1, 2, 3, 4, 5, 6]"
      ]
     },
     "execution_count": 41,
     "metadata": {},
     "output_type": "execute_result"
    }
   ],
   "source": [
    "a = [1, 2, 3]\n",
    "b = [4, 5, 6]\n",
    "c = a + b\n",
    "c"
   ]
  },
  {
   "cell_type": "markdown",
   "metadata": {},
   "source": [
    ">The * operator repeats a list a given number of times:"
   ]
  },
  {
   "cell_type": "code",
   "execution_count": 42,
   "metadata": {},
   "outputs": [
    {
     "data": {
      "text/plain": [
       "[0, 0, 0, 0]"
      ]
     },
     "execution_count": 42,
     "metadata": {},
     "output_type": "execute_result"
    }
   ],
   "source": [
    "[0] * 4"
   ]
  },
  {
   "cell_type": "code",
   "execution_count": 43,
   "metadata": {},
   "outputs": [
    {
     "data": {
      "text/plain": [
       "[1, 2, 3, 1, 2, 3, 1, 2, 3]"
      ]
     },
     "execution_count": 43,
     "metadata": {},
     "output_type": "execute_result"
    }
   ],
   "source": [
    "[1, 2, 3] * 3"
   ]
  },
  {
   "cell_type": "markdown",
   "metadata": {},
   "source": [
    ">The first example repeats [0] four times. The second example repeats the list [1, 2, 3] three times.\n"
   ]
  },
  {
   "cell_type": "markdown",
   "metadata": {},
   "source": [
    "__10.5 List slices__\n",
    "\n",
    ">The slice operator also works on lists:"
   ]
  },
  {
   "cell_type": "code",
   "execution_count": 44,
   "metadata": {},
   "outputs": [
    {
     "name": "stdout",
     "output_type": "stream",
     "text": [
      "['b', 'c']\n",
      "['a', 'b', 'c', 'd']\n",
      "['d', 'e', 'f']\n"
     ]
    }
   ],
   "source": [
    "t = ['a', 'b', 'c', 'd', 'e', 'f']\n",
    "print(t[1:3])\n",
    "print(t[:4])\n",
    "print(t[3:])"
   ]
  },
  {
   "cell_type": "markdown",
   "metadata": {},
   "source": [
    ">If you omit the first index, the slice starts at the beginning. If you omit the second, the slice goes to the end. So if you omit both, the slice is a copy of the whole list."
   ]
  },
  {
   "cell_type": "code",
   "execution_count": 45,
   "metadata": {},
   "outputs": [
    {
     "data": {
      "text/plain": [
       "['a', 'b', 'c', 'd', 'e', 'f']"
      ]
     },
     "execution_count": 45,
     "metadata": {},
     "output_type": "execute_result"
    }
   ],
   "source": [
    "t[:]"
   ]
  },
  {
   "cell_type": "markdown",
   "metadata": {},
   "source": [
    ">Since lists are mutable, it is often useful to make a copy before performing operations that"
   ]
  },
  {
   "cell_type": "markdown",
   "metadata": {},
   "source": [
    ">A slice operator on the left side of an assignment can update multiple elements:"
   ]
  },
  {
   "cell_type": "code",
   "execution_count": 46,
   "metadata": {},
   "outputs": [
    {
     "data": {
      "text/plain": [
       "['a', 'x', 'y', 'd', 'e', 'f']"
      ]
     },
     "execution_count": 46,
     "metadata": {},
     "output_type": "execute_result"
    }
   ],
   "source": [
    "t = ['a', 'b', 'c', 'd', 'e', 'f']\n",
    "t[1:3] = ['x', 'y']\n",
    "t"
   ]
  },
  {
   "cell_type": "code",
   "execution_count": 47,
   "metadata": {},
   "outputs": [
    {
     "data": {
      "text/plain": [
       "['a', 'b', 'c', 'd']"
      ]
     },
     "execution_count": 47,
     "metadata": {},
     "output_type": "execute_result"
    }
   ],
   "source": [
    "t = ['a', 'b', 'c']\n",
    "t.append('d')\n",
    "t"
   ]
  },
  {
   "cell_type": "code",
   "execution_count": 48,
   "metadata": {},
   "outputs": [
    {
     "name": "stdout",
     "output_type": "stream",
     "text": [
      "['a', 'b', 'c', 'd', 'e']\n",
      "['a', 'b', 'c', 'd', 'e']\n",
      "None\n"
     ]
    }
   ],
   "source": [
    "# extend takes a list as an argument and appends all of the elements:\n",
    "t1 = ['a', 'b', 'c']\n",
    "t2 = ['d', 'e']\n",
    "t1.extend(t2)\n",
    "print(t1)\n",
    "\n",
    "# sort arranges the elements of the list from low to high:\n",
    "t = ['d', 'c', 'e', 'b', 'a']\n",
    "t.sort()\n",
    "print(t)\n",
    "\n",
    "# Most list methods are void; they modify the list and return None. If you accidentally write\n",
    "t = t.sort() # you will be disappointed with the result.\n",
    "print(t) # None"
   ]
  },
  {
   "cell_type": "markdown",
   "metadata": {},
   "source": [
    "__10.7 Map, filter and reduce__\n",
    "\n",
    ">To add up all the numbers in a list, you can use a loop like this:"
   ]
  },
  {
   "cell_type": "code",
   "execution_count": 49,
   "metadata": {},
   "outputs": [],
   "source": [
    "def add_all(t): \n",
    "    total = 0\n",
    "    for x in t:\n",
    "        total += x\n",
    "    return total"
   ]
  },
  {
   "cell_type": "markdown",
   "metadata": {},
   "source": [
    ">total is initialized to 0. Each time through the loop, x gets one element from the list.\n",
    "\n",
    ">The += operator provides a short way to update a variable. This augmented assignment statement,"
   ]
  },
  {
   "cell_type": "markdown",
   "metadata": {},
   "source": [
    "***\n",
    "__total += x__\n",
    "\n",
    "___is equivalent to___\n",
    "\n",
    "__total = total + x__\n",
    "***\n",
    "\n",
    ">As the loop runs, total accumulates the sum of the elements; a variable used this way is sometimes called an accumulator.\n",
    "\n",
    ">Adding up the elements of a list is such a common operation that Python provides it as a built-in function, sum:"
   ]
  },
  {
   "cell_type": "code",
   "execution_count": 50,
   "metadata": {},
   "outputs": [
    {
     "data": {
      "text/plain": [
       "6"
      ]
     },
     "execution_count": 50,
     "metadata": {},
     "output_type": "execute_result"
    }
   ],
   "source": [
    "t = [1, 2, 3]\n",
    "sum(t)"
   ]
  },
  {
   "cell_type": "markdown",
   "metadata": {},
   "source": [
    ">An operation like this that combines a sequence of elements into a single value is sometimes called reduce.\n",
    "\n",
    ">Sometimes you want to traverse one list while building another. For example, the following function takes a list of strings and returns a new list that contains capitalized strings:"
   ]
  },
  {
   "cell_type": "code",
   "execution_count": 51,
   "metadata": {},
   "outputs": [],
   "source": [
    "def capitalize_all(t):\n",
    "    res = []\n",
    "    for s in t:\n",
    "        res.append(s.capitalize())\n",
    "    return res"
   ]
  },
  {
   "cell_type": "markdown",
   "metadata": {},
   "source": [
    ">res is initialized with an empty list; each time through the loop, we append the next element. So res is another kind of accumulator. An operation like capitalize_all is sometimes called a map because it “maps” a function (in this case the method capitalize) onto each of the elements in a sequence. Another common operation is to select some of the elements from a list and return a sublist. For example, the following function takes a list of strings and returns a list that contains only the uppercase strings:"
   ]
  },
  {
   "cell_type": "code",
   "execution_count": 52,
   "metadata": {},
   "outputs": [],
   "source": [
    "def only_upper(t):\n",
    "    res = []\n",
    "    for s in t:\n",
    "        if s.isupper():\n",
    "            res.append(s)\n",
    "    return res"
   ]
  },
  {
   "cell_type": "markdown",
   "metadata": {},
   "source": [
    ">___isupper___ is a string method that returns True if the string contains only upper case letters. An operation like only_upper is called a filter because it selects some of the elements and filters out the others.\n",
    "\n",
    ">Most common list operations can be expressed as a combination of map, filter and reduce."
   ]
  },
  {
   "cell_type": "markdown",
   "metadata": {},
   "source": [
    "__10.8 Deleting elements__\n",
    "\n",
    ">There are several ways to delete elements from a list. If you know the index of the element you want, you can use pop:"
   ]
  },
  {
   "cell_type": "code",
   "execution_count": 53,
   "metadata": {},
   "outputs": [
    {
     "name": "stdout",
     "output_type": "stream",
     "text": [
      "['a', 'c']\n",
      "b\n"
     ]
    }
   ],
   "source": [
    "t = ['a', 'b', 'c']\n",
    "x = t.pop(1)\n",
    "print(t)\n",
    "print(x)"
   ]
  },
  {
   "cell_type": "markdown",
   "metadata": {},
   "source": [
    ">pop modifies the list and returns the element that was removed. If you don’t provide an index, it deletes and returns the last element. If you don’t need the removed value, you can use the del operator:"
   ]
  },
  {
   "cell_type": "code",
   "execution_count": 54,
   "metadata": {},
   "outputs": [
    {
     "name": "stdout",
     "output_type": "stream",
     "text": [
      "['a', 'c']\n",
      "['a', 'f']\n"
     ]
    }
   ],
   "source": [
    "t = ['a', 'b', 'c']\n",
    "del t[1]\n",
    "print(t)\n",
    "\n",
    "# If you know the element you want to remove (but not the index), you can use remove:\n",
    "t = ['a', 'b', 'c']\n",
    "t.remove('b')\n",
    "t\n",
    "\n",
    "# The return value from remove is None.\n",
    "# To remove more than one element, you can use del with a slice index:\n",
    "t = ['a', 'b', 'c', 'd', 'e', 'f']\n",
    "del t[1:5]\n",
    "print(t)"
   ]
  },
  {
   "cell_type": "markdown",
   "metadata": {},
   "source": [
    "__10.9 Lists and strings__\n",
    "\n",
    ">A string is a sequence of characters and a list is a sequence of values, but a list of characters is not the same as a string. To convert from a string to a list of characters, you can use list:"
   ]
  },
  {
   "cell_type": "code",
   "execution_count": 55,
   "metadata": {},
   "outputs": [
    {
     "data": {
      "text/plain": [
       "['s', 'p', 'a', 'm']"
      ]
     },
     "execution_count": 55,
     "metadata": {},
     "output_type": "execute_result"
    }
   ],
   "source": [
    "s = 'spam'\n",
    "t = list(s)\n",
    "t"
   ]
  },
  {
   "cell_type": "markdown",
   "metadata": {},
   "source": [
    ">Because list is the name of a built-in function, you should avoid using it as a variable name. I also avoid l because it looks too much like 1. So that’s why I use t."
   ]
  },
  {
   "cell_type": "code",
   "execution_count": 56,
   "metadata": {},
   "outputs": [
    {
     "name": "stdout",
     "output_type": "stream",
     "text": [
      "['pining', 'for', 'the', 'fjords']\n",
      "['spam', 'spam', 'spam']\n",
      "pining for the fjords\n"
     ]
    }
   ],
   "source": [
    "# The list function breaks a string into individual letters. If you want to break a string into words, you can use the split method:\n",
    "\n",
    "s = 'pining for the fjords'\n",
    "t = s.split()\n",
    "print(t)\n",
    "\n",
    "# An optional argument called a delimiter specifies which characters to use as word boundaries. \n",
    "# The following example uses a hyphen as a delimiter:\n",
    "\n",
    "s = 'spam-spam-spam'\n",
    "delimiter = '-'\n",
    "t = s.split(delimiter)\n",
    "print(t)\n",
    "\n",
    "# join is the inverse of split. It takes a list of strings and concatenates the elements. \n",
    "# join is a string method, so you have to invoke it on the delimiter and pass the list as a parameter:\n",
    "t = ['pining', 'for', 'the', 'fjords']\n",
    "delimiter = ' '\n",
    "s = delimiter.join(t)\n",
    "print(s)\n",
    "\n",
    "# In this case the delimiter is a space character, so join puts a space between words. To concatenate strings without spaces, you can use the empty string, '', as a delimiter."
   ]
  },
  {
   "cell_type": "markdown",
   "metadata": {},
   "source": [
    "__10.10 Objects and values__\n",
    "\n",
    ">If we run these assignment statements:\n",
    "****\n",
    "__a = 'banana'__\n",
    "\n",
    "__b = 'banana'__\n",
    "***"
   ]
  },
  {
   "cell_type": "code",
   "execution_count": 58,
   "metadata": {},
   "outputs": [
    {
     "name": "stdout",
     "output_type": "stream",
     "text": [
      "banana\n",
      "banana\n"
     ]
    }
   ],
   "source": [
    "a = 'banana'\n",
    "b = 'banana'\n",
    "print(a)\n",
    "print(b)"
   ]
  },
  {
   "cell_type": "markdown",
   "metadata": {},
   "source": [
    ">We know that a and b both refer to a string, but we don’t know whether they refer to the same string. There are two possible states....\n",
    "\n",
    ">In one case, a and b refer to two different objects that have the same value. \n",
    "\n",
    ">In the second case, they refer to the same object.\n",
    "\n",
    ">To check whether two variables refer to the same object, you can use the is operator."
   ]
  },
  {
   "cell_type": "code",
   "execution_count": 59,
   "metadata": {},
   "outputs": [
    {
     "data": {
      "text/plain": [
       "True"
      ]
     },
     "execution_count": 59,
     "metadata": {},
     "output_type": "execute_result"
    }
   ],
   "source": [
    "a is b"
   ]
  },
  {
   "cell_type": "markdown",
   "metadata": {},
   "source": [
    ">In this example, Python only created one string object, and both a and b refer to it. But when you create two lists, you get two objects:"
   ]
  },
  {
   "cell_type": "code",
   "execution_count": 60,
   "metadata": {},
   "outputs": [
    {
     "data": {
      "text/plain": [
       "False"
      ]
     },
     "execution_count": 60,
     "metadata": {},
     "output_type": "execute_result"
    }
   ],
   "source": [
    "a = [1, 2, 3]\n",
    "b = [1, 2, 3]\n",
    "a is b"
   ]
  },
  {
   "cell_type": "markdown",
   "metadata": {},
   "source": [
    ">In this case we would say that the two lists are equivalent, because they have the same elements, but not identical, because they are not the same object. \n",
    "\n",
    ">If two objects are identical, they are also equivalent, but if they are equivalent, they are not necessarily identical.\n",
    "\n",
    ">Until now, we have been using “object” and “value” interchangeably, but it is more precise to say that an object has a value. If you evaluate [1, 2, 3], you get a list object whose value is a sequence of integers. If another list has the same elements, we say it has the same value, but it is not the same object"
   ]
  },
  {
   "cell_type": "markdown",
   "metadata": {},
   "source": [
    "__10.11 Aliasing__\n",
    "\n",
    ">If a refers to an object and you assign b = a, then both variables refer to the same object:"
   ]
  },
  {
   "cell_type": "code",
   "execution_count": 61,
   "metadata": {},
   "outputs": [
    {
     "data": {
      "text/plain": [
       "True"
      ]
     },
     "execution_count": 61,
     "metadata": {},
     "output_type": "execute_result"
    }
   ],
   "source": [
    "a = [1, 2, 3]\n",
    "b = a\n",
    "b is a"
   ]
  },
  {
   "cell_type": "markdown",
   "metadata": {},
   "source": [
    ">The association of a variable with an object is called a reference. \n",
    "\n",
    ">In this example, there are two references to the same object.\n",
    "\n",
    ">An object with more than one reference has more than one name, so we say that the object is aliased.\n",
    "\n",
    ">If the aliased object is mutable, changes made with one alias affect the other:"
   ]
  },
  {
   "cell_type": "code",
   "execution_count": 62,
   "metadata": {},
   "outputs": [
    {
     "data": {
      "text/plain": [
       "[42, 2, 3]"
      ]
     },
     "execution_count": 62,
     "metadata": {},
     "output_type": "execute_result"
    }
   ],
   "source": [
    "b[0] = 42\n",
    "a"
   ]
  },
  {
   "cell_type": "markdown",
   "metadata": {},
   "source": [
    ">Although this behavior can be useful, it is error-prone. In general, it is safer to avoid aliasing when you are working with mutable objects.\n",
    "\n",
    ">For immutable objects like strings, aliasing is not as much of a problem. In this example:\n"
   ]
  },
  {
   "cell_type": "code",
   "execution_count": 63,
   "metadata": {},
   "outputs": [],
   "source": [
    "# It almost never makes a difference whether a and b refer to the same string or not\n",
    "a = 'banana'\n",
    "b = 'banana'"
   ]
  },
  {
   "cell_type": "markdown",
   "metadata": {},
   "source": [
    "__10.12 List arguments__\n",
    "\n",
    ">When you pass a list to a function, the function gets a reference to the list. \n",
    "\n",
    ">If the function modifies the list, the caller sees the change. For example, delete_head removes the first element from a list:"
   ]
  },
  {
   "cell_type": "code",
   "execution_count": 64,
   "metadata": {},
   "outputs": [],
   "source": [
    "def delete_head(t):\n",
    "    del t[0]"
   ]
  },
  {
   "cell_type": "code",
   "execution_count": 65,
   "metadata": {},
   "outputs": [
    {
     "data": {
      "text/plain": [
       "['b', 'c']"
      ]
     },
     "execution_count": 65,
     "metadata": {},
     "output_type": "execute_result"
    }
   ],
   "source": [
    "# Here’s how it is used:\n",
    "letters = ['a', 'b', 'c']\n",
    "delete_head(letters)\n",
    "letters"
   ]
  },
  {
   "cell_type": "markdown",
   "metadata": {},
   "source": [
    ">The parameter t and the variable letters are aliases for the same object. \n",
    "\n",
    ">Since the list is shared by two frames, I drew it between them.\n",
    "\n",
    ">It is important to distinguish between operations that modify lists and operations that create new lists. For example, the append method modifies a list, but the + operator creates a new list."
   ]
  },
  {
   "cell_type": "markdown",
   "metadata": {},
   "source": [
    "__Here’s an example using append:__"
   ]
  },
  {
   "cell_type": "code",
   "execution_count": 67,
   "metadata": {},
   "outputs": [
    {
     "name": "stdout",
     "output_type": "stream",
     "text": [
      "[1, 2, 3]\n",
      "None\n"
     ]
    }
   ],
   "source": [
    "t1 = [1, 2]\n",
    "t2 = t1.append(3)\n",
    "print(t1)\n",
    "print(t2)"
   ]
  },
  {
   "cell_type": "code",
   "execution_count": 68,
   "metadata": {},
   "outputs": [
    {
     "name": "stdout",
     "output_type": "stream",
     "text": [
      "[1, 2, 3]\n"
     ]
    }
   ],
   "source": [
    "t3 = t1 + [4]\n",
    "print(t1)"
   ]
  },
  {
   "cell_type": "code",
   "execution_count": 69,
   "metadata": {},
   "outputs": [
    {
     "data": {
      "text/plain": [
       "[1, 2, 3, 4]"
      ]
     },
     "execution_count": 69,
     "metadata": {},
     "output_type": "execute_result"
    }
   ],
   "source": [
    "t3"
   ]
  },
  {
   "cell_type": "markdown",
   "metadata": {},
   "source": [
    ">The result of the operator is a new list, and the original list is unchanged.\n",
    "\n",
    ">This difference is important when you write functions that are supposed to modify lists.\n",
    "\n",
    ">For example, this function does not delete the head of a list:"
   ]
  },
  {
   "cell_type": "code",
   "execution_count": 70,
   "metadata": {},
   "outputs": [],
   "source": [
    "def bad_delete_head(t):\n",
    "    t = t[1:] # WRONG!"
   ]
  },
  {
   "cell_type": "code",
   "execution_count": 71,
   "metadata": {},
   "outputs": [
    {
     "name": "stdout",
     "output_type": "stream",
     "text": [
      "[1, 2, 3]\n"
     ]
    }
   ],
   "source": [
    "# The slice operator creates a new list and the assignment makes t refer to it, but that doesn’t affect the caller.\n",
    "t4 = [1, 2, 3]\n",
    "bad_delete_head(t4)\n",
    "print(t4)"
   ]
  },
  {
   "cell_type": "markdown",
   "metadata": {},
   "source": [
    ">At the beginning of bad_delete_head, t and t4 refer to the same list. At the end, t refers to a new list, but t4 still refers to the original, unmodified list.\n",
    "\n",
    ">An alternative is to write a function that creates and returns a new list. For example, tail returns all but the first element of a list:"
   ]
  },
  {
   "cell_type": "code",
   "execution_count": 72,
   "metadata": {},
   "outputs": [],
   "source": [
    "def tail(t):\n",
    "    return t[1:]"
   ]
  },
  {
   "cell_type": "code",
   "execution_count": 73,
   "metadata": {},
   "outputs": [
    {
     "data": {
      "text/plain": [
       "['b', 'c']"
      ]
     },
     "execution_count": 73,
     "metadata": {},
     "output_type": "execute_result"
    }
   ],
   "source": [
    "# This function leaves the original list unmodified. Here’s how it is used:\n",
    "letters = ['a', 'b', 'c']\n",
    "rest = tail(letters)\n",
    "rest"
   ]
  },
  {
   "cell_type": "markdown",
   "metadata": {},
   "source": [
    "__10.13 Debugging__\n",
    "\n",
    ">Careless use of lists (and other mutable objects) can lead to long hours of debugging. Here are some common pitfalls and ways to avoid them:\n",
    "\n",
    ">__1. Most list methods modify the argument and return None.__\n",
    "\n",
    ">This is the opposite of the string methods, which return a new string and leave the original alone. If you are used to writing string code like this:\n",
    "***\n",
    "__word = word.strip()__\n",
    "***\n",
    ">It is tempting to write list code like this: __t = t.sort() # WRONG!__\n",
    "\n",
    ">Because sort returns None, the next operation you perform with t is likely to fail.\n",
    "\n",
    ">Before using list methods and operators, you should read the documentation carefully and then test them in interactive mode.\n",
    "\n",
    ">__2. Pick an idiom and stick with it.__\n",
    "\n",
    ">Part of the problem with lists is that there are too many ways to do things. For example, to remove an element from a list, you can use pop, remove, del, or even a slice\n",
    "\n",
    ">To add an element, you can use the append method or the + operator. \n",
    "\n",
    ">Assuming that t is a list and x is a list element, these are correct:"
   ]
  },
  {
   "cell_type": "code",
   "execution_count": 76,
   "metadata": {},
   "outputs": [
    {
     "data": {
      "text/plain": [
       "['pining', 'for', 'the', 'fjords', 'b', 'b', 'b', 'b', 'b', 'b', 'b', 'b', 'b']"
      ]
     },
     "execution_count": 76,
     "metadata": {},
     "output_type": "execute_result"
    }
   ],
   "source": [
    "t.append(x)\n",
    "t = t + [x]\n",
    "t += [x]\n",
    "t"
   ]
  },
  {
   "cell_type": "markdown",
   "metadata": {},
   "source": [
    "__And these are wrong:__"
   ]
  },
  {
   "cell_type": "code",
   "execution_count": 77,
   "metadata": {},
   "outputs": [
    {
     "ename": "TypeError",
     "evalue": "unsupported operand type(s) for +: 'NoneType' and 'list'",
     "output_type": "error",
     "traceback": [
      "\u001b[1;31m---------------------------------------------------------------------------\u001b[0m",
      "\u001b[1;31mTypeError\u001b[0m                                 Traceback (most recent call last)",
      "Cell \u001b[1;32mIn[77], line 3\u001b[0m\n\u001b[0;32m      1\u001b[0m t\u001b[38;5;241m.\u001b[39mappend([x]) \u001b[38;5;66;03m# WRONG!\u001b[39;00m\n\u001b[0;32m      2\u001b[0m t \u001b[38;5;241m=\u001b[39m t\u001b[38;5;241m.\u001b[39mappend(x) \u001b[38;5;66;03m# WRONG!\u001b[39;00m\n\u001b[1;32m----> 3\u001b[0m \u001b[43mt\u001b[49m\u001b[43m \u001b[49m\u001b[38;5;241;43m+\u001b[39;49m\u001b[43m \u001b[49m\u001b[43m[\u001b[49m\u001b[43mx\u001b[49m\u001b[43m]\u001b[49m \u001b[38;5;66;03m# WRONG!\u001b[39;00m\n\u001b[0;32m      4\u001b[0m t \u001b[38;5;241m=\u001b[39m t \u001b[38;5;241m+\u001b[39m x \u001b[38;5;66;03m# WRONG!\u001b[39;00m\n",
      "\u001b[1;31mTypeError\u001b[0m: unsupported operand type(s) for +: 'NoneType' and 'list'"
     ]
    }
   ],
   "source": [
    "t.append([x]) # WRONG!\n",
    "t = t.append(x) # WRONG!\n",
    "t + [x] # WRONG!\n",
    "t = t + x # WRONG!\n",
    "t"
   ]
  },
  {
   "cell_type": "markdown",
   "metadata": {},
   "source": [
    ">Try out each of these examples in interactive mode to make sure you understand what they do. Notice that only the last one causes a runtime error; the other three are legal, but they do the wrong thing.\n",
    "\n",
    "__3. Make copies to avoid aliasing.__\n",
    "\n",
    ">If you want to use a method like sort that modifies the argument, but you need to keep the original list as well, you can make a copy."
   ]
  },
  {
   "cell_type": "code",
   "execution_count": 78,
   "metadata": {},
   "outputs": [
    {
     "name": "stdout",
     "output_type": "stream",
     "text": [
      "[3, 1, 2]\n",
      "[1, 2, 3]\n",
      "[3, 1, 2]\n",
      "[1, 2, 3]\n"
     ]
    }
   ],
   "source": [
    "t = [3, 1, 2]\n",
    "t2 = t[:]\n",
    "t2.sort()\n",
    "\n",
    "print(t)\n",
    "print(t2)\n",
    "\n",
    "# In this example you could also use the built-in function sorted, which returns a new, sorted list and leaves the original alone.\n",
    "printt2 = sorted(t)\n",
    "print(t)\n",
    "print(t2)\n"
   ]
  },
  {
   "cell_type": "markdown",
   "metadata": {},
   "source": [
    "__10.14 Glossary__\n",
    "\n",
    ">__list:__ A sequence of values.\n",
    "\n",
    ">__element:__ One of the values in a list (or other sequence), also called items.\n",
    "\n",
    ">__nested list:__ A list that is an element of another list.\n",
    "\n",
    ">__accumulator:__ A variable used in a loop to add up or accumulate a result.\n",
    "\n",
    ">__augmented assignment:__ A statement that updates the value of a variable using an operator like +=.\n",
    "\n",
    ">__reduce:__ A processing pattern that traverses a sequence and accumulates the elements into a single result.\n",
    "\n",
    ">__map:__ A processing pattern that traverses a sequence and performs an operation on each element.\n",
    "\n",
    ">__filter:__ A processing pattern that traverses a list and selects the elements that satisfy some criterion.\n",
    "\n",
    ">__object:__ Something a variable can refer to. An object has a type and a value.\n",
    "\n",
    ">__equivalent:__ Having the same value.\n",
    "\n",
    ">__identical:__ Being the same object (which implies equivalence).\n",
    "\n",
    ">__reference:__ The association between a variable and its value.\n",
    "\n",
    ">__aliasing:__ A circumstance where two or more variables refer to the same object.\n",
    "\n",
    ">__delimiter:__ A character or string used to indicate where a string should be split.\n"
   ]
  },
  {
   "cell_type": "markdown",
   "metadata": {},
   "source": [
    "__10.15 Exercises__\n",
    "You can download solutions to these exercises __[from here!](http://thinkpython2.com/code/)__\n",
    "\n",
    ">Exercise 10.1. Write a function called nested_sum that takes a list of lists of integers and adds up the elements from all of the nested lists. For example:\n",
    "***\n",
    "__t = [[1, 2], [3], [4, 5, 6]]__\n",
    "\n",
    "__nested_sum(t)__\n",
    "***"
   ]
  },
  {
   "cell_type": "markdown",
   "metadata": {},
   "source": [
    "__Exercise 10.2.__ \n",
    "\n",
    ">Write a function called cumsum that takes a list of numbers and returns the cumulative sum; that is, a new list where the ith element is the sum of the first i + 1 elements from the original list. For example:\n",
    "***\n",
    "__t = [1, 2, 3]__\n",
    "__cumsum(t)__\n",
    "***"
   ]
  },
  {
   "cell_type": "markdown",
   "metadata": {},
   "source": [
    "__Exercise 10.3.__\n",
    "\n",
    ">Write a function called middle that takes a list and returns a new list that contains all but the first and last elements. For example:\n",
    "***\n",
    "__t = [1, 2, 3, 4]__\n",
    "\n",
    "__middle(t)__\n",
    "***"
   ]
  },
  {
   "cell_type": "markdown",
   "metadata": {},
   "source": [
    "__Exercise 10.4.__ \n",
    "\n",
    ">Write a function called chop that takes a list, modifies it by removing the first and last elements, and returns None. For example:\n",
    "***\n",
    "t = [1, 2, 3, 4]\n",
    "\n",
    "chop(t)\n",
    "\n",
    "t\n",
    "***"
   ]
  },
  {
   "cell_type": "markdown",
   "metadata": {},
   "source": [
    "__Exercise 10.5.__ \n",
    "\n",
    ">Write a function called is_sorted that takes a list as a parameter and returns True if the list is sorted in ascending order and False otherwise. For example:\n",
    "***\n",
    "is_sorted([1, 2, 2])\n",
    "\n",
    "is_sorted(['b', 'a'])\n",
    "***"
   ]
  },
  {
   "cell_type": "markdown",
   "metadata": {},
   "source": [
    "__Exercise 10.6.__ \n",
    "\n",
    ">Two words are anagrams if you can rearrange the letters from one to spell the other.\n",
    "\n",
    ">Write a function called is_anagram that takes two strings and returns True if they are anagrams."
   ]
  },
  {
   "cell_type": "markdown",
   "metadata": {},
   "source": [
    ">Exercise 10.7. Write a function called has_duplicates that takes a list and returns True if there is any element that appears more than once. It should not modify the original list.\n",
    "\n",
    ">Exercise 10.8. This exercise pertains to the so-called Birthday Paradox, which you can read about [here](http://en.wikipedia.org/wiki/Birthday_paradox).\n",
    "\n",
    ">If there are 23 students in your class, what are the chances that two of you have the same birthday?\n",
    "\n",
    ">You can estimate this probability by generating random samples of 23 birthdays and checking for matches. Hint: you can generate random birthdays with the randint function in the random module. You can download my solution [from here](http://thinkpython2.com/code/birthday.py).\n",
    "\n",
    ">Exercise 10.9. Write a function that reads the file words.txt and builds a list with one element per  word. Write two versions of this function, one using the append method and the other using the idiom t = t + [x]. Which one takes longer to run? Why? [Solution:](http://thinkpython2.com/code/wordlist.py).\n",
    "\n",
    ">Exercise 10.10. To check whether a word is in the word list, you could use the in operator, but it would be slow because it searches through the words in order.\n",
    "\n",
    ">Because the words are in alphabetical order, we can speed things up with a bisection search (also known as binary search), which is similar to what you do when you look a word up in the dictionary.\n",
    "\n",
    ">You start in the middle and check to see whether the word you are looking for comes before the word in the middle of the list. If so, you search the first half of the list the same way. Otherwise you search the second half.\n",
    "\n",
    ">Either way, you cut the remaining search space in half. If the word list has 113,809 words, it will take about 17 steps to find the word or conclude that it’s not there.\n",
    "\n",
    ">Write a function called in_bisect that takes a sorted list and a target value and returns True if the word is in the list and False if it’s not. Or you could read the documentation of the bisect module and use that! [Solution:](http://thinkpython2.com/code/inlist.py).\n",
    "\n",
    ">Exercise 10.11. Two words are a “reverse pair” if each is the reverse of the other. Write a program that finds all the reverse pairs in the word list. [Solution:](http://thinkpython2.com/code/reverse_pair.py).\n",
    "\n",
    ">__Exercise__ 10.12. Two words “interlock” if taking alternating letters from each forms a new word. For example, “shoe” and “cold” interlock to form “schooled”. [Solution:](http://thinkpython2.com/code/interlock.py). \n",
    "\n",
    ">Credit: This exercise is inspired by an example at [here](http://puzzlers.org).\n",
    "\n",
    ">1. Write a program that finds all pairs of words that interlock. Hint: don’t enumerate all pairs!\n",
    "\n",
    ">2. Can you find any words that are three-way interlocked; that is, every third letter forms a word, starting from the first, second or third?"
   ]
  },
  {
   "cell_type": "markdown",
   "metadata": {},
   "source": []
  }
 ],
 "metadata": {
  "kernelspec": {
   "display_name": "base",
   "language": "python",
   "name": "python3"
  },
  "language_info": {
   "codemirror_mode": {
    "name": "ipython",
    "version": 3
   },
   "file_extension": ".py",
   "mimetype": "text/x-python",
   "name": "python",
   "nbconvert_exporter": "python",
   "pygments_lexer": "ipython3",
   "version": "3.12.7"
  }
 },
 "nbformat": 4,
 "nbformat_minor": 2
}

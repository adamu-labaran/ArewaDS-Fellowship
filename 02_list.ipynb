{
 "cells": [
  {
   "cell_type": "code",
   "execution_count": 1,
   "metadata": {},
   "outputs": [],
   "source": [
    "# working with list\n",
    "lst = [1, 2, 3, 4, 5, 6, 7, 8, 9, 10]\n",
    "fruit = [\"apple\", \"banana\", \"orange\", \"pineaple\", \"mango\"]\n",
    "\n",
    "# list can also be empty\n",
    "lst1 = []\n"
   ]
  },
  {
   "cell_type": "markdown",
   "metadata": {},
   "source": [
    "__working with list__\n",
    "\n",
    "__W O R K I N G   W I T H   L I S T S__\n",
    "\n",
    ">In Chapter 3 you learned how to make a simple list, and you learned to work with the individual elements in a list. In this chapter you’ll learn how to loop through an entire list using just a few lines of code, regardless of how long the list is. Looping allows you to take the same action, or set of actions, with every item in a list. As a result, you’ll be able to work efficiently with lists of any length, including those with thousands or even millions of items.\n",
    "\n",
    "__Looping Through an Entire List__\n",
    "\n",
    ">You’ll often want to run through all entries in a list, performing the same task with each item. For example, in a game you might want to move every element on the screen by the same amount. In a list of numbers, you might want to perform the same statistical operation on every element. \n",
    "\n",
    ">Or perhaps you’ll want to display each headline from a list of articles on a website. When you want to do the same action with every item in a list, you can use Python’s for loop.Say we have a list of magicians’ names, and we want to print out each name in the list. We could do this by retrieving each name from the list indi-vidually, but this approach could cause several problems. For one, it would be repetitive to do this with a long list of names. Also, we’d have to change our code each time the list’s length changed. Using a for loop avoids both of these issues by letting Python manage these issues internally.Let’s use a for loop to print out each name in a list of magicians:"
   ]
  },
  {
   "cell_type": "code",
   "execution_count": 2,
   "metadata": {},
   "outputs": [
    {
     "name": "stdout",
     "output_type": "stream",
     "text": [
      "alice\n",
      "david\n",
      "carolina\n"
     ]
    }
   ],
   "source": [
    "magicians = ['alice', 'david', 'carolina']\n",
    "\n",
    "for magician in magicians:\n",
    "    print(magician)"
   ]
  },
  {
   "cell_type": "code",
   "execution_count": 3,
   "metadata": {},
   "outputs": [
    {
     "name": "stdout",
     "output_type": "stream",
     "text": [
      "Alice, that was a great trick!\n",
      "David, that was a great trick!\n",
      "Carolina, that was a great trick!\n"
     ]
    }
   ],
   "source": [
    "magicians = ['alice', 'david', 'carolina']\n",
    "for magician in magicians:\n",
    "    print(f\"{magician.title()}, that was a great trick!\")\n"
   ]
  },
  {
   "cell_type": "code",
   "execution_count": 4,
   "metadata": {},
   "outputs": [
    {
     "name": "stdout",
     "output_type": "stream",
     "text": [
      "Alice, that was a great trick!\n",
      "I can't wait to see your next trick, Alice.\n",
      "\n",
      "David, that was a great trick!\n",
      "I can't wait to see your next trick, David.\n",
      "\n",
      "Carolina, that was a great trick!\n",
      "I can't wait to see your next trick, Carolina.\n",
      "\n"
     ]
    }
   ],
   "source": [
    "# Let’s add a second line to our message, telling each magician that we’re looking forward to their next trick:\n",
    "magicians = ['alice', 'david', 'carolina']\n",
    "for magician in magicians: \n",
    "    print(f\"{magician.title()}, that was a great trick!\")\n",
    "    print(f\"I can't wait to see your next trick, {magician.title()}.\\n\")"
   ]
  },
  {
   "cell_type": "code",
   "execution_count": 5,
   "metadata": {},
   "outputs": [
    {
     "name": "stdout",
     "output_type": "stream",
     "text": [
      "Alice, that was a great trick!\n",
      "I can't wait to see your next trick, Alice.\n",
      "\n",
      "David, that was a great trick!\n",
      "I can't wait to see your next trick, David.\n",
      "\n",
      "Carolina, that was a great trick!\n",
      "I can't wait to see your next trick, Carolina.\n",
      "\n",
      "Thank you, everyone. That was a great magic show!\n"
     ]
    }
   ],
   "source": [
    "# Let’s write a thank you to the group of magicians as a whole, thanking them for putting on an excellent show. \n",
    "# To display this group message after all of the individual messages have been printed, \n",
    "# we place the thank you message after the for loop, without indentation:\n",
    "\n",
    "magicians = ['alice', 'david', 'carolina']\n",
    "for magician in magicians:\n",
    "    print(f\"{magician.title()}, that was a great trick!\")\n",
    "    print(f\"I can't wait to see your next trick, {magician.title()}.\\n\")\n",
    "print(\"Thank you, everyone. That was a great magic show!\")\n"
   ]
  },
  {
   "cell_type": "code",
   "execution_count": 6,
   "metadata": {},
   "outputs": [
    {
     "name": "stdout",
     "output_type": "stream",
     "text": [
      "Alice, that was a great trick!\n",
      "David, that was a great trick!\n",
      "Carolina, that was a great trick!\n",
      "I can't wait to see your next trick, Carolina.\n",
      "\n"
     ]
    },
    {
     "data": {
      "text/plain": [
       "\"Alice, that was a great trick!David, that was a great trick!Carolina, \\nthat was a great trick!I can't wait to see your next trick, Carolina.\\nThis is a logical error. The syntax is valid Python code, but the code does not produce the desired result because a problem occurs in its logic. \\nIf you expect to see a certain action repeated once for each item in a list and it’s executed only once, \\ndetermine whether you need to simply indent a line or a group of lines.\""
      ]
     },
     "execution_count": 6,
     "metadata": {},
     "output_type": "execute_result"
    }
   ],
   "source": [
    "magicians = ['alice', 'david', 'carolina']\n",
    "for magician in magicians:\n",
    "    print(f\"{magician.title()}, that was a great trick!\")\n",
    "print(f\"I can't wait to see your next trick, {magician.title()}.\\n\")\n",
    "\n",
    "\"\"\"Alice, that was a great trick!David, that was a great trick!Carolina, \n",
    "that was a great trick!I can't wait to see your next trick, Carolina.\n",
    "This is a logical error. The syntax is valid Python code, but the code does not produce the desired result because a problem occurs in its logic. \n",
    "If you expect to see a certain action repeated once for each item in a list and it’s executed only once, \n",
    "determine whether you need to simply indent a line or a group of lines.\"\"\""
   ]
  },
  {
   "cell_type": "markdown",
   "metadata": {},
   "source": [
    "__T R Y   I T   Y O U R S E L F__ \n",
    "\n",
    ">4-1. Pizzas: Think of at least three kinds of your favorite pizza. Store these pizza names in a list, and then use a for loop to print the name of each pizza.• Modify your for loop to print a sentence using the name of the pizza, instead of printing just the name of the pizza. For each pizza, you should have one line of output containing a simple statement like I like pep-peroni pizza.• Add a line at the end of your program, outside the for loop, that states how much you like pizza. The output should consist of three or more lines about the kinds of pizza you like and then an additional sentence, such as \n",
    "***\n",
    "I really love pizza!\n",
    "***\n",
    ">4-2. Animals: Think of at least three different animals that have a common char-acteristic. Store the names of these animals in a list, and then use a for loop to print out the name of each animal.• Modify your program to print a statement about each animal, such as A dog would make a great pet.\n",
    "\n",
    ">• Add a line at the end of your program, stating what these animals have in common. You could print a sentence, such as Any of these animals would make a great pet!\n",
    "***\n",
    "Making Numerical Lists\n",
    "Making Numerical Lists\n",
    "***"
   ]
  },
  {
   "cell_type": "markdown",
   "metadata": {},
   "source": [
    ">Many reasons exist to store a set of numbers. For example, you’ll need to keep track of the positions of each character in a game, and you might want  to keep track of a player’s high scores as well. In data visualizations, you’ll almost always work with sets of numbers, such as temperatures, distances, population sizes, or latitude and longitude values, among other types of numerical sets.\n",
    "\n",
    ">Lists are ideal for storing sets of numbers, and Python provides a variety of tools to help you work efficiently with lists of numbers. Once you under-stand how to use these tools effectively, your code will work well even when your lists contain millions of items.\n",
    "\n",
    "__Using the range() Function__\n",
    "\n",
    ">Python’s range() function makes it easy to generate a series of numbers.  For example, you can use the range() function to print a series of numbers like this:"
   ]
  },
  {
   "cell_type": "code",
   "execution_count": 7,
   "metadata": {},
   "outputs": [
    {
     "name": "stdout",
     "output_type": "stream",
     "text": [
      "1\n",
      "2\n",
      "3\n",
      "4\n"
     ]
    }
   ],
   "source": [
    "for value in range(1, 5):\n",
    "    print(value)"
   ]
  },
  {
   "cell_type": "markdown",
   "metadata": {},
   "source": [
    ">Although this code looks like it should print the numbers from 1 to 5, it doesn’t print the number 5: 1234\n",
    "\n",
    ">In this example, range() prints only the numbers 1 through 4. This is another result of the off-by-one behavior you’ll see often in programming languages. The range() function causes Python to start counting at the first value you give it, and it stops when it reaches the second value you provide. Because it stops at that second value, the output never contains the end value, which would have been 5 in this case.To print the numbers from 1 to 5, you would use range(1, 6):\n"
   ]
  },
  {
   "cell_type": "code",
   "execution_count": 8,
   "metadata": {},
   "outputs": [
    {
     "name": "stdout",
     "output_type": "stream",
     "text": [
      "1\n",
      "2\n",
      "3\n",
      "4\n",
      "5\n"
     ]
    }
   ],
   "source": [
    "for value in range(1, 6):    \n",
    "    print(value)"
   ]
  },
  {
   "cell_type": "markdown",
   "metadata": {},
   "source": [
    ">This time the output starts at 1 and ends at 5: 12345\n",
    "\n",
    ">If your output is different from what you expect when you’re using  range(), try adjusting your end value by 1.You can also pass range() only one argument, and it will start the sequence of numbers at 0. For example, range(6) would return the numbers from 0 through 5."
   ]
  },
  {
   "cell_type": "markdown",
   "metadata": {},
   "source": [
    "__Using range() to Make a List of Numbers__\n",
    "\n",
    ">If you want to make a list of numbers, you can convert the results of range() directly into a list using the list() function. When you wrap list() around a call to the range() function, the output will be a list of numbers.\n",
    "\n",
    ">In the example in the previous section, we simply printed out a series of numbers. We can use list() to convert that same set of numbers into a list:"
   ]
  },
  {
   "cell_type": "code",
   "execution_count": 9,
   "metadata": {},
   "outputs": [
    {
     "name": "stdout",
     "output_type": "stream",
     "text": [
      "[1, 2, 3, 4, 5]\n"
     ]
    }
   ],
   "source": [
    "numbers = list(range(1, 6))\n",
    "print(numbers)"
   ]
  },
  {
   "cell_type": "markdown",
   "metadata": {},
   "source": [
    "__This is the result:__ \n",
    "***\n",
    "[1, 2, 3, 4, 5]\n",
    "***\n",
    "\n",
    ">We can also use the range() function to tell Python to skip numbers in a given range. If you pass a third argument to range(), Python uses that value as a step size when generating numbers.For example, here’s how to list the even numbers between 1 and 10:"
   ]
  },
  {
   "cell_type": "code",
   "execution_count": 10,
   "metadata": {},
   "outputs": [
    {
     "name": "stdout",
     "output_type": "stream",
     "text": [
      "[2, 4, 6, 8, 10]\n"
     ]
    }
   ],
   "source": [
    "even_numbers = list(range(2, 11, 2))\n",
    "print(even_numbers)"
   ]
  },
  {
   "cell_type": "markdown",
   "metadata": {},
   "source": [
    ">In this example, the range() function starts with the value 2 and then adds 2 to that value. It adds 2 repeatedly until it reaches or passes the end value, 11, and produces this result:\n",
    "***\n",
    "[2, 4, 6, 8, 10]\n",
    "***\n",
    "\n",
    ">You can create almost any set of numbers you want to using the range() function. For example, consider how you might make a list of the first 10 square numbers (that is, the square of each integer from 1 through 10). In Python, two asterisks (**) represent exponents. Here’s how you might put the first 10 square numbers into a list:"
   ]
  },
  {
   "cell_type": "code",
   "execution_count": 11,
   "metadata": {},
   "outputs": [
    {
     "name": "stdout",
     "output_type": "stream",
     "text": [
      "[1]\n",
      "[1, 4]\n",
      "[1, 4, 9]\n",
      "[1, 4, 9, 16]\n",
      "[1, 4, 9, 16, 25]\n",
      "[1, 4, 9, 16, 25, 36]\n",
      "[1, 4, 9, 16, 25, 36, 49]\n",
      "[1, 4, 9, 16, 25, 36, 49, 64]\n",
      "[1, 4, 9, 16, 25, 36, 49, 64, 81]\n",
      "[1, 4, 9, 16, 25, 36, 49, 64, 81, 100]\n"
     ]
    }
   ],
   "source": [
    "squares = []\n",
    "for value in range(1, 11):\n",
    "    square = value ** 2 \n",
    "    squares.append(square)\n",
    "    print(squares)"
   ]
  },
  {
   "cell_type": "code",
   "execution_count": 12,
   "metadata": {},
   "outputs": [
    {
     "name": "stdout",
     "output_type": "stream",
     "text": [
      "[1]\n",
      "[1, 4]\n",
      "[1, 4, 9]\n",
      "[1, 4, 9, 16]\n",
      "[1, 4, 9, 16, 25]\n",
      "[1, 4, 9, 16, 25, 36]\n",
      "[1, 4, 9, 16, 25, 36, 49]\n",
      "[1, 4, 9, 16, 25, 36, 49, 64]\n",
      "[1, 4, 9, 16, 25, 36, 49, 64, 81]\n",
      "[1, 4, 9, 16, 25, 36, 49, 64, 81, 100]\n"
     ]
    }
   ],
   "source": [
    "\"\"\"\n",
    "To write this code more concisely, \n",
    "omit the temporary variable square and append each new value directly to the list:\n",
    "\"\"\"\n",
    "squares = []\n",
    "for value in range(1,11):\n",
    "    squares.append(value**2)\n",
    "    print(squares)"
   ]
  },
  {
   "cell_type": "markdown",
   "metadata": {},
   "source": [
    ">This line does the same work as the lines inside the for loop in the pre-vious listing. Each value in the loop is raised to the second power and then immediately appended to the list of squares.You can use either of these approaches when you’re making more com-plex lists. Sometimes using a temporary variable makes your code easier to read; other times it makes the code unnecessarily long. Focus first on writ-ing code that you understand clearly, and does what you want it to do. Then look for more efficient approaches as you review your code."
   ]
  },
  {
   "cell_type": "markdown",
   "metadata": {},
   "source": [
    "__Simple Statistics with a List of Numbers__\n",
    "\n",
    ">A few Python functions are helpful when working with lists of numbers. For example, you can easily find the minimum, maximum, and sum of a list of numbers:"
   ]
  },
  {
   "cell_type": "code",
   "execution_count": 13,
   "metadata": {},
   "outputs": [
    {
     "name": "stdout",
     "output_type": "stream",
     "text": [
      "0\n",
      "9\n",
      "45\n"
     ]
    }
   ],
   "source": [
    "digits = [1, 2, 3, 4, 5, 6, 7, 8, 9, 0]\n",
    "print(min(digits))\n",
    "print(max(digits))\n",
    "print(sum(digits))"
   ]
  },
  {
   "cell_type": "markdown",
   "metadata": {},
   "source": [
    "___N O T E___  \n",
    "\n",
    ">The examples in this section use short lists of numbers that fit easily on the page. They would work just as well if your list contained a million or more numbers.\n",
    "\n",
    "__List Comprehensions__\n",
    "\n",
    ">The approach described earlier for generating the list squares consisted of using three or four lines of code. A list comprehension allows you to generate this same list in just one line of code. A list comprehension combines the\n",
    "\n",
    ">for loop and the creation of new elements into one line, and automatically appends each new element. List comprehensions are not always presented to beginners, but I’ve included them here because you’ll most likely see them as soon as you start looking at other people’s code.The following example builds the same list of square numbers you saw earlier but uses a list comprehension:"
   ]
  },
  {
   "cell_type": "code",
   "execution_count": 14,
   "metadata": {},
   "outputs": [
    {
     "name": "stdout",
     "output_type": "stream",
     "text": [
      "[1, 4, 9, 16, 25, 36, 49, 64, 81, 100]\n"
     ]
    }
   ],
   "source": [
    "squares = [value**2 for value in range(1, 11)]\n",
    "print(squares)"
   ]
  },
  {
   "cell_type": "markdown",
   "metadata": {},
   "source": [
    "__output__\n",
    "***\n",
    "[1, 4, 9, 16, 25, 36, 49, 64, 81, 100]"
   ]
  },
  {
   "cell_type": "code",
   "execution_count": 25,
   "metadata": {},
   "outputs": [
    {
     "name": "stdout",
     "output_type": "stream",
     "text": [
      "[0, 2, 4, 6, 8, 10, 12, 14, 16, 18, 20, 22, 24, 26, 28, 30, 32, 34, 36, 38, 40, 42, 44, 46, 48, 50, 52, 54, 56, 58, 60, 62, 64, 66, 68, 70, 72, 74, 76, 78, 80, 82, 84, 86, 88, 90, 92, 94, 96, 98]\n"
     ]
    }
   ],
   "source": [
    "even = [num for num in range(0, 100, 2)]\n",
    "print(even)"
   ]
  },
  {
   "cell_type": "markdown",
   "metadata": {},
   "source": [
    ">To use this syntax, begin with a descriptive name for the list, such as squares. Next, open a set of square brackets and define the expression for the values you want to store in the new list. In this example the expression is value**2, which raises the value to the second power. Then, write a for loop to generate the numbers you want to feed into the expression, and close the square brackets. The for loop in this example is for value in range(1, 11), which feeds the values 1 through 10 into the expression value**2. Note that no colon is used at the end of the for statement.The result is the same list of square numbers you saw earlier:"
   ]
  },
  {
   "cell_type": "code",
   "execution_count": 26,
   "metadata": {},
   "outputs": [
    {
     "name": "stdout",
     "output_type": "stream",
     "text": [
      "[0, 4, 16, 36, 64, 100, 144, 196, 256, 324, 400, 484, 576, 676, 784, 900, 1024, 1156, 1296, 1444, 1600, 1764, 1936, 2116, 2304, 2500, 2704, 2916, 3136, 3364, 3600, 3844, 4096, 4356, 4624, 4900, 5184, 5476, 5776, 6084, 6400, 6724, 7056, 7396, 7744, 8100, 8464, 8836, 9216, 9604]\n"
     ]
    },
    {
     "data": {
      "text/plain": [
       "[4,\n",
       " 9,\n",
       " 16,\n",
       " 25,\n",
       " 36,\n",
       " 49,\n",
       " 64,\n",
       " 81,\n",
       " 100,\n",
       " 121,\n",
       " 144,\n",
       " 169,\n",
       " 196,\n",
       " 225,\n",
       " 256,\n",
       " 289,\n",
       " 324,\n",
       " 361,\n",
       " 400,\n",
       " 441,\n",
       " 484,\n",
       " 529,\n",
       " 576,\n",
       " 625,\n",
       " 676,\n",
       " 729,\n",
       " 784,\n",
       " 841,\n",
       " 900,\n",
       " 961,\n",
       " 1024,\n",
       " 1089,\n",
       " 1156,\n",
       " 1225,\n",
       " 1296,\n",
       " 1369,\n",
       " 1444,\n",
       " 1521,\n",
       " 1600,\n",
       " 1681,\n",
       " 1764,\n",
       " 1849,\n",
       " 1936,\n",
       " 2025,\n",
       " 2116,\n",
       " 2209,\n",
       " 2304,\n",
       " 2401,\n",
       " 2500,\n",
       " 2601,\n",
       " 2704,\n",
       " 2809,\n",
       " 2916,\n",
       " 3025,\n",
       " 3136,\n",
       " 3249,\n",
       " 3364,\n",
       " 3481,\n",
       " 3600,\n",
       " 3721,\n",
       " 3844,\n",
       " 3969,\n",
       " 4096,\n",
       " 4225,\n",
       " 4356,\n",
       " 4489,\n",
       " 4624,\n",
       " 4761,\n",
       " 4900,\n",
       " 5041,\n",
       " 5184,\n",
       " 5329,\n",
       " 5476,\n",
       " 5625,\n",
       " 5776,\n",
       " 5929,\n",
       " 6084,\n",
       " 6241,\n",
       " 6400,\n",
       " 6561,\n",
       " 6724,\n",
       " 6889,\n",
       " 7056,\n",
       " 7225,\n",
       " 7396,\n",
       " 7569,\n",
       " 7744,\n",
       " 7921,\n",
       " 8100,\n",
       " 8281,\n",
       " 8464,\n",
       " 8649,\n",
       " 8836,\n",
       " 9025,\n",
       " 9216,\n",
       " 9409,\n",
       " 9604,\n",
       " 9801]"
      ]
     },
     "execution_count": 26,
     "metadata": {},
     "output_type": "execute_result"
    }
   ],
   "source": [
    "even_sqr = [num**2 for num in range(0, 100, 2)]\n",
    "print(even_sqr)\n",
    "\n",
    "even_sqr = [num**2 for num in range(2, 100)]\n",
    "even_sqr"
   ]
  },
  {
   "cell_type": "markdown",
   "metadata": {},
   "source": [
    "__T R Y   I T   Y O U R S E L F__\n",
    "\n",
    ">4-3. Counting to Twenty: Use a for loop to print the numbers from 1 to 20, inclusive.\n",
    "\n",
    ">4-4. One Million: Make a list of the numbers from one to one million, and then use a for loop to print the numbers. (If the output is taking too long, stop it by pressing CTRL-C or by closing the output window.)\n",
    "\n",
    ">4-5. Summing a Million: Make a list of the numbers from one to one million, and then use min() and max() to make sure your list actually starts at one and ends at one million. Also, use the sum() function to see how quickly Python can add a million numbers.\n",
    "\n",
    ">4-6. Odd Numbers: Use the third argument of the range() function to make a list of the odd numbers from 1 to 20. Use a for loop to print each number.\n",
    "\n",
    ">4-7. Threes: Make a list of the multiples of 3, from 3 to 30. Use a for loop to print the numbers in your list.\n",
    "\n",
    ">4-8. Cubes: A number raised to the third power is called a cube. For example, the cube of 2 is written as 2**3 in Python. Make a list of the first 10 cubes (that is, the cube of each integer from 1 through 10), and use a for loop to print out the value of each cube.\n",
    "\n",
    ">4-9. Cube Comprehension: Use a list comprehension to generate a list of the first 10 cubes."
   ]
  },
  {
   "cell_type": "markdown",
   "metadata": {},
   "source": [
    "__Copying a List__\n",
    "\n",
    ">Often, you’ll want to start with an existing list and make an entirely new list based on the first one. Let’s explore how copying a list works and examine one situation in which copying a list is useful.\n",
    "\n",
    ">To copy a list, you can make a slice that includes the entire original list by omitting the first index and the second index ([:]). This tells Python to make a slice that starts at the first item and ends with the last item, produc-ing a copy of the entire list.\n",
    "\n",
    ">For example, imagine we have a list of our favorite foods and want to make a separate list of foods that a friend likes. This friend likes everything in our list so far, so we can create their list by copying ours:"
   ]
  },
  {
   "cell_type": "code",
   "execution_count": 17,
   "metadata": {},
   "outputs": [
    {
     "name": "stdout",
     "output_type": "stream",
     "text": [
      "My favorite foods are:\n",
      "['pizza', 'falafel', 'carrot cake']\n",
      "\n",
      "My friend's favorite foods are:\n",
      "['pizza', 'falafel', 'carrot cake']\n"
     ]
    }
   ],
   "source": [
    "my_foods = ['pizza', 'falafel', 'carrot cake']\n",
    "friend_foods = my_foods[:]\n",
    "print(\"My favorite foods are:\")\n",
    "print(my_foods)\n",
    "print(\"\\nMy friend's favorite foods are:\")\n",
    "print(friend_foods)"
   ]
  },
  {
   "cell_type": "markdown",
   "metadata": {},
   "source": [
    ">First, we make a list of the foods we like called my_foods. Then we make  a new list called friend_foods. We make a copy of my_foods by asking for a  slice of my_foods without specifying any indices 1, and assign the copy to friend_foods. When we print each list, we see that they both contain the same foods:\n",
    "***\n",
    "\n",
    "__My favorite foods are:['pizza', 'falafel', 'carrot cake']__\n",
    "\n",
    "__My friend's favorite foods are:['pizza', 'falafel', 'carrot cake']__\n",
    "\n",
    ">To prove that we actually have two separate lists, we’ll add a new food to each list and show that each list keeps track of the appropriate person’s favorite foods:"
   ]
  },
  {
   "cell_type": "code",
   "execution_count": 18,
   "metadata": {},
   "outputs": [
    {
     "name": "stdout",
     "output_type": "stream",
     "text": [
      "My favorite foods are:\n",
      "['pizza', 'falafel', 'carrot cake', 'cannoli']\n",
      "\n",
      "My friend's favorite foods are:\n",
      "['pizza', 'falafel', 'carrot cake', 'ice cream']\n"
     ]
    }
   ],
   "source": [
    "my_foods = ['pizza', 'falafel', 'carrot cake']\n",
    "friend_foods = my_foods[:]\n",
    "my_foods.append('cannoli')\n",
    "friend_foods.append('ice cream')\n",
    "print(\"My favorite foods are:\")\n",
    "print(my_foods)\n",
    "print(\"\\nMy friend's favorite foods are:\")\n",
    "print(friend_foods)\n"
   ]
  },
  {
   "cell_type": "markdown",
   "metadata": {},
   "source": [
    ">We copy the original items in my_foods to the new list friend_foods, as we did in the previous example 1. Next, we add a new food to each list: we add 'cannoli' to my_foods 2, and we add 'ice cream' to friend_foods 3. We then print the two lists to see whether each of these foods is in the appropriate list:\n",
    "***\n",
    "__My favorite foods are:['pizza', 'falafel', 'carrot cake', 'cannoli']__\n",
    "\n",
    "__My friend's favorite foods are:['pizza', 'falafel', 'carrot cake', 'ice cream']__\n",
    "***\n",
    "\n",
    ">The output shows that 'cannoli' now appears in our list of favorite foods but 'ice cream' does not. We can see that 'ice cream' now appears in our friend’s list but 'cannoli' does not. If we had simply set friend_foods equal to my_foods, we would not produce two separate lists. For example, here’s what happens when you try to copy a list without using a slice:"
   ]
  },
  {
   "cell_type": "code",
   "execution_count": 19,
   "metadata": {},
   "outputs": [
    {
     "name": "stdout",
     "output_type": "stream",
     "text": [
      "My favorite foods are:\n",
      "['pizza', 'falafel', 'carrot cake', 'cannoli', 'ice cream']\n",
      "\n",
      "My friend's favorite foods are:\n",
      "['pizza', 'falafel', 'carrot cake', 'cannoli', 'ice cream']\n"
     ]
    }
   ],
   "source": [
    "my_foods = ['pizza', 'falafel', 'carrot cake']# This doesn't work:\n",
    "friend_foods = my_foods\n",
    "my_foods.append('cannoli')\n",
    "friend_foods.append('ice cream')\n",
    "print(\"My favorite foods are:\")\n",
    "print(my_foods)\n",
    "print(\"\\nMy friend's favorite foods are:\")\n",
    "print(friend_foods)"
   ]
  },
  {
   "cell_type": "markdown",
   "metadata": {},
   "source": [
    ">Instead of assigning a copy of my_foods to friend_foods, we set friend_foods equal to my_foods. This syntax actually tells Python to associate the new vari-able friend_foods with the list that is already associated with my_foods, so now both variables point to the same list. As a result, when we add 'cannoli' to \n",
    "\n",
    ">my_foods, it will also appear in friend_foods. Likewise 'ice cream' will appear in both lists, even though it appears to be added only to friend_foods.The output shows that both lists are the same now, which is not what we wanted:\n",
    "***\n",
    "__My favorite foods are:['pizza', 'falafel', 'carrot cake', 'cannoli', 'ice cream']__\n",
    "\n",
    "__My friend's favorite foods are:['pizza', 'falafel', 'carrot cake', 'cannoli', 'ice cream']__\n",
    "***"
   ]
  },
  {
   "cell_type": "markdown",
   "metadata": {},
   "source": [
    "__T R Y   I T   Y O U R S E L F__ \n",
    "\n",
    ">4-1. Pizzas: Think of at least three kinds of your favorite pizza. Store these pizza names in a list, and then use a for loop to print the name of each pizza.\n",
    "\n",
    ">Modify your for loop to print a sentence using the name of the pizza, instead of printing just the name of the pizza. For each pizza, you should have one line of output containing a simple statement like I like pep-peroni pizza.\n",
    "\n",
    ">Add a line at the end of your program, outside the for loop, that states how much you like pizza. The output should consist of three or more lines about the kinds of pizza you like and then an additional sentence, such as I really love pizza!\n",
    "\n",
    ">4-2. Animals: Think of at least three different animals that have a common char-acteristic. Store the names of these animals in a list, and then use a for loop to print out the name of each animal.• Modify your program to print a statement about each animal, such as A dog would make a great pet.\n",
    "\n",
    ">Add a line at the end of your program, stating what these animals have in common. You could print a sentence, such as Any of these animals would make a great pet!\n"
   ]
  },
  {
   "cell_type": "markdown",
   "metadata": {},
   "source": [
    "__T R Y   I T   Y O U R S E L F__ \n",
    "\n",
    ">4-3. Counting to Twenty: Use a for loop to print the numbers from 1 to 20, inclusive.\n",
    "\n",
    ">4-4. One Million: Make a list of the numbers from one to one million, and then use a for loop to print the numbers. (If the output is taking too long, stop it by pressing CTRL-C or by closing the output window.)\n",
    "\n",
    ">4-5. Summing a Million: Make a list of the numbers from one to one million, and then use min() and max() to make sure your list actually starts at one and ends at one million. Also, use the sum() function to see how quickly Python can add a million numbers.\n",
    "\n",
    ">4-6. Odd Numbers: Use the third argument of the range() function to make a list of the odd numbers from 1 to 20. Use a for loop to print each number.\n",
    "\n",
    ">4-7. Threes: Make a list of the multiples of 3, from 3 to 30. Use a for loop to print the numbers in your list.\n",
    "\n",
    ">4-8. Cubes: A number raised to the third power is called a cube. For example, the cube of 2 is written as 2**3 in Python. Make a list of the first 10 cubes (that is, the cube of each integer from 1 through 10), and use a for loop to print out the value of each cube.\n",
    "\n",
    ">4-9. Cube Comprehension: Use a list comprehension to generate a list of the first 10 cubes."
   ]
  },
  {
   "cell_type": "markdown",
   "metadata": {},
   "source": [
    "__Working with Part of a List__\n",
    "\n",
    ">In Chapter 3 you learned how to access single elements in a list, and in this chapter you’ve been learning how to work through all the elements in a list. You can also work with a specific group of items in a list, called a slice in Python.\n",
    "\n",
    "__Slicing a List__\n",
    "\n",
    ">To make a slice, you specify the index of the first and last elements you want to work with. As with the range() function, Python stops one item before the second index you specify. To output the first three elements in a list, you would request indices 0 through 3, which would return elements 0, 1, and 2.The following example involves a list of players on a team:\n"
   ]
  },
  {
   "cell_type": "code",
   "execution_count": 27,
   "metadata": {},
   "outputs": [
    {
     "name": "stdout",
     "output_type": "stream",
     "text": [
      "['charles', 'martina', 'michael']\n"
     ]
    }
   ],
   "source": [
    "players = ['charles', 'martina', 'michael', 'florence', 'eli']\n",
    "print(players[0:3])"
   ]
  },
  {
   "cell_type": "markdown",
   "metadata": {},
   "source": [
    ">This code prints a slice of the list. The output retains the structure of the list, and includes the first three players in the list:\n",
    "***\n",
    "__['charles', 'martina', 'michael']__\n",
    "***\n",
    ">You can generate any subset of a list. For example, if you want the sec-ond, third, and fourth items in a list, you would start the slice at index 1 and end it at index 4:"
   ]
  },
  {
   "cell_type": "code",
   "execution_count": 28,
   "metadata": {},
   "outputs": [
    {
     "name": "stdout",
     "output_type": "stream",
     "text": [
      "['martina', 'michael', 'florence']\n"
     ]
    }
   ],
   "source": [
    "players = ['charles', 'martina', 'michael', 'florence', 'eli']\n",
    "print(players[1:4])"
   ]
  },
  {
   "cell_type": "markdown",
   "metadata": {},
   "source": [
    ">This time the slice starts with 'martina' and ends with 'florence':\n",
    "***\n",
    "__['martina', 'michael', 'florence']__\n",
    "***\n",
    ">If you omit the first index in a slice, Python automatically starts your slice at the beginning of the list:"
   ]
  },
  {
   "cell_type": "code",
   "execution_count": 29,
   "metadata": {},
   "outputs": [
    {
     "name": "stdout",
     "output_type": "stream",
     "text": [
      "['charles', 'martina', 'michael', 'florence']\n"
     ]
    }
   ],
   "source": [
    "players = ['charles', 'martina', 'michael', 'florence', 'eli']\n",
    "print(players[:4])"
   ]
  },
  {
   "cell_type": "markdown",
   "metadata": {},
   "source": [
    ">Without a starting index, Python starts at the beginning of the list:\n",
    "***\n",
    "__['charles', 'martina', 'michael', 'florence']__\n",
    "***\n",
    "\n",
    ">A similar syntax works if you want a slice that includes the end of a list. For example, if you want all items from the third item through the last item, you can start with index 2 and omit the second index:"
   ]
  },
  {
   "cell_type": "code",
   "execution_count": 30,
   "metadata": {},
   "outputs": [
    {
     "name": "stdout",
     "output_type": "stream",
     "text": [
      "['michael', 'florence', 'eli']\n"
     ]
    }
   ],
   "source": [
    "players = ['charles', 'martina', 'michael', 'florence', 'eli']\n",
    "print(players[2:])"
   ]
  },
  {
   "cell_type": "markdown",
   "metadata": {},
   "source": [
    ">Python returns all items from the third item through the end of the list:\n",
    "***\n",
    "__['michael', 'florence', 'eli']__\n",
    "***"
   ]
  },
  {
   "cell_type": "markdown",
   "metadata": {},
   "source": [
    ">This syntax allows you to output all of the elements from any point in your list to the end, regardless of the length of the list. Recall that a nega-tive index returns an element a certain distance from the end of a list; \n",
    "\n",
    ">therefore, you can output any slice from the end of a list. \n",
    "\n",
    ">For example, if we want to output the last three players on the roster, we can use the slice"
   ]
  },
  {
   "cell_type": "code",
   "execution_count": 31,
   "metadata": {},
   "outputs": [
    {
     "data": {
      "text/plain": [
       "['michael', 'florence', 'eli']"
      ]
     },
     "execution_count": 31,
     "metadata": {},
     "output_type": "execute_result"
    }
   ],
   "source": [
    "players[-3:]"
   ]
  },
  {
   "cell_type": "code",
   "execution_count": 32,
   "metadata": {},
   "outputs": [
    {
     "name": "stdout",
     "output_type": "stream",
     "text": [
      "['michael', 'florence', 'eli']\n"
     ]
    }
   ],
   "source": [
    "players = ['charles', 'martina', 'michael', 'florence', 'eli']\n",
    "print(players[-3:])"
   ]
  },
  {
   "cell_type": "markdown",
   "metadata": {},
   "source": [
    ">This prints the names of the last three players and will continue to work as the list of players changes in size.\n",
    "\n",
    "___N O T E:___ \n",
    "_You can include a third value in the brackets indicating a slice. If a third value is included, this tells Python how many items to skip between items in the specified range._"
   ]
  },
  {
   "cell_type": "markdown",
   "metadata": {},
   "source": [
    "__Looping Through a Slice__\n",
    "\n",
    ">You can use a slice in a for loop if you want to loop through a subset of the elements in a list. \n",
    "\n",
    ">In the next example, we loop through the first three play-ers and print their names as part of a simple roster:"
   ]
  },
  {
   "cell_type": "code",
   "execution_count": 33,
   "metadata": {},
   "outputs": [
    {
     "name": "stdout",
     "output_type": "stream",
     "text": [
      "Here are the first three players on my team:\n"
     ]
    }
   ],
   "source": [
    "players = ['charles', 'martina', 'michael', 'florence', 'eli']\n",
    "print(\"Here are the first three players on my team:\")"
   ]
  },
  {
   "cell_type": "code",
   "execution_count": 34,
   "metadata": {},
   "outputs": [
    {
     "name": "stdout",
     "output_type": "stream",
     "text": [
      "Charles\n",
      "Martina\n",
      "Michael\n"
     ]
    }
   ],
   "source": [
    "for player in players[:3]:\n",
    "    print(player.title())\n"
   ]
  },
  {
   "cell_type": "markdown",
   "metadata": {},
   "source": [
    ">Instead of looping through the entire list of players, Python loops through only the first three names 1: Here are the first three players on my team:CharlesMartinaMichael\n",
    "\n",
    ">Slices are very useful in a number of situations. \n",
    "\n",
    ">For instance, when you’re creating a game, you could add a player’s final score to a list every time that player finishes playing. \n",
    "\n",
    ">You could then get a player’s top three scores by sorting the list in decreasing order and taking a slice that includes just the first three scores. When you’re working with data, you can use slices to process your data in chunks of a specific size. \n",
    "\n",
    ">Or, when you’re building a web application, you could use slices to display information in a series of pages with an appropriate amount of information on each page."
   ]
  },
  {
   "cell_type": "markdown",
   "metadata": {},
   "source": [
    "__Copying a List__\n",
    "\n",
    ">Often, you’ll want to start with an existing list and make an entirely new list based on the first one. Let’s explore how copying a list works and examine one situation in which copying a list is useful.\n",
    "\n",
    ">To copy a list, you can make a slice that includes the entire original list by omitting the first index and the second index ([:]). \n",
    "\n",
    ">This tells Python to make a slice that starts at the first item and ends with the last item, produc-ing a copy of the entire list.For example, imagine we have a list of our favorite foods and want to make a separate list of foods that a friend likes. \n",
    "\n",
    ">This friend likes everything in our list so far, so we can create their list by copying ours:"
   ]
  },
  {
   "cell_type": "code",
   "execution_count": 35,
   "metadata": {},
   "outputs": [
    {
     "name": "stdout",
     "output_type": "stream",
     "text": [
      "My favorite foods are:\n",
      "['pizza', 'falafel', 'carrot cake']\n",
      "\n",
      "My friend's favorite foods are:\n",
      "['pizza', 'falafel', 'carrot cake']\n"
     ]
    }
   ],
   "source": [
    "my_foods = ['pizza', 'falafel', 'carrot cake']\n",
    "friend_foods = my_foods[:]\n",
    "print(\"My favorite foods are:\")\n",
    "print(my_foods)\n",
    "print(\"\\nMy friend's favorite foods are:\")\n",
    "print(friend_foods)"
   ]
  },
  {
   "cell_type": "markdown",
   "metadata": {},
   "source": [
    ">First, we make a list of the foods we like called my_foods. Then we make  a new list called friend_foods. \n",
    "\n",
    ">We make a copy of my_foods by asking for a  slice of my_foods without specifying any indices 1, and assign the copy to friend_foods. When we print each list, we see that they both contain the same foods:\n",
    "***\n",
    "__My favorite foods are:['pizza', 'falafel', 'carrot cake']__\n",
    "__My friend's favorite foods are:['pizza', 'falafel', 'carrot cake']__\n",
    "***\n",
    "\n",
    ">To prove that we actually have two separate lists, we’ll add a new food to each list and show that each list keeps track of the appropriate person’s favorite foods:"
   ]
  },
  {
   "cell_type": "code",
   "execution_count": 36,
   "metadata": {},
   "outputs": [
    {
     "name": "stdout",
     "output_type": "stream",
     "text": [
      "My favorite foods are:\n",
      "['pizza', 'falafel', 'carrot cake', 'cannoli']\n",
      "\n",
      "My friend's favorite foods are:\n",
      "['pizza', 'falafel', 'carrot cake', 'ice cream']\n"
     ]
    }
   ],
   "source": [
    "my_foods = ['pizza', 'falafel', 'carrot cake']\n",
    "friend_foods = my_foods[:]\n",
    "my_foods.append('cannoli')\n",
    "friend_foods.append('ice cream')\n",
    "print(\"My favorite foods are:\")\n",
    "print(my_foods)\n",
    "print(\"\\nMy friend's favorite foods are:\")\n",
    "print(friend_foods)\n"
   ]
  },
  {
   "cell_type": "markdown",
   "metadata": {},
   "source": [
    ">We copy the original items in my_foods to the new list friend_foods, as we did in the previous example 1. Next, we add a new food to each list: we add 'cannoli' to my_foods 2, and we add 'ice cream' to friend_foods 3. We then print the two lists to see whether each of these foods is in the appropriate list:\n",
    "***\n",
    "__My favorite foods are:['pizza', 'falafel', 'carrot cake', 'cannoli']__\n",
    "__My friend's favorite foods are:['pizza', 'falafel', 'carrot cake', 'ice cream']__\n",
    "***\n",
    "\n",
    ">The output shows that 'cannoli' now appears in our list of favorite foods but 'ice cream' does not. We can see that 'ice cream' now appears in our friend’s list but 'cannoli' does not. If we had simply set friend_foods equal to my_foods, we would not produce two separate lists. For example, here’s what happens when you try to copy a list without using a slice:"
   ]
  },
  {
   "cell_type": "code",
   "execution_count": 37,
   "metadata": {},
   "outputs": [
    {
     "name": "stdout",
     "output_type": "stream",
     "text": [
      "My favorite foods are:\n",
      "['pizza', 'falafel', 'carrot cake', 'cannoli', 'ice cream']\n",
      "\n",
      "My friend's favorite foods are:\n",
      "['pizza', 'falafel', 'carrot cake', 'cannoli', 'ice cream']\n"
     ]
    }
   ],
   "source": [
    "my_foods = ['pizza', 'falafel', 'carrot cake']# This doesn't work:\n",
    "friend_foods = my_foods\n",
    "my_foods.append('cannoli')\n",
    "friend_foods.append('ice cream')\n",
    "print(\"My favorite foods are:\")\n",
    "print(my_foods)\n",
    "print(\"\\nMy friend's favorite foods are:\")\n",
    "print(friend_foods)"
   ]
  },
  {
   "cell_type": "markdown",
   "metadata": {},
   "source": [
    ">Instead of assigning a copy of my_foods to friend_foods, we set friend_foods equal to my_foods. \n",
    "\n",
    ">This syntax actually tells Python to associate the new vari-able friend_foods with the list that is already associated with my_foods, so now both variables point to the same list. As a result, when we add 'cannoli' to my_foods, it will also appear in friend_foods. \n",
    "\n",
    ">Likewise 'ice cream' will appear in both lists, even though it appears to be added only to friend_foods.\n",
    "\n",
    ">The output shows that both lists are the same now, which is not what we wanted:\n",
    "***\n",
    "__My favorite foods are:['pizza', 'falafel', 'carrot cake', 'cannoli', 'ice cream']__\n",
    "__My friend's favorite foods are:['pizza', 'falafel', 'carrot cake', 'cannoli', 'ice cream']__\n",
    "***\n",
    "___N O T E:___  _Don’t worry about the details in this example for now._ \n",
    "\n",
    ">If you’re trying to work with a copy of a list and you see unexpected behavior, make sure you are copying the list using a slice, as we did in the first example."
   ]
  },
  {
   "cell_type": "markdown",
   "metadata": {},
   "source": [
    "__T R Y   I T   Y O U R S E L F__ "
   ]
  },
  {
   "cell_type": "markdown",
   "metadata": {},
   "source": [
    ">4-10. Slices: Using one of the programs you wrote in this chapter, add several lines to the end of the program that do the following:• Print the message The first three items in the list are:. Then use a slice to print the first three items from that program’s list.• Print the message Three items from the middle of the list are:. Then use a slice to print three items from the middle of the list.• Print the message The last three items in the list are:. Then use a slice to print the last three items in the list."
   ]
  },
  {
   "cell_type": "code",
   "execution_count": 41,
   "metadata": {},
   "outputs": [
    {
     "name": "stdout",
     "output_type": "stream",
     "text": [
      "The first three items in the list are:\n",
      "['pizza', 'burger', 'sushi']\n",
      "Three items from the middle of the list are:\n",
      "['sushi', 'pasta', 'salad']\n",
      "The last three items in the list are:\n",
      "['salad', 'sandwich', 'tacos']\n"
     ]
    },
    {
     "data": {
      "text/plain": [
       "'The foods[:3] slice retrieves the first three items.\\nThe middle three items are obtained using a slice centered around the middle index.\\nThe foods[-3:] slice retrieves the last three items.'"
      ]
     },
     "execution_count": 41,
     "metadata": {},
     "output_type": "execute_result"
    }
   ],
   "source": [
    "# Example list of foods\n",
    "foods = ['pizza', 'burger', 'sushi', 'pasta', 'salad', 'sandwich', 'tacos']\n",
    "\n",
    "# Print the first three items in the list\n",
    "print(\"The first three items in the list are:\")\n",
    "print(foods[:3])\n",
    "\n",
    "# Print three items from the middle of the list\n",
    "print(\"Three items from the middle of the list are:\")\n",
    "middle_index = len(foods) // 2\n",
    "print(foods[middle_index - 1:middle_index + 2])\n",
    "\n",
    "# Print the last three items in the list\n",
    "print(\"The last three items in the list are:\")\n",
    "print(foods[-3:])\n",
    "\n",
    "\"\"\"\n",
    "The foods[:3] slice retrieves the first three items.\n",
    "The middle three items are obtained using a slice centered around the middle index.\n",
    "The foods[-3:] slice retrieves the last three items.\n",
    "\"\"\""
   ]
  },
  {
   "cell_type": "markdown",
   "metadata": {},
   "source": [
    ">4-11. My Pizzas, Your Pizzas: Start with your program from Exercise 4-1 (page 56).  Make a copy of the list of pizzas, and call it friend_pizzas. Then, do the following:• Add a new pizza to the original list.• Add a different pizza to the list friend_pizzas.• Prove that you have two separate lists. Print the message My favorite piz-zas are:, and then use a for loop to print the first list. Print the message My friend’s favorite pizzas are:, and then use a for loop to print the second list. Make sure each new pizza is stored in the appropriate list."
   ]
  },
  {
   "cell_type": "code",
   "execution_count": 39,
   "metadata": {},
   "outputs": [
    {
     "name": "stdout",
     "output_type": "stream",
     "text": [
      "My favorite pizzas are:\n",
      "pepperoni\n",
      "margherita\n",
      "bbq chicken\n",
      "hawaiian\n",
      "\n",
      "My friend’s favorite pizzas are:\n",
      "pepperoni\n",
      "margherita\n",
      "bbq chicken\n",
      "veggie\n"
     ]
    }
   ],
   "source": [
    "# Original list of pizzas\n",
    "my_pizzas = ['pepperoni', 'margherita', 'bbq chicken']\n",
    "\n",
    "# Copy the list and assign it to a new variable\n",
    "friend_pizzas = my_pizzas[:]\n",
    "\n",
    "# Add a new pizza to the original list\n",
    "my_pizzas.append('hawaiian')\n",
    "\n",
    "# Add a different pizza to the friend's list\n",
    "friend_pizzas.append('veggie')\n",
    "\n",
    "# Print both lists to prove they are separate\n",
    "print(\"My favorite pizzas are:\")\n",
    "for pizza in my_pizzas:\n",
    "    print(pizza)\n",
    "\n",
    "print(\"\\nMy friend’s favorite pizzas are:\")\n",
    "for pizza in friend_pizzas:\n",
    "    print(pizza)\n",
    "\n",
    "\"\"\"\n",
    "The friend_pizzas = my_pizzas[:] line creates a shallow copy of the list to ensure both lists are independent.\n",
    "Adding pizzas to each list demonstrates they are separate.\n",
    "\"\"\""
   ]
  },
  {
   "cell_type": "markdown",
   "metadata": {},
   "source": [
    ">4-12. More Loops: All versions of foods.py in this section have avoided using for loops when printing, to save space. Choose a version of foods.py, and write two for loops to print each list of foods."
   ]
  },
  {
   "cell_type": "code",
   "execution_count": 40,
   "metadata": {},
   "outputs": [
    {
     "name": "stdout",
     "output_type": "stream",
     "text": [
      "My favorite foods are:\n",
      "pizza\n",
      "falafel\n",
      "carrot cake\n",
      "\n",
      "My friend’s favorite foods are:\n",
      "ice cream\n",
      "pancakes\n",
      "burger\n"
     ]
    }
   ],
   "source": [
    "# Example lists of foods\n",
    "my_foods = ['pizza', 'falafel', 'carrot cake']\n",
    "friend_foods = ['ice cream', 'pancakes', 'burger']\n",
    "\n",
    "# Print each list using a for loop\n",
    "print(\"My favorite foods are:\")\n",
    "for food in my_foods:\n",
    "    print(food)\n",
    "\n",
    "print(\"\\nMy friend’s favorite foods are:\")\n",
    "for food in friend_foods:\n",
    "    print(food)\n",
    "    \n",
    "\"\"\"\n",
    "A simple for loop is used to iterate over both my_foods and friend_foods and print each item individually.\n",
    "\"\"\""
   ]
  },
  {
   "cell_type": "markdown",
   "metadata": {},
   "source": [
    "__think python by Allen B. Downey__\n",
    "\n",
    "___Lists___\n",
    "\n",
    ">This chapter presents one of Python’s most useful built-in types, lists. You will also learn more about objects and what can happen when you have more than one name for the same object.\n",
    "***\n",
    "__10.1 A list is a sequence__\n",
    "***\n",
    "\n",
    ">Like a string, a list is a sequence of values. In a string, the values are characters; in a list, they can be any type. The values in a list are called elements or sometimes items.\n",
    "\n",
    ">There are several ways to create a new list; the simplest is to enclose the elements in square brackets ([ and ]):\n",
    "***\n",
    "__[10, 20, 30, 40]__\n",
    "\n",
    "__['crunchy frog', 'ram bladder', 'lark vomit']__\n",
    "***\n",
    "\n",
    ">The first example is a list of four integers. The second is a list of three strings. The elements of a list don’t have to be the same type. The following list contains a string, a float, an integer, and (lo!) another list:\n",
    "***\n",
    "__['spam', 2.0, 5, [10, 20]]__\n",
    "***\n",
    "\n",
    "__A list within another list is nested.__\n",
    "\n",
    ">A list that contains no elements is called an empty list; you can create one with empty brackets, [].\n",
    "\n",
    ">As you might expect, you can assign list values to variables:"
   ]
  },
  {
   "cell_type": "code",
   "execution_count": 42,
   "metadata": {},
   "outputs": [
    {
     "name": "stdout",
     "output_type": "stream",
     "text": [
      "['Cheddar', 'Edam', 'Gouda'] [42, 123] []\n"
     ]
    }
   ],
   "source": [
    "cheeses = ['Cheddar', 'Edam', 'Gouda']\n",
    "numbers = [42, 123]\n",
    "empty = []\n",
    "print(cheeses, numbers, empty)"
   ]
  },
  {
   "cell_type": "markdown",
   "metadata": {},
   "source": [
    "10.2 Lists are mutable\n",
    "The syntax for accessing the elements of a list is the same as for accessing the characters\n",
    "of a string—the bracket operator. The expression inside the brackets specifies the index.\n",
    "Remember that the indices start at 0:\n",
    ">>> cheeses[0]\n",
    "'Cheddar'\n",
    "Unlike strings, lists are mutable. When the bracket operator appears on the left side of an\n",
    "assignment, it identifies the element of the list that will be assigned.\n",
    ">>> numbers = [42, 123]\n",
    ">>> numbers[1] = 5\n",
    ">>> numbers\n",
    "[42, 5]\n",
    "The one-eth element of numbers, which used to be 123, is now 5.\n",
    "Figure 10.1 shows the state diagram for cheeses, numbers and empty:\n",
    "Lists are represented by boxes with the word “list” outside and the elements of the list\n",
    "inside. cheeses refers to a list with three elements indexed 0, 1 and 2. numbers contains\n",
    "two elements; the diagram shows that the value of the second element has been reassigned\n",
    "from 123 to 5. empty refers to a list with no elements.\n",
    "List indices work the same way as string indices:\n",
    "• Any integer expression can be used as an index.\n",
    "• If you try to read or write an element that does not exist, you get an IndexError.\n",
    "• If an index has a negative value, it counts backward from the end of the list.\n",
    "The in operator also works on lists.\n",
    ">>> cheeses = ['Cheddar', 'Edam', 'Gouda']\n",
    ">>> 'Edam' in cheeses\n",
    "True\n",
    ">>> 'Brie' in cheeses\n",
    "False\n",
    "10.3. Traversing a list"
   ]
  },
  {
   "cell_type": "markdown",
   "metadata": {},
   "source": [
    "10.3 Traversing a list\n",
    "The most common way to traverse the elements of a list is with a for loop. The syntax is\n",
    "the same as for strings:\n",
    "for cheese in cheeses:\n",
    "print(cheese)\n",
    "This works well if you only need to read the elements of the list. But if you want to write\n",
    "or update the elements, you need the indices. A common way to do that is to combine the\n",
    "built-in functions range and len:\n",
    "for i in range(len(numbers)):\n",
    "numbers[i] = numbers[i] * 2\n",
    "This loop traverses the list and updates each element. len returns the number of elements\n",
    "in the list. range returns a list of indices from 0 to n − 1, where n is the length of the list.\n",
    "Each time through the loop i gets the index of the next element. The assignment statement\n",
    "in the body uses i to read the old value of the element and to assign the new value.\n",
    "A for loop over an empty list never runs the body:\n",
    "for x in []:\n",
    "print('This never happens.')\n",
    "Although a list can contain another list, the nested list still counts as a single element. The\n",
    "length of this list is four:\n",
    "['spam', 1, ['Brie', 'Roquefort', 'Pol le Veq'], [1, 2, 3]]"
   ]
  },
  {
   "cell_type": "markdown",
   "metadata": {},
   "source": [
    "10.4 List operations\n",
    "The + operator concatenates lists:\n",
    ">>> a = [1, 2, 3]\n",
    ">>> b = [4, 5, 6]\n",
    ">>> c = a + b\n",
    ">>> c\n",
    "[1, 2, 3, 4, 5, 6]\n",
    "The * operator repeats a list a given number of times:\n",
    ">>> [0] * 4\n",
    "[0, 0, 0, 0]\n",
    ">>> [1, 2, 3] * 3\n",
    "[1, 2, 3, 1, 2, 3, 1, 2, 3]\n",
    "The first example repeats [0] four times. The second example repeats the list [1, 2, 3]\n",
    "three times.\n"
   ]
  },
  {
   "cell_type": "markdown",
   "metadata": {},
   "source": [
    "10.5 List slices\n",
    "The slice operator also works on lists:\n",
    "92 Chapter 10. Lists\n",
    ">>> t = ['a', 'b', 'c', 'd', 'e', 'f']\n",
    ">>> t[1:3]\n",
    "['b', 'c']\n",
    ">>> t[:4]\n",
    "['a', 'b', 'c', 'd']\n",
    ">>> t[3:]\n",
    "['d', 'e', 'f']\n",
    "If you omit the first index, the slice starts at the beginning. If you omit the second, the slice\n",
    "goes to the end. So if you omit both, the slice is a copy of the whole list.\n",
    ">>> t[:]\n",
    "['a', 'b', 'c', 'd', 'e', 'f']\n",
    "Since lists are mutable, it is often useful to make a copy before performing operations that\n",
    "modify lists.\n",
    "A slice operator on the left side of an assignment can update multiple elements:\n",
    ">>> t = ['a', 'b', 'c', 'd', 'e', 'f']\n",
    ">>> t[1:3] = ['x', 'y']\n",
    ">>> t\n",
    "['a', 'x', 'y', 'd', 'e', 'f']"
   ]
  },
  {
   "cell_type": "markdown",
   "metadata": {},
   "source": [
    "10.6 List methods\n",
    "Python provides methods that operate on lists. For example, append adds a new element\n",
    "to the end of a list:\n",
    ">>> t = ['a', 'b', 'c']\n",
    ">>> t.append('d')\n",
    ">>> t\n",
    "['a', 'b', 'c', 'd']\n",
    "extend takes a list as an argument and appends all of the elements:\n",
    ">>> t1 = ['a', 'b', 'c']\n",
    ">>> t2 = ['d', 'e']\n",
    ">>> t1.extend(t2)\n",
    ">>> t1\n",
    "['a', 'b', 'c', 'd', 'e']\n",
    "This example leaves t2 unmodified.\n",
    "sort arranges the elements of the list from low to high:\n",
    ">>> t = ['d', 'c', 'e', 'b', 'a']\n",
    ">>> t.sort()\n",
    ">>> t\n",
    "['a', 'b', 'c', 'd', 'e']\n",
    "Most list methods are void; they modify the list and return None. If you accidentally write\n",
    "t = t.sort(), you will be disappointed with the result."
   ]
  },
  {
   "cell_type": "markdown",
   "metadata": {},
   "source": [
    "10.7 Map, filter and reduce\n",
    "To add up all the numbers in a list, you can use a loop like this:\n",
    "def add_all(t):\n",
    "total = 0\n",
    "for x in t:\n",
    "total += x\n",
    "return total\n",
    "total is initialized to 0. Each time through the loop, x gets one element from the list.\n",
    "The += operator provides a short way to update a variable. This augmented assignment\n",
    "statement,\n",
    "total += x\n",
    "is equivalent to\n",
    "total = total + x\n",
    "As the loop runs, total accumulates the sum of the elements; a variable used this way is\n",
    "sometimes called an accumulator.\n",
    "Adding up the elements of a list is such a common operation that Python provides it as a\n",
    "built-in function, sum:\n",
    ">>> t = [1, 2, 3]\n",
    ">>> sum(t)\n",
    "6\n",
    "An operation like this that combines a sequence of elements into a single value is sometimes called reduce.\n",
    "Sometimes you want to traverse one list while building another. For example, the following\n",
    "function takes a list of strings and returns a new list that contains capitalized strings:\n",
    "def capitalize_all(t):\n",
    "res = []\n",
    "for s in t:\n",
    "res.append(s.capitalize())\n",
    "return res\n",
    "res is initialized with an empty list; each time through the loop, we append the next element. So res is another kind of accumulator.\n",
    "An operation like capitalize_all is sometimes called a map because it “maps” a function\n",
    "(in this case the method capitalize) onto each of the elements in a sequence.\n",
    "Another common operation is to select some of the elements from a list and return a sublist.\n",
    "For example, the following function takes a list of strings and returns a list that contains\n",
    "only the uppercase strings:\n",
    "def only_upper(t):\n",
    "res = []\n",
    "for s in t:\n",
    "if s.isupper():\n",
    "res.append(s)\n",
    "return res\n",
    "94 Chapter 10. Lists\n",
    "isupper is a string method that returns True if the string contains only upper case letters.\n",
    "An operation like only_upper is called a filter because it selects some of the elements and\n",
    "filters out the others.\n",
    "Most common list operations can be expressed as a combination of map, filter and reduce.\n"
   ]
  },
  {
   "cell_type": "markdown",
   "metadata": {},
   "source": [
    "10.8 Deleting elements\n",
    "There are several ways to delete elements from a list. If you know the index of the element\n",
    "you want, you can use pop:\n",
    ">>> t = ['a', 'b', 'c']\n",
    ">>> x = t.pop(1)\n",
    ">>> t\n",
    "['a', 'c']\n",
    ">>> x\n",
    "'b'\n",
    "pop modifies the list and returns the element that was removed. If you don’t provide an\n",
    "index, it deletes and returns the last element.\n",
    "If you don’t need the removed value, you can use the del operator:\n",
    ">>> t = ['a', 'b', 'c']\n",
    ">>> del t[1]\n",
    ">>> t\n",
    "['a', 'c']\n",
    "If you know the element you want to remove (but not the index), you can use remove:\n",
    ">>> t = ['a', 'b', 'c']\n",
    ">>> t.remove('b')\n",
    ">>> t\n",
    "['a', 'c']\n",
    "The return value from remove is None.\n",
    "To remove more than one element, you can use del with a slice index:\n",
    ">>> t = ['a', 'b', 'c', 'd', 'e', 'f']\n",
    ">>> del t[1:5]\n",
    ">>> t\n",
    "['a', 'f']\n",
    "As usual, the slice selects all the elements up to but not including the second index"
   ]
  },
  {
   "cell_type": "markdown",
   "metadata": {},
   "source": [
    "10.9 Lists and strings\n",
    "A string is a sequence of characters and a list is a sequence of values, but a list of characters\n",
    "is not the same as a string. To convert from a string to a list of characters, you can use list:\n",
    ">>> s = 'spam'\n",
    ">>> t = list(s)\n",
    ">>> t\n",
    "['s', 'p', 'a', 'm']\n",
    "10.10. Objects and values 95\n",
    "a\n",
    "b\n",
    "’banana’\n",
    "a\n",
    "b\n",
    "’banana’\n",
    "’banana’\n",
    "Figure 10.2: State diagram.\n",
    "Because list is the name of a built-in function, you should avoid using it as a variable\n",
    "name. I also avoid l because it looks too much like 1. So that’s why I use t.\n",
    "The list function breaks a string into individual letters. If you want to break a string into\n",
    "words, you can use the split method:\n",
    ">>> s = 'pining for the fjords'\n",
    ">>> t = s.split()\n",
    ">>> t\n",
    "['pining', 'for', 'the', 'fjords']\n",
    "An optional argument called a delimiter specifies which characters to use as word boundaries. The following example uses a hyphen as a delimiter:\n",
    ">>> s = 'spam-spam-spam'\n",
    ">>> delimiter = '-'\n",
    ">>> t = s.split(delimiter)\n",
    ">>> t\n",
    "['spam', 'spam', 'spam']\n",
    "join is the inverse of split. It takes a list of strings and concatenates the elements. join is\n",
    "a string method, so you have to invoke it on the delimiter and pass the list as a parameter:\n",
    ">>> t = ['pining', 'for', 'the', 'fjords']\n",
    ">>> delimiter = ' '\n",
    ">>> s = delimiter.join(t)\n",
    ">>> s\n",
    "'pining for the fjords'\n",
    "In this case the delimiter is a space character, so join puts a space between words. To\n",
    "concatenate strings without spaces, you can use the empty string, '', as a delimiter."
   ]
  },
  {
   "cell_type": "markdown",
   "metadata": {},
   "source": [
    "10.10 Objects and values\n",
    "If we run these assignment statements:\n",
    "a = 'banana'\n",
    "b = 'banana'\n",
    "We know that a and b both refer to a string, but we don’t know whether they refer to the\n",
    "same string. There are two possible states, shown in Figure 10.2.\n",
    "In one case, a and b refer to two different objects that have the same value. In the second\n",
    "case, they refer to the same object.\n",
    "To check whether two variables refer to the same object, you can use the is operator.\n",
    "96 Chapter 10. Lists\n",
    "a\n",
    "b\n",
    "[ 1, 2, 3 ]\n",
    "[ 1, 2, 3 ]\n",
    "Figure 10.3: State diagram.\n",
    "a\n",
    "b\n",
    "[ 1, 2, 3 ]\n",
    "Figure 10.4: State diagram.\n",
    ">>> a = 'banana'\n",
    ">>> b = 'banana'\n",
    ">>> a is b\n",
    "True\n",
    "In this example, Python only created one string object, and both a and b refer to it. But\n",
    "when you create two lists, you get two objects:\n",
    ">>> a = [1, 2, 3]\n",
    ">>> b = [1, 2, 3]\n",
    ">>> a is b\n",
    "False\n",
    "So the state diagram looks like Figure 10.3.\n",
    "In this case we would say that the two lists are equivalent, because they have the same elements, but not identical, because they are not the same object. If two objects are identical,\n",
    "they are also equivalent, but if they are equivalent, they are not necessarily identical.\n",
    "Until now, we have been using “object” and “value” interchangeably, but it is more precise\n",
    "to say that an object has a value. If you evaluate [1, 2, 3], you get a list object whose\n",
    "value is a sequence of integers. If another list has the same elements, we say it has the\n",
    "same value, but it is not the same object"
   ]
  },
  {
   "cell_type": "markdown",
   "metadata": {},
   "source": [
    "10.11 Aliasing\n",
    "If a refers to an object and you assign b = a, then both variables refer to the same object:\n",
    ">>> a = [1, 2, 3]\n",
    ">>> b = a\n",
    ">>> b is a\n",
    "True\n",
    "The state diagram looks like Figure 10.4.\n",
    "The association of a variable with an object is called a reference. In this example, there are\n",
    "two references to the same object.\n",
    "An object with more than one reference has more than one name, so we say that the object\n",
    "is aliased.\n",
    "If the aliased object is mutable, changes made with one alias affect the other:\n",
    "10.12. List arguments 97\n",
    "0\n",
    "1\n",
    "2\n",
    "’a’\n",
    "’b’\n",
    "’c’\n",
    "list\n",
    "t\n",
    "letters\n",
    "delete_head\n",
    "__main__\n",
    "Figure 10.5: Stack diagram.\n",
    ">>> b[0] = 42\n",
    ">>> a\n",
    "[42, 2, 3]\n",
    "Although this behavior can be useful, it is error-prone. In general, it is safer to avoid\n",
    "aliasing when you are working with mutable objects.\n",
    "For immutable objects like strings, aliasing is not as much of a problem. In this example:\n",
    "a = 'banana'\n",
    "b = 'banana'\n",
    "It almost never makes a difference whether a and b refer to the same string or not"
   ]
  },
  {
   "cell_type": "markdown",
   "metadata": {},
   "source": [
    "10.12 List arguments\n",
    "When you pass a list to a function, the function gets a reference to the list. If the function\n",
    "modifies the list, the caller sees the change. For example, delete_head removes the first\n",
    "element from a list:\n",
    "def delete_head(t):\n",
    "del t[0]\n",
    "Here’s how it is used:\n",
    ">>> letters = ['a', 'b', 'c']\n",
    ">>> delete_head(letters)\n",
    ">>> letters\n",
    "['b', 'c']\n",
    "The parameter t and the variable letters are aliases for the same object. The stack diagram\n",
    "looks like Figure 10.5.\n",
    "Since the list is shared by two frames, I drew it between them.\n",
    "It is important to distinguish between operations that modify lists and operations that create new lists. For example, the append method modifies a list, but the + operator creates a\n",
    "new list.\n",
    "Here’s an example using append:\n",
    ">>> t1 = [1, 2]\n",
    ">>> t2 = t1.append(3)\n",
    ">>> t1\n",
    "[1, 2, 3]\n",
    ">>> t2\n",
    "None\n",
    "98 Chapter 10. Lists\n",
    "The return value from append is None.\n",
    "Here’s an example using the + operator:\n",
    ">>> t3 = t1 + [4]\n",
    ">>> t1\n",
    "[1, 2, 3]\n",
    ">>> t3\n",
    "[1, 2, 3, 4]\n",
    "The result of the operator is a new list, and the original list is unchanged.\n",
    "This difference is important when you write functions that are supposed to modify lists.\n",
    "For example, this function does not delete the head of a list:\n",
    "def bad_delete_head(t):\n",
    "t = t[1:] # WRONG!\n",
    "The slice operator creates a new list and the assignment makes t refer to it, but that doesn’t\n",
    "affect the caller.\n",
    ">>> t4 = [1, 2, 3]\n",
    ">>> bad_delete_head(t4)\n",
    ">>> t4\n",
    "[1, 2, 3]\n",
    "At the beginning of bad_delete_head, t and t4 refer to the same list. At the end, t refers\n",
    "to a new list, but t4 still refers to the original, unmodified list.\n",
    "An alternative is to write a function that creates and returns a new list. For example, tail\n",
    "returns all but the first element of a list:\n",
    "def tail(t):\n",
    "return t[1:]\n",
    "This function leaves the original list unmodified. Here’s how it is used:\n",
    ">>> letters = ['a', 'b', 'c']\n",
    ">>> rest = tail(letters)\n",
    ">>> rest\n",
    "['b', 'c']"
   ]
  },
  {
   "cell_type": "markdown",
   "metadata": {},
   "source": [
    "10.13 Debugging\n",
    "Careless use of lists (and other mutable objects) can lead to long hours of debugging. Here\n",
    "are some common pitfalls and ways to avoid them:\n",
    "1. Most list methods modify the argument and return None. This is the opposite of the\n",
    "string methods, which return a new string and leave the original alone.\n",
    "If you are used to writing string code like this:\n",
    "word = word.strip()\n",
    "It is tempting to write list code like this:\n",
    "10.13. Debugging 99\n",
    "t = t.sort() # WRONG!\n",
    "Because sort returns None, the next operation you perform with t is likely to fail.\n",
    "Before using list methods and operators, you should read the documentation carefully and then test them in interactive mode.\n",
    "2. Pick an idiom and stick with it.\n",
    "Part of the problem with lists is that there are too many ways to do things. For example, to remove an element from a list, you can use pop, remove, del, or even a slice\n",
    "assignment.\n",
    "To add an element, you can use the append method or the + operator. Assuming that\n",
    "t is a list and x is a list element, these are correct:\n",
    "t.append(x)\n",
    "t = t + [x]\n",
    "t += [x]\n",
    "And these are wrong:\n",
    "t.append([x]) # WRONG!\n",
    "t = t.append(x) # WRONG!\n",
    "t + [x] # WRONG!\n",
    "t = t + x # WRONG!\n",
    "Try out each of these examples in interactive mode to make sure you understand\n",
    "what they do. Notice that only the last one causes a runtime error; the other three are\n",
    "legal, but they do the wrong thing.\n",
    "3. Make copies to avoid aliasing.\n",
    "If you want to use a method like sort that modifies the argument, but you need to\n",
    "keep the original list as well, you can make a copy.\n",
    ">>> t = [3, 1, 2]\n",
    ">>> t2 = t[:]\n",
    ">>> t2.sort()\n",
    ">>> t\n",
    "[3, 1, 2]\n",
    ">>> t2\n",
    "[1, 2, 3]\n",
    "In this example you could also use the built-in function sorted, which returns a new,\n",
    "sorted list and leaves the original alone.\n",
    ">>> t2 = sorted(t)\n",
    ">>> t\n",
    "[3, 1, 2]\n",
    ">>> t2\n",
    "[1, 2, 3]"
   ]
  },
  {
   "cell_type": "markdown",
   "metadata": {},
   "source": [
    "10.14 Glossary\n",
    "list: A sequence of values.\n",
    "element: One of the values in a list (or other sequence), also called items.\n",
    "nested list: A list that is an element of another list.\n",
    "accumulator: A variable used in a loop to add up or accumulate a result.\n",
    "augmented assignment: A statement that updates the value of a variable using an operator like +=.\n",
    "reduce: A processing pattern that traverses a sequence and accumulates the elements into\n",
    "a single result.\n",
    "map: A processing pattern that traverses a sequence and performs an operation on each\n",
    "element.\n",
    "filter: A processing pattern that traverses a list and selects the elements that satisfy some\n",
    "criterion.\n",
    "object: Something a variable can refer to. An object has a type and a value.\n",
    "equivalent: Having the same value.\n",
    "identical: Being the same object (which implies equivalence).\n",
    "reference: The association between a variable and its value.\n",
    "aliasing: A circumstance where two or more variables refer to the same object.\n",
    "delimiter: A character or string used to indicate where a string should be split.\n",
    "10.15 Exercises\n",
    "You can download solutions to these exercises from http://thinkpython2.com/code/\n",
    "list_exercises.py.\n",
    "Exercise 10.1. Write a function called nested_sum that takes a list of lists of integers and adds up\n",
    "the elements from all of the nested lists. For example:\n",
    ">>> t = [[1, 2], [3], [4, 5, 6]]\n",
    ">>> nested_sum(t)\n",
    "21\n",
    "Exercise 10.2. Write a function called cumsum that takes a list of numbers and returns the cumulative sum; that is, a new list where the ith element is the sum of the first i + 1 elements from the\n",
    "original list. For example:\n",
    ">>> t = [1, 2, 3]\n",
    ">>> cumsum(t)\n",
    "[1, 3, 6]\n",
    "Exercise 10.3. Write a function called middle that takes a list and returns a new list that contains\n",
    "all but the first and last elements. For example:\n",
    ">>> t = [1, 2, 3, 4]\n",
    ">>> middle(t)\n",
    "[2, 3]\n",
    "10.15. Exercises 101\n",
    "Exercise 10.4. Write a function called chop that takes a list, modifies it by removing the first and\n",
    "last elements, and returns None. For example:\n",
    ">>> t = [1, 2, 3, 4]\n",
    ">>> chop(t)\n",
    ">>> t\n",
    "[2, 3]\n",
    "Exercise 10.5. Write a function called is_sorted that takes a list as a parameter and returns True\n",
    "if the list is sorted in ascending order and False otherwise. For example:\n",
    ">>> is_sorted([1, 2, 2])\n",
    "True\n",
    ">>> is_sorted(['b', 'a'])\n",
    "False\n",
    "Exercise 10.6. Two words are anagrams if you can rearrange the letters from one to spell the other.\n",
    "Write a function called is_anagram that takes two strings and returns True if they are anagrams.\n",
    "Exercise 10.7. Write a function called has_duplicates that takes a list and returns True if there\n",
    "is any element that appears more than once. It should not modify the original list.\n",
    "Exercise 10.8. This exercise pertains to the so-called Birthday Paradox, which you can read about\n",
    "at http: // en. wikipedia. org/ wiki/ Birthday_ paradox .\n",
    "If there are 23 students in your class, what are the chances that two of you have the same birthday?\n",
    "You can estimate this probability by generating random samples of 23 birthdays and checking for\n",
    "matches. Hint: you can generate random birthdays with the randint function in the random\n",
    "module.\n",
    "You can download my solution from http: // thinkpython2. com/ code/ birthday. py .\n",
    "Exercise 10.9. Write a function that reads the file words.txt and builds a list with one element\n",
    "per word. Write two versions of this function, one using the append method and the other using\n",
    "the idiom t = t + [x]. Which one takes longer to run? Why?\n",
    "Solution: http: // thinkpython2. com/ code/ wordlist. py .\n",
    "Exercise 10.10. To check whether a word is in the word list, you could use the in operator, but it\n",
    "would be slow because it searches through the words in order.\n",
    "Because the words are in alphabetical order, we can speed things up with a bisection search (also\n",
    "known as binary search), which is similar to what you do when you look a word up in the dictionary.\n",
    "You start in the middle and check to see whether the word you are looking for comes before the word\n",
    "in the middle of the list. If so, you search the first half of the list the same way. Otherwise you search\n",
    "the second half.\n",
    "Either way, you cut the remaining search space in half. If the word list has 113,809 words, it will\n",
    "take about 17 steps to find the word or conclude that it’s not there.\n",
    "Write a function called in_bisect that takes a sorted list and a target value and returns True if\n",
    "the word is in the list and False if it’s not.\n",
    "Or you could read the documentation of the bisect module and use that! Solution: http: //\n",
    "thinkpython2. com/ code/ inlist. py .\n",
    "Exercise 10.11. Two words are a “reverse pair” if each is the reverse of the other. Write a program\n",
    "that finds all the reverse pairs in the word list. Solution: http: // thinkpython2. com/ code/\n",
    "reverse_ pair. py .\n",
    "Exercise 10.12. Two words “interlock” if taking alternating letters from each forms a new\n",
    "word. For example, “shoe” and “cold” interlock to form “schooled”. Solution: http: //\n",
    "102 Chapter 10. Lists\n",
    "thinkpython2. com/ code/ interlock. py . Credit: This exercise is inspired by an example at\n",
    "http: // puzzlers. org .\n",
    "1. Write a program that finds all pairs of words that interlock. Hint: don’t enumerate all pairs!\n",
    "2. Can you find any words that are three-way interlocked; that is, every third letter forms a\n",
    "word, starting from the first, second or third?"
   ]
  }
 ],
 "metadata": {
  "kernelspec": {
   "display_name": "base",
   "language": "python",
   "name": "python3"
  },
  "language_info": {
   "codemirror_mode": {
    "name": "ipython",
    "version": 3
   },
   "file_extension": ".py",
   "mimetype": "text/x-python",
   "name": "python",
   "nbconvert_exporter": "python",
   "pygments_lexer": "ipython3",
   "version": "3.12.7"
  }
 },
 "nbformat": 4,
 "nbformat_minor": 2
}

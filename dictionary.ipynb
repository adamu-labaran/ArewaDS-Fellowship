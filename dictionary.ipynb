{
 "cells": [
  {
   "cell_type": "code",
   "execution_count": 1,
   "metadata": {},
   "outputs": [
    {
     "name": "stdout",
     "output_type": "stream",
     "text": [
      "Hello!\n"
     ]
    },
    {
     "data": {
      "text/plain": [
       "\"from the above function:\\n    ** The first line is function definition:- def designate you are delcearing a function with the name greet_user()\\n    ** The function holds nothing in the parenthesis meaning that it has no argument.\\n    \\n    ** The next line make up body of the function with indentation with only print statement in the body meaning the function job is to display greeting (hello!)\\n    ** However, the remains inactive untill it's called. such that greet_user() is the function call at line 6 then Hello will be displayed.\\n\""
      ]
     },
     "execution_count": 1,
     "metadata": {},
     "output_type": "execute_result"
    }
   ],
   "source": [
    "# working with function: consider a greet function\n",
    "\n",
    "def greet_user():\n",
    "    print(\"Hello!\")\n",
    "    \n",
    "greet_user()\n",
    "\n",
    "\"\"\"from the above function:\n",
    "    ** The first line is function definition:- def designate you are delcearing a function with the name greet_user()\n",
    "    ** The function holds nothing in the parenthesis meaning that it has no argument.\n",
    "    \n",
    "    ** The next line make up body of the function with indentation with only print statement in the body meaning the function job is to display greeting (hello!)\n",
    "    ** However, the function remains inactive untill it's called. such that greet_user() is the function call at line 6 then Hello will be displayed.\n",
    "\"\"\""
   ]
  },
  {
   "cell_type": "markdown",
   "metadata": {},
   "source": [
    "https://github.com/arewadataScience/30-Days-of-Python/blob/main/06_Module_Dictionaries/06_dictionaries.md\n",
    "\n",
    "https://github.com/arewadataScience/30-Days-of-Python/blob/main/08_Module_Loops/08_loops.md\n",
    "\n",
    "https://github.com/arewadataScience/30-Days-of-Python/blob/main/10_Module_Higher_order_functions/10_higher_order_functions.md\n",
    "\n",
    "https://github.com/arewadataScience/30-Days-of-Python/blob/main/09_Module_Functions_List_Comprehensions/09_functions_list_comprehensions.md\n",
    "\n"
   ]
  },
  {
   "cell_type": "markdown",
   "metadata": {},
   "source": []
  },
  {
   "cell_type": "code",
   "execution_count": 6,
   "metadata": {},
   "outputs": [
    {
     "name": "stdout",
     "output_type": "stream",
     "text": [
      "Hello Adamu Labaran\n"
     ]
    },
    {
     "data": {
      "text/plain": [
       "'\\n** The function accepts parameter known as username\\n** Then an argument is passed. The beauty of this function you can greet as many as you wish by invoking same function then passed different names an argument. \\n\\n** Misconception between parameter and argument:\\n'"
      ]
     },
     "execution_count": 6,
     "metadata": {},
     "output_type": "execute_result"
    }
   ],
   "source": [
    "# passing information in pa function\n",
    "def greet_user(username):\n",
    "    '''disply simple greeting'''\n",
    "    print(f\"Hello {username.title()}\")\n",
    "\n",
    "greet_user(\"Adamu Labaran\")\n",
    "\n",
    "\n",
    "\"\"\"\n",
    "** The function accepts parameter known as username\n",
    "** Then an argument is passed. The beauty of this function you can greet as many as you wish by invoking same function then passed different names an argument. \n",
    "\n",
    "** Misconception between parameter and argument:\n",
    "** parameter in the concept of function is the information you in a parenthesis during function defination eg username\n",
    "=> That is parameter = username\n",
    "\n",
    "** Argument is the value you passed during function call or invocation\n",
    "==> That is argument = \"adamu Labaran\" \n",
    "\"\"\""
   ]
  },
  {
   "cell_type": "code",
   "execution_count": 4,
   "metadata": {},
   "outputs": [
    {
     "name": "stdout",
     "output_type": "stream",
     "text": [
      "Hello Salma Usman\n",
      "Hello Musa Ibrahim\n",
      "Hello Ismail Labaran\n",
      "Hello Idris Mikail\n",
      "Hello Muhammed Abu Z\n",
      "Hello Shehu Tukur\n",
      "Hello Garba Muhammed\n",
      "Hello Samuel Obile\n",
      "Hello Jessica Musa\n",
      "Hello Suleiman Idris\n"
     ]
    }
   ],
   "source": [
    "# multiple function call\n",
    "greet_user(\"Salma Usman\")\n",
    "greet_user(\"Musa Ibrahim\")\n",
    "greet_user(\"Ismail Labaran\")\n",
    "greet_user(\"Idris Mikail\")\n",
    "greet_user(\"Muhammed abu Z\")\n",
    "greet_user(\"Shehu Tukur\")\n",
    "greet_user(\"Garba Muhammed\")\n",
    "greet_user(\"Samuel Obile\")\n",
    "greet_user(\"Jessica Musa\")\n",
    "greet_user(\"Suleiman Idris\")\n"
   ]
  },
  {
   "cell_type": "code",
   "execution_count": 3,
   "metadata": {},
   "outputs": [
    {
     "name": "stdout",
     "output_type": "stream",
     "text": [
      "Hello Zahrah Zakari\n"
     ]
    }
   ],
   "source": [
    "greet_user(\"Zahrah Zakari\")"
   ]
  },
  {
   "cell_type": "code",
   "execution_count": 7,
   "metadata": {},
   "outputs": [],
   "source": [
    "# To simplify things: list is being created loop through with function\n",
    "def greet_user(name):\n",
    "    print(f\"Hello, {name}!\")\n",
    "\n",
    "def greet_multiple_users(names):\n",
    "    for name in names:\n",
    "        greet_user(name)\n",
    "\n",
    "# List of names\n",
    "names_list = [\n",
    "    \"Salma Usman\",\n",
    "    \"Musa Ibrahim\",\n",
    "    \"Ismail Labaran\",\n",
    "    \"Idris Mikail\",\n",
    "    \"Muhammed abu Z\",\n",
    "    \"Shehu Tukur\",\n",
    "    \"Garba Muhammed\",\n",
    "    \"Samuel Obile\",\n",
    "    \"Jessica Musa\",\n",
    "    \"Suleiman Idris\"\n",
    "]\n",
    "\n",
    "# Call the function to greet all users\n",
    "greet_multiple_users(names_list)\n",
    "\n"
   ]
  },
  {
   "cell_type": "code",
   "execution_count": 16,
   "metadata": {},
   "outputs": [
    {
     "name": "stdout",
     "output_type": "stream",
     "text": [
      "I have a Hamster.\n",
      "My Hamster's name is Harry.\n",
      "\n"
     ]
    }
   ],
   "source": [
    "# working with positional argument\n",
    "def describe_pet(animal_type, pet_name):\n",
    "    print(f\"I have a {animal_type}.\")\n",
    "    print(f\"My {animal_type}'s name is {pet_name.title()}.\\n\")\n",
    "    \n",
    "describe_pet(\"Hamster\", \"harry\")"
   ]
  },
  {
   "cell_type": "code",
   "execution_count": 9,
   "metadata": {},
   "outputs": [
    {
     "name": "stdout",
     "output_type": "stream",
     "text": [
      "I have a Harry.\n",
      "Harry's name is Hamster.\n"
     ]
    }
   ],
   "source": [
    "# when we interchange the argument we get different result\n",
    "describe_pet(\"Harry\", \"hamster\")"
   ]
  },
  {
   "cell_type": "code",
   "execution_count": 17,
   "metadata": {},
   "outputs": [
    {
     "name": "stdout",
     "output_type": "stream",
     "text": [
      "I have a Cat.\n",
      "My Cat's name is Yesmi.\n",
      "\n",
      "I have a Dog.\n",
      "My Dog's name is Wike.\n",
      "\n",
      "I have a Rabbit.\n",
      "My Rabbit's name is Zomo.\n",
      "\n",
      "I have a Monkey.\n",
      "My Monkey's name is Tsula.\n",
      "\n"
     ]
    }
   ],
   "source": [
    "# multiple function call: we can have several animal type with their corresponding name\n",
    "describe_pet(\"Cat\", \"Yesmi\")\n",
    "describe_pet(\"Dog\", \"Wike\")\n",
    "describe_pet(\"Rabbit\", \"Zomo\")\n",
    "describe_pet(\"Monkey\", \"Tsula\")"
   ]
  },
  {
   "cell_type": "markdown",
   "metadata": {},
   "source": [
    "# Keyword Arguments\n",
    "A keyword argument is a name-value pair that you pass to a function. You\n",
    "directly associate the name and the value within the argument, so when you\n",
    "pass the argument to the function, there’s no confusion (you won’t end up\n",
    "with a harry named Hamster). Keyword arguments free you from having\n",
    "to worry about correctly ordering your arguments in the function call, and\n",
    "they clarify the role of each value in the function call.\n",
    "Let’s rewrite pets.py using keyword arguments to call describe_pet():"
   ]
  },
  {
   "cell_type": "code",
   "execution_count": 19,
   "metadata": {},
   "outputs": [
    {
     "name": "stdout",
     "output_type": "stream",
     "text": [
      "\n",
      "I have a hamster.\n",
      "My hamster's name is Harry.\n"
     ]
    }
   ],
   "source": [
    "def describe_pet(animal_type, pet_name):\n",
    " \"\"\"Display information about a pet.\"\"\"\n",
    " print(f\"\\nI have a {animal_type}.\")\n",
    " print(f\"My {animal_type}'s name is {pet_name.title()}.\")\n",
    "describe_pet(animal_type='hamster', pet_name='harry')"
   ]
  },
  {
   "cell_type": "markdown",
   "metadata": {},
   "source": [
    "The order of keyword arguments doesn’t matter because Python\n",
    "knows where each value should go. The following two function calls are equivalent:\n",
    "\n",
    "When you use keyword arguments, be sure to use the exact names of the parameters in\n",
    "the function’s definition"
   ]
  },
  {
   "cell_type": "code",
   "execution_count": 20,
   "metadata": {},
   "outputs": [
    {
     "name": "stdout",
     "output_type": "stream",
     "text": [
      "\n",
      "I have a hamster.\n",
      "My hamster's name is Harry.\n",
      "\n",
      "I have a hamster.\n",
      "My hamster's name is Harry.\n"
     ]
    }
   ],
   "source": [
    "describe_pet(animal_type='hamster', pet_name='harry')\n",
    "describe_pet(pet_name='harry', animal_type='hamster')"
   ]
  },
  {
   "cell_type": "markdown",
   "metadata": {},
   "source": [
    "# Returning a Simple Value\n",
    "> Let’s look at a function that takes a first and last name, and returns a neatly\n",
    "\n",
    "> formatted full name:\n"
   ]
  },
  {
   "cell_type": "code",
   "execution_count": 3,
   "metadata": {},
   "outputs": [
    {
     "name": "stdout",
     "output_type": "stream",
     "text": [
      "Adamu Labaran\n"
     ]
    }
   ],
   "source": [
    "def get_formated_name(first_name, last_name):\n",
    "    \"\"\"return a full name, neatly formatted.\"\"\"\n",
    "    full_name = f\"{first_name} {last_name}\"\n",
    "    return full_name.title()\n",
    "\n",
    "musician = get_formated_name(\"adamu\", \"labaran\")\n",
    "print(musician) "
   ]
  },
  {
   "cell_type": "code",
   "execution_count": 5,
   "metadata": {},
   "outputs": [
    {
     "name": "stdout",
     "output_type": "stream",
     "text": [
      "Idris Mikail\n",
      "Mary David\n",
      "Muhd Ali\n",
      "Isaac Terngu\n",
      "Blessing Abeh\n"
     ]
    }
   ],
   "source": [
    "# for the return statment: when you want to return different users such developer, engineer, etc\n",
    "dev = get_formated_name(\"idris\", \"mikail\")\n",
    "print(dev)\n",
    "\n",
    "eng = get_formated_name(\"mary\", \"david\")\n",
    "print(eng)\n",
    "\n",
    "mngr = get_formated_name(\"muhd\", \"ali\")\n",
    "print(mngr)\n",
    "\n",
    "ceo = get_formated_name(\"isaac\", \"terngu\")\n",
    "print(ceo)\n",
    "\n",
    "hr = get_formated_name(\"blessing\", \"abeh\")\n",
    "print(hr)\n"
   ]
  },
  {
   "cell_type": "markdown",
   "metadata": {},
   "source": [
    "# Making an Argument Optional\n",
    ">Sometimes it makes sense to make an argument optional, so that people using the function can choose to provide extra information only if they want to. \n",
    "\n",
    ">You can use default values to make an argument optional. For example, say we want to expand get_formatted_name() to handle middle names as well. \n",
    "\n",
    ">A first attempt to include middle names might look: This\n"
   ]
  },
  {
   "cell_type": "code",
   "execution_count": 7,
   "metadata": {},
   "outputs": [
    {
     "data": {
      "text/plain": [
       "'Adamu Muhammad Labaran'"
      ]
     },
     "execution_count": 7,
     "metadata": {},
     "output_type": "execute_result"
    }
   ],
   "source": [
    "def get_formated_name(first_name, middle_name, last_name):\n",
    "    full_name = f\"{first_name} {middle_name} {last_name}\"\n",
    "    return full_name.title()\n",
    "\n",
    "dev = get_formated_name(\"adamu\", \"muhammad\", \"labaran\")\n",
    "dev\n",
    "    "
   ]
  },
  {
   "cell_type": "markdown",
   "metadata": {},
   "source": [
    "# make middle name optional as sometimes middle name not necessary needed.\n",
    ">To make get_formatted_name() work without a middle name, we set the default value of middle_name to an empty string and move it to the end of the\n",
    "list of parameters:"
   ]
  },
  {
   "cell_type": "code",
   "execution_count": 9,
   "metadata": {},
   "outputs": [
    {
     "name": "stdout",
     "output_type": "stream",
     "text": [
      "Adamu Muhammad Labaran\n"
     ]
    }
   ],
   "source": [
    "def get_formated_name(first_name, last_name, middle_name=\"\"):\n",
    "    if middle_name:\n",
    "        full_name = f\"{first_name} {middle_name} {last_name}\"\n",
    "    else:\n",
    "        full_name = f\"{first_name} {last_name}\"\n",
    "    return full_name.title()\n",
    "names = get_formated_name(\"adamu\", \"labaran\", \"muhammad\")\n",
    "print(names)\n",
    "\n"
   ]
  },
  {
   "cell_type": "code",
   "execution_count": 10,
   "metadata": {},
   "outputs": [
    {
     "name": "stdout",
     "output_type": "stream",
     "text": [
      "Adamu Labaran\n"
     ]
    }
   ],
   "source": [
    "names = get_formated_name(\"adamu\", \"labaran\")\n",
    "print(names)\n"
   ]
  },
  {
   "cell_type": "code",
   "execution_count": 11,
   "metadata": {},
   "outputs": [
    {
     "name": "stdout",
     "output_type": "stream",
     "text": [
      "Adamu Muhammad\n"
     ]
    }
   ],
   "source": [
    "names = get_formated_name(\"adamu\", \"muhammad\")\n",
    "print(names)\n"
   ]
  },
  {
   "cell_type": "code",
   "execution_count": 12,
   "metadata": {},
   "outputs": [
    {
     "name": "stdout",
     "output_type": "stream",
     "text": [
      "{'first name': 'adamu', 'last name': 'labaran'}\n"
     ]
    }
   ],
   "source": [
    "# working function with dictionary\n",
    "def build_person(first_name, last_name):\n",
    "    \"\"\"Return a dictionary of information about a person.\"\"\"\n",
    "    person = {\"first name\":first_name, \"last name\":last_name}\n",
    "    return person\n",
    "musician = build_person(\"adamu\", \"labaran\")\n",
    "print(musician)\n"
   ]
  },
  {
   "cell_type": "code",
   "execution_count": 13,
   "metadata": {},
   "outputs": [
    {
     "name": "stdout",
     "output_type": "stream",
     "text": [
      "{'first': 'jimi', 'last': 'hendrix', 'age': 27}\n"
     ]
    }
   ],
   "source": [
    "def build_person(first_name, last_name, age=None):\n",
    "    \"\"\"Return a dictionary of information about a person.\"\"\"\n",
    "    person = {'first': first_name, 'last': last_name}\n",
    "    if age:\n",
    "        person['age'] = age\n",
    "    return person\n",
    "musician = build_person('jimi', 'hendrix', age=27)\n",
    "print(musician)"
   ]
  },
  {
   "cell_type": "markdown",
   "metadata": {},
   "source": [
    "### Using a Function with a while Loop\n"
   ]
  },
  {
   "cell_type": "code",
   "execution_count": 19,
   "metadata": {},
   "outputs": [
    {
     "name": "stdout",
     "output_type": "stream",
     "text": [
      "Please what is your name:\n",
      "(enter 'q' to quit)\n",
      "Please what is your name:\n",
      "(enter 'q' to quit)\n",
      "Please what is your name:\n",
      "(enter 'q' to quit)\n",
      "\n",
      "Hello, q labaran\n"
     ]
    }
   ],
   "source": [
    "# using while loop with an infinite option using quit statement\n",
    "def get_formated_name(first_name, last_name):\n",
    "    full_name = f\"{first_name} {last_name}\"\n",
    "    return full_name.title()\n",
    "# using while loop\n",
    "while True:\n",
    "    print(\"Please what is your name:\")\n",
    "    print(\"(enter 'q' to quit)\")\n",
    "    \n",
    "    f_name = input(\"first name: \")\n",
    "    if f_name == 'q':\n",
    "        break\n",
    "    \n",
    "    l_name = input(\"last name: \")\n",
    "    if l_name == 'q':\n",
    "        break\n",
    "    \n",
    "formated_name = get_formated_name(f_name, l_name)\n",
    "print(f\"\\nHello, {formated_name}\")"
   ]
  },
  {
   "cell_type": "code",
   "execution_count": 20,
   "metadata": {},
   "outputs": [
    {
     "name": "stdout",
     "output_type": "stream",
     "text": [
      "\n",
      "Please tell me your name:\n",
      "(enter 'q' at any time to quit)\n",
      "\n",
      "Hello, Adamu Labaran!\n",
      "\n",
      "Please tell me your name:\n",
      "(enter 'q' at any time to quit)\n"
     ]
    }
   ],
   "source": [
    "def get_formatted_name(first_name, last_name):\n",
    " \"\"\"Return a full name, neatly formatted.\"\"\"\n",
    " full_name = f\"{first_name} {last_name}\"\n",
    " return full_name.title()\n",
    "while True:\n",
    " print(\"\\nPlease tell me your name:\")\n",
    " print(\"(enter 'q' at any time to quit)\")\n",
    " f_name = input(\"First name: \")\n",
    " if f_name == 'q':\n",
    "    break\n",
    " l_name = input(\"Last name: \")\n",
    " if l_name == 'q':\n",
    "    break\n",
    " formatted_name = get_formatted_name(f_name, l_name)\n",
    " print(f\"\\nHello, {formatted_name}!\")"
   ]
  },
  {
   "cell_type": "markdown",
   "metadata": {},
   "source": [
    ">TRY IT YOURSELF\n",
    "\n",
    ">8-6. City Names: Write a function called city_country() that takes in the name of a city and its country. The function should return a string formatted like this: \"Santiago, Chile\"\n",
    "\n",
    ">Call your function with at least three city-country pairs, and print the values that are returned."
   ]
  },
  {
   "cell_type": "code",
   "execution_count": null,
   "metadata": {},
   "outputs": [],
   "source": []
  },
  {
   "cell_type": "markdown",
   "metadata": {},
   "source": [
    "> 8-7. Album: Write a function called make_album() that builds a dictionary describing a music album. The function should take in an artist name and an album title, and it should return a dictionary containing these two pieces of information. \n",
    "\n",
    "> Use the function to make three dictionaries representing different albums. Print each return value to show that the dictionaries are storing the album information correctly.\n",
    "\n",
    "> Use None to add an optional parameter to make_album() that allows you to store the number of songs on an album. If the calling line includes a value for the number of songs, add that value to the album’s dictionary. Make at least one new function call that includes the number of songs on an album.\n",
    "\n",
    "> 8-8. User Albums: Start with your program from Exercise 8-7. Write a while loop that allows users to enter an album’s artist and title. Once you have that information, call make_album() with the user’s input and print the dictionary that’s created. Be sure to include a quit value in the while loop.\n"
   ]
  },
  {
   "cell_type": "code",
   "execution_count": 1,
   "metadata": {},
   "outputs": [
    {
     "name": "stdout",
     "output_type": "stream",
     "text": [
      "{'first name': 'Adamu', 'last name': 'Labaran', 'age': 27}\n"
     ]
    }
   ],
   "source": [
    "# using optional age\n",
    "def build_person(first_name, last_name, age=None):\n",
    "    person = {\"first name\":first_name, \"last name\":last_name}\n",
    "    if age:\n",
    "        person[\"age\"] = age\n",
    "    return person\n",
    "\n",
    "# invoking a function\n",
    "musician = build_person(\"Adamu\", \"Labaran\", age=27)\n",
    "print(musician)\n"
   ]
  },
  {
   "cell_type": "markdown",
   "metadata": {},
   "source": [
    "### passing a list"
   ]
  },
  {
   "cell_type": "code",
   "execution_count": 2,
   "metadata": {},
   "outputs": [
    {
     "name": "stdout",
     "output_type": "stream",
     "text": [
      "Hello, Hannah!\n",
      "Hello, Ty!\n",
      "Hello, Margot!\n"
     ]
    }
   ],
   "source": [
    "def greet_users(names):\n",
    " \"\"\"Print a simple greeting to each user in the list.\"\"\"\n",
    " for name in names:\n",
    "    msg = f\"Hello, {name.title()}!\"\n",
    "    print(msg)\n",
    "\n",
    "usernames = ['hannah', 'ty', 'margot']\n",
    "greet_users(usernames)"
   ]
  },
  {
   "cell_type": "code",
   "execution_count": 4,
   "metadata": {},
   "outputs": [
    {
     "name": "stdout",
     "output_type": "stream",
     "text": [
      "Hello, Musa!\n",
      "Hello, Isa!\n",
      "Hello, Ibrahim!\n"
     ]
    }
   ],
   "source": [
    "def multi_users(names):\n",
    "    for name in names:\n",
    "        msg = f\"Hello, {name.title()}!\"\n",
    "        print(msg)\n",
    "usernames = [\"musa\", \"isa\", \"ibrahim\"]\n",
    "multi_users(usernames)"
   ]
  },
  {
   "cell_type": "markdown",
   "metadata": {},
   "source": [
    ">8-6. City Names: Write a function called city_country() that takes in the name of a city and its country. The function should return a string formatted like this: \"Santiago, Chile\"\n",
    "\n",
    ">Call your function with at least three city-country pairs, and print the values\n",
    "that are returned.\n",
    "\n",
    ">8-7. Album: Write a function called make_album() that builds a dictionary describing a music album. The function should take in an artist name and an album title, and it should return a dictionary containing these two pieces of information. \n",
    "\n",
    ">Use the function to make three dictionaries representing different albums. Print each return value to show that the dictionaries are storing the album information correctly.\n",
    "\n",
    ">Use None to add an optional parameter to make_album() that allows you to store the number of songs on an album. If the calling line includes a value for the number of songs, add that value to the album’s dictionary. Make at least one new function call that includes the number of songs on an album.\n",
    "\n",
    ">8-8. User Albums: Start with your program from Exercise 8-7. Write a while loop that allows users to enter an album’s artist and title. Once you have that information, call make_album() with the user’s input and print the dictionary that’s created. Be sure to include a quit value in the while loop."
   ]
  },
  {
   "cell_type": "markdown",
   "metadata": {},
   "source": [
    "### Modifying a List in a Function\n",
    ">When you pass a list to a function, the function can modify the list. Any changes made to the list inside the function’s body are permanent, allowing you to work efficiently even when you’re dealing with large amounts of data.\n",
    "\n",
    ">Consider a company that creates 3D printed models of designs that users submit. Designs that need to be printed are stored in a list, and after being printed they’re moved to a separate list. The following code does this without using functions:"
   ]
  },
  {
   "cell_type": "code",
   "execution_count": 5,
   "metadata": {},
   "outputs": [
    {
     "name": "stdout",
     "output_type": "stream",
     "text": [
      "Printing model: dodecahedron\n",
      "Printing model: robot pendant\n",
      "Printing model: phone case\n",
      "\n",
      "The following models have been printed:\n",
      "dodecahedron\n",
      "robot pendant\n",
      "phone case\n"
     ]
    }
   ],
   "source": [
    "# Start with some designs that need to be printed.\n",
    "unprinted_designs = ['phone case', 'robot pendant', 'dodecahedron']\n",
    "completed_models = []\n",
    "# Simulate printing each design, until none are left.\n",
    "# Move each design to completed_models after printing.\n",
    "while unprinted_designs:\n",
    " current_design = unprinted_designs.pop()\n",
    " print(f\"Printing model: {current_design}\")\n",
    " completed_models.append(current_design)\n",
    "# Display all completed models.\n",
    "print(\"\\nThe following models have been printed:\")\n",
    "for completed_model in completed_models:\n",
    " print(completed_model)"
   ]
  },
  {
   "cell_type": "markdown",
   "metadata": {},
   "source": [
    "# Preventing a Function from Modifying a List\n",
    ">Sometimes you’ll want to prevent a function from modifying a list. For example, say that you start with a list of unprinted designs and write a function to move them to a list of completed models, as in the previous example. \n",
    "\n",
    ">You may decide that even though you’ve printed all the designs, you want to keep the original list of unprinted designs for your records. But because you moved all the design names out of unprinted_designs, the list is now empty, and the empty list is the only version you have; the original is gone. \n",
    "\n",
    ">In this case, you can address this issue by passing the function a copy of the list, not the original. Any changes the function makes to the list wil affect only the copy, leaving the original list intact. You can send a copy of a list to a function like this:"
   ]
  },
  {
   "cell_type": "markdown",
   "metadata": {},
   "source": [
    "function_name(list_name[:])\n",
    "The slice notation [:] makes a copy of the list to send to the function. If\n",
    "we didn’t want to empty the list of unprinted designs in printing_models.py,\n",
    "we could call print_models() like this:\n",
    "print_models(unprinted_designs[:], completed_models)"
   ]
  },
  {
   "cell_type": "code",
   "execution_count": 6,
   "metadata": {},
   "outputs": [
    {
     "name": "stdout",
     "output_type": "stream",
     "text": [
      "Printing model: dodecahedron\n",
      "Printing model: robot pendant\n",
      "Printing model: phone case\n",
      "\n",
      "The following models have been printed:\n",
      "dodecahedron\n",
      "robot pendant\n",
      "phone case\n"
     ]
    }
   ],
   "source": [
    "def print_models(unprinted_designs, completed_models):\n",
    "    \"\"\"\n",
    "    Simulate printing each design, until none are left.\n",
    "    Move each design to completed_models after printing.\n",
    "    \"\"\"\n",
    "    while unprinted_designs:\n",
    "        current_design = unprinted_designs.pop()\n",
    "        print(f\"Printing model: {current_design}\")\n",
    "        completed_models.append(current_design)\n",
    "        \n",
    "def show_completed_models(completed_models):\n",
    "    \"\"\"Show all the models that were printed.\"\"\"\n",
    "    print(\"\\nThe following models have been printed:\")\n",
    "    for completed_model in completed_models:\n",
    "        print(completed_model)\n",
    "\n",
    "unprinted_designs = ['phone case', 'robot pendant', 'dodecahedron']\n",
    "completed_models = []\n",
    "print_models(unprinted_designs, completed_models)\n",
    "show_completed_models(completed_models)"
   ]
  },
  {
   "cell_type": "markdown",
   "metadata": {},
   "source": [
    "We define the function print_models() with two parameters: a list of\n",
    "designs that need to be printed and a list of completed models 1. Given\n",
    "these two lists, the function simulates printing each design by emptying the\n",
    "list of unprinted designs and filling up the list of completed models. We\n",
    "then define the function show_completed_models() with one parameter: the list\n",
    "of completed models 2. Given this list, show_completed_models() displays the\n",
    "name of each model that was printed.\n",
    "This program has the same output as the version without functions, but\n",
    "the code is much more organized. The code that does most of the work has\n",
    "been moved to two separate functions, which makes the main part of the\n",
    "program easier to understand. Look at the body of the program and notice\n",
    "how easily you can follow what’s happening:"
   ]
  },
  {
   "cell_type": "code",
   "execution_count": 7,
   "metadata": {},
   "outputs": [],
   "source": [
    "print_models(unprinted_designs[:], completed_models)"
   ]
  },
  {
   "cell_type": "markdown",
   "metadata": {},
   "source": [
    "The function print_models() can do its work because it still receives the\n",
    "names of all unprinted designs. But this time it uses a copy of the original\n",
    "unprinted designs list, not the actual unprinted_designs list. The list completed\n",
    "_models will fill up with the names of printed models like it did before, but\n",
    "the original list of unprinted designs will be unaffected by the function.\n",
    "Even though you can preserve the contents of a list by passing a copy\n",
    "of it to your functions, you should pass the original list to functions unless\n",
    "you have a specific reason to pass a copy. It’s more efficient for a function to\n",
    "work with an existing list, because this avoids using the time and memory\n",
    "needed to make a separate copy. This is especially true when working with\n",
    "large lists."
   ]
  },
  {
   "cell_type": "markdown",
   "metadata": {},
   "source": [
    "TRY IT YOURSELF\n",
    "8-9. Messages: Make a list containing a series of short text messages. Pass the\n",
    "list to a function called show_messages(), which prints each text message.\n",
    "8-10. Sending Messages: Start with a copy of your program from Exercise 8-9.\n",
    "Write a function called send_messages() that prints each text message and\n",
    "moves each message to a new list called sent_messages as it’s printed. After\n",
    "calling the function, print both of your lists to make sure the messages were\n",
    "moved correctly.\n",
    "8-11. Archived Messages: Start with your work from Exercise 8-10. Call the function send_messages() with a copy of the list of messages. After calling the function, print both of your lists to show that the original list has retained its messages"
   ]
  },
  {
   "cell_type": "markdown",
   "metadata": {},
   "source": [
    "Passing an Arbitrary Number of Arguments\n",
    "Sometimes you won’t know ahead of time how many arguments a function\n",
    "needs to accept. Fortunately, Python allows a function to collect an arbitrary number of arguments from the calling statement.\n",
    "For example, consider a function that builds a pizza. It needs to accept a\n",
    "number of toppings, but you can’t know ahead of time how many toppings a\n",
    "person will want. The function in the following example has one parameter,\n",
    "*toppings, but this parameter collects as many arguments as the calling line\n",
    "provides:"
   ]
  },
  {
   "cell_type": "markdown",
   "metadata": {},
   "source": [
    "The asterisk in the parameter name *toppings tells Python to make a\n",
    "tuple called toppings, containing all the values this function receives. The\n",
    "print() call in the function body produces output showing that Python can\n",
    "handle a function call with one value and a call with three values. It treats\n",
    "the different calls similarly. Note that Python packs the arguments into a\n",
    "tuple, even if the function receives only one value:"
   ]
  },
  {
   "cell_type": "code",
   "execution_count": 8,
   "metadata": {},
   "outputs": [
    {
     "name": "stdout",
     "output_type": "stream",
     "text": [
      "('pepperoni',)\n",
      "('mushrooms', 'green peppers', 'extra cheese')\n"
     ]
    }
   ],
   "source": [
    "def make_pizza(*toppings):\n",
    " \"\"\"Print the list of toppings that have been requested.\"\"\"\n",
    " print(toppings)\n",
    "make_pizza('pepperoni')\n",
    "make_pizza('mushrooms', 'green peppers', 'extra cheese')"
   ]
  },
  {
   "cell_type": "markdown",
   "metadata": {},
   "source": [
    "Now we can replace the print() call with a loop that runs through the\n",
    "list of toppings and describes the pizza being ordered:"
   ]
  },
  {
   "cell_type": "code",
   "execution_count": 9,
   "metadata": {},
   "outputs": [
    {
     "name": "stdout",
     "output_type": "stream",
     "text": [
      "\n",
      "Making a pizza with the following toppings:\n",
      "- pepperoni\n",
      "\n",
      "Making a pizza with the following toppings:\n",
      "- mushrooms\n",
      "- green peppers\n",
      "- extra cheese\n"
     ]
    }
   ],
   "source": [
    "def make_pizza(*toppings):\n",
    "    \"\"\"Summarize the pizza we are about to make.\"\"\"\n",
    "    print(\"\\nMaking a pizza with the following toppings:\")\n",
    "    for topping in toppings:\n",
    "        print(f\"- {topping}\")\n",
    "\n",
    "make_pizza('pepperoni')\n",
    "make_pizza('mushrooms', 'green peppers', 'extra cheese')"
   ]
  },
  {
   "cell_type": "markdown",
   "metadata": {},
   "source": [
    "### Mixing Positional and Arbitrary Arguments\n",
    ">If you want a function to accept several different kinds of arguments, the parameter that accepts an arbitrary number of arguments must be placed last in the function definition. Python matches positional and keyword arguments first and then collects any remaining arguments in the final parameter.\n",
    "\n",
    ">For example, if the function needs to take in a size for the pizza, that parameter must come before the parameter *toppings:"
   ]
  },
  {
   "cell_type": "code",
   "execution_count": 10,
   "metadata": {},
   "outputs": [
    {
     "name": "stdout",
     "output_type": "stream",
     "text": [
      "\n",
      "Making a 16-inch pizza with the following toppings:\n",
      "- pepperoni\n",
      "\n",
      "Making a 12-inch pizza with the following toppings:\n",
      "- mushrooms\n",
      "- green peppers\n",
      "- extra cheese\n"
     ]
    }
   ],
   "source": [
    "def make_pizza(size, *toppings):\n",
    "    \"\"\"Summarize the pizza we are about to make.\"\"\"\n",
    "    print(f\"\\nMaking a {size}-inch pizza with the following toppings:\")\n",
    "    for topping in toppings:\n",
    "        print(f\"- {topping}\")\n",
    "\n",
    "make_pizza(16, 'pepperoni')\n",
    "make_pizza(12, 'mushrooms', 'green peppers', 'extra cheese')"
   ]
  },
  {
   "cell_type": "markdown",
   "metadata": {},
   "source": [
    ">In the function definition, Python assigns the first value it receives to the parameter size. All other values that come after are stored in the tuple toppings. The function calls include an argument for the size first, followed by as many toppings as needed.\n",
    "\n",
    ">Now each pizza has a size and a number of toppings, and each piece of information is printed in the proper place, showing size first and toppings after:"
   ]
  },
  {
   "cell_type": "markdown",
   "metadata": {},
   "source": [
    "### Using Arbitrary Keyword Arguments\n",
    ">Sometimes you’ll want to accept an arbitrary number of arguments, but you won’t know ahead of time what kind of information will be passed to the function. \n",
    "\n",
    ">In this case, you can write functions that accept as many key-value pairs as the calling statement provides. One example involves building user profiles: you know you’ll get information about a user, but you’re not sure what kind of information you’ll receive. The function build_profile() in the following example always takes in a first and last name, but it accepts an arbitrary number of keyword arguments as well:"
   ]
  },
  {
   "cell_type": "code",
   "execution_count": 11,
   "metadata": {},
   "outputs": [
    {
     "name": "stdout",
     "output_type": "stream",
     "text": [
      "{'location': 'princeton', 'field': 'physics', 'first_name': 'albert', 'last_name': 'einstein'}\n"
     ]
    }
   ],
   "source": [
    "def build_profile(first, last, **user_info):\n",
    "    \"\"\"Build a dictionary containing everything we know about a user.\"\"\"\n",
    "    user_info['first_name'] = first\n",
    "    user_info['last_name'] = last\n",
    "    return user_info\n",
    "\n",
    "user_profile = build_profile('albert', 'einstein',\n",
    " location='princeton',\n",
    " field='physics')\n",
    "print(user_profile)"
   ]
  },
  {
   "cell_type": "markdown",
   "metadata": {},
   "source": [
    "### The definition of build_profile() expects a first and last name, and then\n",
    ">it allows the user to pass in as many name-value pairs as they want. The double asterisks before the parameter **user_info cause Python to create a dictionary called user_info containing all the extra name-value pairs the function receives. Within the function, you can access the key-value pairs in user_info just as you would for any dictionary.\n",
    "\n",
    ">In the body of build_profile(), we add the first and last names to the user_info dictionary because we’ll always receive these two pieces of information from the user 1, and they haven’t been placed into the dictionary yet. Then we return the user_info dictionary to the function call line. We call build_profile(), passing it the first name 'albert', the last name 'einstein', and the two key-value pairs location='princeton' and field='physics'. We assign the returned profile to user_profile and print user_profile:"
   ]
  },
  {
   "cell_type": "markdown",
   "metadata": {},
   "source": [
    "### TRY IT YOURSELF\n",
    ">8-12. Sandwiches: Write a function that accepts a list of items a person wants on a sandwich. The function should have one parameter that collects as many items as the function call provides, and it should print a summary of the sandwich that’s being ordered. Call the function three times, using a different number of arguments each time.\n",
    "\n",
    ">8-13. User Profile: Start with a copy of user_profile.py from page 148. Build a profile of yourself by calling build_profile(), using your first and last names and three other key-value pairs that describe you. \n",
    "\n",
    ">8-14. Cars: Write a function that stores information about a car in a dictionary. The function should always receive a manufacturer and a model name. It should then accept an arbitrary number of keyword arguments. Call the function with the required information and two other name-value pairs, such as a color or an optional feature. Your function should work for a call like this one: car = make_car('subaru', 'outback', color='blue', tow_package=True) Print the dictionary that’s returned to make sure all the information was stored correctly."
   ]
  },
  {
   "cell_type": "code",
   "execution_count": null,
   "metadata": {},
   "outputs": [],
   "source": []
  },
  {
   "cell_type": "markdown",
   "metadata": {},
   "source": [
    "### Storing Your Functions in Modules\n",
    ">One advantage of functions is the way they separate blocks of code from your main program. When you use descriptive names for your functions, your programs become much easier to follow. You can go a step further by storing your functions in a separate file called a module and then importing that module into your main program. An import statement tells Python to make the code in a module available in the currently running program file. \n",
    "\n",
    ">Storing your functions in a separate file allows you to hide the details of your program’s code and focus on its higher-level logic. It also allows you to reuse functions in many different programs. When you store your functions in separate files, you can share those files with other programmers without having to share your entire program. Knowing how to import functions also allows you to use libraries of functions that other programmers have written.\n",
    "\n",
    ">There are several ways to import a module, and I’ll show you each of these briefly."
   ]
  },
  {
   "cell_type": "markdown",
   "metadata": {},
   "source": [
    "### Importing an Entire Module\n",
    ">To start importing functions, we first need to create a module. A module is a file ending in .py that contains the code you want to import into your program. Let’s make a module that contains the function make_pizza(). To make this module, we’ll remove everything from the file pizza.py except the function make_pizza():"
   ]
  },
  {
   "cell_type": "markdown",
   "metadata": {},
   "source": []
  },
  {
   "cell_type": "code",
   "execution_count": 2,
   "metadata": {},
   "outputs": [
    {
     "name": "stdout",
     "output_type": "stream",
     "text": [
      "\n",
      "Making a 16-inch pizza with the following toppings:\n",
      "- peppe\n",
      "- garlig\n",
      "- onioins\n",
      "- spinach\n",
      "- tomatoes\n",
      "- fish\n"
     ]
    }
   ],
   "source": [
    "#  importing pizza module:\n",
    "import pizza\n",
    "\n",
    "pizza.make_pizza(16, \"peppe\", \"garlig\", \"onioins\", \"spinach\", \"tomatoes\", \"fish\")\n"
   ]
  },
  {
   "cell_type": "markdown",
   "metadata": {},
   "source": [
    "### Importing Specific Functions\n",
    "***\n",
    "You can also import a specific function from a module. Here’s he general syntax for this approach:\n",
    "***\n",
    ">from module_name import function_name\n",
    "***\n",
    "\n",
    "> you can also import as many module by seperating comma\n",
    "\n",
    "***\n",
    "##### importing many modules\n",
    ">import numpy, pandas, matplotlib\n",
    "***\n",
    "\n",
    "You can import as many functions as you want from a module by \n",
    "separating each function’s name with a comma:\n",
    "\n",
    "***\n",
    ">from module_name import function_0, function_1, function_2\n",
    "***\n",
    "\n",
    "The making_pizzas.py example would look like this if we want to import just the function we’re going to use:\n",
    "\n",
    "***\n",
    ">from pizza import make_pizza\n",
    ">make_pizza(16, 'pepperoni')\n",
    ">make_pizza(12, 'mushrooms', 'green peppers', 'extra cheese')\n",
    "***"
   ]
  },
  {
   "cell_type": "code",
   "execution_count": 3,
   "metadata": {},
   "outputs": [
    {
     "name": "stdout",
     "output_type": "stream",
     "text": [
      "\n",
      "Making a 16-inch pizza with the following toppings:\n",
      "- pepperoni\n",
      "\n",
      "Making a 12-inch pizza with the following toppings:\n",
      "- mushrooms\n",
      "- green peppers\n",
      "- extra cheese\n"
     ]
    }
   ],
   "source": [
    "from pizza import make_pizza\n",
    "make_pizza(16, 'pepperoni')\n",
    "make_pizza(12, 'mushrooms', 'green peppers', 'extra cheese')"
   ]
  },
  {
   "cell_type": "markdown",
   "metadata": {},
   "source": [
    "### Using as to Give a Function an Alias\n",
    "If the name of a function you’re importing might conflict with an existing name in your program, or if the function name is long, you can use a\n",
    "short, unique alias—an alternate name similar to a nickname for the function. You’ll give the function this special nickname when you import the\n",
    "function.\n",
    "Here we give the function make_pizza() an alias, mp(), by importing make\n",
    "_pizza as mp. The as keyword renames a function using the alias you provide:\n",
    "from pizza import make_pizza as mp\n",
    "mp(16, 'pepperoni')\n",
    "mp(12, 'mushrooms', 'green peppers', 'extra cheese')\n",
    "The import statement shown here renames the function make_pizza() to\n",
    "mp() in this program. Anytime we want to call make_pizza() we can simply\n",
    "write mp() instead, and Python will run the code in make_pizza() while avoiding any confusion with another make_pizza() function you might have written in this program file."
   ]
  },
  {
   "cell_type": "code",
   "execution_count": 4,
   "metadata": {},
   "outputs": [
    {
     "name": "stdout",
     "output_type": "stream",
     "text": [
      "\n",
      "Making a 16-inch pizza with the following toppings:\n",
      "- pepperoni\n",
      "\n",
      "Making a 12-inch pizza with the following toppings:\n",
      "- mushrooms\n",
      "- green peppers\n",
      "- extra cheese\n"
     ]
    }
   ],
   "source": [
    "import pizza as p\n",
    "p.make_pizza(16, 'pepperoni')\n",
    "p.make_pizza(12, 'mushrooms', 'green peppers', 'extra cheese')"
   ]
  },
  {
   "cell_type": "markdown",
   "metadata": {},
   "source": [
    "The module pizza is given the alias p in the import statement, but all of\n",
    "the module’s functions retain their original names. Calling the functions\n",
    "by writing p.make_pizza() is not only more concise than pizza.make_pizza(),\n",
    "but it also redirects your attention from the module name and allows you\n",
    "to focus on the descriptive names of its functions. These function names,\n",
    "which clearly tell you what each function does, are more important to the\n",
    "readability of your code than using the full module name.\n",
    "The general syntax for this approach is:\n",
    "import module_name as mn\n",
    "Importing All Functions in a Module\n",
    "You can tell Python to import every function in a module by using the asterisk (*) operator:"
   ]
  },
  {
   "cell_type": "code",
   "execution_count": 5,
   "metadata": {},
   "outputs": [
    {
     "name": "stdout",
     "output_type": "stream",
     "text": [
      "\n",
      "Making a 16-inch pizza with the following toppings:\n",
      "- pepperoni\n",
      "\n",
      "Making a 12-inch pizza with the following toppings:\n",
      "- mushrooms\n",
      "- green peppers\n",
      "- extra cheese\n"
     ]
    }
   ],
   "source": [
    "from pizza import *\n",
    "make_pizza(16, 'pepperoni')\n",
    "make_pizza(12, 'mushrooms', 'green peppers', 'extra cheese')"
   ]
  },
  {
   "cell_type": "markdown",
   "metadata": {},
   "source": [
    "The asterisk in the import statement tells Python to copy every function\n",
    "from the module pizza into this program file. Because every function is\n",
    "imported, you can call each function by name without using the dot notation.\n",
    "However, it’s best not to use this approach when you’re working with larger\n",
    "modules that you didn’t write: if the module has a function name that matches\n",
    "an existing name in your project, you can get unexpected results. Python may\n",
    "see several functions or variables with the same name, and instead of importing all the functions separately, it will overwrite the functions.\n",
    "The best approach is to import the function or functions you want, or\n",
    "import the entire module and use the dot notation. This leads to clear code\n",
    "that’s easy to read and understand. I include this section so you’ll recognize\n",
    "import statements like the following when you see them in other people’s code:\n",
    "from module_name import *"
   ]
  },
  {
   "cell_type": "markdown",
   "metadata": {},
   "source": [
    "## Styling Functions\n",
    "You need to keep a few details in mind when you’re styling functions.\n",
    "Functions should have descriptive names, and these names should use\n",
    "lowercase letters and underscores. Descriptive names help you and others\n",
    "understand what your code is trying to do. Module names should use these\n",
    "conventions as well.\n",
    "Every function should have a comment that explains concisely what\n",
    "the function does. This comment should appear immediately after the\n",
    "function definition and use the docstring format. In a well-documented\n",
    "function, other programmers can use the function by reading only the\n",
    "description in the docstring. They should be able to trust that the code\n",
    "works as described, and as long as they know the name of the function, the\n",
    "arguments it needs, and the kind of value it returns, they should be able to\n",
    "use it in their programs.\n",
    "If you specify a default value for a parameter, no spaces should be used\n",
    "on either side of the equal sign:"
   ]
  },
  {
   "cell_type": "code",
   "execution_count": null,
   "metadata": {},
   "outputs": [],
   "source": []
  },
  {
   "cell_type": "markdown",
   "metadata": {},
   "source": [
    "def function_name(parameter_0, parameter_1='default value')\n",
    "The same convention should be used for keyword arguments in function calls:\n",
    "function_name(value_0, parameter_1='value')\n",
    "PEP 8 (https://www.python.org/dev/peps/pep-0008) recommends that you\n",
    "limit lines of code to 79 characters so every line is visible in a reasonably\n",
    "sized editor window. If a set of parameters causes a function’s definition to\n",
    "be longer than 79 characters, press ENTER after the opening parenthesis\n",
    "on the definition line. On the next line, press the TAB key twice to separate\n",
    "the list of arguments from the body of the function, which will only be\n",
    "indented one level.\n",
    "Most editors automatically line up any additional lines of arguments to\n",
    "match the indentation you have established on the first line:\n",
    "def function_name(\n",
    " parameter_0, parameter_1, parameter_2,\n",
    " parameter_3, parameter_4, parameter_5):\n",
    " function body...\n",
    "\n",
    " If your program or module has more than one function, you can separate each by two blank lines to make it easier to see where one function\n",
    "ends and the next one begins.\n",
    "All import statements should be written at the beginning of a file. The\n",
    "only exception is if you use comments at the beginning of your file to\n",
    "describe the overall program."
   ]
  },
  {
   "cell_type": "markdown",
   "metadata": {},
   "source": [
    "### TRY IT YOURSELF\n",
    "8-15. Printing Models: Put the functions for the example printing_models.py in a\n",
    "separate file called printing_functions.py. Write an import statement at the top\n",
    "of printing_models.py, and modify the file to use the imported functions.\n",
    "8-16. Imports: Using a program you wrote that has one function in it, store that\n",
    "function in a separate file. Import the function into your main program file, and\n",
    "call the function using each of these approaches:\n",
    "import module_name\n",
    "from module_name import function_name\n",
    "from module_name import function_name as fn\n",
    "import module_name as mn\n",
    "from module_name import *\n",
    "8-17. Styling Functions: Choose any three programs you wrote for this chapter,\n",
    "and make sure they follow the styling guidelines described in this section."
   ]
  },
  {
   "cell_type": "markdown",
   "metadata": {},
   "source": []
  }
 ],
 "metadata": {
  "kernelspec": {
   "display_name": "base",
   "language": "python",
   "name": "python3"
  },
  "language_info": {
   "codemirror_mode": {
    "name": "ipython",
    "version": 3
   },
   "file_extension": ".py",
   "mimetype": "text/x-python",
   "name": "python",
   "nbconvert_exporter": "python",
   "pygments_lexer": "ipython3",
   "version": "3.12.7"
  }
 },
 "nbformat": 4,
 "nbformat_minor": 2
}

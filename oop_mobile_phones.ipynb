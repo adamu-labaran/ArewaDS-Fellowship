{
 "cells": [
  {
   "cell_type": "markdown",
   "metadata": {},
   "source": [
    "# mobile phone model\n"
   ]
  },
  {
   "cell_type": "code",
   "execution_count": 4,
   "metadata": {},
   "outputs": [
    {
     "name": "stdout",
     "output_type": "stream",
     "text": [
      "company: Samsung | model: Galxy S7 | imei: 353883090135163 | year: 2020\n"
     ]
    }
   ],
   "source": [
    "class Phones:\n",
    "    \"\"\"creting mobile phone model\"\"\"\n",
    "    def __init__(self, make, model, imei, year ):\n",
    "        self.make = make\n",
    "        self.model =  model\n",
    "        self.imei = imei\n",
    "        self.year = year\n",
    "        \n",
    "    def phone_details(self):\n",
    "        \"\"\"Getting complete details of the phone\"\"\"\n",
    "        return f\"company: {self.make.title()} | model: {self.model.title()} | imei: {self.imei} | year: {self.year}\"\n",
    "    \n",
    "# creating phones instances\n",
    "phone_1 = Phones(\"samsung\", \"galxy S7\", 353883090135163, 2020)\n",
    "print(phone_1.phone_details())"
   ]
  },
  {
   "cell_type": "code",
   "execution_count": 11,
   "metadata": {},
   "outputs": [
    {
     "name": "stdout",
     "output_type": "stream",
     "text": [
      "company: Samsung | model: Galaxy S8 Edge | imei: 32388309999332 | year: 2023\n"
     ]
    }
   ],
   "source": [
    "class Samsung(Phones):\n",
    "    def __init__(self, make, model, imei, year):\n",
    "        \"\"\"Initilize attribute from the parent class\"\"\"\n",
    "        super().__init__(make, model, imei, year)\n",
    "        \n",
    "# creating instances\n",
    "samsung_galaxy = Samsung(\"samsung\", \"galaxy S8 edge\", 32388309999332, 2023)\n",
    "print(samsung_galaxy.phone_details())"
   ]
  },
  {
   "cell_type": "code",
   "execution_count": 12,
   "metadata": {},
   "outputs": [
    {
     "data": {
      "text/plain": [
       "'samsung'"
      ]
     },
     "execution_count": 12,
     "metadata": {},
     "output_type": "execute_result"
    }
   ],
   "source": [
    "# accessing maker\n",
    "samsung_galaxy.make"
   ]
  },
  {
   "cell_type": "code",
   "execution_count": 13,
   "metadata": {},
   "outputs": [
    {
     "data": {
      "text/plain": [
       "'galaxy S8 edge'"
      ]
     },
     "execution_count": 13,
     "metadata": {},
     "output_type": "execute_result"
    }
   ],
   "source": [
    "# accesing model\n",
    "samsung_galaxy.model"
   ]
  },
  {
   "cell_type": "code",
   "execution_count": 14,
   "metadata": {},
   "outputs": [
    {
     "data": {
      "text/plain": [
       "2023"
      ]
     },
     "execution_count": 14,
     "metadata": {},
     "output_type": "execute_result"
    }
   ],
   "source": [
    "# accessing only production year\n",
    "samsung_galaxy.year"
   ]
  },
  {
   "cell_type": "code",
   "execution_count": null,
   "metadata": {},
   "outputs": [],
   "source": []
  }
 ],
 "metadata": {
  "kernelspec": {
   "display_name": "base",
   "language": "python",
   "name": "python3"
  },
  "language_info": {
   "codemirror_mode": {
    "name": "ipython",
    "version": 3
   },
   "file_extension": ".py",
   "mimetype": "text/x-python",
   "name": "python",
   "nbconvert_exporter": "python",
   "pygments_lexer": "ipython3",
   "version": "3.12.7"
  }
 },
 "nbformat": 4,
 "nbformat_minor": 2
}

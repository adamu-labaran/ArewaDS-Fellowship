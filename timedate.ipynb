{
 "cells": [
  {
   "cell_type": "code",
   "execution_count": 1,
   "metadata": {},
   "outputs": [
    {
     "name": "stdout",
     "output_type": "stream",
     "text": [
      "['MAXYEAR', 'MINYEAR', 'UTC', '__all__', '__builtins__', '__cached__', '__doc__', '__file__', '__loader__', '__name__', '__package__', '__spec__', 'date', 'datetime', 'datetime_CAPI', 'time', 'timedelta', 'timezone', 'tzinfo']\n"
     ]
    },
    {
     "data": {
      "text/plain": [
       "['MAXYEAR',\n",
       " 'MINYEAR',\n",
       " '__builtins__',\n",
       " '__cached__',\n",
       " '__doc__',\n",
       " '__file__',\n",
       " '__loader__',\n",
       " '__name__',\n",
       " '__package__',\n",
       " '__spec__',\n",
       " 'date',\n",
       " 'datetime',\n",
       " 'datetime_CAPI',\n",
       " 'sys',\n",
       " 'time',\n",
       " 'timedelta',\n",
       " 'timezone',\n",
       " 'tzinfo']"
      ]
     },
     "execution_count": 1,
     "metadata": {},
     "output_type": "execute_result"
    }
   ],
   "source": [
    "import datetime\n",
    "print(dir(datetime))\n",
    "['MAXYEAR', 'MINYEAR', '__builtins__', '__cached__', '__doc__', '__file__', '__loader__', '__name__', '__package__', '__spec__', 'date', 'datetime', 'datetime_CAPI', 'sys', 'time', 'timedelta', 'timezone', 'tzinfo']"
   ]
  },
  {
   "cell_type": "code",
   "execution_count": null,
   "metadata": {},
   "outputs": [],
   "source": []
  },
  {
   "cell_type": "markdown",
   "metadata": {},
   "source": [
    "> With dir or help built-in commands it is possible to know the available functions in a certain module. As you can see, in the datetime module there are many functions, but we will focus on ___date___, ___datetime___, ___time___ and ___timedelta___. Let se see them one by one.\n",
    "#### Getting datetime Information"
   ]
  },
  {
   "cell_type": "code",
   "execution_count": 2,
   "metadata": {},
   "outputs": [
    {
     "name": "stdout",
     "output_type": "stream",
     "text": [
      "2025-01-08 17:30:46.831875\n",
      "8 1 2025 17 30\n",
      "timestamp 1736353846.831875\n",
      "8/1/2025, 17:30\n"
     ]
    }
   ],
   "source": [
    "from datetime import datetime\n",
    "now = datetime.now()\n",
    "print(now)                      # 2021-07-08 07:34:46.549883\n",
    "day = now.day                   # 8\n",
    "month = now.month               # 7\n",
    "year = now.year                 # 2021\n",
    "hour = now.hour                 # 7\n",
    "minute = now.minute             # 38\n",
    "second = now.second\n",
    "timestamp = now.timestamp()\n",
    "print(day, month, year, hour, minute)\n",
    "print('timestamp', timestamp)\n",
    "print(f'{day}/{month}/{year}, {hour}:{minute}')  # 8/7/2021, 7:38"
   ]
  },
  {
   "cell_type": "code",
   "execution_count": 18,
   "metadata": {},
   "outputs": [
    {
     "name": "stdout",
     "output_type": "stream",
     "text": [
      "This is exactly the time: 2025-01-08 17:50:07.971741 working on this project.\n",
      "Day: 8 \n",
      "Month: 1 \n",
      "Year: 2025 \n",
      "Hour: 17 \n",
      "Minute: 50\n",
      "timestamp: 1736355007.971741\n",
      "8/1/2025, 17:50\n"
     ]
    }
   ],
   "source": [
    "from datetime import datetime\n",
    "now = datetime.now()\n",
    "print(f\"This is exactly the time: {now} working on this project.\")\n",
    "day = now.day\n",
    "month = now.month\n",
    "year = now.year\n",
    "hour = now.hour\n",
    "minute = now.minute\n",
    "second = now.second\n",
    "timestamp = now.timestamp\n",
    "print(\"day:\".title(), day, \"\\nmonth:\".title(),month, \"\\nyear:\".title(),year, \"\\nhour:\".title(),hour, \"\\nminute:\".title(),minute)\n",
    "print(f\"timestamp: {timestamp()}\")\n",
    "print(f\"{day}/{month}/{year}, {hour}:{minute}\")"
   ]
  },
  {
   "cell_type": "markdown",
   "metadata": {},
   "source": [
    "__Timestamp__ or __Unix timestamp__ is the number of seconds elapsed from 1st of __January 1970 UTC__.\n",
    "\n",
    "### Formatting Date Output Using _strftime_"
   ]
  },
  {
   "cell_type": "code",
   "execution_count": 19,
   "metadata": {},
   "outputs": [
    {
     "name": "stdout",
     "output_type": "stream",
     "text": [
      "2020-01-01 00:00:00\n",
      "1 1 2020 0 0\n",
      "1/1/2020, 0:0\n"
     ]
    }
   ],
   "source": [
    "from datetime import datetime\n",
    "new_year = datetime(2020, 1, 1)\n",
    "print(new_year)      # 2020-01-01 00:00:00\n",
    "day = new_year.day\n",
    "month = new_year.month\n",
    "year = new_year.year\n",
    "hour = new_year.hour\n",
    "minute = new_year.minute\n",
    "second = new_year.second\n",
    "print(day, month, year, hour, minute) #1 1 2020 0 0\n",
    "print(f'{day}/{month}/{year}, {hour}:{minute}')  # 1/1/2020, 0:0\n"
   ]
  },
  {
   "cell_type": "code",
   "execution_count": 20,
   "metadata": {},
   "outputs": [
    {
     "name": "stdout",
     "output_type": "stream",
     "text": [
      "2025-01-01 00:00:00\n"
     ]
    }
   ],
   "source": [
    "from datetime import datetime\n",
    "new_year = datetime(2025, 1, 1)\n",
    "print(new_year)\n"
   ]
  },
  {
   "cell_type": "code",
   "execution_count": 21,
   "metadata": {},
   "outputs": [
    {
     "name": "stdout",
     "output_type": "stream",
     "text": [
      "1\n"
     ]
    }
   ],
   "source": [
    "day = new_year.day\n",
    "print(day)"
   ]
  },
  {
   "cell_type": "markdown",
   "metadata": {},
   "source": [
    "Formatting date time using strftime method and the documentation can be found [here](https://strftime.org/)."
   ]
  },
  {
   "cell_type": "code",
   "execution_count": 22,
   "metadata": {},
   "outputs": [
    {
     "name": "stdout",
     "output_type": "stream",
     "text": [
      "time: 18:14:01\n",
      "time one: 01/08/2025, 18:14:01\n",
      "time two: 08/01/2025, 18:14:01\n"
     ]
    }
   ],
   "source": [
    "from datetime import datetime\n",
    "# current date and time\n",
    "now = datetime.now()\n",
    "t = now.strftime(\"%H:%M:%S\")\n",
    "print(\"time:\", t)\n",
    "time_one = now.strftime(\"%m/%d/%Y, %H:%M:%S\")\n",
    "# mm/dd/YY H:M:S format\n",
    "print(\"time one:\", time_one)\n",
    "time_two = now.strftime(\"%d/%m/%Y, %H:%M:%S\")\n",
    "# dd/mm/YY H:M:S format\n",
    "print(\"time two:\", time_two)"
   ]
  },
  {
   "cell_type": "markdown",
   "metadata": {},
   "source": [
    ">Here are all the _strftime_ symbols we use to format time. An example of all the formats for this module."
   ]
  },
  {
   "cell_type": "markdown",
   "metadata": {},
   "source": [
    "### String to Time Using strptime\n",
    "Here is a [documentation](https://www.programiz.com/python-programming/datetime/strptimet) that helps to understand the format.\n"
   ]
  },
  {
   "cell_type": "code",
   "execution_count": 23,
   "metadata": {},
   "outputs": [
    {
     "name": "stdout",
     "output_type": "stream",
     "text": [
      "date_string = 5 December, 2019\n",
      "date_object = 2019-12-05 00:00:00\n"
     ]
    }
   ],
   "source": [
    "from datetime import datetime\n",
    "date_string = \"5 December, 2019\"\n",
    "print(\"date_string =\", date_string)\n",
    "date_object = datetime.strptime(date_string, \"%d %B, %Y\")\n",
    "print(\"date_object =\", date_object)"
   ]
  },
  {
   "cell_type": "markdown",
   "metadata": {},
   "source": [
    "### Using _date_ from _datetime_"
   ]
  },
  {
   "cell_type": "code",
   "execution_count": 24,
   "metadata": {},
   "outputs": [
    {
     "name": "stdout",
     "output_type": "stream",
     "text": [
      "2020-01-01\n",
      "Current date: 2025-01-08\n",
      "Current year: 2025\n",
      "Current month: 1\n",
      "Current day: 8\n"
     ]
    }
   ],
   "source": [
    "from datetime import date\n",
    "d = date(2020, 1, 1)\n",
    "print(d)\n",
    "print('Current date:', d.today())    # 2019-12-05\n",
    "# date object of today's date\n",
    "today = date.today()\n",
    "print(\"Current year:\", today.year)   # 2019\n",
    "print(\"Current month:\", today.month) # 12\n",
    "print(\"Current day:\", today.day)     # 5"
   ]
  },
  {
   "cell_type": "markdown",
   "metadata": {},
   "source": [
    "#### Time Objects to Represent Time"
   ]
  },
  {
   "cell_type": "code",
   "execution_count": 25,
   "metadata": {},
   "outputs": [
    {
     "name": "stdout",
     "output_type": "stream",
     "text": [
      "a = 00:00:00\n",
      "b = 10:30:50\n",
      "c = 10:30:50\n",
      "d = 10:30:50.200555\n"
     ]
    }
   ],
   "source": [
    "from datetime import time\n",
    "# time(hour = 0, minute = 0, second = 0)\n",
    "a = time()\n",
    "print(\"a =\", a)\n",
    "# time(hour, minute and second)\n",
    "b = time(10, 30, 50)\n",
    "print(\"b =\", b)\n",
    "# time(hour, minute and second)\n",
    "c = time(hour=10, minute=30, second=50)\n",
    "print(\"c =\", c)\n",
    "# time(hour, minute, second, microsecond)\n",
    "d = time(10, 30, 50, 200555)\n",
    "print(\"d =\", d)"
   ]
  },
  {
   "cell_type": "markdown",
   "metadata": {},
   "source": [
    "### Difference Between Two Points in Time Using"
   ]
  },
  {
   "cell_type": "code",
   "execution_count": 26,
   "metadata": {},
   "outputs": [
    {
     "name": "stdout",
     "output_type": "stream",
     "text": [
      "Time left for new year:  27 days, 0:00:00\n",
      "Time left for new year: 26 days, 23:01:00\n"
     ]
    }
   ],
   "source": [
    "today = date(year=2019, month=12, day=5)\n",
    "new_year = date(year=2020, month=1, day=1)\n",
    "time_left_for_newyear = new_year - today\n",
    "# Time left for new year:  27 days, 0:00:00\n",
    "print('Time left for new year: ', time_left_for_newyear)\n",
    "\n",
    "t1 = datetime(year = 2019, month = 12, day = 5, hour = 0, minute = 59, second = 0)\n",
    "t2 = datetime(year = 2020, month = 1, day = 1, hour = 0, minute = 0, second = 0)\n",
    "diff = t2 - t1\n",
    "print('Time left for new year:', diff) # Time left for new year: 26 days, 23: 01: 00"
   ]
  },
  {
   "cell_type": "markdown",
   "metadata": {},
   "source": [
    "https://www.udemy.com/share/103tbg3@EszvLh4mLni7YPhaeKXgD9D4m-RURu6BDKmuoHn8KVMYv_DEsCYBN-P6jlsAzVwXJA==/\n",
    "\n",
    "https://www.udemy.com/share/109oiY3@u5aKb_7oxRWkamb1AHQk12B2J0195hVTZVAHgkRG6rImipoW-pT2GQX2cq2LLEVGwA==/\n",
    "\n",
    "https://www.udemy.com/share/103qHE3@3t3utEW63UiRsddV9BdmQDnHrsCVb18uHTvIDQ_eN4sLGjTnxiDvUc9vo0YeCvMRtg==/\n",
    "\n",
    "https://www.udemy.com/share/108rb83@A-_BRk_mn2iVlq2QF_1o_EP_-jFPna2isMbLbfmRyV-Gm9L8LYAuGJ49BvvcBZ7_Hw==/\n",
    "\n",
    "https://www.udemy.com/share/10bNdv3@woDkxvLAwbRl3LSXtbOb6Jge8V1q0aQU67GJarr1tWQGCHFJdnSbaXPQ9EG01iLxdg==/\n",
    "\n",
    "https://www.udemy.com/share/10c09R3@SBNfYTx48zCosnT3GGYfKPTJi1owJkbmzBXVs74w9s5Gdsg_ov726q9KmAA9al1pDA==/\n",
    "\n",
    "\n",
    "https://www.udemy.com/share/10bTsh3@RwOEj76P-aGatLVjrkM8pndLMRTYsjnLzL8k1mwYqN-iSh_fVHd0zkh-4LorQWuMyw==/\n",
    "\n",
    "https://www.udemy.com/share/10cmWZ3@J_M8BSLa0frRVm9d5qdkWM5IytdAEr1yqLq4TkJ8ojVVwCX3XNa1W-j3_gokJ6ZTig==/\n",
    "\n"
   ]
  },
  {
   "cell_type": "markdown",
   "metadata": {},
   "source": [
    "### Time Objects to Represent Time"
   ]
  },
  {
   "cell_type": "code",
   "execution_count": null,
   "metadata": {},
   "outputs": [],
   "source": [
    "from datetime import time\n",
    "# time(hour = 0, minute = 0, second = 0)\n",
    "a = time()\n",
    "print(\"a =\", a)\n",
    "# time(hour, minute and second)\n",
    "b = time(10, 30, 50)\n",
    "print(\"b =\", b)\n",
    "# time(hour, minute and second)\n",
    "c = time(hour=10, minute=30, second=50)\n",
    "print(\"c =\", c)\n",
    "# time(hour, minute, second, microsecond)\n",
    "d = time(10, 30, 50, 200555)\n",
    "print(\"d =\", d)"
   ]
  },
  {
   "cell_type": "markdown",
   "metadata": {},
   "source": [
    "### Difference Between Two Points in Time Using"
   ]
  },
  {
   "cell_type": "code",
   "execution_count": null,
   "metadata": {},
   "outputs": [],
   "source": [
    "today = date(year=2019, month=12, day=5)\n",
    "new_year = date(year=2020, month=1, day=1)\n",
    "time_left_for_newyear = new_year - today\n",
    "# Time left for new year:  27 days, 0:00:00\n",
    "print('Time left for new year: ', time_left_for_newyear)\n",
    "\n",
    "t1 = datetime(year = 2019, month = 12, day = 5, hour = 0, minute = 59, second = 0)\n",
    "t2 = datetime(year = 2020, month = 1, day = 1, hour = 0, minute = 0, second = 0)\n",
    "diff = t2 - t1\n",
    "print('Time left for new year:', diff) # Time left for new year: 26 days, 23: 01: 00"
   ]
  },
  {
   "cell_type": "markdown",
   "metadata": {},
   "source": [
    "####  Difference Between Two Points in Time Using _timedelta_"
   ]
  },
  {
   "cell_type": "code",
   "execution_count": null,
   "metadata": {},
   "outputs": [],
   "source": [
    "from datetime import timedelta\n",
    "t1 = timedelta(weeks=12, days=10, hours=4, seconds=20)\n",
    "t2 = timedelta(days=7, hours=5, minutes=3, seconds=30)\n",
    "t3 = t1 - t2\n",
    "print(\"t3 =\", t3)"
   ]
  },
  {
   "cell_type": "markdown",
   "metadata": {},
   "source": [
    "### 🌕 You are an extraordinary. You are 16 steps a head to your way to greatness. Now do some exercises for your brain and muscles.\n",
    "\n",
    "##### 💻 Python Datetime Exercises\n",
    ">Get the current day, month, year, hour, minute and timestamp from datetime module.\n",
    "\n",
    ">Format the current date using this format: (\"%m/%d/%Y, %H:%M:%S\" ).\n",
    "\n",
    ">Today is 5 December, 2019. Change this time string to time.\n",
    "\n",
    ">Calculate the time difference between now and new year.\n",
    "\n",
    ">Calculate the time difference between 1 January 1970 and now.\n",
    "\n",
    ">Think, what can you use the datetime module for? Examples:\n",
    ">Time series analysis\n",
    "\n",
    ">To get a timestamp of any activities in an application\n",
    "\n",
    ">Adding posts on a blog"
   ]
  },
  {
   "cell_type": "code",
   "execution_count": null,
   "metadata": {},
   "outputs": [],
   "source": []
  }
 ],
 "metadata": {
  "kernelspec": {
   "display_name": "base",
   "language": "python",
   "name": "python3"
  },
  "language_info": {
   "codemirror_mode": {
    "name": "ipython",
    "version": 3
   },
   "file_extension": ".py",
   "mimetype": "text/x-python",
   "name": "python",
   "nbconvert_exporter": "python",
   "pygments_lexer": "ipython3",
   "version": "3.12.7"
  }
 },
 "nbformat": 4,
 "nbformat_minor": 2
}

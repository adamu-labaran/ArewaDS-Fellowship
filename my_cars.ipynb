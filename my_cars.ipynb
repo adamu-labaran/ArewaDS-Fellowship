{
 "cells": [
  {
   "cell_type": "markdown",
   "metadata": {},
   "source": [
    "## Importing Multiple Classes from a Module\n",
    ">You can import as many classes as you need into a program file. If we want to make a regular car and an electric car in the same file, we need to import both classes, Car and ElectricCar:\n",
    "___\n",
    "my_cars.py \n",
    "___\n",
    "\n",
    ">You can import multiple classes from a module by separating each class with a comma 1. Once you’ve imported the necessary classes, you’re free to make as many instances of each class as you need. \n",
    "\n",
    ">In this example we make a gas-powered Ford Mustang 2 and then an electric Nissan Leaf 3:\n",
    "___\n",
    "2024 Ford Mustang\n",
    "\n",
    "2024 Nissan Leaf\n",
    "___"
   ]
  },
  {
   "cell_type": "code",
   "execution_count": 1,
   "metadata": {},
   "outputs": [
    {
     "name": "stdout",
     "output_type": "stream",
     "text": [
      "2024 Ford Mustang\n",
      "2024 Nissan Leaf\n"
     ]
    }
   ],
   "source": [
    "from car import Car, ElectricCar\n",
    "\n",
    "my_mustang = Car('ford', 'mustang', 2024)\n",
    "\n",
    "print(my_mustang.get_descriptive_name())\n",
    "\n",
    "my_leaf = ElectricCar('nissan', 'leaf', 2024)\n",
    "\n",
    "print(my_leaf.get_descriptive_name())"
   ]
  },
  {
   "cell_type": "markdown",
   "metadata": {},
   "source": [
    "### Importing an Entire Module\n",
    ">You can also import an entire module and then access the classes you need using dot notation. This approach is simple and results in code that is easy to read. Because every call that creates an instance of a class includes the module name, you won’t have naming conflicts with any names used in the current file.\n",
    "\n",
    ">Here’s what it looks like to import the entire car module and then create a regular car and an electric car"
   ]
  },
  {
   "cell_type": "code",
   "execution_count": 2,
   "metadata": {},
   "outputs": [
    {
     "name": "stdout",
     "output_type": "stream",
     "text": [
      "2024 Ford Mustang\n",
      "2024 Nissan Leaf\n"
     ]
    }
   ],
   "source": [
    "import car\n",
    "my_mustang = car.Car('ford', 'mustang', 2024)\n",
    "print(my_mustang.get_descriptive_name())\n",
    "my_leaf = car.ElectricCar('nissan', 'leaf', 2024)\n",
    "print(my_leaf.get_descriptive_name())"
   ]
  },
  {
   "cell_type": "markdown",
   "metadata": {},
   "source": [
    "### Importing All Classes from a Module\n",
    ">You can import every class from a module using the following syntax:\n",
    "___\n",
    "from module_name import *\n",
    "___\n",
    "\n",
    ">This method is not recommended for two reasons. First, it’s helpful to be a ble to read the import statements at the top of a file and get a clear sense of which classes a program uses. With this approach it’s unclear which classes you’re using from the module. This approach can also lead to confusion with names in the file. If you accidentally import a class with the same name as something else in your program file, you can create errors that are hard to diagnose. I show this here because even though it’s not a recommended approach, you’re likely to see it in other people’s code at some point.\n",
    "\n",
    ">If you need to import many classes from a module, you’re better off importing the entire module and using the module_name.ClassName syntax. You won’t see all the classes used at the top of the file, but you’ll see clearly where the module is used in the program. You’ll also avoid the potential naming conflicts that can arise when you import every class in a module.\n",
    "\n",
    "### Importing a Module into a Module\n",
    ">Sometimes you’ll want to spread out your classes over several modules to keep any one file from growing too large and avoid storing unrelated classes in the same module. When you store your classes in several modules, you may find that a class in one module depends on a class in another module.\n",
    "\n",
    ">When this happens, you can import the required class into the first module. For example, let’s store the Car class in one module and the ElectricCar and Battery classes in a separate module. We’ll make a new module called electric_car.py—replacing the electric_car.py file we created earlier—and copy just the Battery and ElectricCar classes into this file:\n",
    "___\n",
    "\"\"\"A set of classes that can be used to represent electric cars.\"\"\"\n",
    "from car import Car\n",
    "___\n",
    "\n",
    "The class ElectricCar needs access to its parent class Car, so we import\n",
    "Car directly into the module. If we forget this line, Python will raise an error\n",
    "when we try to import the electric_car module. We also need to update the\n",
    "Car module so it contains only the Car class:\n",
    "\n",
    "car.py \"\"\"A class that can be used to represent a car.\"\"\"\n",
    "class Car:\n",
    " --snip--\n",
    "Now we can import from each module separately and create whatever\n",
    "kind of car we need:\n",
    "my_cars.py from car import Car\n",
    "from electric_car import ElectricCar\n",
    "my_mustang = Car('ford', 'mustang', 2024)\n",
    "print(my_mustang.get_descriptive_name())\n",
    "my_leaf = ElectricCar('nissan', 'leaf', 2024)\n",
    "print(my_leaf.get_descriptive_name())\n",
    "We import Car from its module, and ElectricCar from its module. We\n",
    "then create one regular car and one electric car. Both cars are created\n",
    "correctly:\n",
    "2024 Ford Mustang\n",
    "2024 Nissan Leaf\n",
    "\n"
   ]
  },
  {
   "cell_type": "markdown",
   "metadata": {},
   "source": [
    "Using Aliases\n",
    "As you saw in Chapter 8, aliases can be quite helpful when using modules\n",
    "to organize your projects’ code. You can use aliases when importing classes\n",
    "as well.\n",
    "As an example, consider a program where you want to make a bunch\n",
    "of electric cars. It might get tedious to type (and read) ElectricCar over and\n",
    "over again. You can give ElectricCar an alias in the import statement:\n",
    "from electric_car import ElectricCar as EC\n",
    "Now you can use this alias whenever you want to make an electric car:\n",
    "my_leaf = EC('nissan', 'leaf', 2024)\n",
    "Classes   179\n",
    "You can also give a module an alias. Here’s how to import the entire\n",
    "electric_car module using an alias:\n",
    "import electric_car as ec\n",
    "Now you can use this module alias with the full class name:\n",
    "my_leaf = ec.ElectricCar('nissan', 'leaf', 2024)"
   ]
  },
  {
   "cell_type": "markdown",
   "metadata": {},
   "source": [
    "Finding Your Own Workflow\n",
    "As you can see, Python gives you many options for how to structure code\n",
    "in a large project. It’s important to know all these possibilities so you can\n",
    "determine the best ways to organize your projects as well as understand\n",
    "other people’s projects.\n",
    "When you’re starting out, keep your code structure simple. Try doing\n",
    "everything in one file and moving your classes to separate modules once everything is working. If you like how modules and files interact, try storing your\n",
    "classes in modules when you start a project. Find an approach that lets you\n",
    "write code that works, and go from there."
   ]
  },
  {
   "cell_type": "markdown",
   "metadata": {},
   "source": [
    "### TRY IT YOURSELF\n",
    ">9-10. Imported Restaurant: Using your latest Restaurant class, store it in a module. Make a separate file that imports Restaurant. Make a Restaurant instance, and call one of Restaurant’s methods to show that the import statement is working properly. \n",
    "\n",
    ">9-11. Imported Admin: Start with your work from Exercise 9-8 (page 173). \n",
    "\n",
    ">Store the classes User, Privileges, and Admin in one module. Create a separate file, make an Admin instance, and call show_privileges() to show that everything is working correctly.\n",
    "\n",
    ">9-12. Multiple Modules: Store the User class in one module, and store the Privileges and Admin classes in a separate module. In a separate file, create an Admin instance and call show_privileges() to show that everything is still working correctly."
   ]
  },
  {
   "cell_type": "markdown",
   "metadata": {},
   "source": [
    "The Python Standard Library\n",
    "The Python standard library is a set of modules included with every Python\n",
    "installation. Now that you have a basic understanding of how functions and\n",
    "classes work, you can start to use modules like these that other programmers\n",
    "have written. You can use any function or class in the standard library by\n",
    "including a simple import statement at the top of your file. Let’s look at one\n",
    "module, random, which can be useful in modeling many real-world situations.\n",
    "180   Chapter 9\n",
    "One interesting function from the random module is randint(). This\n",
    "function takes two integer arguments and returns a randomly selected integer between (and including) those numbers.\n",
    "Here’s how to generate a random number between 1 and 6:\n",
    ">>> from random import randint\n",
    ">>> randint(1, 6)\n",
    "3\n",
    "Another useful function is choice(). This function takes in a list or tuple\n",
    "and returns a randomly chosen element:\n",
    ">>> from random import choice\n",
    ">>> players = ['charles', 'martina', 'michael', 'florence', 'eli']\n",
    ">>> first_up = choice(players)\n",
    ">>> first_up\n",
    "'florence'\n",
    "The random module shouldn’t be used when building security-related\n",
    "applications, but it works well for many fun and interesting projects.\n",
    "NOTE You can also download modules from external sources. You’ll see a number of these\n",
    "examples in Part II, where we’ll need external modules to complete each projec"
   ]
  },
  {
   "cell_type": "markdown",
   "metadata": {},
   "source": [
    "TRY IT YOURSELF\n",
    "9-13. Dice: Make a class Die with one attribute called sides, which has a\n",
    "default value of 6. Write a method called roll_die() that prints a random number between 1 and the number of sides the die has. Make a 6-sided die and\n",
    "roll it 10 times.\n",
    "Make a 10-sided die and a 20-sided die. Roll each die 10 times.\n",
    "9-14. Lottery: Make a list or tuple containing a series of 10 numbers and 5 letters.\n",
    "Randomly select 4 numbers or letters from the list and print a message saying that\n",
    "any ticket matching these 4 numbers or letters wins a prize.\n",
    "9-15. Lottery Analysis: You can use a loop to see how hard it might be to win\n",
    "the kind of lottery you just modeled. Make a list or tuple called my_ticket. Write\n",
    "a loop that keeps pulling numbers until your ticket wins. Print a message reporting how many times the loop had to run to give you a winning ticket.\n",
    "9-16. Python Module of the Week: One excellent resource for exploring the\n",
    "Python standard library is a site called Python Module of the Week. Go to\n",
    "https://pymotw.com and look at the table of contents. Find a module that looks\n",
    "interesting to you and read about it, perhaps starting with the random module"
   ]
  },
  {
   "cell_type": "markdown",
   "metadata": {},
   "source": [
    "Styling Classes\n",
    "A few styling issues related to classes are worth clarifying, especially as your\n",
    "programs become more complicated.\n",
    "Class names should be written in CamelCase. To do this, capitalize the\n",
    "first letter of each word in the name, and don’t use underscores. Instance\n",
    "and module names should be written in lowercase, with underscores\n",
    "between words.\n",
    "Every class should have a docstring immediately following the class definition. The docstring should be a brief description of what the class does,\n",
    "and you should follow the same formatting conventions you used for writing\n",
    "docstrings in functions. Each module should also have a docstring describing what the classes in a module can be used for.\n",
    "You can use blank lines to organize code, but don’t use them excessively.\n",
    "Within a class you can use one blank line between methods, and within a\n",
    "module you can use two blank lines to separate classes.\n",
    "If you need to import a module from the standard library and a module\n",
    "that you wrote, place the import statement for the standard library module\n",
    "first. Then add a blank line and the import statement for the module you\n",
    "wrote. In programs with multiple import statements, this convention makes it\n",
    "easier to see where the different modules used in the program come from.\n",
    "Summary\n",
    "In this chapter, you learned how to write your own classes. You learned\n",
    "how to store information in a class using attributes and how to write methods that give your classes the behavior they need. You learned to write\n",
    "__init__() methods that create instances from your classes with exactly the\n",
    "attributes you want. You saw how to modify the attributes of an instance\n",
    "directly and through methods. You learned that inheritance can simplify\n",
    "the creation of classes that are related to each other, and you learned to\n",
    "use instances of one class as attributes in another class to keep each class\n",
    "simple.\n",
    "You saw how storing classes in modules and importing classes you need\n",
    "into the files where they’ll be used can keep your projects organized. You\n",
    "started learning about the Python standard library, and you saw an example\n",
    "based on the random module. Finally, you learned to style your classes using\n",
    "Python conventions.\n",
    "In Chapter 10, you’ll learn to work with files so you can save the work\n",
    "you’ve done in a program and the work you’ve allowed users to do. You’ll\n",
    "also learn about exceptions, a special Python class designed to help you\n",
    "respond to errors when they arise."
   ]
  },
  {
   "cell_type": "code",
   "execution_count": null,
   "metadata": {},
   "outputs": [],
   "source": []
  }
 ],
 "metadata": {
  "kernelspec": {
   "display_name": "base",
   "language": "python",
   "name": "python3"
  },
  "language_info": {
   "codemirror_mode": {
    "name": "ipython",
    "version": 3
   },
   "file_extension": ".py",
   "mimetype": "text/x-python",
   "name": "python",
   "nbconvert_exporter": "python",
   "pygments_lexer": "ipython3",
   "version": "3.12.7"
  }
 },
 "nbformat": 4,
 "nbformat_minor": 2
}

{
 "cells": [
  {
   "cell_type": "markdown",
   "metadata": {},
   "source": [
    "### OBJECT ORINTED PROGRAMMING\n",
    "> Defining calss and instances of a class: a class is a blue print for creating intances\n",
    "\n",
    ">each unique employee created using employee class is an instance of the class employee.\n",
    "\n",
    "> creating employee model\n",
    "\n",
    "\n"
   ]
  },
  {
   "cell_type": "markdown",
   "metadata": {},
   "source": []
  },
  {
   "cell_type": "code",
   "execution_count": 14,
   "metadata": {},
   "outputs": [
    {
     "name": "stdout",
     "output_type": "stream",
     "text": [
      "Adamu Labaran\n",
      "adamu.labaran@google.org\n"
     ]
    }
   ],
   "source": [
    "class Employee:\n",
    "    \"\"\"Creating Emmployee Model\"\"\"\n",
    "    def __init__(self, f_name, l_name, pay):\n",
    "        self.f_name = f_name\n",
    "        self.l_name = l_name\n",
    "        self.pay = pay\n",
    "        self.email = f\"{f_name}.{l_name}@google.org\"\n",
    "    \n",
    "    def get_fullname(self):\n",
    "        \"\"\"This method return full name of employee\"\"\"\n",
    "        fullname = \"{} {}\".format(empl_1.f_name.title(), empl_1.l_name.title()) # another method of getting full name\n",
    "        return f\"{self.f_name.title()} {self.l_name.title()}\"\n",
    "        \n",
    "            \n",
    "\n",
    "# creating instance of employee\n",
    "empl_1 = Employee(\"adamu\", \"labaran\", 80000)\n",
    "empl_2 = Employee(\"ismail\", \"labaran\", 55000)\n",
    "\n",
    "print(empl_1.get_fullname())\n",
    "print(empl_1.email)\n",
    "        "
   ]
  },
  {
   "cell_type": "code",
   "execution_count": 11,
   "metadata": {},
   "outputs": [
    {
     "name": "stdout",
     "output_type": "stream",
     "text": [
      "Adamu Labaran\n"
     ]
    }
   ],
   "source": [
    "# instance variable contain data that is unique to each instance\n",
    "# print full name of employee using forat method from instance variable\n",
    "\n",
    "print(\"{} {}\".format(empl_1.f_name.title(), empl_1.l_name.title()))"
   ]
  },
  {
   "cell_type": "code",
   "execution_count": 15,
   "metadata": {},
   "outputs": [
    {
     "data": {
      "text/plain": [
       "'Ismail Labaran'"
      ]
     },
     "execution_count": 15,
     "metadata": {},
     "output_type": "execute_result"
    }
   ],
   "source": [
    "empl_2.get_fullname()"
   ]
  },
  {
   "cell_type": "code",
   "execution_count": 16,
   "metadata": {},
   "outputs": [
    {
     "name": "stdout",
     "output_type": "stream",
     "text": [
      "Ismail Labaran\n"
     ]
    }
   ],
   "source": [
    "print(empl_2.get_fullname())"
   ]
  },
  {
   "cell_type": "markdown",
   "metadata": {},
   "source": [
    "# difference between class vaariable and instance variable\n",
    ">instance variable contain data that is unique to each instance\n",
    "\n",
    ">class variables are variables that are shared among all instances of a class\n",
    "\n"
   ]
  },
  {
   "cell_type": "code",
   "execution_count": 1,
   "metadata": {},
   "outputs": [],
   "source": [
    "class Employee:\n",
    "    def __intit__(self, f_name, l_name, pay):\n",
    "        self.f_name = f_name\n",
    "        self.l_name = l_name\n",
    "        self.pay = pay\n",
    "        \n",
    "    "
   ]
  },
  {
   "cell_type": "code",
   "execution_count": null,
   "metadata": {},
   "outputs": [],
   "source": []
  }
 ],
 "metadata": {
  "kernelspec": {
   "display_name": "base",
   "language": "python",
   "name": "python3"
  },
  "language_info": {
   "codemirror_mode": {
    "name": "ipython",
    "version": 3
   },
   "file_extension": ".py",
   "mimetype": "text/x-python",
   "name": "python",
   "nbconvert_exporter": "python",
   "pygments_lexer": "ipython3",
   "version": "3.12.7"
  }
 },
 "nbformat": 4,
 "nbformat_minor": 2
}

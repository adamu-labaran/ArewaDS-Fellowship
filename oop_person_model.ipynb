{
 "cells": [
  {
   "cell_type": "code",
   "execution_count": 1,
   "metadata": {},
   "outputs": [
    {
     "name": "stdout",
     "output_type": "stream",
     "text": [
      "adamu\n",
      "labaran\n",
      "nigeria\n",
      "benue\n",
      "28\n"
     ]
    }
   ],
   "source": [
    "class Person:\n",
    "    \"\"\"Creating person model\"\"\"\n",
    "    def __init__(self, firstname, lastname, country, city, age):\n",
    "        self.firstname = firstname\n",
    "        self.lastname = lastname\n",
    "        self.country = country\n",
    "        self.city = city\n",
    "        self.age = age\n",
    "        \n",
    "# creating person instances\n",
    "p_1 = Person(\"adamu\", \"labaran\", \"nigeria\", \"benue\", 28)\n",
    "print(p_1.firstname)\n",
    "print(p_1.lastname)\n",
    "print(p_1.country)\n",
    "print(p_1.city)\n",
    "print(p_1.age)        "
   ]
  },
  {
   "cell_type": "markdown",
   "metadata": {},
   "source": [
    "### Object Methods\n",
    "Objects can have methods. The methods are functions which belong to the object.\n",
    "\n",
    "##### Example:"
   ]
  },
  {
   "cell_type": "code",
   "execution_count": 8,
   "metadata": {},
   "outputs": [
    {
     "name": "stdout",
     "output_type": "stream",
     "text": [
      "Adamu Labaran is 28 years old. He lives in Benue, Nigeria\n"
     ]
    }
   ],
   "source": [
    "class Person:\n",
    "    def __init__(self, firstname, lastname, country, city, age):\n",
    "        self.firstname = firstname\n",
    "        self.lastname   = lastname\n",
    "        self.country = country\n",
    "        self.city = city\n",
    "        self.age = age\n",
    "        \n",
    "    # defining object method\n",
    "    def personal_info(self):\n",
    "        \"\"\"Defining object method where personal info can be initiated directly\"\"\"\n",
    "        return f\"{self.firstname.title()} {self.lastname.title()} is {self.age} years old. He lives in {self.city.title()}, {self.country.title()}\"\n",
    "    \n",
    "p_1 = Person(\"adamu\", \"labaran\", \"nigeria\", \"benue\", 28)\n",
    "print(p_1.personal_info())    "
   ]
  },
  {
   "cell_type": "markdown",
   "metadata": {},
   "source": [
    "#### Object Default Methods\n",
    ">Sometimes, you may want to have a default values for your object methods. If we give default values for the parameters in the constructor, we can avoid errors when we call or instantiate our class without parameters. Let's see how it looks:\n",
    "\n",
    ">Example:"
   ]
  },
  {
   "cell_type": "code",
   "execution_count": 20,
   "metadata": {},
   "outputs": [
    {
     "name": "stdout",
     "output_type": "stream",
     "text": [
      "Zara Zakari is 18. She lives in Benue, Nigeria\n",
      "Salma Usman is 18. She lives in Lafia, Nigeria\n"
     ]
    }
   ],
   "source": [
    "class Person:\n",
    "    def __init__(self, firstname=\"zara\", lastname=\"zakari\", country=\"nigeria\", city=\"benue\", age=18):\n",
    "        self.firstname = firstname\n",
    "        self.lastname = lastname\n",
    "        self.country = country\n",
    "        self.city = city\n",
    "        self.age = age\n",
    "        \n",
    "    def personal_info(self):\n",
    "        return(f\"{self.firstname.title()} {self.lastname.title()} is {self.age}. She lives in {self.city.title()}, {self.country.title()}\")\n",
    "p_2 = Person()\n",
    "print(p_2.personal_info())\n",
    "\n",
    "p_3 = Person(\"salma\", \"usman\", \"nigeria\", \"lafia\", 18)\n",
    "print(p_3.personal_info())"
   ]
  },
  {
   "cell_type": "markdown",
   "metadata": {},
   "source": [
    "#### Method to Modify Class Default Values\n",
    ">In the example below, the person class, all the constructor parameters have default values. In addition to that, we have skills parameter, which we can access using a method. Let us create add_skill method to add skills to the skills list."
   ]
  },
  {
   "cell_type": "code",
   "execution_count": 2,
   "metadata": {},
   "outputs": [
    {
     "name": "stdout",
     "output_type": "stream",
     "text": [
      "Adamu Labaran  is 28. He lives in Benue, Nigeria.\n",
      "['HTML', 'CSS', 'JavaScript', 'Python', 'Java', 'Linus/unix', 'MySql', 'React', 'JavaFX']\n"
     ]
    }
   ],
   "source": [
    "class Person:\n",
    "    def __init__(self, firstname, lastname, country, city, age):\n",
    "        self.firstname = firstname\n",
    "        self.lastname = lastname\n",
    "        self.country = country\n",
    "        self.city = city\n",
    "        self.age = age\n",
    "        self.skills = []\n",
    "        \n",
    "        \n",
    "    def personal_info(self):\n",
    "        return f\"{self.firstname.title()} {self.lastname.title()}  is {self.age}. He lives in {self.city.title()}, {self.country.title()}.\"\n",
    "    \n",
    "    def add_skill(self, skill):\n",
    "        self.skills.append(skill)\n",
    "\n",
    "p_5 = Person(\"adamu\", \"labaran\", \"nigeria\", \"benue\", 28)\n",
    "print(p_5.personal_info())\n",
    "\n",
    "# add more skills\n",
    "p_5.add_skill(\"HTML\")\n",
    "p_5.add_skill(\"CSS\")\n",
    "p_5.add_skill(\"JavaScript\")\n",
    "p_5.add_skill(\"Python\")\n",
    "p_5.add_skill(\"Java\")\n",
    "p_5.add_skill(\"Linus/unix\")\n",
    "p_5.add_skill(\"MySql\")\n",
    "p_5.add_skill(\"React\")\n",
    "p_5.add_skill(\"JavaFX\")\n",
    "\n",
    "print(p_5.skills)\n"
   ]
  },
  {
   "cell_type": "markdown",
   "metadata": {},
   "source": [
    "#### Inheritance\n",
    ">Using inheritance we can reuse parent class code. Inheritance allows us to define a class that inherits all the methods and properties from parent class. The parent class or super or base class is the class which gives all the methods and properties. Child class is the class that inherits from another or parent class. Let us create a student class by inheriting from person class.\n",
    "\n"
   ]
  },
  {
   "cell_type": "code",
   "execution_count": 10,
   "metadata": {},
   "outputs": [
    {
     "name": "stdout",
     "output_type": "stream",
     "text": [
      "Adamu Labaran  is 28. He lives in Benue, Nigeria.\n",
      "Usman Muhammad  is 30. He lives in Floride, Usa.\n",
      "['Agro Allied', 'Human resources', 'Marketting', 'Digital Marketting']\n"
     ]
    }
   ],
   "source": [
    "class Student(Person):\n",
    "    pass\n",
    "\n",
    "s1 = Student(\"adamu\", \"labaran\", \"nigeria\", \"benue\", 28)\n",
    "s2 = Student(\"usman\", \"muhammad\", \"USA\", \"floride\", 30)\n",
    "\n",
    "print(s1.personal_info())\n",
    "print(s2.personal_info())\n",
    "\n",
    "s2.add_skill(\"Agro Allied\")\n",
    "s2.add_skill(\"Human resources\")\n",
    "s2.add_skill(\"Marketting\")\n",
    "s2.add_skill(\"Digital Marketting\")\n",
    "print(s2.skills)"
   ]
  },
  {
   "cell_type": "code",
   "execution_count": 12,
   "metadata": {},
   "outputs": [
    {
     "name": "stdout",
     "output_type": "stream",
     "text": [
      "['HTML', 'CSS', 'JavaScript', 'Python', 'Java', 'Linus/unix', 'MySql', 'React', 'JavaFX']\n"
     ]
    }
   ],
   "source": [
    "# add more skills\n",
    "s1.add_skill(\"HTML\")\n",
    "s1.add_skill(\"CSS\")\n",
    "s1.add_skill(\"JavaScript\")\n",
    "s1.add_skill(\"Python\")\n",
    "s1.add_skill(\"Java\")\n",
    "s1.add_skill(\"Linus/unix\")\n",
    "s1.add_skill(\"MySql\")\n",
    "s1.add_skill(\"React\")\n",
    "s1.add_skill(\"JavaFX\")\n",
    "\n",
    "print(s1.skills)\n"
   ]
  },
  {
   "cell_type": "code",
   "execution_count": 13,
   "metadata": {},
   "outputs": [
    {
     "name": "stdout",
     "output_type": "stream",
     "text": [
      "['Agro Allied', 'Human resources', 'Marketting', 'Digital Marketting', 'Agro Allied', 'Human resources', 'Marketting', 'Digital Marketting']\n"
     ]
    }
   ],
   "source": [
    "s2.add_skill(\"Agro Allied\")\n",
    "s2.add_skill(\"Human resources\")\n",
    "s2.add_skill(\"Marketting\")\n",
    "s2.add_skill(\"Digital Marketting\")\n",
    "print(s2.skills)"
   ]
  },
  {
   "cell_type": "markdown",
   "metadata": {},
   "source": [
    ">We did not call the init() constructor in the child class. If we didn't call it then we can still access all the properties from the parent. But if we do call the constructor we can access the parent properties by calling super.\n",
    "\n",
    ">We can add a new method to the child or we can override the parent class methods by creating the same method name in the child class. When we add the init() function, the child class will no longer inherit the parent's init() function.\n",
    "\n",
    "### Overriding parent method"
   ]
  },
  {
   "cell_type": "code",
   "execution_count": 14,
   "metadata": {},
   "outputs": [
    {
     "name": "stdout",
     "output_type": "stream",
     "text": [
      "Eyob Yetayeh is Helsinki years old. He lives in Finland, 30.\n",
      "['JavaScript', 'React', 'Python']\n",
      "Lidiya Teklemariam is Espoo years old. She lives in Finland, 28.\n",
      "['Organizing', 'Marketing', 'Digital Marketing']\n"
     ]
    }
   ],
   "source": [
    "class Student(Person):\n",
    "    def __init__ (self, firstname='Asabeneh', lastname='Yetayeh',age=250, country='Finland', city='Helsinki', gender='male'):\n",
    "        self.gender = gender\n",
    "        super().__init__(firstname, lastname,age, country, city)\n",
    "    def person_info(self):\n",
    "        gender = 'He' if self.gender =='male' else 'She'\n",
    "        return f'{self.firstname} {self.lastname} is {self.age} years old. {gender} lives in {self.city}, {self.country}.'\n",
    "\n",
    "s1 = Student('Eyob', 'Yetayeh', 30, 'Finland', 'Helsinki','male')\n",
    "s2 = Student('Lidiya', 'Teklemariam', 28, 'Finland', 'Espoo', 'female')\n",
    "print(s1.person_info())\n",
    "s1.add_skill('JavaScript')\n",
    "s1.add_skill('React')\n",
    "s1.add_skill('Python')\n",
    "print(s1.skills)\n",
    "\n",
    "print(s2.person_info())\n",
    "s2.add_skill('Organizing')\n",
    "s2.add_skill('Marketing')\n",
    "s2.add_skill('Digital Marketing')\n",
    "print(s2.skills)"
   ]
  },
  {
   "cell_type": "markdown",
   "metadata": {},
   "source": [
    "### Exercises: Level 1\n",
    ">Python has the module called statistics and we can use this module to do all the statistical calculations. However, to learn how to make function and reuse function let us try to develop a program, which calculates the measure of central tendency of a sample (mean, median, mode) and measure of variability (range, variance, standard deviation). In addition to those measures, find the min, max, count, percentile, and frequency distribution of the sample. You can create a class called Statistics and create all the functions that do statistical calculations as methods for the Statistics class. Check the output below."
   ]
  },
  {
   "cell_type": "code",
   "execution_count": 15,
   "metadata": {},
   "outputs": [
    {
     "ename": "NameError",
     "evalue": "name 'data' is not defined",
     "output_type": "error",
     "traceback": [
      "\u001b[1;31m---------------------------------------------------------------------------\u001b[0m",
      "\u001b[1;31mNameError\u001b[0m                                 Traceback (most recent call last)",
      "Cell \u001b[1;32mIn[15], line 3\u001b[0m\n\u001b[0;32m      1\u001b[0m ages \u001b[38;5;241m=\u001b[39m [\u001b[38;5;241m31\u001b[39m, \u001b[38;5;241m26\u001b[39m, \u001b[38;5;241m34\u001b[39m, \u001b[38;5;241m37\u001b[39m, \u001b[38;5;241m27\u001b[39m, \u001b[38;5;241m26\u001b[39m, \u001b[38;5;241m32\u001b[39m, \u001b[38;5;241m32\u001b[39m, \u001b[38;5;241m26\u001b[39m, \u001b[38;5;241m27\u001b[39m, \u001b[38;5;241m27\u001b[39m, \u001b[38;5;241m24\u001b[39m, \u001b[38;5;241m32\u001b[39m, \u001b[38;5;241m33\u001b[39m, \u001b[38;5;241m27\u001b[39m, \u001b[38;5;241m25\u001b[39m, \u001b[38;5;241m26\u001b[39m, \u001b[38;5;241m38\u001b[39m, \u001b[38;5;241m37\u001b[39m, \u001b[38;5;241m31\u001b[39m, \u001b[38;5;241m34\u001b[39m, \u001b[38;5;241m24\u001b[39m, \u001b[38;5;241m33\u001b[39m, \u001b[38;5;241m29\u001b[39m, \u001b[38;5;241m26\u001b[39m]\n\u001b[1;32m----> 3\u001b[0m \u001b[38;5;28mprint\u001b[39m(\u001b[38;5;124m'\u001b[39m\u001b[38;5;124mCount:\u001b[39m\u001b[38;5;124m'\u001b[39m, \u001b[43mdata\u001b[49m\u001b[38;5;241m.\u001b[39mcount()) \u001b[38;5;66;03m# 25\u001b[39;00m\n\u001b[0;32m      4\u001b[0m \u001b[38;5;28mprint\u001b[39m(\u001b[38;5;124m'\u001b[39m\u001b[38;5;124mSum: \u001b[39m\u001b[38;5;124m'\u001b[39m, data\u001b[38;5;241m.\u001b[39msum()) \u001b[38;5;66;03m# 744\u001b[39;00m\n\u001b[0;32m      5\u001b[0m \u001b[38;5;28mprint\u001b[39m(\u001b[38;5;124m'\u001b[39m\u001b[38;5;124mMin: \u001b[39m\u001b[38;5;124m'\u001b[39m, data\u001b[38;5;241m.\u001b[39mmin()) \u001b[38;5;66;03m# 24\u001b[39;00m\n",
      "\u001b[1;31mNameError\u001b[0m: name 'data' is not defined"
     ]
    }
   ],
   "source": [
    "ages = [31, 26, 34, 37, 27, 26, 32, 32, 26, 27, 27, 24, 32, 33, 27, 25, 26, 38, 37, 31, 34, 24, 33, 29, 26]\n",
    "\n",
    "print('Count:', data.count()) # 25\n",
    "print('Sum: ', data.sum()) # 744\n",
    "print('Min: ', data.min()) # 24\n",
    "print('Max: ', data.max()) # 38\n",
    "print('Range: ', data.range()) # 14\n",
    "print('Mean: ', data.mean()) # 30\n",
    "print('Median: ', data.median()) # 29\n",
    "print('Mode: ', data.mode()) # {'mode': 26, 'count': 5}\n",
    "print('Standard Deviation: ', data.std()) # 4.2\n",
    "print('Variance: ', data.var()) # 17.5\n",
    "print('Frequency Distribution: ', data.freq_dist()) # [(20.0, 26), (16.0, 27), (12.0, 32), (8.0, 37), (8.0, 34), (8.0, 33), (8.0, 31), (8.0, 24), (4.0, 38), (4.0, 29), (4.0, 25)]\n",
    "\n"
   ]
  },
  {
   "cell_type": "markdown",
   "metadata": {},
   "source": [
    "#### Exercises: Level 2\n",
    "\n",
    ">Create a class called PersonAccount. It has firstname, lastname, incomes, expenses properties and it has total_income, total_expense, account_info, add_income, add_expense and account_balance methods. Incomes is a set of incomes and its description. The same goes for expenses."
   ]
  },
  {
   "cell_type": "code",
   "execution_count": null,
   "metadata": {},
   "outputs": [],
   "source": []
  }
 ],
 "metadata": {
  "kernelspec": {
   "display_name": "base",
   "language": "python",
   "name": "python3"
  },
  "language_info": {
   "codemirror_mode": {
    "name": "ipython",
    "version": 3
   },
   "file_extension": ".py",
   "mimetype": "text/x-python",
   "name": "python",
   "nbconvert_exporter": "python",
   "pygments_lexer": "ipython3",
   "version": "3.12.7"
  }
 },
 "nbformat": 4,
 "nbformat_minor": 2
}

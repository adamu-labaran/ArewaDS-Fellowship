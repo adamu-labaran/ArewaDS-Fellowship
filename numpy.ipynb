{
 "cells": [
  {
   "cell_type": "markdown",
   "metadata": {},
   "source": [
    "__OUTLINE__\n",
    "1. introduction to numpy\n",
    "2. array basics\n",
    "3. array vs list\n",
    "4. dot product\n",
    "5. speed test array vs list\n",
    "6. multidimentiional arrays (nd-array)\n",
    "7. array indexing/slicing/booleaan indexing\n",
    "8. reshape\n",
    "9. concatenation\n",
    "10. broadcasting\n",
    "11. (data science) function and axes\n",
    "12. daatatypes\n",
    "13. copying\n",
    "14. generating arrays\n",
    "15. random numbers\n",
    "16. linear algebra (np.linalg)\n",
    "- eigenvalues\n",
    "- solving linear system\n",
    "17. loading data from csv"
   ]
  },
  {
   "cell_type": "markdown",
   "metadata": {},
   "source": [
    "__NUMPY__\n",
    "- Numpy is core library for scientific computing in python\n",
    "- data science, machine learning, deep learning\n",
    "- scikit-learn, matplotlib, pandas\n",
    "\n",
    "- __High Performaance__ multidimentional array => __fast__\n",
    "- mathematical operations with arrays\n",
    "- a lot of code written in C"
   ]
  },
  {
   "cell_type": "markdown",
   "metadata": {},
   "source": [
    "__NUMPY USECASES__\n",
    "- Array/Matrix operation - linear algebraa\n",
    "- dot product\n",
    "- matrix multiplications\n",
    "- inverse, determinant\n",
    "- eigenvectors\n",
    "- random numbers\n",
    "- working with imaages represented as array"
   ]
  },
  {
   "cell_type": "code",
   "execution_count": 2,
   "metadata": {},
   "outputs": [
    {
     "name": "stdout",
     "output_type": "stream",
     "text": [
      "1.26.4\n",
      "the array of 'a' is: [1 2 3]\n",
      "the shape of 'a' is: (3,)\n",
      "the data type of 'a' is: int32\n",
      "the number of dimention in 'a' is: 1\n",
      "the size of 'a' is: 3\n",
      "the size of an item in 'a' is: 4\n"
     ]
    }
   ],
   "source": [
    "import numpy as np\n",
    "\n",
    "print(np.__version__)\n",
    "\n",
    "a  =np.array([1,2,3])\n",
    "print(f\"the array of 'a' is: {a}\")\n",
    "print(f\"the shape of 'a' is: {a.shape}\")\n",
    "print(f\"the data type of 'a' is: {a.dtype}\")\n",
    "print(f\"the number of dimention in 'a' is: {a.ndim}\")\n",
    "print(f\"the size of 'a' is: {a.size}\")\n",
    "print(f\"the size of an item in 'a' is: {a.itemsize}\")"
   ]
  },
  {
   "cell_type": "code",
   "execution_count": 3,
   "metadata": {},
   "outputs": [
    {
     "name": "stdout",
     "output_type": "stream",
     "text": [
      "[2 4 9]\n"
     ]
    }
   ],
   "source": [
    "# mathematical operation of numpy\n",
    "b = a * np.array([2,2,3])\n",
    "print(b)"
   ]
  },
  {
   "cell_type": "code",
   "execution_count": 4,
   "metadata": {},
   "outputs": [
    {
     "name": "stdout",
     "output_type": "stream",
     "text": [
      "[5 6 7]\n"
     ]
    }
   ],
   "source": [
    "c =  a + np.array([4,4,4])\n",
    "print(c)"
   ]
  },
  {
   "cell_type": "code",
   "execution_count": 5,
   "metadata": {},
   "outputs": [
    {
     "name": "stdout",
     "output_type": "stream",
     "text": [
      "[3 6 9]\n"
     ]
    }
   ],
   "source": [
    "a = a * 3\n",
    "print(a)"
   ]
  },
  {
   "cell_type": "code",
   "execution_count": 6,
   "metadata": {},
   "outputs": [
    {
     "name": "stdout",
     "output_type": "stream",
     "text": [
      "[1.73205081 2.44948974 3.        ]\n"
     ]
    }
   ],
   "source": [
    "a = np.sqrt(a)\n",
    "print(a)"
   ]
  },
  {
   "cell_type": "code",
   "execution_count": 7,
   "metadata": {},
   "outputs": [
    {
     "name": "stdout",
     "output_type": "stream",
     "text": [
      "[2.23606798 2.44948974 2.64575131]\n"
     ]
    }
   ],
   "source": [
    "c = np.sqrt(c)\n",
    "print(c)"
   ]
  },
  {
   "cell_type": "code",
   "execution_count": 8,
   "metadata": {},
   "outputs": [
    {
     "name": "stdout",
     "output_type": "stream",
     "text": [
      "32\n"
     ]
    }
   ],
   "source": [
    "# dot product: is the sum of product of corresponding entries\n",
    "l1 = [1,2,3]\n",
    "l2 = [4,5,6]\n",
    "a1 = np.array([l1])\n",
    "a2 = np.array([l2])\n",
    "\n",
    "# product\n",
    "dot = 0\n",
    "for i in range(len(l1)):\n",
    "    dot += l1[i] * l2[i]\n",
    "print(dot)"
   ]
  },
  {
   "cell_type": "code",
   "execution_count": null,
   "metadata": {},
   "outputs": [],
   "source": [
    "dot = a1 + a2 "
   ]
  }
 ],
 "metadata": {
  "kernelspec": {
   "display_name": "base",
   "language": "python",
   "name": "python3"
  },
  "language_info": {
   "codemirror_mode": {
    "name": "ipython",
    "version": 3
   },
   "file_extension": ".py",
   "mimetype": "text/x-python",
   "name": "python",
   "nbconvert_exporter": "python",
   "pygments_lexer": "ipython3",
   "version": "3.12.7"
  }
 },
 "nbformat": 4,
 "nbformat_minor": 2
}

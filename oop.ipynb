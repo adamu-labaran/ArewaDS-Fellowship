{
 "cells": [
  {
   "cell_type": "markdown",
   "metadata": {},
   "source": [
    "# chapter 9 CLASSES\n",
    "\n",
    ">Making an object from a class is called instantiation, and you work with instances of a class.\n",
    "\n",
    ">Learning about object-oriented programming will help you see the world as a programmer does. It’ll help you understand your code—not just what’s happening line by line, but also the bigger concepts behind it. Knowing the logic behind classes will train you to think logically, so you can write programs that effectively address almost any problem you encounter\n",
    "\n",
    ">Classes also make life easier for you and the other programmers you’ll work with as you take on increasingly complex challenges. \n",
    ">When you and other programmers write code based on the same kind of logic, you’ll be able to understand each other’s work.\n",
    "> Your programs will make sense to the people you work with, allowing everyone to accomplish more."
   ]
  },
  {
   "cell_type": "markdown",
   "metadata": {},
   "source": [
    "### Creating and Using a Class\n",
    "***\n",
    "#### Creating the Dog Class\n",
    ">Each instance created from the Dog class will store a name and an age, and we’ll give each dog the ability to sit() and roll_over():\n",
    "***"
   ]
  },
  {
   "cell_type": "code",
   "execution_count": 1,
   "metadata": {},
   "outputs": [],
   "source": [
    "class Dog:\n",
    "    \"\"\"A simple attempt to model a dog.\"\"\"\n",
    "    \n",
    "    def __init__(self, name, age):\n",
    "        \"\"\"Initialize name and age attributes.\"\"\"\n",
    "        self.name = name\n",
    "        self.age = age\n",
    "        \n",
    "    def sit(self):\n",
    "        \"\"\"Simulate a dog sitting in response to a command.\"\"\"\n",
    "        print(f\"{self.name} is now sitting.\")\n",
    "        \n",
    "    def roll_over(self):\n",
    "        \"\"\"Simulate rolling over in response to a command.\"\"\"\n",
    "        print(f\"{self.name} rolled over!\")"
   ]
  },
  {
   "cell_type": "markdown",
   "metadata": {},
   "source": [
    "### class in details\n",
    ">We first define a class called Dog. By convention, capitalized names refer to classesin Python. There are no parentheses in the class definition because we’re creating this class from scratch. We then write a docstring describing what this class does."
   ]
  },
  {
   "cell_type": "markdown",
   "metadata": {},
   "source": [
    "### The __init__() Method\n",
    ">The __init__() method 2 is a special method that Python runs automatically whenever we create a new instance based on the Dog class. \n",
    "\n",
    ">This method has two leading underscores and two trailing underscores, a convention that helps prevent Python’s default method names from conflicting with your method names.\n",
    "\n",
    "> Make sure to use two underscores on each side of __init__(). If you use just one on each side, the method won’t be called automatically when you use your class, which can result in errors that are difficult to identify"
   ]
  },
  {
   "cell_type": "code",
   "execution_count": null,
   "metadata": {},
   "outputs": [],
   "source": []
  },
  {
   "cell_type": "code",
   "execution_count": 1,
   "metadata": {},
   "outputs": [],
   "source": [
    "class Dog:\n",
    "    \"\"\"creating dog model with simple sitting and roll over behaviour\"\"\"\n",
    "    def __init__(self, name, age):\n",
    "        self.name = name\n",
    "        self.age = age"
   ]
  },
  {
   "cell_type": "markdown",
   "metadata": {},
   "source": [
    "### Making an Instance from a Class\n",
    ">Think of a class as a set of instructions for how to make an instance. The Dog class is a set of instructions that tells Python how to make individual instances representing specific dogs."
   ]
  },
  {
   "cell_type": "markdown",
   "metadata": {},
   "source": [
    "### The __init__() method\n",
    ">creates an instance representing this particular dog and sets the name and age attributes using the values we provided. Python then returns an instance representing this dog. We assign that instance to the variable my_dog. The naming convention is helpful here; we can usually assume that a capitalized name like Dog refers to a class, and a lowercase name like my_dog refers to a single instance created from a class."
   ]
  },
  {
   "cell_type": "code",
   "execution_count": 2,
   "metadata": {},
   "outputs": [
    {
     "name": "stdout",
     "output_type": "stream",
     "text": [
      "My dog name is {my_dog.name}\n",
      "my dog aage is 6\n"
     ]
    }
   ],
   "source": [
    "my_dog = Dog(\"Willies\", 6)\n",
    "print(\"My dog name is {my_dog.name}\")\n",
    "print(f\"my dog aage is {my_dog.age}\")"
   ]
  },
  {
   "cell_type": "code",
   "execution_count": 20,
   "metadata": {},
   "outputs": [
    {
     "name": "stdout",
     "output_type": "stream",
     "text": [
      "My cat name is Yesmi and it weigh 2 pound\n"
     ]
    }
   ],
   "source": [
    "class Cat:\n",
    "    \"\"\"cat model that simulate meow and posture\"\"\"\n",
    "    def __init__(self, name, weight):\n",
    "        self.name = name\n",
    "        self.weight = weight\n",
    "        \n",
    "    # sound method\n",
    "    def make_sound(self):\n",
    "        \"\"\"simulating of a cat\"\"\"\n",
    "        print(\"My cat is crying meow\")\n",
    "        \n",
    "    # posture method\n",
    "    def posture(self):\n",
    "        \"\"\"posture simulation\"\"\"\n",
    "        print(\"my cat is meditating\")\n",
    "            \n",
    "# creating instance of a cat\n",
    "my_cat = Cat(\"Yesmi\", 2)\n",
    "print(f\"My cat name is {my_cat.name} and it weigh {my_cat.weight} pound\")\n",
    "        \n",
    "    "
   ]
  },
  {
   "cell_type": "code",
   "execution_count": 4,
   "metadata": {},
   "outputs": [
    {
     "name": "stdout",
     "output_type": "stream",
     "text": [
      "Tsula, 15\n"
     ]
    }
   ],
   "source": [
    "# creaating a monkey class\n",
    "class Monkey:\n",
    "    def __init__(self, name, age):\n",
    "        self.name = name\n",
    "        self.age = age\n",
    "\n",
    "\n",
    "# creating instance of a class\n",
    "tsula = Monkey(\"Tsula\", 15)\n",
    "print(f\"{tsula.name}, {tsula.age}\")"
   ]
  },
  {
   "cell_type": "markdown",
   "metadata": {},
   "source": [
    "### Accessing Attributes\n",
    ">To access the attributes of an instance, you use dot notation. We access the value of my_dog’s attribute name 2 by writing"
   ]
  },
  {
   "cell_type": "markdown",
   "metadata": {},
   "source": [
    ">value of my_dog’s attribute name 2 by writing:\n",
    "***\n",
    "my_dog.name\n",
    "***\n",
    ">Dot notation is used often in Python. This syntax demonstrates how Python finds an attribute’s value. Here, Python looks at the instance my_dog and then finds the attribute name associated with my_dog. This is the same attribute referred to as self.name in the class Dog. We use the same approach to work with the attribute age.\n",
    "\n",
    ">The output is a summary of what we know about my_dog:\n",
    "***\n",
    "My dog's name is Willie.\n",
    "My dog is 6 years old.\n",
    "***"
   ]
  },
  {
   "cell_type": "code",
   "execution_count": 5,
   "metadata": {},
   "outputs": [
    {
     "data": {
      "text/plain": [
       "'Willies'"
      ]
     },
     "execution_count": 5,
     "metadata": {},
     "output_type": "execute_result"
    }
   ],
   "source": [
    "my_dog.name"
   ]
  },
  {
   "cell_type": "code",
   "execution_count": 6,
   "metadata": {},
   "outputs": [
    {
     "data": {
      "text/plain": [
       "'Tsula'"
      ]
     },
     "execution_count": 6,
     "metadata": {},
     "output_type": "execute_result"
    }
   ],
   "source": [
    "tsula.name"
   ]
  },
  {
   "cell_type": "code",
   "execution_count": 9,
   "metadata": {},
   "outputs": [
    {
     "data": {
      "text/plain": [
       "'Yesmi'"
      ]
     },
     "execution_count": 9,
     "metadata": {},
     "output_type": "execute_result"
    }
   ],
   "source": [
    "my_cat.name"
   ]
  },
  {
   "cell_type": "code",
   "execution_count": 10,
   "metadata": {},
   "outputs": [
    {
     "data": {
      "text/plain": [
       "2"
      ]
     },
     "execution_count": 10,
     "metadata": {},
     "output_type": "execute_result"
    }
   ],
   "source": [
    "my_cat.weight"
   ]
  },
  {
   "cell_type": "code",
   "execution_count": 11,
   "metadata": {},
   "outputs": [
    {
     "data": {
      "text/plain": [
       "15"
      ]
     },
     "execution_count": 11,
     "metadata": {},
     "output_type": "execute_result"
    }
   ],
   "source": [
    "tsula.age"
   ]
  },
  {
   "cell_type": "markdown",
   "metadata": {},
   "source": [
    "### Calling Methods\n",
    ">After we create an instance from the class Dog, we can use dot notation to call any method defined in Dog. Let’s make our dog sit and roll over:"
   ]
  },
  {
   "cell_type": "code",
   "execution_count": 12,
   "metadata": {},
   "outputs": [
    {
     "name": "stdout",
     "output_type": "stream",
     "text": [
      "Willies is now sitting.\n",
      "Willies rolled over!\n"
     ]
    }
   ],
   "source": [
    "my_dog.sit()\n",
    "my_dog.roll_over()"
   ]
  },
  {
   "cell_type": "code",
   "execution_count": 21,
   "metadata": {},
   "outputs": [
    {
     "name": "stdout",
     "output_type": "stream",
     "text": [
      "My cat is crying meow\n"
     ]
    }
   ],
   "source": [
    "my_cat.make_sound()"
   ]
  },
  {
   "cell_type": "code",
   "execution_count": 19,
   "metadata": {},
   "outputs": [
    {
     "name": "stdout",
     "output_type": "stream",
     "text": [
      "my cat is meditating\n"
     ]
    }
   ],
   "source": [
    "my_cat.posture()"
   ]
  },
  {
   "cell_type": "markdown",
   "metadata": {},
   "source": [
    ">To call a method, give the name of the instance (in this case, my_dog) and the method you want to call, separated by a dot. When Python reads my_dog.sit(), it looks for the method sit() in the class Dog and runs that code. Python interprets the line my_dog.roll_over() in the same way.\n",
    "\n",
    ">Now Willie does what we tell him to:\n",
    "***\n",
    "Willie is now sitting.\n",
    "\n",
    "Willie rolled over!\n",
    "***\n",
    ">This syntax is quite useful. When attributes and methods have been given appropriately descriptive names like name, age, sit(), and roll_over(), we can easily infer what a block of code, even one we’ve never seen before, is supposed to do."
   ]
  },
  {
   "cell_type": "code",
   "execution_count": 28,
   "metadata": {},
   "outputs": [
    {
     "name": "stdout",
     "output_type": "stream",
     "text": [
      "Willies is now sitting.\n",
      "\n",
      "Willies rolled over!\n"
     ]
    }
   ],
   "source": [
    "my_dog.sit()\n",
    "print() # creating next line between the first method and the second method\n",
    "my_dog.roll_over()"
   ]
  },
  {
   "cell_type": "markdown",
   "metadata": {},
   "source": [
    "### Creating Multiple Instances\n",
    ">You can create as many instances from a class as you need. Let’s create a second dog called your_dog:"
   ]
  },
  {
   "cell_type": "code",
   "execution_count": 29,
   "metadata": {},
   "outputs": [],
   "source": [
    "your_dog = Dog('Lucy', 3)\n",
    "dad_dog = Dog(\"Jakie\", 6)\n",
    "bro_dog = Dog(\"Dummie\", 1)\n",
    "zahra_dog = Dog(\"popy\", 0.6)"
   ]
  },
  {
   "cell_type": "code",
   "execution_count": 33,
   "metadata": {},
   "outputs": [
    {
     "data": {
      "text/plain": [
       "'Lucy'"
      ]
     },
     "execution_count": 33,
     "metadata": {},
     "output_type": "execute_result"
    }
   ],
   "source": [
    "# calling instances\n",
    "your_dog.name\n"
   ]
  },
  {
   "cell_type": "code",
   "execution_count": 32,
   "metadata": {},
   "outputs": [
    {
     "data": {
      "text/plain": [
       "'Jakie'"
      ]
     },
     "execution_count": 32,
     "metadata": {},
     "output_type": "execute_result"
    }
   ],
   "source": [
    "dad_dog.name"
   ]
  },
  {
   "cell_type": "code",
   "execution_count": 36,
   "metadata": {},
   "outputs": [
    {
     "name": "stdout",
     "output_type": "stream",
     "text": [
      "My dog's name is Willies.\n",
      "My dog is 6 years old.\n",
      "Willies is now sitting.\n",
      "\n",
      "Your dog's name is Lucy.\n",
      "Your dog is 3 years old.\n",
      "Lucy is now sitting.\n"
     ]
    }
   ],
   "source": [
    "print(f\"My dog's name is {my_dog.name}.\")\n",
    "print(f\"My dog is {my_dog.age} years old.\")\n",
    "my_dog.sit()\n",
    "\n",
    "print(f\"\\nYour dog's name is {your_dog.name}.\")\n",
    "print(f\"Your dog is {your_dog.age} years old.\")\n",
    "your_dog.sit()"
   ]
  },
  {
   "cell_type": "markdown",
   "metadata": {},
   "source": [
    "### TRY IT YOURSELF\n",
    ">9-1. Restaurant: Make a class called Restaurant. The __init__() method for Restaurant should store two attributes: a restaurant_name and a cuisine_type. Make a method called describe_restaurant() that prints these two pieces of information, and a method called open_restaurant() that prints  message indicating that the restaurant is open. Make an instance called restaurant from your class. Print the two attributes individually, and then call both methods.\n",
    "\n",
    ">9-2. Three Restaurants: Start with your class from Exercise 9-1. Create three different instances from the class, and call describe_restaurant() for each instance.\n",
    "\n",
    ">9-3. Users: Make a class called User. Create two attributes called first_name and last_name, and then create several other attributes that are typically stored in a user profile. Make a method called describe_user() that prints a summary of the user’s information. Make another method called greet_user() that prints a personalized greeting to the user. Create several instances representing different users, and call both methods for each user."
   ]
  },
  {
   "cell_type": "code",
   "execution_count": null,
   "metadata": {},
   "outputs": [],
   "source": []
  },
  {
   "cell_type": "markdown",
   "metadata": {},
   "source": [
    "### Working with Classes and Instances\n",
    ">You can use classes to represent many real-world situations. Once you write a class, you’ll spend most of your time working with instances created from that class. One of the first tasks you’ll want to do is modify the attributes associated with a particular instance. You can modify the attributes of an instance directly or write methods that update attributes in specific ways. \n",
    "####  The Car Class\n",
    ">Let’s write a new class representing a car. Our class will store information about the kind of car we’re working with, and it will have a method that summarizes this information:"
   ]
  },
  {
   "cell_type": "code",
   "execution_count": 48,
   "metadata": {},
   "outputs": [],
   "source": [
    "class Car:\n",
    "    \"\"\"A simple attempt to represent a car\"\"\"\n",
    "    def __init__(self, make, model, year):\n",
    "       \"\"\"Initialize attributes to describe a car\"\"\"\n",
    "       self.make = make\n",
    "       self.model = model\n",
    "       self.year = year\n",
    "       \n",
    "    def get_descriptive_name(self):\n",
    "        long_name = f\"{self.make} {self.model} {self.year}\"\n",
    "        return long_name.title()\n"
   ]
  },
  {
   "cell_type": "code",
   "execution_count": 49,
   "metadata": {},
   "outputs": [
    {
     "name": "stdout",
     "output_type": "stream",
     "text": [
      "Audi A4 2024\n"
     ]
    }
   ],
   "source": [
    "my_new_car = Car('audi', 'a4', 2024)\n",
    "print(my_new_car.get_descriptive_name())"
   ]
  },
  {
   "cell_type": "code",
   "execution_count": 50,
   "metadata": {},
   "outputs": [
    {
     "data": {
      "text/plain": [
       "'Brand: Samsung | Model: Galaxy S7 | Year: 2020'"
      ]
     },
     "execution_count": 50,
     "metadata": {},
     "output_type": "execute_result"
    }
   ],
   "source": [
    "# working on mobile phones model\n",
    "class Phones:\n",
    "    \"\"\"Mobile phones model\"\"\"\n",
    "    def __init__(self,model, brand, year):\n",
    "        self.model = model\n",
    "        self.brand = brand\n",
    "        self.year = year\n",
    "        \n",
    "    # method to return phone detail\n",
    "    def phone_details(self):\n",
    "        mobile_phone = f\"Brand: {self.brand} | Model: {self.model} | Year: {self.year}\"\n",
    "        return mobile_phone\n",
    "    \n",
    "samsung = Phones(\"Galaxy S7\", \"Samsung\", 2020)\n",
    "samsung.phone_details()"
   ]
  },
  {
   "cell_type": "markdown",
   "metadata": {},
   "source": [
    "### To make the class more interesting, let’s add an attribute that changes\n",
    ">over time. We’ll add an attribute that stores the car’s overall mileage. Setting a Default Value for an Attribute When an instance is created, attributes can be defined without being passed in as parameters. These attributes can be defined in the __init__() method, where they are assigned a default value. Let’s add an attribute called odometer_reading that always starts with a value of 0. We’ll also add a method read_odometer() that helps  us read each car’s odometer:"
   ]
  },
  {
   "cell_type": "code",
   "execution_count": 53,
   "metadata": {},
   "outputs": [
    {
     "name": "stdout",
     "output_type": "stream",
     "text": [
      "Audi A4 2024\n",
      "This car has 0 miles on it.\n"
     ]
    }
   ],
   "source": [
    "class Car:\n",
    "    \"\"\"A simple attempt to represent a car\"\"\"\n",
    "    def __init__(self, make, model, year):\n",
    "       \"\"\"Initialize attributes to describe a car\"\"\"\n",
    "       self.make = make\n",
    "       self.model = model\n",
    "       self.year = year\n",
    "       self.odometer_reading =  0\n",
    "       \n",
    "    def get_descriptive_name(self):\n",
    "        long_name = f\"{self.make} {self.model} {self.year}\"\n",
    "        return long_name.title()\n",
    "\n",
    "    def read_odometer(self):\n",
    "        \"\"\"print a statement showing the car's mileage\"\"\"\n",
    "        print(f\"This car has {self.odometer_reading} miles on it.\")\n",
    "        \n",
    "my_new_car = Car('audi', 'a4', 2024)\n",
    "print(my_new_car.get_descriptive_name())\n",
    "my_new_car.read_odometer()"
   ]
  },
  {
   "cell_type": "markdown",
   "metadata": {},
   "source": [
    ">Not many cars are sold with exactly 0 miles on the odometer, so we need a way to change the value of this attribute.\n",
    "\n",
    "### Modifying Attribute Values\n",
    ">You can change an attribute’s value in three ways: you can change the value irectly through an instance, set the value through a method, or increment the value (add a certain amount to it) through a method. Let’s look at each of these approaches. \n",
    "\n",
    "### Modifying an Attribute’s Value Directly\n",
    ">The simplest way to modify the value of an attribute is to access the attribute directly through an instance. Here we set the odometer reading to 23 directly:"
   ]
  },
  {
   "cell_type": "code",
   "execution_count": 1,
   "metadata": {},
   "outputs": [
    {
     "name": "stdout",
     "output_type": "stream",
     "text": [
      "Audi A4 2024\n",
      "This car has 0 miles on it.\n",
      "This car has 23 miles on it.\n"
     ]
    }
   ],
   "source": [
    "class Car:\n",
    "    \"\"\"A simple attempt to represent a car\"\"\"\n",
    "    def __init__(self, make, model, year):\n",
    "       \"\"\"Initialize attributes to describe a car\"\"\"\n",
    "       self.make = make\n",
    "       self.model = model\n",
    "       self.year = year\n",
    "       self.odometer_reading =  0\n",
    "       \n",
    "    def get_descriptive_name(self):\n",
    "        long_name = f\"{self.make} {self.model} {self.year}\"\n",
    "        return long_name.title()\n",
    "\n",
    "    def read_odometer(self):\n",
    "        \"\"\"print a statement showing the car's mileage\"\"\"\n",
    "        print(f\"This car has {self.odometer_reading} miles on it.\")\n",
    "\n",
    "        \n",
    "my_new_car = Car('audi', 'a4', 2024) # car instance\n",
    "print(my_new_car.get_descriptive_name())\n",
    "my_new_car.read_odometer() # read odormeter with default value from init method\n",
    "\n",
    "my_new_car.odometer_reading = 23 # updating odometer reading\n",
    "my_new_car.read_odometer()"
   ]
  },
  {
   "cell_type": "markdown",
   "metadata": {},
   "source": [
    "### We use dot notation to access the car’s odometer_reading attribute, and\n",
    ">set its value directly. This line tells Python to take the instance my_new_car, find the attribute odometer_reading associated with it, and set the value of that attribute to 23:\n",
    "\n",
    ">Sometimes you’ll want to access attributes directly like this, but other times you’ll want to write a method that updates the value for you.\n",
    "\n",
    "### Modifying an Attribute’s Value Through a Method\n",
    ">It can be helpful to have methods that update certain attributes for you. Instead of accessing the attribute directly, you pass the new value to a method that handles the updating internally"
   ]
  },
  {
   "cell_type": "code",
   "execution_count": 8,
   "metadata": {},
   "outputs": [
    {
     "name": "stdout",
     "output_type": "stream",
     "text": [
      "Pet Name: Zomo | Pet Class: Mammals | Pet Age: 2\n",
      "Pet Name: Zomo | Pet Class: Mammals | Pet Age: 2\n",
      "Pet Name: Zomo | Pet Class: Mammals | Pet Age: 2\n",
      "Pet Name: Zomo | Pet Class: Mammals | Pet Age: 2\n",
      "Pet Name: Zomo | Pet Class: Mammals | Pet Age: 2\n",
      "Pet Name: Zomo | Pet Class: Mammals | Pet Age: 2\n",
      "Pet Name: Zomo | Pet Class: Mammals | Pet Age: 2\n",
      "Pet Name: Zomo | Pet Class: Mammals | Pet Age: 2\n",
      "Pet Name: Zomo | Pet Class: Mammals | Pet Age: 2\n",
      "Pet Name: Zomo | Pet Class: Mammals | Pet Age: 2\n",
      "Pet Name: Zomo | Pet Class: Mammals | Pet Age: 2\n",
      "Pet Name: Zomo | Pet Class: Mammals | Pet Age: 2\n",
      "Pet Name: Zomo | Pet Class: Mammals | Pet Age: 2\n",
      "Pet Name: Zomo | Pet Class: Mammals | Pet Age: 2\n",
      "Pet Name: Zomo | Pet Class: Mammals | Pet Age: 2\n",
      "Pet Name: Zomo | Pet Class: Mammals | Pet Age: 2\n",
      "Pet Name: Zomo | Pet Class: Mammals | Pet Age: 2\n"
     ]
    }
   ],
   "source": [
    "# creating pet model\n",
    "class Pet:\n",
    "    \"\"\"creating a pet model\"\"\"\n",
    "    def __init__(self, name, age, pet_class):\n",
    "        self.name = name\n",
    "        self.age = age\n",
    "        self.pet_class = pet_class\n",
    "        \n",
    "    def pet_details(self):\n",
    "        \"\"\"this method work through a complete details regarding to secific pet\"\"\"\n",
    "        describing_pet = f\"Pet Name: {self.name} | Pet Class: {self.pet_class} | Pet Age: {self.age}\"\n",
    "        return describing_pet    \n",
    "    \n",
    "\n",
    "rabbit = Pet(\"Zomo\", 2,\"Mammals\")\n",
    "print(rabbit.pet_details())\n",
    "print(rabbit.pet_details())\n",
    "print(rabbit.pet_details())\n",
    "print(rabbit.pet_details())\n",
    "print(rabbit.pet_details())\n",
    "print(rabbit.pet_details())\n",
    "print(rabbit.pet_details())\n",
    "print(rabbit.pet_details())\n",
    "print(rabbit.pet_details())\n",
    "print(rabbit.pet_details())\n",
    "print(rabbit.pet_details())\n",
    "print(rabbit.pet_details())\n",
    "print(rabbit.pet_details())\n",
    "print(rabbit.pet_details())\n",
    "print(rabbit.pet_details())\n",
    "print(rabbit.pet_details())\n",
    "print(rabbit.pet_details())"
   ]
  },
  {
   "cell_type": "code",
   "execution_count": null,
   "metadata": {},
   "outputs": [],
   "source": []
  },
  {
   "cell_type": "markdown",
   "metadata": {},
   "source": [
    "# Modifying Attribute Values\n",
    ">You can change an attribute’s value in three ways: \n",
    "---\n",
    "1.  Instance\n",
    "2.  set a value through a method\n",
    "3. or increment the value by adding a certain value to it.\n",
    "---\n",
    ">you can change the value directly through an instance, set the value through a method, or increment the value (add a certain amount to it) through a method. Let’s look at each of these approaches. Modifying an Attribute’s Value Directly The simplest way to modify the value of an attribute is to access the attribute directly through an instance. Here we set the odometer reading to 23 directly:"
   ]
  },
  {
   "cell_type": "code",
   "execution_count": 10,
   "metadata": {},
   "outputs": [
    {
     "name": "stdout",
     "output_type": "stream",
     "text": [
      "Audi A4 2024\n",
      "This car has 0 miles on it.\n",
      "This car has 23 miles on it.\n"
     ]
    }
   ],
   "source": [
    "\"\"\"Modifying an Attribute’s Value Directly\n",
    "The simplest way to modify the value of an attribute is to access the attribute directly through an instance. Here we set the odometer reading to 23\n",
    "directly:\"\"\"\n",
    "\n",
    "class Car:\n",
    "    \"\"\"A simple attempt to represent a car\"\"\"\n",
    "    def __init__(self, make, model, year):\n",
    "       \"\"\"Initialize attributes to describe a car\"\"\"\n",
    "       self.make = make\n",
    "       self.model = model\n",
    "       self.year = year\n",
    "       self.odometer_reading =  0\n",
    "       \n",
    "    def get_descriptive_name(self):\n",
    "        long_name = f\"{self.make} {self.model} {self.year}\"\n",
    "        return long_name.title()\n",
    "\n",
    "    def read_odometer(self):\n",
    "        \"\"\"print a statement showing the car's mileage\"\"\"\n",
    "        print(f\"This car has {self.odometer_reading} miles on it.\")\n",
    "\n",
    "        \n",
    "my_new_car = Car('audi', 'a4', 2024) # car instance\n",
    "print(my_new_car.get_descriptive_name())\n",
    "\n",
    "my_new_car.read_odometer() # read odormeter with default value from init method\n",
    "my_new_car.odometer_reading = 23 # updating odometer reading directly through n instance\n",
    "my_new_car.read_odometer()"
   ]
  },
  {
   "cell_type": "markdown",
   "metadata": {},
   "source": [
    "# Modifying an Attribute’s Value Through a Method\n",
    ">It can be helpful to have methods that update certain attributes for you. Instead of accessing the attribute directly, you pass the new value to a ethod that handles the updating internally."
   ]
  },
  {
   "cell_type": "markdown",
   "metadata": {},
   "source": [
    "# Here’s an example showing a method called update_odometer():\n",
    "---\n",
    ">class Car:\n",
    "\n",
    "> --snip--\n",
    "\n",
    "> def update_odometer(self, mileage):\n",
    "\n",
    "> \"\"\"Set the odometer reading to the given value.\"\"\"\n",
    "\n",
    "> self.odometer_reading = mileage\n",
    "\n",
    ">my_new_car = Car('audi', 'a4', 2024)\n",
    "\n",
    ">print(my_new_car.get_descriptive_name())\n",
    "\n",
    ">my_new_car.update_odometer(23)\n",
    "\n",
    ">my_new_car.read_odometer()\n",
    "\n",
    ">The only modification to Car is the addition of update_odometer(). This method takes in a mileage value and assigns it to self.odometer_reading.\n",
    "\n",
    ">Using the my_new_car instance, we call update_odometer() with 23 as an argument 1. This sets the odometer reading to 23, and read_odometer() prints the reading:\n",
    "---\n",
    "\n",
    "2024 Audi A4\n",
    "\n",
    "This car has 23 miles on it.\n",
    "\n",
    "---\n",
    "\n",
    ">We can extend the method update_odometer() to do additional work every time the odometer reading is modified. Let’s add a little logic to make sure no one tries to roll back the odometer reading:"
   ]
  },
  {
   "cell_type": "code",
   "execution_count": 31,
   "metadata": {},
   "outputs": [
    {
     "name": "stdout",
     "output_type": "stream",
     "text": [
      "Audi A4 2024\n",
      "This car has 10 miles on it.\n"
     ]
    }
   ],
   "source": [
    "class Car:\n",
    "    \"\"\"A simple attempt to represent a car\"\"\"\n",
    "    def __init__(self, make, model, year):\n",
    "       \"\"\"Initialize attributes to describe a car\"\"\"\n",
    "       self.make = make\n",
    "       self.model = model\n",
    "       self.year = year\n",
    "       self.odometer_reading =  0 # setting a default value in the init method not as parameter\n",
    "       \n",
    "    def get_descriptive_name(self):\n",
    "        long_name = f\"{self.make} {self.model} {self.year}\"\n",
    "        return long_name.title()\n",
    "    \n",
    "    def read_odometer(self):\n",
    "        \"\"\"print a statement showing the car's mileage\"\"\"\n",
    "        print(f\"This car has {self.odometer_reading} miles on it.\")\n",
    "\n",
    "    def update_odometer(self, mileage): # updating default value inside of init method from update odometer method \n",
    "        \"\"\"setting a value directly inside of a method\"\"\"\n",
    "        \n",
    "        self.odometer_reading = mileage\n",
    "        print(f\"This car has {self.odometer_reading} miles on it.\")\n",
    "\n",
    "my_new_car = Car('audi', 'a4', 2024)\n",
    "print(my_new_car.get_descriptive_name())        \n",
    "my_new_car.update_odometer(10) # udating the value via method\n"
   ]
  },
  {
   "cell_type": "markdown",
   "metadata": {},
   "source": [
    "### We can extend the method update_odometer() to do additional work every\n",
    ">time the odometer reading is modified. Let’s add a little logic to make sure no one tries to roll back the odometer reading:"
   ]
  },
  {
   "cell_type": "code",
   "execution_count": 37,
   "metadata": {},
   "outputs": [
    {
     "name": "stdout",
     "output_type": "stream",
     "text": [
      "Audi A4 2024\n"
     ]
    },
    {
     "data": {
      "text/plain": [
       "' \\nNow update_odometer() checks that the new reading makes sense before\\nmodifying the attribute. If the value provided for mileage is greater than\\nor equal to the existing mileage, self.odometer_reading, you can update\\nthe odometer reading to the new mileage 1. If the new mileage is less\\nthan the existing mileage, you’ll get a warning that you can’t roll back an\\nodometer 2.\\n'"
      ]
     },
     "execution_count": 37,
     "metadata": {},
     "output_type": "execute_result"
    }
   ],
   "source": [
    "class Car:\n",
    "    \"\"\"A simple attempt to represent a car\"\"\"\n",
    "    def __init__(self, make, model, year):\n",
    "       \"\"\"Initialize attributes to describe a car\"\"\"\n",
    "       self.make = make\n",
    "       self.model = model\n",
    "       self.year = year\n",
    "       self.odometer_reading =  0 # setting a default value in the init method not as parameter\n",
    "       \n",
    "    def get_descriptive_name(self):\n",
    "        long_name = f\"{self.make} {self.model} {self.year}\"\n",
    "        return long_name.title()\n",
    "    \n",
    "    def read_odometer(self):\n",
    "        \"\"\"print a statement showing the car's mileage\"\"\"\n",
    "        print(f\"This car has {self.odometer_reading} miles on it.\")\n",
    "\n",
    "    def update_odometer(self, mileage): # updating default value inside of init method from update odometer method \n",
    "        \"\"\"\n",
    "        Set the odometer reading to the given value.\n",
    "        Reject the change if it attempts to roll the odometer back.\n",
    "        \"\"\"\n",
    "        if mileage >= self.odometer_reading:\n",
    "            self.odometer_reading = mileage\n",
    "        else:\n",
    "            print(f\"You cant roll back odormeter, because odometer has {self.odometer_reading} miles on it.\")\n",
    "\n",
    "my_new_car.update_odometer(10) # udating the value via method\n",
    "my_new_car = Car('audi', 'a4', 2024)\n",
    "print(my_new_car.get_descriptive_name())        \n",
    "\n",
    "\n",
    "\"\"\" \n",
    "Now update_odometer() checks that the new reading makes sense before\n",
    "modifying the attribute. If the value provided for mileage is greater than\n",
    "or equal to the existing mileage, self.odometer_reading, you can update\n",
    "the odometer reading to the new mileage 1. If the new mileage is less\n",
    "than the existing mileage, you’ll get a warning that you can’t roll back an\n",
    "odometer 2.\n",
    "\"\"\"\n"
   ]
  },
  {
   "cell_type": "markdown",
   "metadata": {},
   "source": [
    "# Incrementing an Attribute’s Value Through a Method\n",
    ">Sometimes you’ll want to increment an attribute’s value by a certain amount, rather than set an entirely new value. Say we buy a used car and put 100 miles on it between the time we buy it and the time we register it. Here’s a method that allows us to pass this incremental amount and add that value to the odometer reading:"
   ]
  },
  {
   "cell_type": "code",
   "execution_count": 36,
   "metadata": {},
   "outputs": [
    {
     "name": "stdout",
     "output_type": "stream",
     "text": [
      "Subaru Outback 2019\n",
      "This car has 23500 miles on it.\n",
      "This car has 23500 miles on it.\n",
      "This car has 23600 miles on it.\n"
     ]
    }
   ],
   "source": [
    "class Car:\n",
    "    \"\"\"A simple attempt to represent a car\"\"\"\n",
    "    def __init__(self, make, model, year):\n",
    "       \"\"\"Initialize attributes to describe a car\"\"\"\n",
    "       self.make = make\n",
    "       self.model = model\n",
    "       self.year = year\n",
    "       self.odometer_reading =  0 # setting a default value in the init method not as parameter\n",
    "       \n",
    "    def get_descriptive_name(self):\n",
    "        long_name = f\"{self.make} {self.model} {self.year}\"\n",
    "        return long_name.title()\n",
    "    \n",
    "    def read_odometer(self):\n",
    "        \"\"\"print a statement showing the car's mileage\"\"\"\n",
    "        print(f\"This car has {self.odometer_reading} miles on it.\")\n",
    "\n",
    "    def update_odometer(self, mileage): # updating default value inside of init method from update odometer method \n",
    "        \"\"\"setting a value directly inside of a method\"\"\"        \n",
    "        self.odometer_reading = mileage\n",
    "        print(f\"This car has {self.odometer_reading} miles on it.\")\n",
    "        \n",
    "    def increment_odometer(self, miles): # Incrementing an Attribute’s Value Through a Method\n",
    "        \"\"\"Add the given amount to the odometer reading.\"\"\"\n",
    "        self.odometer_reading += miles\n",
    "        \n",
    "my_used_car = Car('subaru', 'outback', 2019)\n",
    "print(my_used_car.get_descriptive_name())\n",
    "\n",
    "my_used_car.update_odometer(23_500)\n",
    "my_used_car.read_odometer()\n",
    "\n",
    "my_used_car.increment_odometer(100)\n",
    "my_used_car.read_odometer()\n"
   ]
  },
  {
   "cell_type": "markdown",
   "metadata": {},
   "source": [
    "---\n",
    "\n",
    ">You can modify this method to reject negative increments so no one uses this function to roll back an odometer as well.\n",
    "\n",
    ">>NOTE You can use methods like this to control how users of your program update values such as an odometer reading, but anyone with access to the program can set the odometer reading to any value by accessing the attribute directly. Effective security takes extreme attention to detail in addition to basic checks like those shown here.\n",
    "\n",
    "---"
   ]
  },
  {
   "cell_type": "markdown",
   "metadata": {},
   "source": [
    "### TRY IT YOURSELF\n",
    ">9-4. Number Served: Start with your program from Exercise 9-1 (page 162). Add an attribute called number_served with a default value of 0. Create an instance called restaurant from this class. Print the number of customers the restaurant has served, and then change this value and print it again.\n",
    "\n",
    ">Add a method called set_number_served() that lets you set the number of customers that have been served. Call this method with a new number and print the value again. \n",
    "\n",
    ">Add a method called increment_number_served() that lets you increment the number of customers who’ve been served. Call this method with any number you like that could represent how many customers were served in, say, a day of business.\n",
    "\n",
    ">9-5. Login Attempts: Add an attribute called login_attempts to your User class from Exercise 9-3 (page 162). Write a method called increment_login_attempts() that increments the value of login_attempts by 1. Write another method called reset_login_attempts() that resets the value of login_attempts to 0.\n",
    "\n",
    ">Make an instance of the User class and call increment_login_attempts() several times. Print the value of login_attempts to make sure it was incremented properly, and then call reset_login_attempts(). Print login_attempts again to make sure it was reset to 0.\n"
   ]
  },
  {
   "cell_type": "markdown",
   "metadata": {},
   "source": [
    "## Inheritance\n",
    "\n",
    ">You don’t always have to start from scratch when writing a class. If the class you’re writing is a specialized version of another class you wrote, you can se inheritance. \n",
    "\n",
    ">When one class inherits from another, it takes on the attributes and methods of the first class. \n",
    "\n",
    ">The original class is called the parent class, and the new class is the child class. \n",
    "\n",
    ">The child class can inherit any or all of the attributes and methods of its parent class, but it’s also free to define new attributes and methods of its own."
   ]
  },
  {
   "cell_type": "markdown",
   "metadata": {},
   "source": [
    "### The __init__() Method for a Child Class\n",
    "\n",
    ">When you’re writing a new class based on an existing class, you’ll often want to call the __init__() method from the parent class. \n",
    "\n",
    ">This will initialize any attributes that were defined in the parent __init__() method and make them available in the child class.\n",
    "\n",
    ">As an example, let’s model an electric car. An electric car is just a specific kind of car, so we can base our new ElectricCar class on the Car class we wrote earlier. \n",
    "\n",
    ">Then we’ll only have to write code for the attributes and behaviors specific to electric cars. \n",
    "\n",
    ">Let’s start by making a simple version of the ElectricCar class, which does everything the Car class does:"
   ]
  },
  {
   "cell_type": "code",
   "execution_count": 3,
   "metadata": {},
   "outputs": [
    {
     "name": "stdout",
     "output_type": "stream",
     "text": [
      "2024 Nissan Leaf\n"
     ]
    }
   ],
   "source": [
    "class Car:\n",
    "    \"\"\"A simple attempt to represent a car.\"\"\"\n",
    "    def __init__(self, make, model, year):\n",
    "        \"\"\"Initialize attributes to describe a car\"\"\"\n",
    "        self.make = make\n",
    "        self.model = model\n",
    "        self.year = year\n",
    "        self.year = year\n",
    "        self.odometer_reading = 0\n",
    "        \n",
    "    def get_descriptive_name(self):\n",
    "        \"\"\"Return a neatly formatted descriptive name.\"\"\"\n",
    "        long_name = f\"{self.year} {self.make} {self.model}\"\n",
    "        return long_name.title()\n",
    "\n",
    "    def read_odometer(self):\n",
    "        \"\"\"Print a statement showing the car's mileage.\"\"\"\n",
    "        print(f\"This car has {self.odometer_reading} miles on it.\")\n",
    "        \n",
    "    def update_odometer(self, mileage):\n",
    "        \"\"\"Set the odometer reading to the given value.\"\"\"\n",
    "        if mileage >= self.odometer_reading: \n",
    "            self.odometer_reading = mileage \n",
    "        else: \n",
    "            print(\"You can't roll back an odometer!\")\n",
    "            \n",
    "    def increment_odometer(self, miles):\n",
    "        \"\"\"Add the given amount to the odometer reading.\"\"\"\n",
    "        self.odometer_reading += miles\n",
    "\n",
    "class ElectricCar(Car):\n",
    "    \"\"\"Represent aspects of a car, specific to electric vehicles.\"\"\"\n",
    "\n",
    "    def __init__(self, make, model, year):\n",
    "        \"\"\"Initialize attributes of the parent class.\"\"\"\n",
    "        super().__init__(make, model, year)\n",
    "        \n",
    "my_leaf = ElectricCar('nissan', 'leaf', 2024)\n",
    "print(my_leaf.get_descriptive_name())        "
   ]
  },
  {
   "cell_type": "markdown",
   "metadata": {},
   "source": [
    ">>We start with Car \n",
    ">1. When you create a child class, the parent class must be part of the current file and must appear before the child class in the file. We then define the child class, ElectricCar \n",
    ">2. The name of the parent class must be included in parentheses in the definition of a child class.\n",
    "\n",
    ">The __init__() method takes in the information required to make a Car instance \n",
    "\n",
    ">3. The super() function 4 is a special function that allows you to call a method from the parent class. This line tells Python to call the __init__() method from Car, which gives an ElectricCar instance all the attributes defined in that method. The name super comes from a convention of calling the parent class a superclass and the child class a subclass. \n",
    "\n",
    ">We test whether inheritance is working properly by trying to create an electric car with the same kind of information we’d provide when making a regular car. We make an instance of the ElectricCar class and assign it to my_leaf 5. This line calls the __init__() method defined in ElectricCar, which in turn tells Python to call the __init__() method defined in the parent class Car. We provide the arguments 'nissan', 'leaf', and 2024\n",
    "\n",
    ">Aside from __init__(), there are no attributes or methods yet that are particular to an electric car. At this point we’re just making sure the electric car has the appropriate Car behaviors:\n",
    "***\n",
    "2024 Nissan Leaf\n",
    "***\n",
    ">The ElectricCar instance works just like an instance of Car, so now we can begin defining attributes and methods specific to electric cars."
   ]
  },
  {
   "cell_type": "markdown",
   "metadata": {},
   "source": [
    "## Defining Attributes and Methods for the Child Class\n",
    ">Once you have a child class that inherits from a parent class, you can add any new attributes and methods necessary to differentiate the child class from the parent class. \n",
    "\n",
    ">Let’s add an attribute that’s specific to electric cars (a battery, for example) and a method to report on this attribute. We’ll store the battery size and write a method that prints a description of the battery:"
   ]
  },
  {
   "cell_type": "code",
   "execution_count": 12,
   "metadata": {},
   "outputs": [
    {
     "name": "stdout",
     "output_type": "stream",
     "text": [
      "Company: Nissan | Model: Leaf | Year: 2024\n",
      "This car has a 40-KWH battery\n"
     ]
    }
   ],
   "source": [
    "class Car:\n",
    "    \"\"\"A simple attempt to represent a car.\"\"\"\n",
    "    def __init__(self, make, model, year):\n",
    "        \"\"\"Initialize attributes to describe a car\"\"\"\n",
    "        self.make = make\n",
    "        self.model = model\n",
    "        self.year = year\n",
    "        self.year = year\n",
    "        self.odometer_reading = 0\n",
    "        \n",
    "    def get_descriptive_name(self):\n",
    "        \"\"\"Return a neatly formatted descriptive name.\"\"\"\n",
    "        long_name = f\"Company: {self.make} | Model: {self.model} | year: {self.year}\"\n",
    "        return long_name.title()\n",
    "\n",
    "    def read_odometer(self):\n",
    "        \"\"\"Print a statement showing the car's mileage.\"\"\"\n",
    "        print(f\"This car has {self.odometer_reading} miles on it.\")\n",
    "        \n",
    "    def update_odometer(self, mileage):\n",
    "        \"\"\"Set the odometer reading to the given value.\"\"\"\n",
    "        if mileage >= self.odometer_reading: \n",
    "            self.odometer_reading = mileage \n",
    "        else: \n",
    "            print(\"You can't roll back an odometer!\")\n",
    "            \n",
    "    def increment_odometer(self, miles):\n",
    "        \"\"\"Add the given amount to the odometer reading.\"\"\"\n",
    "        self.odometer_reading += miles\n",
    "   \n",
    "    def fill_gas_tank(self):\n",
    "        \"\"\"analysing gas consumption\"\"\"\n",
    "        return f\"your gas limit remains _ _ _ %\"\n",
    "        \n",
    "class ElectricCar(Car):\n",
    "    \"\"\"Represent aspects of a car, specific to electric vehicles.\"\"\"\n",
    "\n",
    "    def __init__(self, make, model, year):\n",
    "        \"\"\"\n",
    "        Initialize attributes of the parent class.\n",
    "        Then initialize attributes specific to an electric car.\n",
    "        \"\"\"\n",
    "        super().__init__(make, model, year)\n",
    "        self.battery_size = 40\n",
    "        \n",
    "    def describe_battery(self):\n",
    "        \"\"\"print statement describing battry size\"\"\"\n",
    "        print(f\"This car has a {self.battery_size}-KWH battery\")\n",
    "\n",
    "    def fill_gas_tank(self):\n",
    "        \"\"\"Electric cars don't have gas tanks.\"\"\"\n",
    "        print(\"This car doesn't have a gas tank!\")\n",
    "        \n",
    "my_leaf = ElectricCar('nissan', 'leaf', 2024)\n",
    "print(my_leaf.get_descriptive_name())   \n",
    "my_leaf.describe_battery() # calling a child method for battery desscription     "
   ]
  },
  {
   "cell_type": "markdown",
   "metadata": {},
   "source": [
    "# Defining Attributes and Methods for the Child Class\n",
    ">Once you have a child class that inherits from a parent class, you can add any new attributes and methods necessary to differentiate the child class from the parent class. \n",
    "\n",
    ">Let’s add an attribute that’s specific to electric cars (a battery, for example) and a method to report on this attribute. We’ll store the battery size and write a method that prints a description of the battery:"
   ]
  },
  {
   "cell_type": "code",
   "execution_count": 11,
   "metadata": {},
   "outputs": [
    {
     "name": "stdout",
     "output_type": "stream",
     "text": [
      "Company: Benz | Model: G-Wagon | Year: 2025\n",
      "This car has a 40-KWH battery.\n"
     ]
    }
   ],
   "source": [
    "class ElectricCar(Car):\n",
    "    \"\"\"represent aspects of a car, specific to electric vehicles.\"\"\"\n",
    "    def __init__(self, make, model, year):\n",
    "        \"\"\"Initilizing attribute of the parent class. Then initilize attribute specific to an electric car\"\"\"\n",
    "        super().__init__(make, model, year)\n",
    "        self.battery_size = 40\n",
    "        \n",
    "    def describe_batery(self):\n",
    "        \"\"\"Print a statement describing the battery size\"\"\"\n",
    "        print(f\"This car has a {self.battery_size}-KWH battery.\")\n",
    "    def fill_gas_tank(self):\n",
    "        \"\"\"Electric cars don't have gas tanks.\"\"\"\n",
    "        print(\"This car doesn't have a gas tank!\")\n",
    "my_leaf = ElectricCar(\"benz\", \"g-wagon\", 2025)\n",
    "print(my_leaf.get_descriptive_name())\n",
    "my_leaf.describe_batery()        \n",
    "    "
   ]
  },
  {
   "cell_type": "markdown",
   "metadata": {},
   "source": [
    "### Overriding Methods from the Parent Class\n",
    ">You can override any method from the parent class that doesn’t fit what you’re trying to model with the child class. To do this, you define a method in the child class with the same name as the method you want to override in the parent class. \n",
    "\n",
    ">Python will disregard the parent class method and only pay attention to the method you define in the child class. Say the class Car had a method called fill_gas_tank(). This method is meaningless for an all-electric vehicle, so you might want to override this method. Here’s one way to do that:\n",
    "----\n",
    "#### class ElectricCar(Car):\n",
    " \n",
    "    --snip--\n",
    " \n",
    "    def fill_gas_tank(self):\n",
    " \n",
    "    \"\"\"Electric cars don't have gas tanks.\"\"\"\n",
    " \n",
    "    print(\"This car doesn't have a gas tank!\")\n",
    "\n",
    "----\n",
    "\n",
    ">Now if someone tries to call fill_gas_tank() with an electric car, Python will ignore the method fill_gas_tank() in Car and run this code instead. When you use inheritance, you can make your child classes retain what you need and override anything you don’t need from the parent class."
   ]
  },
  {
   "cell_type": "code",
   "execution_count": 13,
   "metadata": {},
   "outputs": [
    {
     "name": "stdout",
     "output_type": "stream",
     "text": [
      "Company: Nissan | Model: Leaf | Year: 2024\n",
      "This car has a 40-KWH battery\n"
     ]
    }
   ],
   "source": [
    "class Car:\n",
    "    \"\"\"A simple attempt to represent a car.\"\"\"\n",
    "    def __init__(self, make, model, year):\n",
    "        \"\"\"Initialize attributes to describe a car\"\"\"\n",
    "        self.make = make\n",
    "        self.model = model\n",
    "        self.year = year\n",
    "        self.year = year\n",
    "        self.odometer_reading = 0\n",
    "        \n",
    "    def get_descriptive_name(self):\n",
    "        \"\"\"Return a neatly formatted descriptive name.\"\"\"\n",
    "        long_name = f\"Company: {self.make} | Model: {self.model} | year: {self.year}\"\n",
    "        return long_name.title()\n",
    "\n",
    "    def read_odometer(self):\n",
    "        \"\"\"Print a statement showing the car's mileage.\"\"\"\n",
    "        print(f\"This car has {self.odometer_reading} miles on it.\")\n",
    "        \n",
    "    def update_odometer(self, mileage):\n",
    "        \"\"\"Set the odometer reading to the given value.\"\"\"\n",
    "        if mileage >= self.odometer_reading: \n",
    "            self.odometer_reading = mileage \n",
    "        else: \n",
    "            print(\"You can't roll back an odometer!\")\n",
    "            \n",
    "    def increment_odometer(self, miles):\n",
    "        \"\"\"Add the given amount to the odometer reading.\"\"\"\n",
    "        self.odometer_reading += miles\n",
    "   \n",
    "    def fill_gas_tank(self):\n",
    "        \"\"\"analysing gas consumption\"\"\"\n",
    "        return f\"your gas limit remains _ _ _ %\"\n",
    "        \n",
    "class ElectricCar(Car):\n",
    "    \"\"\"Represent aspects of a car, specific to electric vehicles.\"\"\"\n",
    "\n",
    "    def __init__(self, make, model, year):\n",
    "        \"\"\"\n",
    "        Initialize attributes of the parent class.\n",
    "        Then initialize attributes specific to an electric car.\n",
    "        \"\"\"\n",
    "        super().__init__(make, model, year)\n",
    "        self.battery_size = 40\n",
    "        \n",
    "    def describe_battery(self):\n",
    "        \"\"\"print statement describing battry size\"\"\"\n",
    "        print(f\"This car has a {self.battery_size}-KWH battery\")\n",
    "\n",
    "    def fill_gas_tank(self):\n",
    "        \"\"\"Electric cars don't have gas tanks.\"\"\"\n",
    "        print(\"This car doesn't have a gas tank!\")\n",
    "        \n",
    "my_leaf = ElectricCar('nissan', 'leaf', 2024)\n",
    "print(my_leaf.get_descriptive_name())   \n",
    "my_leaf.describe_battery() # calling a child method for battery desscription     "
   ]
  },
  {
   "cell_type": "markdown",
   "metadata": {},
   "source": [
    "## Instances as Attributes\n",
    ">When modeling something from the real world in code, you may find that you’re adding more and more detail to a class. You’ll find that you have a growing list of attributes and methods and that your files are becoming lengthy. \n",
    ">In these situations, you might recognize that part of one class can be written as a separate class. \n",
    "\n",
    ">You can break your large class into smaller classes that work together; this approach is called composition.\n",
    "\n",
    ">For example, if we continue adding detail to the ElectricCar class, we might notice that we’re adding many attributes and methods specific to the car’s battery. \n",
    "\n",
    ">When we see this happening, we can stop and move those attributes and methods to a separate class called Battery. \n",
    "\n",
    ">Then we can use a Battery instance as an attribute in the ElectricCar class:"
   ]
  },
  {
   "cell_type": "code",
   "execution_count": 14,
   "metadata": {},
   "outputs": [],
   "source": [
    "class Battery:\n",
    "    \"\"\"A simple attempt to model a battery for an electric.\"\"\"\n",
    "    def __init__(self, battery_size=40):\n",
    "        \"\"\"Initialize battery size\"\"\"\n",
    "        self.battery_size = battery_size\n",
    "        \n",
    "    def describe_batttery(self):\n",
    "        \"\"\"print a staatement describing the battery size.\"\"\"\n",
    "        print(f\"This car has a {self.battery_size}-KWH battery\")\n"
   ]
  },
  {
   "cell_type": "code",
   "execution_count": 21,
   "metadata": {},
   "outputs": [
    {
     "name": "stdout",
     "output_type": "stream",
     "text": [
      "Company: Nissan | Model: Leaf | Year: 2024\n",
      "This car has a 40-KWH battery\n"
     ]
    }
   ],
   "source": [
    "\"\"\"\n",
    "Instead of having much attritube related to battery in the electric car class\n",
    "we create a class Battery and use the class Battery as an attribute in the electric car init method \n",
    "\"\"\"\n",
    "class Battery:\n",
    "    \"\"\"A simple attempt to model a battery for an electric.\"\"\"\n",
    "    def __init__(self, battery_size=40):\n",
    "        \"\"\"Initialize battery size\"\"\"\n",
    "        self.battery_size = battery_size\n",
    "        \n",
    "    def describe_battery(self):\n",
    "        \"\"\"print a staatement describing the battery size.\"\"\"\n",
    "        print(f\"This car has a {self.battery_size}-KWH battery\")\n",
    "\n",
    "\n",
    "class ElectricCar(Car):\n",
    "    \"\"\"Represent aspects of a car, specific to electric vehicles.\"\"\"\n",
    "\n",
    "    def __init__(self, make, model, year):\n",
    "        \"\"\"\n",
    "        Initialize attributes of the parent class.\n",
    "        Then initialize attributes specific to an electric car.\n",
    "        \"\"\"\n",
    "        super().__init__(make, model, year)\n",
    "        self.battery = Battery() # updating battery\n",
    "        \n",
    "    def describe_battery(self):\n",
    "        \"\"\"print statement describing battry size\"\"\"\n",
    "        print(f\"This car has a {self.battery_size}-KWH battery\")\n",
    "\n",
    "    def fill_gas_tank(self):\n",
    "        \"\"\"Electric cars don't have gas tanks.\"\"\"\n",
    "        print(\"This car doesn't have a gas tank!\")\n",
    "\n",
    "my_leaf = ElectricCar('nissan', 'leaf', 2024)\n",
    "print(my_leaf.get_descriptive_name())\n",
    "my_leaf.battery.describe_battery()"
   ]
  },
  {
   "cell_type": "markdown",
   "metadata": {},
   "source": [
    ">This looks like a lot of extra work, but now we can describe the battery in as much detail as we want without cluttering the ElectricCar class. \n",
    "\n",
    ">Let’s add another method to Battery that reports the range of the car based on the battery size:"
   ]
  },
  {
   "cell_type": "code",
   "execution_count": 28,
   "metadata": {},
   "outputs": [
    {
     "name": "stdout",
     "output_type": "stream",
     "text": [
      "Company: Nissan | Model: Leaf | Year: 2024\n",
      "This car has a 40-KWH battery\n",
      "This car can go about 150 miles on a full charge.\n"
     ]
    }
   ],
   "source": [
    "class Battery:\n",
    "    \"\"\"A simple attempt to model a battery for an electric.\"\"\"\n",
    "    def __init__(self, battery_size=40):\n",
    "        \"\"\"Initialize battery size\"\"\"\n",
    "        self.battery_size = battery_size\n",
    "        \n",
    "    def describe_battery(self):\n",
    "        \"\"\"print a staatement describing the battery size.\"\"\"\n",
    "        print(f\"This car has a {self.battery_size}-KWH battery\")\n",
    "\n",
    "    def get_range(self):\n",
    "        \"\"\"Print a statement about the range this battery provides.\"\"\"\n",
    "        if self.battery_size == 40:\n",
    "            range = 150\n",
    "        elif self.battery_size == 65:\n",
    "            range = 225\n",
    "        print(f\"This car can go about {range} miles on a full charge.\")\n",
    "my_leaf = ElectricCar('nissan', 'leaf', 2024)\n",
    "print(my_leaf.get_descriptive_name())\n",
    "my_leaf.battery.describe_battery()\n",
    "my_leaf.battery.get_range()"
   ]
  },
  {
   "cell_type": "markdown",
   "metadata": {},
   "source": [
    ">The new method get_range() performs some simple analysis. If the battery’s capacity is 40 kWh, get_range() sets the range to 150 miles, and if the capacity is 65 kWh, it sets the range to 225 miles. It then reports this value. When we want to use this method, we again have to call it through the car’s battery attribute 1. The output tells us the range of the car based on its battery size:"
   ]
  },
  {
   "cell_type": "markdown",
   "metadata": {},
   "source": [
    "## Modeling Real-World Objects\n",
    ">As you begin to model more complicated things like electric cars, you’ll wrestle with interesting questions. Is the range of an electric car a property of the battery or of the car? If we’re only describing one car, it’s probably fine to maintain the association of the method get_range() with the Battery class. But if we’re describing a manufacturer’s entire line of cars, we probably want to move get_range() to the ElectricCar class. \n",
    "\n",
    ">The get_range() method would still check the battery size before determining the range, but it would report a range specific to the kind of car it’s associated with. Alternatively, we could maintain the association of the get_range() method with the battery but pass it a parameter such as car_model. \n",
    "\n",
    ">The get_range() method would then report a range based on the battery size and car model. This brings you to an interesting point in your growth as a programmer. When you wrestle with questions like these, you’re thinking at a higher logical level rather than a syntax-focused level. You’re thinking not about Python, but about how to represent the real world in code. When you reach this point, you’ll realize there are often no right or wrong approaches to modeling real-world situations. Some approaches are more efficient than others, but it takes practice to find the most efficient representations. \n",
    "\n",
    ">If your code is working as you want it to, you’re doing well! Don’t be discouraged if you find you’re ripping apart your classes and rewriting them several times using different approaches. In the quest to write accurate, efficient code, everyone goes through this process. "
   ]
  },
  {
   "cell_type": "markdown",
   "metadata": {},
   "source": [
    "### TRY IT YOURSELF\n",
    ">9-6. Ice Cream Stand: An ice cream stand is a specific kind of restaurant. \n",
    "\n",
    ">Write a class called IceCreamStand that inherits from the Restaurant class you wrote in Exercise 9-1 (page 162) or Exercise 9-4 (page 166). Either version of the class will work; just pick the one you like better. \n",
    "\n",
    ">Add an attribute called flavors that stores a list of ice cream flavors. Write a method that displays these flavors. Create an instance of IceCreamStand, and call this method.\n",
    "\n",
    ">9-7. Admin: An administrator is a special kind of user. Write a class called Admin that inherits from the User class you wrote in Exercise 9-3 (page 162) or Exercise 9-5 (page 167). Add an attribute, privileges, that stores a list of strings like \"can add post\", \"can delete post\", \"can ban user\", and so on.\n",
    "\n",
    ">Write a method called show_privileges() that lists the administrator’s set of privileges. Create an instance of Admin, and call your method. \n",
    "\n",
    ">9-8. Privileges: Write a separate Privileges class. The class should have one attribute, privileges, that stores a list of strings as described in Exercise 9-7.\n",
    "\n",
    ">Move the show_privileges() method to this class. Make a Privileges instance as an attribute in the Admin class. Create a new instance of Admin and use your method to show its privileges.\n",
    "\n",
    ">9-9. Battery Upgrade: Use the final version of electric_car.py from this section. Add a method to the Battery class called upgrade_battery(). This method should check the battery size and set the capacity to 65 if it isn’t already. \n",
    "\n",
    ">Make an electric car with a default battery size, call get_range() once, and then call get_range() a second time after upgrading the battery. You should see an increase in the car’s range."
   ]
  },
  {
   "cell_type": "markdown",
   "metadata": {},
   "source": [
    "### Importing Classes\n",
    ">As you add more functionality to your classes, your files can get long, even when you use inheritance and composition properly. In keeping with the overall philosophy of Python, you’ll want to keep your files as uncluttered as possible. To help, Python lets ou store classes in modules and then import the classes you need into your main program."
   ]
  },
  {
   "cell_type": "markdown",
   "metadata": {},
   "source": [
    "### Importing a Single Class\n",
    ">Let’s create a module containing just the Car class. This brings up a subtle naming issue: we already have a file named car.py in this chapter, but this module should be named car.py because it contains code representing a car. We’ll resolve this naming issue by storing the Car class in a module named car.py, replacing the car.py file we were previously using. From now on, any program that uses this module will need a more specific filename, such as my_car.py. Here’s car.py with just the code from the class Car:"
   ]
  },
  {
   "cell_type": "code",
   "execution_count": 1,
   "metadata": {},
   "outputs": [
    {
     "name": "stdout",
     "output_type": "stream",
     "text": [
      "\n"
     ]
    }
   ],
   "source": [
    "print()\n",
    "\n"
   ]
  },
  {
   "cell_type": "code",
   "execution_count": null,
   "metadata": {},
   "outputs": [],
   "source": []
  },
  {
   "cell_type": "code",
   "execution_count": null,
   "metadata": {},
   "outputs": [],
   "source": []
  },
  {
   "cell_type": "code",
   "execution_count": null,
   "metadata": {},
   "outputs": [],
   "source": []
  }
 ],
 "metadata": {
  "kernelspec": {
   "display_name": "base",
   "language": "python",
   "name": "python3"
  },
  "language_info": {
   "codemirror_mode": {
    "name": "ipython",
    "version": 3
   },
   "file_extension": ".py",
   "mimetype": "text/x-python",
   "name": "python",
   "nbconvert_exporter": "python",
   "pygments_lexer": "ipython3",
   "version": "3.12.7"
  }
 },
 "nbformat": 4,
 "nbformat_minor": 2
}

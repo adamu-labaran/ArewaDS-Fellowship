{
 "cells": [
  {
   "cell_type": "markdown",
   "metadata": {},
   "source": [
    "# chapter 9 CLASSES\n",
    "\n",
    ">Making an object from a class is called instantiation, and you work with instances of a class.\n",
    "\n",
    ">Learning about object-oriented programming will help you see the world as a programmer does. It’ll help you understand your code—not just what’s happening line by line, but also the bigger concepts behind it. Knowing the logic behind classes will train you to think logically, so you can write programs that effectively address almost any problem you encounter\n",
    "\n",
    ">Classes also make life easier for you and the other programmers you’ll work with as you take on increasingly complex challenges. \n",
    ">When you and other programmers write code based on the same kind of logic, you’ll be able to understand each other’s work.\n",
    "> Your programs will make sense to the people you work with, allowing everyone to accomplish more."
   ]
  },
  {
   "cell_type": "markdown",
   "metadata": {},
   "source": [
    "### Creating and Using a Class\n",
    "***\n",
    "#### Creating the Dog Class\n",
    ">Each instance created from the Dog class will store a name and an age, and we’ll give each dog the ability to sit() and roll_over():\n",
    "***"
   ]
  },
  {
   "cell_type": "code",
   "execution_count": null,
   "metadata": {},
   "outputs": [],
   "source": [
    "class Dog:\n",
    "    \"\"\"A simple attempt to model a dog.\"\"\"\n",
    "    \n",
    "    def __init__(self, name, age):\n",
    "        \"\"\"Initialize name and age attributes.\"\"\"\n",
    "        self.name = name\n",
    "        self.age = age\n",
    "        \n",
    "    def sit(self):\n",
    "        \"\"\"Simulate a dog sitting in response to a command.\"\"\"\n",
    "        print(f\"{self.name} is now sitting.\")\n",
    "        \n",
    "    def roll_over(self):\n",
    "        \"\"\"Simulate rolling over in response to a command.\"\"\"\n",
    "        print(f\"{self.name} rolled over!\")"
   ]
  },
  {
   "cell_type": "markdown",
   "metadata": {},
   "source": [
    "### class in details\n",
    ">We first define a class called Dog. By convention, capitalized names refer to classesin Python. There are no parentheses in the class definition because we’re creating this class from scratch. We then write a docstring describing what this class does."
   ]
  },
  {
   "cell_type": "markdown",
   "metadata": {},
   "source": [
    "### The __init__() Method\n",
    ">The __init__() method 2 is a special method that Python runs automatically whenever we create a new instance based on the Dog class. \n",
    "\n",
    ">This method has two leading underscores and two trailing underscores, a convention that helps prevent Python’s default method names from conflicting with your method names.\n",
    "\n",
    "> Make sure to use two underscores on each side of __init__(). If you use just one on each side, the method won’t be called automatically when you use your class, which can result in errors that are difficult to identify"
   ]
  },
  {
   "cell_type": "code",
   "execution_count": null,
   "metadata": {},
   "outputs": [],
   "source": []
  }
 ],
 "metadata": {
  "language_info": {
   "name": "python"
  }
 },
 "nbformat": 4,
 "nbformat_minor": 2
}

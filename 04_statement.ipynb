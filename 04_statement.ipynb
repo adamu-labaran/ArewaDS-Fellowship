{
 "cells": [
  {
   "cell_type": "markdown",
   "metadata": {},
   "source": [
    "__[mastering conditions in python an overview](https://github.com/arewadataScience/30-Days-of-Python/blob/main/07_Module_Conditionals/07_conditionals.md)__"
   ]
  },
  {
   "cell_type": "markdown",
   "metadata": {},
   "source": [
    "__Pyton Crash Course by Eric Matthes__\n",
    "\n",
    "__5 I F   S T A T E M E N T S__\n",
    "\n",
    ">Programming often involves examining a set of conditions and deciding which action to take based on those conditions. \n",
    "\n",
    ">Python’s if statement allows you to examine the current state of a program and respond appro-priately to that state.\n",
    "\n",
    ">In this chapter, you’ll learn to write conditional tests, which allow you to check any condition of interest. \n",
    "\n",
    ">You’ll learn to write simple if statements, and you’ll learn how to create a more complex series of if statements to identify when the exact conditions you want are present. \n",
    "\n",
    ">You’ll then apply this concept to lists, so you’ll be able to write a for loop that handles most items in a list one way but handles certain items with specific values in a dif-ferent way."
   ]
  },
  {
   "cell_type": "markdown",
   "metadata": {},
   "source": [
    "__A Simple Example__\n",
    "\n",
    ">The following example shows how if tests let you respond to special situations correctly. \n",
    "\n",
    ">Imagine you have a list of cars and you want to print out the name of each car. \n",
    "\n",
    ">Car names are proper names, so the names of most cars should be printed in title case. \n",
    "\n",
    ">However, the value 'bmw' should be printed in all uppercase. \n",
    "\n",
    ">The following code loops through a list of car names and looks for the value 'bmw'. \n",
    "\n",
    ">Whenever the value is 'bmw', it’s printed in upper-case instead of title case:"
   ]
  },
  {
   "cell_type": "code",
   "execution_count": 1,
   "metadata": {},
   "outputs": [
    {
     "name": "stdout",
     "output_type": "stream",
     "text": [
      "Audi\n",
      "BMW\n",
      "Subaru\n",
      "Toyota\n"
     ]
    }
   ],
   "source": [
    "cars = ['audi', 'bmw', 'subaru', 'toyota']\n",
    "for car in cars:\n",
    "    if car == 'bmw':\n",
    "        print(car.upper())\n",
    "    else:\n",
    "        print(car.title())"
   ]
  },
  {
   "cell_type": "markdown",
   "metadata": {},
   "source": [
    ">The loop in this example first checks if the current value of car is 'bmw' \n",
    "\n",
    ">1. If it is, the value is printed in uppercase. \n",
    "\n",
    ">If the value of car is anything other than 'bmw', it’s printed in title case: \n",
    "***\n",
    "Audi\n",
    "\n",
    "BMW\n",
    "\n",
    "Subaru\n",
    "\n",
    "Toyota\n",
    "***\n",
    ">This example combines a number of the concepts you’ll learn about in this chapter. \n",
    "\n",
    ">Let’s begin by looking at the kinds of tests you can use to examine the conditions in your program.\n"
   ]
  },
  {
   "cell_type": "markdown",
   "metadata": {},
   "source": [
    "__Conditional Tests__\n",
    "\n",
    ">At the heart of every if statement is an expression that can be evaluated as True or False and is called a conditional test.\n",
    "\n",
    ">Python uses the values True and False to decide whether the code in an if statement should be executed. \n",
    "\n",
    ">If a conditional test evaluates to True, Python executes the code following the if statement. \n",
    "\n",
    ">If the test evaluates to False, Python ignores the code following the if statement.\n",
    "\n",
    "__Checking for Equality__\n",
    "\n",
    ">Most conditional tests compare the current value of a variable to a specific value of interest. \n",
    "\n",
    ">The simplest conditional test checks whether the value of a variable is equal to the value of interest:"
   ]
  },
  {
   "cell_type": "code",
   "execution_count": 2,
   "metadata": {},
   "outputs": [
    {
     "data": {
      "text/plain": [
       "True"
      ]
     },
     "execution_count": 2,
     "metadata": {},
     "output_type": "execute_result"
    }
   ],
   "source": [
    "car = 'bmw'\n",
    "\n",
    "car == 'bmw'"
   ]
  },
  {
   "cell_type": "markdown",
   "metadata": {},
   "source": [
    ">The first line sets the value of car to 'bmw' using a single equal sign, as you’ve seen many times already. \n",
    "\n",
    ">The next line checks whether the value of car is 'bmw' by using a double equal sign (==). \n",
    "\n",
    ">This equality operator returns True if the values on the left and right side of the operator match, and False if they don’t match. \n",
    "\n",
    ">The values in this example match, so Python returns True.When the value of car is anything other than 'bmw', this test returns False:"
   ]
  },
  {
   "cell_type": "code",
   "execution_count": 3,
   "metadata": {},
   "outputs": [
    {
     "data": {
      "text/plain": [
       "False"
      ]
     },
     "execution_count": 3,
     "metadata": {},
     "output_type": "execute_result"
    }
   ],
   "source": [
    "car = 'audi'\n",
    "\n",
    "car == 'bmw'"
   ]
  },
  {
   "cell_type": "markdown",
   "metadata": {},
   "source": [
    ">A single equal sign is really a statement; you might read the first line of code here as “Set the value of car equal to 'audi'.” On the other hand, a double equal sign asks a question: “Is the value of car equal to 'bmw'?” Most programming languages use equal signs in this way."
   ]
  },
  {
   "cell_type": "markdown",
   "metadata": {},
   "source": [
    "__Ignoring Case When Checking for Equality__\n",
    "\n",
    ">Testing for equality is case sensitive in Python. For example, two values with different capitalization are not considered equal:"
   ]
  },
  {
   "cell_type": "code",
   "execution_count": 4,
   "metadata": {},
   "outputs": [
    {
     "data": {
      "text/plain": [
       "False"
      ]
     },
     "execution_count": 4,
     "metadata": {},
     "output_type": "execute_result"
    }
   ],
   "source": [
    "car = 'Audi'\n",
    "car == 'audi'"
   ]
  },
  {
   "cell_type": "markdown",
   "metadata": {},
   "source": [
    ">If case matters, this behavior is advantageous. But if case doesn’t matter and instead you just want to test the value of a variable, you can convert the variable’s value to lowercase before doing the comparison:"
   ]
  },
  {
   "cell_type": "code",
   "execution_count": 5,
   "metadata": {},
   "outputs": [
    {
     "data": {
      "text/plain": [
       "True"
      ]
     },
     "execution_count": 5,
     "metadata": {},
     "output_type": "execute_result"
    }
   ],
   "source": [
    "car = 'Audi'\n",
    "car.lower() == 'audi'"
   ]
  },
  {
   "cell_type": "markdown",
   "metadata": {},
   "source": [
    ">This test will return True no matter how the value 'Audi' is formatted because the test is now case insensitive. The lower() method doesn’t change the value that was originally stored in car, so you can do this kind of com-parison without affecting the original variable:"
   ]
  },
  {
   "cell_type": "code",
   "execution_count": 6,
   "metadata": {},
   "outputs": [
    {
     "data": {
      "text/plain": [
       "True"
      ]
     },
     "execution_count": 6,
     "metadata": {},
     "output_type": "execute_result"
    }
   ],
   "source": [
    "car = 'Audi'\n",
    "car.lower() == 'audi'"
   ]
  },
  {
   "cell_type": "code",
   "execution_count": 7,
   "metadata": {},
   "outputs": [
    {
     "data": {
      "text/plain": [
       "'Audi'"
      ]
     },
     "execution_count": 7,
     "metadata": {},
     "output_type": "execute_result"
    }
   ],
   "source": [
    "car"
   ]
  },
  {
   "cell_type": "markdown",
   "metadata": {},
   "source": [
    ">We first assign the capitalized string 'Audi' to the variable car. \n",
    "\n",
    ">Then, we convert the value of car to lowercase and compare the lowercase value to the string 'audi'. \n",
    "\n",
    ">The two strings match, so Python returns True. We can see that the value stored in car has not been affected by the lower() method.\n",
    "\n",
    ">Websites enforce certain rules for the data that users enter in a manner similar to this. For example, a site might use a conditional test like this to \n",
    "\n",
    ">ensure that every user has a truly unique username, not just a variation on the capitalization of another person’s username. When someone submits a new username, that new username is converted to lowercase and compared to the lowercase versions of all existing usernames. \n",
    "\n",
    ">During this check, a user-name like 'John' will be rejected if any variation of 'john' is already in use."
   ]
  },
  {
   "cell_type": "markdown",
   "metadata": {},
   "source": [
    "__Checking for Inequality__\n",
    "\n",
    ">When you want to determine whether two values are not equal, you can use the inequality operator (!=). Let’s use another if statement to examine how to use the inequality operator. \n",
    "\n",
    ">We’ll store a requested pizza topping in a vari-able and then print a message if the person did not order anchovies:"
   ]
  },
  {
   "cell_type": "code",
   "execution_count": 8,
   "metadata": {},
   "outputs": [
    {
     "name": "stdout",
     "output_type": "stream",
     "text": [
      "Hold the anchovies!\n"
     ]
    }
   ],
   "source": [
    "requested_topping = 'mushrooms'\n",
    "if requested_topping != 'anchovies':\n",
    "    print(\"Hold the anchovies!\")"
   ]
  },
  {
   "cell_type": "markdown",
   "metadata": {},
   "source": [
    ">This code compares the value of requested_topping to the value 'anchovies'. \n",
    "\n",
    ">If these two values do not match, Python returns True and executes the code following the if statement. \n",
    "\n",
    ">If the two values match, Python returns False and does not run the code following the if statement.\n",
    "\n",
    ">Because the value of requested_topping is not 'anchovies', the print() function is executed:\n",
    "***\n",
    "Hold the anchovies!\n",
    "***\n",
    "\n",
    ">Most of the conditional expressions you write will test for equality, but sometimes you’ll find it more efficient to test for inequality."
   ]
  },
  {
   "cell_type": "markdown",
   "metadata": {},
   "source": [
    "__Numerical Comparisons__\n",
    "\n",
    ">Testing numerical values is pretty straightforward. For example, the follow-ing code checks whether a person is 18 years old:"
   ]
  },
  {
   "cell_type": "code",
   "execution_count": 9,
   "metadata": {},
   "outputs": [
    {
     "data": {
      "text/plain": [
       "True"
      ]
     },
     "execution_count": 9,
     "metadata": {},
     "output_type": "execute_result"
    }
   ],
   "source": [
    "age = 18\n",
    "age == 18"
   ]
  },
  {
   "cell_type": "markdown",
   "metadata": {},
   "source": [
    ">You can also test to see if two numbers are not equal. For example, the following code prints a message if the given answer is not correct:"
   ]
  },
  {
   "cell_type": "code",
   "execution_count": 10,
   "metadata": {},
   "outputs": [
    {
     "name": "stdout",
     "output_type": "stream",
     "text": [
      "That is not the correct answer. Please try again!\n"
     ]
    }
   ],
   "source": [
    "answer = 17\n",
    "if answer != 42:\n",
    "    print(\"That is not the correct answer. Please try again!\")"
   ]
  },
  {
   "cell_type": "markdown",
   "metadata": {},
   "source": [
    ">The conditional test passes, because the value of answer (17) is not equal to 42. Because the test passes, the indented code block is executed:\n",
    "***\n",
    "That is not the correct answer. Please try again!\n",
    "***\n",
    "\n",
    "_if Statements   75_\n",
    "\n",
    ">You can include various mathematical comparisons in your conditional statements as well, such as less than, less than or equal to, greater than, and greater than or equal to:"
   ]
  },
  {
   "cell_type": "code",
   "execution_count": 12,
   "metadata": {},
   "outputs": [
    {
     "name": "stdout",
     "output_type": "stream",
     "text": [
      "True\n",
      "True\n",
      "False\n",
      "False\n"
     ]
    }
   ],
   "source": [
    "# Each mathematical comparison can be used as part of an if statement, which can help you detect the exact conditions of interest.\n",
    "age = 19\n",
    "print(age < 21)\n",
    "print(age <= 21)\n",
    "\n",
    "print(age > 21)\n",
    "print(age >= 21)"
   ]
  },
  {
   "cell_type": "markdown",
   "metadata": {},
   "source": [
    "__Checking Multiple Conditions__\n",
    "\n",
    ">You may want to check multiple conditions at the same time. For example, sometimes you might need two conditions to be True to take an action. \n",
    "\n",
    ">Other times, you might be satisfied with just one condition being True. \n",
    "\n",
    ">The keywords and and or can help you in these situations.\n",
    "\n",
    "__Using and to Check Multiple Conditions__\n",
    "\n",
    ">To check whether two conditions are both True simultaneously, use the key-word and to combine the two conditional tests; if each test passes, the overall expression evaluates to True. \n",
    "\n",
    ">If either test fails or if both tests fail, the expres-sion evaluates to False.For example, you can check whether two people are both over 21 by using the following test:"
   ]
  },
  {
   "cell_type": "code",
   "execution_count": 13,
   "metadata": {},
   "outputs": [
    {
     "name": "stdout",
     "output_type": "stream",
     "text": [
      "False\n",
      "True\n"
     ]
    }
   ],
   "source": [
    "age_0 = 22\n",
    "age_1 = 18\n",
    "print(age_0 >= 21 and age_1 >= 21)\n",
    "\n",
    "age_1 = 22\n",
    "print(age_0 >= 21 and age_1 >= 21)"
   ]
  },
  {
   "cell_type": "markdown",
   "metadata": {},
   "source": [
    ">First, we define two ages, age_0 and age_1. Then we check whether both ages are 21 or older 1. The test on the left passes, but the test on the right fails, so the overall conditional expression evaluates to False. We then change "
   ]
  },
  {
   "cell_type": "markdown",
   "metadata": {},
   "source": [
    ">age_1 to 22 2. The value of age_1 is now greater than 21, so both individual tests pass, causing the overall conditional expression to evaluate as True.To improve readability, you can use parentheses around the individual tests, but they are not required. If you use parentheses, your test would look like this:\n"
   ]
  },
  {
   "cell_type": "code",
   "execution_count": 14,
   "metadata": {},
   "outputs": [
    {
     "name": "stdout",
     "output_type": "stream",
     "text": [
      "True\n"
     ]
    }
   ],
   "source": [
    "print((age_0 >= 21) and (age_1 >= 21))"
   ]
  },
  {
   "cell_type": "markdown",
   "metadata": {},
   "source": [
    "__Using or to Check Multiple Conditions__\n",
    "\n",
    ">The keyword or allows you to check multiple conditions as well, but it passes when either or both of the individual tests pass. An or expression fails only when both individual tests fail.\n",
    "\n",
    ">Let’s consider two ages again, but this time we’ll look for only one per-son to be over 21:"
   ]
  },
  {
   "cell_type": "code",
   "execution_count": 15,
   "metadata": {},
   "outputs": [
    {
     "data": {
      "text/plain": [
       "False"
      ]
     },
     "execution_count": 15,
     "metadata": {},
     "output_type": "execute_result"
    }
   ],
   "source": [
    "age_0 = 22\n",
    "age_1 = 18\n",
    "age_0 >= 21 or age_1 >= 21\n",
    "age_0 = 18\n",
    "age_0 >= 21 or age_1 >= 21"
   ]
  },
  {
   "cell_type": "markdown",
   "metadata": {},
   "source": [
    ">We start with two age variables again. Because the test for age_0 1 passes, the overall expression evaluates to True. We then lower age_0 to 18. In the final test 2, both tests now fail and the overall expression evaluates to False.\n",
    "__Checking Whether a Value Is in a List__\n",
    "\n",
    ">Sometimes it’s important to check whether a list contains a certain value before taking an action. \n",
    "\n",
    ">For example, you might want to check whether a new username already exists in a list of current usernames before completing someone’s registration on a website. In a mapping project, you might want to check whether a submitted location already exists in a list of known locations.To find out whether a particular value is already in a list, use the key-word in. \n",
    "\n",
    ">Let’s consider some code you might write for a pizzeria. We’ll make a list of toppings a customer has requested for a pizza and then check whether certain toppings are in the list."
   ]
  },
  {
   "cell_type": "code",
   "execution_count": 16,
   "metadata": {},
   "outputs": [
    {
     "data": {
      "text/plain": [
       "True"
      ]
     },
     "execution_count": 16,
     "metadata": {},
     "output_type": "execute_result"
    }
   ],
   "source": [
    "requested_toppings = ['mushrooms', 'onions', 'pineapple']\n",
    "'mushrooms' in requested_toppings"
   ]
  },
  {
   "cell_type": "code",
   "execution_count": 17,
   "metadata": {},
   "outputs": [
    {
     "data": {
      "text/plain": [
       "False"
      ]
     },
     "execution_count": 17,
     "metadata": {},
     "output_type": "execute_result"
    }
   ],
   "source": [
    "'pepperoni' in requested_toppings"
   ]
  },
  {
   "cell_type": "markdown",
   "metadata": {},
   "source": [
    ">The keyword in tells Python to check for the existence of 'mushrooms' and 'pepperoni' in the list requested_toppings. This technique is quite power-ful because you can create a list of essential values, and then easily check whether the value you’re testing matches one of the values in the list.\n"
   ]
  },
  {
   "cell_type": "markdown",
   "metadata": {},
   "source": [
    "Checking Whether a Value Is Not in a List\n",
    "Other times, it’s important to know if a value does not appear in a list. You can use the keyword not in this situation. For example, consider a list of users who are banned from commenting in a forum. You can check whether a user has been banned before allowing that person to submit a comment:\n",
    "banned_users.py banned_users = ['andrew', 'carolina', 'david']user = 'marie'\n",
    "if Statements   77\n",
    "if user not in banned_users:    print(f\"{user.title()}, you can post a response if you wish.\")\n",
    "The if statement here reads quite clearly. If the value of user is not in the list banned_users, Python returns True and executes the indented line.The user 'marie' is not in the list banned_users, so she sees a message inviting her to post a response:\n",
    "Marie, you can post a response if you wish."
   ]
  },
  {
   "cell_type": "markdown",
   "metadata": {},
   "source": [
    "Boolean Expressions\n",
    "As you learn more about programming, you’ll hear the term Boolean expression at some point. A Boolean expression is just another name for a conditional test. A Boolean value is either True or False, just like the value of a conditional expression after it has been evaluated.Boolean values are often used to keep track of certain conditions, such as whether a game is running or whether a user can edit certain content on a website:\n",
    "game_active = Truecan_edit = False\n",
    "Boolean values provide an efficient way to track the state of a program or a particular condition that is important in your program.\n"
   ]
  },
  {
   "cell_type": "markdown",
   "metadata": {},
   "source": [
    "### T R Y   I T   Y O U R S E L F \n",
    "5-1. Conditional Tests: Write a series of conditional tests. Print a statement describing each test and your prediction for the results of each test. Your code should look something like this:\n",
    "car = 'subaru'print(\"Is car == 'subaru'? I predict True.\")print(car == 'subaru')print(\"\\nIs car == 'audi'? I predict False.\")print(car == 'audi')\n",
    "• Look closely at your results, and make sure you understand why each line evaluates to True or False.• Create at least 10 tests. Have at least 5 tests evaluate to True and another 5 tests evaluate to False.\n",
    "(continued)\n",
    "78   Chapter 5\n",
    "5-2. More Conditional Tests: You don’t have to limit the number of tests you cre-ate to 10. If you want to try more comparisons, write more tests and add them to conditional_tests.py. Have at least one True and one False result for each of the following:• Tests for equality and inequality with strings• Tests using the lower() method• Numerical tests involving equality and inequality, greater than and less than, greater than or equal to, and less than or equal to• Tests using the and keyword and the or keyword• Test whether an item is in a list• Test whether an item is not in a list"
   ]
  },
  {
   "cell_type": "markdown",
   "metadata": {},
   "source": [
    "if Statements\n",
    "When you understand conditional tests, you can start writing if statements. Several different kinds of if statements exist, and your choice of which to use depends on the number of conditions you need to test. You saw several examples of if statements in the discussion about conditional tests, but now let’s dig deeper into the topic.\n",
    "\n",
    "Simple if Statements\n",
    "The simplest kind of if statement has one test and one action:\n",
    "if conditional_test:    do something\n",
    "You can put any conditional test in the first line and just about any action in the indented block following the test. If the conditional test evaluates to \n",
    "True, Python executes the code following the if statement. If the test evaluates to False, Python ignores the code following the if statement.Let’s say we have a variable representing a person’s age, and we want to know if that person is old enough to vote. The following code tests whether the person can vote:\n",
    "voting.py age = 19if age >= 18:    print(\"You are old enough to vote!\")\n",
    "Python checks to see whether the value of age is greater than or equal to 18. It is, so Python executes the indented print() call:\n",
    "You are old enough to vote!\n",
    "\n",
    "Indentation plays the same role in if statements as it did in for loops. All indented lines after an if statement will be executed if the test passes, and the entire block of indented lines will be ignored if the test does not pass.You can have as many lines of code as you want in the block follow-ing the if statement. Let’s add another line of output if the person is old enough to vote, asking if the individual has registered to vote yet:\n",
    "age = 19if age >= 18:    print(\"You are old enough to vote!\")    print(\"Have you registered to vote yet?\")\n",
    "The conditional test passes, and both print() calls are indented, so both lines are printed:\n",
    "You are old enough to vote!Have you registered to vote yet?\n",
    "If the value of age is less than 18, this program would produce no output.\n",
    "if-else Statements\n",
    "Often, you’ll want to take one action when a conditional test passes and a dif-ferent action in all other cases. Python’s if-else syntax makes this possible. \n",
    "\n",
    "An if-else block is similar to a simple if statement, but the else statement allows you to define an action or set of actions that are executed when the condi-tional test fails.We’ll display the same message we had previously if the person is old enough to vote, but this time we’ll add a message for anyone who is not  old enough to vote:\n",
    "age = 17\n",
    "if age >= 18:    \n",
    "print(\"You are old enough to vote!\")    \n",
    "print(\"Have you registered to vote yet?\")\n",
    "else:    \n",
    "print(\"Sorry, you are too young to vote.\")    \n",
    "print(\"Please register to vote as soon as you turn 18!\")\n",
    "\n",
    "If the conditional test 1 passes, the first block of indented print() calls is executed. If the test evaluates to False, the else block 2 is executed. Because age is less than 18 this time, the conditional test fails and the code in the else block is executed:\n",
    "Sorry, you are too young to vote.Please register to vote as soon as you turn 18!\n",
    "This code works because it has only two possible situations to evaluate: a person is either old enough to vote or not old enough to vote. \n",
    "\n",
    "The if-else \n",
    "structure works well in situations in which you want Python to always exe-cute one of two possible actions. In a simple if-else chain like this, one of the two actions will always be executed.\n",
    "The if-elif-else Chain\n",
    "Often, you’ll need to test more than two possible situations, and to evaluate these you can use Python’s if-elif-else syntax. Python executes only one block in an if-elif-else chain. It runs each conditional test in order, until one passes. When a test passes, the code following that test is executed and Python skips the rest of the tests.Many real-world situations involve more than two possible conditions. For example, consider an amusement park that charges different rates for different age groups:\n",
    "• Admission for anyone under age 4 is free.\n",
    "• Admission for anyone between the ages of 4 and 18 is $25.\n",
    "• Admission for anyone age 18 or older is $40.How can we use an if statement to determine a person’s admission rate? The following code tests for the age group of a person and then prints an admission price message:\n",
    "amusement _park.py\n",
    "age = 12\n",
    "if age < 4:    print(\"Your admission cost is $0.\")\n",
    "elif age < 18:    print(\"Your admission cost is $25.\")\n",
    "else:    print(\"Your admission cost is $40.\")\n",
    "\n",
    "The if test 1 checks whether a person is under 4 years old. When the test passes, an appropriate message is printed and Python skips the rest of the tests. The elif line 2 is really another if test, which runs only if the previous test failed. At this point in the chain, we know the person is at least 4 years old because the first test failed. If the person is under 18, an appro-priate message is printed and Python skips the else block. If both the if and elif tests fail, Python runs the code in the else block 3.In this example the if test 1 evaluates to False, so its code block is not executed. However, the elif test evaluates to True (12 is less than 18) so its code is executed. The output is one sentence, informing the user of the admission cost:\n",
    "Your admission cost is $25.\n",
    "\n",
    "Any age greater than 17 would cause the first two tests to fail. In these situations, the else block would be executed and the admission price would be $40.Rather than printing the admission price within the if-elif-else block, it would be more concise to set just the price inside the if-elif-else chain  and then have a single print() call that runs after the chain has been evaluated:\n",
    "\n",
    "age = 12\n",
    "if age < 4:    \n",
    "price = 0elif age < 18:    \n",
    "price = 25else:    \n",
    "price = 40\n",
    "print(f\"Your admission cost is ${price}.\")\n",
    "\n",
    "The indented lines set the value of price according to the person’s age, as in the previous example. After the price is set by the if-elif-else chain, a separate unindented print() call uses this value to display a message report-ing the person’s admission price.This code produces the same output as the previous example, but the purpose of the if-elif-else chain is narrower. Instead of determining a price and displaying a message, it simply determines the admission price. In addi-tion to being more efficient, this revised code is easier to modify than the original approach. To change the text of the output message, you would need to change only one print() call rather than three separate print() calls."
   ]
  },
  {
   "cell_type": "markdown",
   "metadata": {},
   "source": [
    "Using Multiple elif Blocks\n",
    "You can use as many elif blocks in your code as you like. For example, if the amusement park were to implement a discount for seniors, you could add one more conditional test to the code to determine whether someone quali-fies for the senior discount. Let’s say that anyone 65 or older pays half the regular admission, or $20:\n",
    "age = 12if age < 4:    price = 0elif age < 18:    price = 25elif age < 65:    price = 40else:    price = 20print(f\"Your admission cost is ${price}.\")\n",
    "Most of this code is unchanged. The second elif block now checks to make sure a person is less than age 65 before assigning them the full admis-sion rate of $40. Notice that the value assigned in the else block needs to be changed to $20, because the only ages that make it to this block are for people 65 or older.\n",
    "82   Chapter 5\n",
    "Omitting the else Block\n",
    "Python does not require an else block at the end of an if-elif chain. Sometimes, an else block is useful. Other times, it’s clearer to use an addi-tional elif statement that catches the specific condition of interest:\n",
    "age = 12if age < 4:    price = 0elif age < 18:    price = 25elif age < 65:    price = 40elif age >= 65:    price = 20print(f\"Your admission cost is ${price}.\")\n",
    "The final elif block assigns a price of $20 when the person is 65 or older, which is a little clearer than the general else block. With this change, every block of code must pass a specific test in order to be executed.The else block is a catchall statement. It matches any condition that wasn’t matched by a specific if or elif test, and that can sometimes include invalid or even malicious data. If you have a specific final condition you’re testing for, consider using a final elif block and omit the else block. As a result, you’ll be more confident that your code will run only under the cor-rect conditions.\n"
   ]
  },
  {
   "cell_type": "markdown",
   "metadata": {},
   "source": [
    "Testing Multiple Conditions\n",
    "The if-elif-else chain is powerful, but it’s only appropriate to use when you just need one test to pass. As soon as Python finds one test that passes, it skips the rest of the tests. This behavior is beneficial, because it’s efficient and allows you to test for one specific condition.However, sometimes it’s important to check all conditions of interest. In this case, you should use a series of simple if statements with no elif or else blocks. This technique makes sense when more than one condition could be True, and you want to act on every condition that is True.Let’s reconsider the pizzeria example. If someone requests a two-topping pizza, you’ll need to be sure to include both toppings on their pizza:\n",
    "toppings.py requested_toppings = ['mushrooms', 'extra cheese']if 'mushrooms' in requested_toppings:    print(\"Adding mushrooms.\")\n",
    "1 if 'pepperoni' in requested_toppings:    print(\"Adding pepperoni.\")\n",
    "if Statements   83\n",
    "if 'extra cheese' in requested_toppings:    print(\"Adding extra cheese.\")print(\"\\nFinished making your pizza!\")\n",
    "We start with a list containing the requested toppings. The first if statement checks to see whether the person requested mushrooms on their pizza. If so, a message is printed confirming that topping. The test for pep-peroni 1 is another simple if statement, not an elif or else statement, so this test is run regardless of whether the previous test passed or not. The last if statement checks whether extra cheese was requested, regardless of the results from the first two tests. These three independent tests are exe-cuted every time this program is run.Because every condition in this example is evaluated, both mushrooms and extra cheese are added to the pizza:\n",
    "Adding mushrooms.Adding extra cheese.Finished making your pizza!\n",
    "This code would not work properly if we used an if-elif-else block, because the code would stop running after only one test passes. Here’s what that would look like:\n",
    "requested_toppings = ['mushrooms', 'extra cheese']if 'mushrooms' in requested_toppings:    print(\"Adding mushrooms.\")elif 'pepperoni' in requested_toppings:    print(\"Adding pepperoni.\")elif 'extra cheese' in requested_toppings:    print(\"Adding extra cheese.\")print(\"\\nFinished making your pizza!\")\n",
    "The test for 'mushrooms' is the first test to pass, so mushrooms are added to the pizza. However, the values 'extra cheese' and 'pepperoni' are never checked, because Python doesn’t run any tests beyond the first test that passes in an if-elif-else chain. The customer’s first topping will be added, but all of their other toppings will be missed:\n",
    "Adding mushrooms.Finished making your pizza!\n",
    "In summary, if you want only one block of code to run, use an if-elif-else chain. If more than one block of code needs to run, use a series of indepen-dent if statements.\n",
    "84   Chapter 5"
   ]
  },
  {
   "cell_type": "markdown",
   "metadata": {},
   "source": [
    "T R Y   I T   Y O U R S E L F \n",
    "5-3. Alien Colors #1: Imagine an alien was just shot down in a game. Create a variable called alien_color and assign it a value of 'green', 'yellow', or 'red'.• Write an if statement to test whether the alien’s color is green. If it is, print a message that the player just earned 5 points.• Write one version of this program that passes the if test and another that fails. (The version that fails will have no output.)\n",
    "5-4. Alien Colors #2: Choose a color for an alien as you did in Exercise 5-3, and write an if-else chain.• If the alien’s color is green, print a statement that the player just earned 5 points for shooting the alien.• If the alien’s color isn’t green, print a statement that the player just earned 10 points.• Write one version of this program that runs the if block and another that runs the else block.\n",
    "5-5. Alien Colors #3: Turn your if-else chain from Exercise 5-4 into an if-elif-\n",
    "else chain.• If the alien is green, print a message that the player earned 5 points.• If the alien is yellow, print a message that the player earned 10 points.• If the alien is red, print a message that the player earned 15 points.• Write three versions of this program, making sure each message is printed for the appropriate color alien.\n",
    "5-6. Stages of Life: Write an if-elif-else chain that determines a person’s stage of life. Set a value for the variable age, and then:• If the person is less than 2 years old, print a message that the person is  a baby.• If the person is at least 2 years old but less than 4, print a message that the person is a toddler.• If the person is at least 4 years old but less than 13, print a message that the person is a kid.• If the person is at least 13 years old but less than 20, print a message that the person is a teenager.• If the person is at least 20 years old but less than 65, print a message that the person is an adult.• If the person is age 65 or older, print a message that the person is an elder.\n",
    "if Statements   85\n",
    "5-7. Favorite Fruit: Make a list of your favorite fruits, and then write a series of independent if statements that check for certain fruits in your list.• Make a list of your three favorite fruits and call it favorite_fruits.• Write five if statements. Each should check whether a certain kind of fruit is in your list. If the fruit is in your list, the if block should print a statement, such as You really like bananas!"
   ]
  },
  {
   "cell_type": "markdown",
   "metadata": {},
   "source": [
    "#### Using if Statements with Lists\n",
    "You can do some interesting work when you combine lists and if statements. You can watch for special values that need to be treated differently than other values in the list. You can efficiently manage changing conditions, such as the availability of certain items in a restaurant throughout a shift. You can also begin to prove that your code works as you expect it to in all possible situations."
   ]
  },
  {
   "cell_type": "markdown",
   "metadata": {},
   "source": [
    "Checking for Special Items\n",
    "This chapter began with a simple example that showed how to handle a spe-cial value like 'bmw', which needed to be printed in a different format than other values in the list. Now that you have a basic understanding of condi-tional tests and if statements, let’s take a closer look at how you can watch for special values in a list and handle those values appropriately.Let’s continue with the pizzeria example. The pizzeria displays a mes-sage whenever a topping is added to your pizza, as it’s being made. The code for this action can be written very efficiently by making a list of toppings the customer has requested and using a loop to announce each topping as it’s added to the pizza:\n",
    "toppings.py requested_toppings = ['mushrooms', 'green peppers', 'extra cheese']for requested_topping in requested_toppings:    print(f\"Adding {requested_topping}.\")print(\"\\nFinished making your pizza!\")\n",
    "The output is straightforward because this code is just a simple for loop:\n",
    "Adding mushrooms.Adding green peppers.Adding extra cheese.Finished making your pizza!\n",
    "86   Chapter 5\n",
    "But what if the pizzeria runs out of green peppers? An if statement inside the for loop can handle this situation appropriately:\n",
    "requested_toppings = ['mushrooms', 'green peppers', 'extra cheese']for requested_topping in requested_toppings:    if requested_topping == 'green peppers':        print(\"Sorry, we are out of green peppers right now.\")    else:        print(f\"Adding {requested_topping}.\")print(\"\\nFinished making your pizza!\")\n",
    "This time, we check each requested item before adding it to the pizza. The if statement checks to see if the person requested green peppers. If so, we display a message informing them why they can’t have green peppers. The else block ensures that all other toppings will be added to the pizza.The output shows that each requested topping is handled appropriately.\n",
    "Adding mushrooms.Sorry, we are out of green peppers right now.Adding extra cheese.Finished making your pizza!"
   ]
  },
  {
   "cell_type": "markdown",
   "metadata": {},
   "source": [
    "Checking That a List Is Not Empty\n",
    "We’ve made a simple assumption about every list we’ve worked with so far: we’ve assumed that each list has at least one item in it. Soon we’ll let users provide the information that’s stored in a list, so we won’t be able to assume that a list has any items in it each time a loop is run. In this situation, it’s useful to check whether a list is empty before running a for loop.As an example, let’s check whether the list of requested toppings is empty before building the pizza. If the list is empty, we’ll prompt the user and make sure they want a plain pizza. If the list is not empty, we’ll build the pizza just as we did in the previous examples:\n",
    "requested_toppings = []if requested_toppings:    for requested_topping in requested_toppings:        print(f\"Adding {requested_topping}.\")    print(\"\\nFinished making your pizza!\")else:    print(\"Are you sure you want a plain pizza?\")\n",
    "This time we start out with an empty list of requested toppings. Instead of jumping right into a for loop, we do a quick check first. When the name of a list is used in an if statement, Python returns True if the list contains at least one item; an empty list evaluates to False. If requested_toppings passes the conditional test, we run the same for loop we used in the previous \n",
    "if Statements   87\n",
    "example. If the conditional test fails, we print a message asking the cus-tomer if they really want a plain pizza with no toppings.The list is empty in this case, so the output asks if the user really wants a plain pizza:\n",
    "Are you sure you want a plain pizza?\n",
    "If the list is not empty, the output will show each requested topping being added to the pizza."
   ]
  },
  {
   "cell_type": "markdown",
   "metadata": {},
   "source": [
    "Using Multiple Lists\n",
    "People will ask for just about anything, especially when it comes to pizza toppings. What if a customer actually wants french fries on their pizza? You can use lists and if statements to make sure your input makes sense before you act on it.Let’s watch out for unusual topping requests before we build a pizza. The following example defines two lists. The first is a list of available top-pings at the pizzeria, and the second is the list of toppings that the user has requested. This time, each item in requested_toppings is checked against the list of available toppings before it’s added to the pizza:\n",
    "available_toppings = ['mushrooms', 'olives', 'green peppers',                      'pepperoni', 'pineapple', 'extra cheese']\n",
    "1 requested_toppings = ['mushrooms', 'french fries', 'extra cheese']for requested_topping in requested_toppings:\n",
    "2     if requested_topping in available_toppings:        print(f\"Adding {requested_topping}.\")\n",
    "3     else:        print(f\"Sorry, we don't have {requested_topping}.\")print(\"\\nFinished making your pizza!\")\n",
    "First, we define a list of available toppings at this pizzeria. Note that this could be a tuple if the pizzeria has a stable selection of toppings. Then, we make a list of toppings that a customer has requested. There’s an unusual request for a topping in this example: 'french fries' 1. Next we loop through the list of requested toppings. Inside the loop, we check to see if each requested topping is actually in the list of available toppings 2. If it is,  we add that topping to the pizza. If the requested topping is not in the list of available toppings, the else block will run 3. The else block prints a mes-sage telling the user which toppings are unavailable.This code syntax produces clean, informative output:\n",
    "Adding mushrooms.Sorry, we don't have french fries.Adding extra cheese.Finished making your pizza!\n",
    "88   Chapter 5\n",
    "In just a few lines of code, we’ve managed a real-world situation pretty effectively!"
   ]
  },
  {
   "cell_type": "markdown",
   "metadata": {},
   "source": [
    "T R Y   I T   Y O U R S E L F \n",
    "5-8. Hello Admin: Make a list of five or more usernames, including the name \n",
    "'admin'. Imagine you are writing code that will print a greeting to each user after they log in to a website. Loop through the list, and print a greeting to each user.• If the username is 'admin', print a special greeting, such as Hello admin, would you like to see a status report?\n",
    "• Otherwise, print a generic greeting, such as Hello Jaden, thank you for logging in again.\n",
    "5-9. No Users: Add an if test to hello_admin.py to make sure the list of users is not empty.• If the list is empty, print the message We need to find some users!\n",
    "• Remove all of the usernames from your list, and make sure the correct mes-sage is printed.\n",
    "5-10. Checking Usernames: Do the following to create a program that simulates how websites ensure that everyone has a unique username.• Make a list of five or more usernames called current_users.• Make another list of five usernames called new_users. Make sure one or two of the new usernames are also in the current_users list.• Loop through the new_users list to see if each new username has already been used. If it has, print a message that the person will need to enter a new username. If a username has not been used, print a message saying that the username is available.• Make sure your comparison is case insensitive. If 'John' has been used, \n",
    "'JOHN' should not be accepted. (To do this, you’ll need to make a copy of \n",
    "current_users containing the lowercase versions of all existing users.)\n",
    "5-11. Ordinal Numbers: Ordinal numbers indicate their position in a list, such as \n",
    "1st or 2nd. Most ordinal numbers end in th, except 1, 2, and 3.• Store the numbers 1 through 9 in a list.• Loop through the list.• Use an if-elif-else chain inside the loop to print the proper ordinal ending for each number. Your output should read \"1st 2nd 3rd 4th 5th 6th 7th 8th 9th\", and each result should be on a separate line.\n",
    "if Statements   89\n",
    "Styling Your if Statements\n",
    "In every example in this chapter, you’ve seen good styling habits. The only recommendation PEP 8 provides for styling conditional tests is to use a single space around comparison operators, such as ==, >=, and <=. For example:\n",
    "if age < 4:\n",
    "is better than:\n",
    "if age<4:\n",
    "Such spacing does not affect the way Python interprets your code; it just makes your code easier for you and others to read."
   ]
  },
  {
   "cell_type": "markdown",
   "metadata": {},
   "source": [
    "T R Y   I T   Y O U R S E L F \n",
    "5-12. Styling if Statements: Review the programs you wrote in this chapter, and make sure you styled your conditional tests appropriately.\n",
    "5-13. Your Ideas: At this point, you’re a more capable programmer than you were when you started this book. Now that you have a better sense of how real-world situations are modeled in programs, you might be thinking of some problems you could solve with your own programs. Record any new ideas you have about problems you might want to solve as your programming skills con-tinue to improve. Consider games you might want to write, datasets you might want to explore, and web applications you’d like to create."
   ]
  },
  {
   "cell_type": "markdown",
   "metadata": {},
   "source": [
    "__Think Python by Allen Downey__\n",
    "***\n",
    ">Allen Downey\n",
    "\n",
    ">Green Tea Press\n",
    "\n",
    ">Needham, Massachusetts\n",
    "***"
   ]
  },
  {
   "cell_type": "markdown",
   "metadata": {},
   "source": [
    "Conditionals and recursion\n",
    "The main topic of this chapter is the if statement, which executes different code depending\n",
    "on the state of the program. But first I want to introduce two new operators: floor division\n",
    "and modulus.\n",
    "5.1 Floor division and modulus\n",
    "The floor division operator, //, divides two numbers and rounds down to an integer. For\n",
    "example, suppose the run time of a movie is 105 minutes. You might want to know how\n",
    "long that is in hours. Conventional division returns a floating-point number:\n",
    ">>> minutes = 105\n",
    ">>> minutes / 60\n",
    "1.75\n",
    "But we don’t normally write hours with decimal points. Floor division returns the integer\n",
    "number of hours, rounding down:\n",
    ">>> minutes = 105\n",
    ">>> hours = minutes // 60\n",
    ">>> hours\n",
    "1\n",
    "To get the remainder, you could subtract off one hour in minutes:\n",
    ">>> remainder = minutes - hours * 60\n",
    ">>> remainder\n",
    "45\n",
    "An alternative is to use the modulus operator, %, which divides two numbers and returns\n",
    "the remainder.\n",
    ">>> remainder = minutes % 60\n",
    ">>> remainder\n",
    "45\n",
    "The modulus operator is more useful than it seems. For example, you can check whether\n",
    "one number is divisible by another—if x % y is zero, then x is divisible by y.\n",
    "40 Chapter 5. Conditionals and recursion\n",
    "Also, you can extract the right-most digit or digits from a number. For example, x % 10\n",
    "yields the right-most digit of x (in base 10). Similarly x % 100 yields the last two digits.\n",
    "If you are using Python 2, division works differently. The division operator, /, performs\n",
    "floor division if both operands are integers, and floating-point division if either operand is\n",
    "a float"
   ]
  },
  {
   "cell_type": "markdown",
   "metadata": {},
   "source": [
    "5.2 Boolean expressions\n",
    "A boolean expression is an expression that is either true or false. The following examples\n",
    "use the operator ==, which compares two operands and produces True if they are equal\n",
    "and False otherwise:\n",
    ">>> 5 == 5\n",
    "True\n",
    ">>> 5 == 6\n",
    "False\n",
    "True and False are special values that belong to the type bool; they are not strings:\n",
    ">>> type(True)\n",
    "<class 'bool'>\n",
    ">>> type(False)\n",
    "<class 'bool'>\n",
    "The == operator is one of the relational operators; the others are:\n",
    "x != y # x is not equal to y\n",
    "x > y # x is greater than y\n",
    "x < y # x is less than y\n",
    "x >= y # x is greater than or equal to y\n",
    "x <= y # x is less than or equal to y\n",
    "Although these operations are probably familiar to you, the Python symbols are different\n",
    "from the mathematical symbols. A common error is to use a single equal sign (=) instead of\n",
    "a double equal sign (==). Remember that = is an assignment operator and == is a relational\n",
    "operator. There is no such thing as =< or =>."
   ]
  },
  {
   "cell_type": "markdown",
   "metadata": {},
   "source": [
    "5.3 Logical operators\n",
    "There are three logical operators: and, or, and not. The semantics (meaning) of these\n",
    "operators is similar to their meaning in English. For example, x > 0 and x < 10 is true\n",
    "only if x is greater than 0 and less than 10.\n",
    "n%2 == 0 or n%3 == 0 is true if either or both of the conditions is true, that is, if the number\n",
    "is divisible by 2 or 3.\n",
    "Finally, the not operator negates a boolean expression, so not (x > y) is true if x > y is\n",
    "false, that is, if x is less than or equal to y.\n",
    "Strictly speaking, the operands of the logical operators should be boolean expressions, but\n",
    "Python is not very strict. Any nonzero number is interpreted as True:\n",
    "5.4. Conditional execution 41\n",
    ">>> 42 and True\n",
    "True\n",
    "This flexibility can be useful, but there are some subtleties to it that might be confusing.\n",
    "You might want to avoid it (unless you know what you are doing).\n"
   ]
  },
  {
   "cell_type": "markdown",
   "metadata": {},
   "source": [
    "5.4 Conditional execution\n",
    "In order to write useful programs, we almost always need the ability to check conditions\n",
    "and change the behavior of the program accordingly. Conditional statements give us this\n",
    "ability. The simplest form is the if statement:\n",
    "if x > 0:\n",
    "print('x is positive')\n",
    "The boolean expression after if is called the condition. If it is true, the indented statement\n",
    "runs. If not, nothing happens.\n",
    "if statements have the same structure as function definitions: a header followed by an\n",
    "indented body. Statements like this are called compound statements.\n",
    "There is no limit on the number of statements that can appear in the body, but there has to\n",
    "be at least one. Occasionally, it is useful to have a body with no statements (usually as a\n",
    "place keeper for code you haven’t written yet). In that case, you can use the pass statement,\n",
    "which does nothing.\n",
    "if x < 0:\n",
    "pass # TODO: need to handle negative values!"
   ]
  },
  {
   "cell_type": "markdown",
   "metadata": {},
   "source": [
    "5.5 Alternative execution\n",
    "A second form of the if statement is “alternative execution”, in which there are two possibilities and the condition determines which one runs. The syntax looks like this:\n",
    "if x % 2 == 0:\n",
    "print('x is even')\n",
    "else:\n",
    "print('x is odd')\n",
    "If the remainder when x is divided by 2 is 0, then we know that x is even, and the program\n",
    "displays an appropriate message. If the condition is false, the second set of statements\n",
    "runs. Since the condition must be true or false, exactly one of the alternatives will run. The\n",
    "alternatives are called branches, because they are branches in the flow of execution."
   ]
  },
  {
   "cell_type": "markdown",
   "metadata": {},
   "source": [
    "5.6 Chained conditionals\n",
    "Sometimes there are more than two possibilities and we need more than two branches.\n",
    "One way to express a computation like that is a chained conditional:\n",
    "42 Chapter 5. Conditionals and recursion\n",
    "if x < y:\n",
    "print('x is less than y')\n",
    "elif x > y:\n",
    "print('x is greater than y')\n",
    "else:\n",
    "print('x and y are equal')\n",
    "elif is an abbreviation of “else if”. Again, exactly one branch will run. There is no limit on\n",
    "the number of elif statements. If there is an else clause, it has to be at the end, but there\n",
    "doesn’t have to be one.\n",
    "if choice == 'a':\n",
    "draw_a()\n",
    "elif choice == 'b':\n",
    "draw_b()\n",
    "elif choice == 'c':\n",
    "draw_c()\n",
    "Each condition is checked in order. If the first is false, the next is checked, and so on. If one\n",
    "of them is true, the corresponding branch runs and the statement ends. Even if more than\n",
    "one condition is true, only the first true branch runs"
   ]
  },
  {
   "cell_type": "markdown",
   "metadata": {},
   "source": [
    "5.7 Nested conditionals\n",
    "One conditional can also be nested within another. We could have written the example in\n",
    "the previous section like this:\n",
    "if x == y:\n",
    "print('x and y are equal')\n",
    "else:\n",
    "if x < y:\n",
    "print('x is less than y')\n",
    "else:\n",
    "print('x is greater than y')\n",
    "The outer conditional contains two branches. The first branch contains a simple statement.\n",
    "The second branch contains another if statement, which has two branches of its own.\n",
    "Those two branches are both simple statements, although they could have been conditional\n",
    "statements as well.\n",
    "Although the indentation of the statements makes the structure apparent, nested conditionals become difficult to read very quickly. It is a good idea to avoid them when you\n",
    "can.\n",
    "Logical operators often provide a way to simplify nested conditional statements. For example, we can rewrite the following code using a single conditional:\n",
    "if 0 < x:\n",
    "if x < 10:\n",
    "print('x is a positive single-digit number.')\n",
    "The print statement runs only if we make it past both conditionals, so we can get the same\n",
    "effect with the and operator:\n",
    "if 0 < x and x < 10:\n",
    "print('x is a positive single-digit number.')\n",
    "5.8. Recursion 43\n",
    "For this kind of condition, Python provides a more concise option:\n",
    "if 0 < x < 10:\n",
    "print('x is a positive single-digit number.')"
   ]
  },
  {
   "cell_type": "markdown",
   "metadata": {},
   "source": [
    "5.8 Recursion\n",
    "It is legal for one function to call another; it is also legal for a function to call itself. It may\n",
    "not be obvious why that is a good thing, but it turns out to be one of the most magical\n",
    "things a program can do. For example, look at the following function:\n",
    "def countdown(n):\n",
    "if n <= 0:\n",
    "print('Blastoff!')\n",
    "else:\n",
    "print(n)\n",
    "countdown(n-1)\n",
    "If n is 0 or negative, it outputs the word, “Blastoff!” Otherwise, it outputs n and then calls\n",
    "a function named countdown—itself—passing n-1 as an argument.\n",
    "What happens if we call this function like this?\n",
    ">>> countdown(3)\n",
    "The execution of countdown begins with n=3, and since n is greater than 0, it outputs the\n",
    "value 3, and then calls itself...\n",
    "The execution of countdown begins with n=2, and since n is greater than 0, it\n",
    "outputs the value 2, and then calls itself...\n",
    "The execution of countdown begins with n=1, and since n is greater\n",
    "than 0, it outputs the value 1, and then calls itself...\n",
    "The execution of countdown begins with n=0, and since n is\n",
    "not greater than 0, it outputs the word, “Blastoff!” and then\n",
    "returns.\n",
    "The countdown that got n=1 returns.\n",
    "The countdown that got n=2 returns.\n",
    "The countdown that got n=3 returns.\n",
    "And then you’re back in __main__. So, the total output looks like this:\n",
    "3\n",
    "2\n",
    "1\n",
    "Blastoff!\n",
    "A function that calls itself is recursive; the process of executing it is called recursion.\n",
    "As another example, we can write a function that prints a string n times.\n",
    "def print_n(s, n):\n",
    "if n <= 0:\n",
    "return\n",
    "print(s)\n",
    "print_n(s, n-1)\n",
    "44 Chapter 5. Conditionals and recursion\n",
    "__main__\n",
    "countdown\n",
    "countdown\n",
    "countdown\n",
    "countdown\n",
    "n 3\n",
    "n 2\n",
    "n 1\n",
    "n 0\n",
    "Figure 5.1: Stack diagram.\n",
    "If n <= 0 the return statement exits the function. The flow of execution immediately returns to the caller, and the remaining lines of the function don’t run.\n",
    "The rest of the function is similar to countdown: it displays s and then calls itself to display\n",
    "s n − 1 additional times. So the number of lines of output is 1 + (n - 1), which adds up\n",
    "to n.\n",
    "For simple examples like this, it is probably easier to use a for loop. But we will see\n",
    "examples later that are hard to write with a for loop and easy to write with recursion, so it\n",
    "is good to start early"
   ]
  },
  {
   "cell_type": "markdown",
   "metadata": {},
   "source": [
    "5.9 Stack diagrams for recursive functions\n",
    "In Section 3.9, we used a stack diagram to represent the state of a program during a function\n",
    "call. The same kind of diagram can help interpret a recursive function.\n",
    "Every time a function gets called, Python creates a frame to contain the function’s local\n",
    "variables and parameters. For a recursive function, there might be more than one frame on\n",
    "the stack at the same time.\n",
    "Figure 5.1 shows a stack diagram for countdown called with n = 3.\n",
    "As usual, the top of the stack is the frame for __main__. It is empty because we did not\n",
    "create any variables in __main__ or pass any arguments to it.\n",
    "The four countdown frames have different values for the parameter n. The bottom of the\n",
    "stack, where n=0, is called the base case. It does not make a recursive call, so there are no\n",
    "more frames.\n",
    "As an exercise, draw a stack diagram for print_n called with s = 'Hello' and n=2. Then\n",
    "write a function called do_n that takes a function object and a number, n, as arguments, and\n",
    "that calls the given function n times."
   ]
  },
  {
   "cell_type": "markdown",
   "metadata": {},
   "source": [
    "5.10 Infinite recursion\n",
    "If a recursion never reaches a base case, it goes on making recursive calls forever, and the\n",
    "program never terminates. This is known as infinite recursion, and it is generally not a\n",
    "good idea. Here is a minimal program with an infinite recursion:\n",
    "5.11. Keyboard input 45\n",
    "def recurse():\n",
    "recurse()\n",
    "In most programming environments, a program with infinite recursion does not really run\n",
    "forever. Python reports an error message when the maximum recursion depth is reached:\n",
    "File \"<stdin>\", line 2, in recurse\n",
    "File \"<stdin>\", line 2, in recurse\n",
    "File \"<stdin>\", line 2, in recurse\n",
    ".\n",
    ".\n",
    ".\n",
    "File \"<stdin>\", line 2, in recurse\n",
    "RuntimeError: Maximum recursion depth exceeded\n",
    "This traceback is a little bigger than the one we saw in the previous chapter. When the error\n",
    "occurs, there are 1000 recurse frames on the stack!\n",
    "If you encounter an infinite recursion by accident, review your function to confirm that\n",
    "there is a base case that does not make a recursive call. And if there is a base case, check\n",
    "whether you are guaranteed to reach it."
   ]
  },
  {
   "cell_type": "markdown",
   "metadata": {},
   "source": [
    "5.11 Keyboard input\n",
    "The programs we have written so far accept no input from the user. They just do the same\n",
    "thing every time.\n",
    "Python provides a built-in function called input that stops the program and waits for the\n",
    "user to type something. When the user presses Return or Enter, the program resumes and\n",
    "input returns what the user typed as a string. In Python 2, the same function is called\n",
    "raw_input.\n",
    ">>> text = input()\n",
    "What are you waiting for?\n",
    ">>> text\n",
    "'What are you waiting for?'\n",
    "Before getting input from the user, it is a good idea to print a prompt telling the user what\n",
    "to type. input can take a prompt as an argument:\n",
    ">>> name = input('What...is your name?\\n')\n",
    "What...is your name?\n",
    "Arthur, King of the Britons!\n",
    ">>> name\n",
    "'Arthur, King of the Britons!'\n",
    "The sequence \\n at the end of the prompt represents a newline, which is a special character\n",
    "that causes a line break. That’s why the user’s input appears below the prompt.\n",
    "If you expect the user to type an integer, you can try to convert the return value to int:\n",
    ">>> prompt = 'What...is the airspeed velocity of an unladen swallow?\\n'\n",
    ">>> speed = input(prompt)\n",
    "What...is the airspeed velocity of an unladen swallow?\n",
    "42\n",
    ">>> int(speed)\n",
    "42\n",
    "46 Chapter 5. Conditionals and recursion\n",
    "But if the user types something other than a string of digits, you get an error:\n",
    ">>> speed = input(prompt)\n",
    "What...is the airspeed velocity of an unladen swallow?\n",
    "What do you mean, an African or a European swallow?\n",
    ">>> int(speed)\n",
    "ValueError: invalid literal for int() with base 10\n",
    "We will see how to handle this kind of error later.\n"
   ]
  },
  {
   "cell_type": "markdown",
   "metadata": {},
   "source": [
    "5.12 Debugging\n",
    "When a syntax or runtime error occurs, the error message contains a lot of information, but\n",
    "it can be overwhelming. The most useful parts are usually:\n",
    "• What kind of error it was, and\n",
    "• Where it occurred.\n",
    "Syntax errors are usually easy to find, but there are a few gotchas. Whitespace errors can\n",
    "be tricky because spaces and tabs are invisible and we are used to ignoring them.\n",
    ">>> x = 5\n",
    ">>> y = 6\n",
    "File \"<stdin>\", line 1\n",
    "y = 6\n",
    "^\n",
    "IndentationError: unexpected indent\n",
    "In this example, the problem is that the second line is indented by one space. But the error\n",
    "message points to y, which is misleading. In general, error messages indicate where the\n",
    "problem was discovered, but the actual error might be earlier in the code, sometimes on a\n",
    "previous line.\n",
    "The same is true of runtime errors. Suppose you are trying to compute a signal-to-noise\n",
    "ratio in decibels. The formula is SNRdb = 10 log10(Psignal/Pnoise). In Python, you might\n",
    "write something like this:\n",
    "import math\n",
    "signal_power = 9\n",
    "noise_power = 10\n",
    "ratio = signal_power // noise_power\n",
    "decibels = 10 * math.log10(ratio)\n",
    "print(decibels)\n",
    "When you run this program, you get an exception:\n",
    "Traceback (most recent call last):\n",
    "File \"snr.py\", line 5, in ?\n",
    "decibels = 10 * math.log10(ratio)\n",
    "ValueError: math domain error\n",
    "The error message indicates line 5, but there is nothing wrong with that line. To find the\n",
    "real error, it might be useful to print the value of ratio, which turns out to be 0. The\n",
    "problem is in line 4, which uses floor division instead of floating-point division.\n",
    "You should take the time to read error messages carefully, but don’t assume that everything\n",
    "they say is correct."
   ]
  },
  {
   "cell_type": "markdown",
   "metadata": {},
   "source": [
    "5.13 Glossary\n",
    "floor division: An operator, denoted //, that divides two numbers and rounds down (toward negative infinity) to an integer.\n",
    "modulus operator: An operator, denoted with a percent sign (%), that works on integers\n",
    "and returns the remainder when one number is divided by another.\n",
    "boolean expression: An expression whose value is either True or False.\n",
    "relational operator: One of the operators that compares its operands: ==, !=, >, <, >=, and\n",
    "<=.\n",
    "logical operator: One of the operators that combines boolean expressions: and, or, and\n",
    "not.\n",
    "conditional statement: A statement that controls the flow of execution depending on some\n",
    "condition.\n",
    "condition: The boolean expression in a conditional statement that determines which\n",
    "branch runs.\n",
    "compound statement: A statement that consists of a header and a body. The header ends\n",
    "with a colon (:). The body is indented relative to the header.\n",
    "branch: One of the alternative sequences of statements in a conditional statement.\n",
    "chained conditional: A conditional statement with a series of alternative branches.\n",
    "nested conditional: A conditional statement that appears in one of the branches of another\n",
    "conditional statement.\n",
    "return statement: A statement that causes a function to end immediately and return to the\n",
    "caller.\n",
    "recursion: The process of calling the function that is currently executing.\n",
    "base case: A conditional branch in a recursive function that does not make a recursive call.\n",
    "infinite recursion: A recursion that doesn’t have a base case, or never reaches it. Eventually, an infinite recursion causes a runtime error.\n"
   ]
  },
  {
   "cell_type": "markdown",
   "metadata": {},
   "source": [
    "5.14 Exercises\n",
    "Exercise 5.1. The time module provides a function, also named time, that returns the current\n",
    "Greenwich Mean Time in “the epoch”, which is an arbitrary time used as a reference point. On\n",
    "UNIX systems, the epoch is 1 January 1970.\n",
    ">>> import time\n",
    ">>> time.time()\n",
    "1437746094.5735958\n",
    "Write a script that reads the current time and converts it to a time of day in hours, minutes, and\n",
    "seconds, plus the number of days since the epoch.\n",
    "48 Chapter 5. Conditionals and recursion\n",
    "Exercise 5.2. Fermat’s Last Theorem says that there are no positive integers a, b, and c such that\n",
    "a\n",
    "n + b\n",
    "n = c\n",
    "n\n",
    "for any values of n greater than 2.\n",
    "1. Write a function named check_fermat that takes four parameters—a, b, c and n—and\n",
    "checks to see if Fermat’s theorem holds. If n is greater than 2 and\n",
    "a\n",
    "n + b\n",
    "n = c\n",
    "n\n",
    "the program should print, “Holy smokes, Fermat was wrong!” Otherwise the program should\n",
    "print, “No, that doesn’t work.”\n",
    "2. Write a function that prompts the user to input values for a, b, c and n, converts them to\n",
    "integers, and uses check_fermat to check whether they violate Fermat’s theorem.\n",
    "Exercise 5.3. If you are given three sticks, you may or may not be able to arrange them in a triangle.\n",
    "For example, if one of the sticks is 12 inches long and the other two are one inch long, you will not\n",
    "be able to get the short sticks to meet in the middle. For any three lengths, there is a simple test to\n",
    "see if it is possible to form a triangle:\n",
    "If any of the three lengths is greater than the sum of the other two, then you cannot\n",
    "form a triangle. Otherwise, you can. (If the sum of two lengths equals the third, they\n",
    "form what is called a “degenerate” triangle.)\n",
    "1. Write a function named is_triangle that takes three integers as arguments, and that prints\n",
    "either “Yes” or “No”, depending on whether you can or cannot form a triangle from sticks\n",
    "with the given lengths.\n",
    "2. Write a function that prompts the user to input three stick lengths, converts them to integers,\n",
    "and uses is_triangle to check whether sticks with the given lengths can form a triangle.\n",
    "Exercise 5.4. What is the output of the following program? Draw a stack diagram that shows the\n",
    "state of the program when it prints the result.\n",
    "def recurse(n, s):\n",
    "if n == 0:\n",
    "print(s)\n",
    "else:\n",
    "recurse(n-1, n+s)\n",
    "recurse(3, 0)\n",
    "1. What would happen if you called this function like this: recurse(-1, 0)?\n",
    "2. Write a docstring that explains everything someone would need to know in order to use this\n",
    "function (and nothing else).\n",
    "The following exercises use the turtle module, described in Chapter 4:\n",
    "Exercise 5.5. Read the following function and see if you can figure out what it does (see the examples in Chapter 4). Then run it and see if you got it right.\n",
    "5.14. Exercises 49\n",
    "Figure 5.2: A Koch curve.\n",
    "def draw(t, length, n):\n",
    "if n == 0:\n",
    "return\n",
    "angle = 50\n",
    "t.fd(length*n)\n",
    "t.lt(angle)\n",
    "draw(t, length, n-1)\n",
    "t.rt(2*angle)\n",
    "draw(t, length, n-1)\n",
    "t.lt(angle)\n",
    "t.bk(length*n)\n",
    "Exercise 5.6. The Koch curve is a fractal that looks something like Figure 5.2. To draw a Koch\n",
    "curve with length x, all you have to do is\n",
    "1. Draw a Koch curve with length x/3.\n",
    "2. Turn left 60 degrees.\n",
    "3. Draw a Koch curve with length x/3.\n",
    "4. Turn right 120 degrees.\n",
    "5. Draw a Koch curve with length x/3.\n",
    "6. Turn left 60 degrees.\n",
    "7. Draw a Koch curve with length x/3.\n",
    "The exception is if x is less than 3: in that case, you can just draw a straight line with length x.\n",
    "1. Write a function called koch that takes a turtle and a length as parameters, and that uses the\n",
    "turtle to draw a Koch curve with the given length.\n",
    "2. Write a function called snowflake that draws three Koch curves to make the outline of a\n",
    "snowflake.\n",
    "Solution: http: // thinkpython2. com/ code/ koch. py .\n",
    "3. The Koch curve can be generalized in several ways. See http: // en. wikipedia. org/\n",
    "wiki/ Koch_ snowflake for examples and implement your favorite."
   ]
  }
 ],
 "metadata": {
  "kernelspec": {
   "display_name": "base",
   "language": "python",
   "name": "python3"
  },
  "language_info": {
   "codemirror_mode": {
    "name": "ipython",
    "version": 3
   },
   "file_extension": ".py",
   "mimetype": "text/x-python",
   "name": "python",
   "nbconvert_exporter": "python",
   "pygments_lexer": "ipython3",
   "version": "3.12.7"
  }
 },
 "nbformat": 4,
 "nbformat_minor": 2
}

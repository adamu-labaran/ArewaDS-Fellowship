{
 "cells": [
  {
   "cell_type": "markdown",
   "metadata": {},
   "source": [
    "__Numbers__\n",
    "\n",
    ">Number data types in Python:\n",
    "\n",
    ">Integers: Integer(negative, zero and positive) numbers Example: ... -3, -2, -1, 0, 1, 2, 3 ...\n",
    "\n",
    ">Floating Point Numbers(Decimal numbers) Example: ... -3.5, -2.25, -1.0, 0.0, 1.1, 2.2, 3.5 ...\n",
    "\n",
    ">Complex Numbers Example: 1 + j, 2 + 4j, 1 - 1j\n",
    "\n",
    ">🌕 You are awesome. You have just completed day 2 challenges and you are two steps ahead on your way to greatness. Now do some exercises for your brain and muscles."
   ]
  },
  {
   "cell_type": "markdown",
   "metadata": {},
   "source": [
    "> 💻 Exercises - Module 2\n",
    "\n",
    ">Exercises: Level 1\n",
    "\n",
    ">Inside 30DaysOfPython create a folder called day_2. Inside this folder create a file named variables.py\n",
    "\n",
    ">Write a python comment saying 'Day 2: 30 Days of python programming'\n",
    "\n",
    ">Declare a first name variable and assign a value to it\n",
    "\n",
    ">Declare a last name variable and assign a value to it\n",
    "\n",
    ">Declare a full name variable and assign a value to it\n",
    "\n",
    ">Declare a country variable and assign a value to it\n",
    "\n",
    ">Declare a city variable and assign a value to it\n",
    "\n",
    ">Declare an age variable and assign a value to it\n",
    "\n",
    ">Declare a year variable and assign a value to it\n",
    "\n",
    ">Declare a variable is_married and assign a value to it\n",
    "\n",
    ">Declare a variable is_true and assign a value to it\n",
    "\n",
    ">Declare a variable is_light_on and assign a value to it\n",
    "\n",
    ">Declare multiple variable on one line"
   ]
  },
  {
   "cell_type": "markdown",
   "metadata": {},
   "source": [
    "### Exercises: Level 2\n",
    ">Check the data type of all your variables \n",
    "\n",
    "- using type() built-in function \n",
    "- Using the len() built-in function, find the length of your first name \n",
    "- Compare the length of your first name and your last name\n",
    "Declare 5 as num_one and 4 as num_two\n",
    "Add num_one and num_two and assign the value to a variable total\n",
    "Subtract num_two from num_one and assign the value to a variable diff\n",
    "Multiply num_two and num_one and assign the value to a variable product\n",
    "Divide num_one by num_two and assign the value to a variable division\n",
    "Use modulus division to find num_two divided by num_one and assign the value to a variable remainder\n",
    "Calculate num_one to the power of num_two and assign the value to a variable exp\n",
    "Find floor division of num_one by num_two and assign the value to a variable floor_division\n",
    "The radius of a circle is 30 meters.\n",
    "Calculate the area of a circle and assign the value to a variable name of area_of_circle\n",
    "Calculate the circumference of a circle and assign the value to a variable name of circum_of_circle\n",
    "Take radius as user input and calculate the area.\n",
    "Use the built-in input function to get first name, last name, country and age from a user and store the value to their corresponding variable names\n",
    "Run help('keywords') in Python shell or in your file to check for the Python reserved words or keywords"
   ]
  },
  {
   "cell_type": "markdown",
   "metadata": {},
   "source": [
    "💻 Exercises: Module 5\n",
    "Exercises: Level 1\n",
    "Declare an empty list\n",
    "\n",
    "Declare a list with more than 5 items\n",
    "\n",
    "Find the length of your list\n",
    "\n",
    "Get the first item, the middle item and the last item of the list\n",
    "\n",
    "Declare a list called mixed_data_types, put your(name, age, height, marital status, address)\n",
    "\n",
    "Declare a list variable named it_companies and assign initial values Facebook, Google, Microsoft, Apple, IBM, Oracle and Amazon.\n",
    "\n",
    "Print the list using print()\n",
    "\n",
    "Print the number of companies in the list\n",
    "\n",
    "Print the first, middle and last company\n",
    "\n",
    "Print the list after modifying one of the companies\n",
    "\n",
    "Add an IT company to it_companies\n",
    "\n",
    "Insert an IT company in the middle of the companies list\n",
    "\n",
    "Change one of the it_companies names to uppercase (IBM excluded!)\n",
    "\n",
    "Join the it_companies with a string '#;  '\n",
    "\n",
    "Check if a certain company exists in the it_companies list.\n",
    "\n",
    "Sort the list using sort() method\n",
    "\n",
    "Reverse the list in descending order using reverse() method\n",
    "\n",
    "Slice out the first 3 companies from the list\n",
    "\n",
    "Slice out the last 3 companies from the list\n",
    "\n",
    "Slice out the middle IT company or companies from the list\n",
    "\n",
    "Remove the first IT company from the list\n",
    "\n",
    "Remove the middle IT company or companies from the list\n",
    "\n",
    "Remove the last IT company from the list\n",
    "\n",
    "Remove all IT companies from the list\n",
    "\n",
    "Destroy the IT companies list\n",
    "\n",
    "Join the following lists:"
   ]
  },
  {
   "cell_type": "code",
   "execution_count": null,
   "metadata": {},
   "outputs": [],
   "source": [
    "front_end = ['HTML', 'CSS', 'JS', 'React', 'Redux']\n",
    "back_end = ['Node','Express', 'MongoDB']"
   ]
  },
  {
   "cell_type": "markdown",
   "metadata": {},
   "source": [
    "After joining the lists in question 26. Copy the joined list and assign it to a variable full_stack, then insert Python and SQL after Redux."
   ]
  },
  {
   "cell_type": "markdown",
   "metadata": {},
   "source": [
    "🌕 You are a rising star . You have just completed day 7 challenges and you are 7 steps ahead in to your way to greatness. Now do some exercises for your brain and muscles.\n",
    "\n",
    "💻 Sets Exercises\n",
    "# sets\n",
    "it_companies = {'Facebook', 'Google', 'Microsoft', 'Apple', 'IBM', 'Oracle', 'Amazon'}\n",
    "A = {19, 22, 24, 20, 25, 26}\n",
    "B = {19, 22, 20, 25, 26, 24, 28, 27}\n",
    "age = [22, 19, 24, 25, 26, 24, 25, 24]\n",
    "Sets Exercises: Level 1\n",
    "Find the length of the set it_companies\n",
    "Add 'Twitter' to it_companies\n",
    "Insert multiple IT companies at once to the set it_companies\n",
    "Remove one of the companies from the set it_companies\n",
    "What is the difference between remove and discard\n",
    "Sets Exercises: Level 2\n",
    "Join A and B\n",
    "Find A intersection B\n",
    "Is A subset of B\n",
    "Are A and B disjoint sets\n",
    "Join A with B and B with A\n",
    "What is the symmetric difference between A and B\n",
    "Delete the sets completely\n",
    "Sets Exercises: Level 3\n",
    "Convert the ages to a set and compare the length of the list and the set, which one is bigger?\n",
    "Explain the difference between the following data types: string, list, tuple and set\n",
    "I am a teacher and I love to inspire and teach people. How many unique words have been used in the sentence? Use the split methods and set to get the unique words.\n",
    "🎉 CONGRATULATIONS ! 🎉"
   ]
  },
  {
   "cell_type": "markdown",
   "metadata": {},
   "source": [
    "Exercises: Level 2\n",
    "The following is a list of 10 students ages:\n",
    "ages = [19, 22, 19, 24, 20, 25, 26, 24, 25, 24]\n",
    "Sort the list and find the min and max age\n",
    "Add the min age and the max age again to the list\n",
    "Find the median age (one middle item or two middle items divided by two)\n",
    "Find the average age (sum of all items divided by their number )\n",
    "Find the range of the ages (max minus min)\n",
    "Compare the value of (min - average) and (max - average), use abs() method\n",
    "Find the middle country(ies) in the countries list\n",
    "Divide the countries list into two equal lists if it is even if not one more country for the first half.\n",
    "['China', 'Russia', 'USA', 'Finland', 'Sweden', 'Norway', 'Denmark']. Unpack the first three countries and the rest as scandic countries."
   ]
  },
  {
   "cell_type": "code",
   "execution_count": 1,
   "metadata": {},
   "outputs": [
    {
     "name": "stdout",
     "output_type": "stream",
     "text": [
      "adamu \n",
      "labaran\n",
      "adamu labaran\n",
      "Nigeria\n",
      "Abuja\n",
      "28\n",
      "2025\n",
      "False\n",
      "True\n",
      "0\n",
      "6 9\n",
      "<class 'int'>\n",
      "6 9\n",
      "<class 'int'>\n",
      "<class 'bool'>\n",
      "<class 'str'>\n",
      "<class 'str'>\n",
      "<class 'str'>\n",
      "<class 'int'>\n",
      "<class 'int'>\n",
      "6\n",
      "7\n",
      "9\n",
      "1\n",
      "20\n",
      "1.25\n",
      "1\n",
      "625\n",
      "1\n",
      "2827.7999999999997\n",
      "Help on built-in function len in module builtins:\n",
      "\n",
      "len(obj, /)\n",
      "    Return the number of items in a container.\n",
      "\n",
      "None\n"
     ]
    }
   ],
   "source": [
    "### Exercises: Level 1\n",
    "# Inside 30DaysOfPython create a folder called day_2. Inside this folder create a file named variables.py\n",
    "\n",
    "# Write a python comment saying 'Day 2: 30 Days of python programming'\n",
    "\n",
    "# Declare a first name variable and assign a value to it\n",
    "f_name  = \"adamu \"\n",
    "print(f_name)\n",
    "\n",
    "# Declare a last name variable and assign a value to it\n",
    "l_name = \"labaran\"\n",
    "print(l_name)\n",
    "\n",
    "# Declare a full name variable and assign a value to it\n",
    "full_name = f_name + l_name\n",
    "print(full_name)\n",
    "\n",
    "#Declare a country variable and assign a value to it\n",
    "country = \"Nigeria\"\n",
    "print(country)\n",
    "\n",
    "#Declare a city variable and assign a value to it\n",
    "city = \"Abuja\"\n",
    "print(city)\n",
    "\n",
    "#Declare an age variable and assign a value to it\n",
    "age = 28\n",
    "print(age)\n",
    "\n",
    "# Declare a year variable and assign a value to it\n",
    "year = 2025\n",
    "print(year)\n",
    "\n",
    "#Declare a variable is_married and assign a value to it\n",
    "is_maried = False\n",
    "print(is_maried)\n",
    "\n",
    "# Declare a variable is_true and assign a value to it\n",
    "is_true = not is_maried\n",
    "print(is_true)\n",
    "\n",
    "# Declare a variable is_light_on and assign a value to it\n",
    "is_light_on = 0\n",
    "print(is_light_on)\n",
    "\n",
    "# Declare multiple variable on one line\n",
    "x = 4; y = 6; x, y = 6, 9\n",
    "print(x,y)\n",
    "\n",
    "## Exercises: Level 2\n",
    "\n",
    "# Check the data type of all your variables using type() built-in function\n",
    "print(type(x))\n",
    "\n",
    "x = str(x)\n",
    "y = str(y)\n",
    "print(x, y)\n",
    "\n",
    "print(type(is_light_on))\n",
    "\n",
    "print(type(is_maried))\n",
    "print(type(country))\n",
    "print(type(full_name))\n",
    "print(type(city))\n",
    "print(type(age))\n",
    "print(type(year))\n",
    "\n",
    "# Using the len() built-in function, find the length of your first name\n",
    "print(len(f_name))\n",
    "\n",
    "# Compare the length of your first name and your last name\n",
    "print(len(l_name))\n",
    "\n",
    "# Declare 5 as num_one and 4 as num_two\n",
    "num_one = 5\n",
    "num_two = 4\n",
    "\n",
    "# Add num_one and num_two and assign the value to a variable total\n",
    "total = num_one + num_two\n",
    "print(total)\n",
    "\n",
    "# Subtract num_two from num_one and assign the value to a variable diff\n",
    "diff = num_one - num_two\n",
    "print(diff)\n",
    "\n",
    "# Multiply num_two and num_one and assign the value to a variable product\n",
    "pduct = num_one * num_two\n",
    "print(pduct)\n",
    "\n",
    "# Divide num_one by num_two and assign the value to a variable division\n",
    "div = num_one / num_two\n",
    "print(div)\n",
    "\n",
    "# Use modulus division to find num_two divided by num_one and assign the value to a variable remainder\n",
    "mod = num_one % num_two\n",
    "print(mod)\n",
    "\n",
    "# Calculate num_one to the power of num_two and assign the value to a variable exp\n",
    "exp = num_one ** num_two\n",
    "print(exp)\n",
    "\n",
    "# Find floor division of num_one by num_two and assign the value to a variable floor_division\n",
    "floor = num_one // num_two\n",
    "print(floor)\n",
    "\n",
    "# The radius of a circle is 30 meters.\n",
    "r = 30\n",
    "\n",
    "# Calculate the area of a circle and assign the value to a variable name of area_of_circle\n",
    "area_of_circle = 3.142 * r ** 2\n",
    "print(area_of_circle)\n",
    "\n",
    "# Calculate the area of a circle and assign the value to a variable name of area_of_circle\n",
    "# Calculate the circumference of a circle and assign the value to a variable name of circum_of_circle\n",
    "\n",
    "# Take radius as user input and calculate the area.\n",
    "\n",
    "# Use the built-in input function to get first name, last name, country and age from a user and store the value to their corresponding variable names\n",
    "\n",
    "# Run help('keywords') in Python shell or in your file to check for the Python reserved words or keywords\n",
    "print(help(len))\n",
    "# 🎉 CONGRATULATIONS ! 🎉\n",
    "# python.exe -m pip install ipykernel -U --user --force-reinstall"
   ]
  },
  {
   "cell_type": "code",
   "execution_count": 3,
   "metadata": {},
   "outputs": [
    {
     "name": "stdout",
     "output_type": "stream",
     "text": [
      "The area of the circle is: 28.274333882308138\n",
      "The circumference of the circle is: 18.84955592153876\n"
     ]
    }
   ],
   "source": [
    "import math\n",
    "\n",
    "# Calculate the area and circumference of a circle\n",
    "radius = float(input(\"Enter the radius of the circle: \"))\n",
    "area_of_circle = math.pi * radius ** 2\n",
    "circum_of_circle = 2 * math.pi * radius\n",
    "\n",
    "# Print the results\n",
    "print(f\"The area of the circle is: {area_of_circle}\")\n",
    "print(f\"The circumference of the circle is: {circum_of_circle}\")"
   ]
  },
  {
   "cell_type": "code",
   "execution_count": 6,
   "metadata": {},
   "outputs": [
    {
     "name": "stdout",
     "output_type": "stream",
     "text": [
      "Name: Adamu Labaran, Country: Nigeria, Age: 28\n"
     ]
    }
   ],
   "source": [
    "# Get user details\n",
    "first_name = input(\"Enter your first name: \")\n",
    "last_name = input(\"Enter your last name: \")\n",
    "country = input(\"Enter your country: \")\n",
    "age = int(input(\"Enter your age: \"))\n",
    "\n",
    "# Display the collected information\n",
    "print(f\"Name: {first_name.title()} {last_name.title()}, Country: {country.title()}, Age: {age}\")"
   ]
  },
  {
   "cell_type": "code",
   "execution_count": 5,
   "metadata": {},
   "outputs": [
    {
     "name": "stdout",
     "output_type": "stream",
     "text": [
      "\n",
      "Here is a list of the Python keywords.  Enter any keyword to get more help.\n",
      "\n",
      "False               class               from                or\n",
      "None                continue            global              pass\n",
      "True                def                 if                  raise\n",
      "and                 del                 import              return\n",
      "as                  elif                in                  try\n",
      "assert              else                is                  while\n",
      "async               except              lambda              with\n",
      "await               finally             nonlocal            yield\n",
      "break               for                 not                 \n",
      "\n"
     ]
    }
   ],
   "source": [
    "# Check Python reserved keywords\n",
    "help('keywords')"
   ]
  },
  {
   "cell_type": "markdown",
   "metadata": {},
   "source": [
    "### 🌕 You are an extraordinary. You are 16 steps a head to your way to greatness. Now do some exercises for your brain and muscles.\n",
    "\n",
    "##### 💻 Python Datetime Exercises\n",
    ">Get the current day, month, year, hour, minute and timestamp from datetime module.\n",
    "\n",
    ">Format the current date using this format: (\"%m/%d/%Y, %H:%M:%S\" ).\n",
    "\n",
    ">Today is 5 December, 2019. Change this time string to time.\n",
    "\n",
    ">Calculate the time difference between now and new year.\n",
    "\n",
    ">Calculate the time difference between 1 January 1970 and now.\n",
    "\n",
    ">Think, what can you use the datetime module for? Examples:\n",
    ">Time series analysis\n",
    "\n",
    ">To get a timestamp of any activities in an application\n",
    "\n",
    ">Adding posts on a blog"
   ]
  },
  {
   "cell_type": "code",
   "execution_count": 7,
   "metadata": {},
   "outputs": [
    {
     "name": "stdout",
     "output_type": "stream",
     "text": [
      "Current Day: 10\n",
      "Current Month: 1\n",
      "Current Year: 2025\n",
      "Current Hour: 20\n",
      "Current Minute: 52\n",
      "Current Timestamp: 1736538740.510637\n"
     ]
    }
   ],
   "source": [
    "from datetime import datetime\n",
    "\n",
    "# Get the current datetime\n",
    "current_datetime = datetime.now()\n",
    "\n",
    "# Extract the day, month, year, hour, and minute\n",
    "current_day = current_datetime.day\n",
    "current_month = current_datetime.month\n",
    "current_year = current_datetime.year\n",
    "current_hour = current_datetime.hour\n",
    "current_minute = current_datetime.minute\n",
    "\n",
    "# Get the current timestamp\n",
    "current_timestamp = current_datetime.timestamp()\n",
    "\n",
    "# Display the results\n",
    "print(f\"Current Day: {current_day}\")\n",
    "print(f\"Current Month: {current_month}\")\n",
    "print(f\"Current Year: {current_year}\")\n",
    "print(f\"Current Hour: {current_hour}\")\n",
    "print(f\"Current Minute: {current_minute}\")\n",
    "print(f\"Current Timestamp: {current_timestamp}\")\n"
   ]
  },
  {
   "cell_type": "code",
   "execution_count": 8,
   "metadata": {},
   "outputs": [
    {
     "name": "stdout",
     "output_type": "stream",
     "text": [
      "Formatted Date: 01/10/2025, 20:53:37\n"
     ]
    }
   ],
   "source": [
    "from datetime import datetime\n",
    "\n",
    "# Get the current datetime\n",
    "current_datetime = datetime.now()\n",
    "\n",
    "# Format the current date and time\n",
    "formatted_date = current_datetime.strftime(\"%m/%d/%Y, %H:%M:%S\")\n",
    "\n",
    "# Display the formatted date\n",
    "print(f\"Formatted Date: {formatted_date}\")\n"
   ]
  },
  {
   "cell_type": "code",
   "execution_count": 1,
   "metadata": {},
   "outputs": [
    {
     "name": "stdout",
     "output_type": "stream",
     "text": [
      "Formatted Date and Time: 01/22/2025, 20:25:22\n"
     ]
    }
   ],
   "source": [
    "from datetime import datetime\n",
    "\n",
    "# Get the current datetime\n",
    "current_datetime = datetime.now()\n",
    "\n",
    "# Format the date and time\n",
    "formatted_date = current_datetime.strftime(\"%m/%d/%Y, %H:%M:%S\")\n",
    "\n",
    "# Display the formatted date and time\n",
    "print(f\"Formatted Date and Time: {formatted_date}\")\n"
   ]
  },
  {
   "cell_type": "code",
   "execution_count": 15,
   "metadata": {},
   "outputs": [
    {
     "name": "stdout",
     "output_type": "stream",
     "text": [
      "Datetime Object: 2019-12-05 00:00:00\n"
     ]
    }
   ],
   "source": [
    "# Today is 5 December, 2019. Change this time string to time.\n",
    "from datetime import datetime\n",
    "'''\n",
    "%d matches the day of the month (e.g., 5).\n",
    "%B matches the full month name (e.g., December).\n",
    "%Y matches the four-digit year (e.g., 2019).\n",
    "'''\n",
    "# The time string\n",
    "time_string = \"5 December, 2019\"\n",
    "\n",
    "# Convert the string to a datetime object\n",
    "time_object = datetime.strptime(time_string, \"%d %B, %Y\")\n",
    "\n",
    "# Display the result\n",
    "print(f\"Datetime Object: {time_object}\")"
   ]
  },
  {
   "cell_type": "code",
   "execution_count": 16,
   "metadata": {},
   "outputs": [
    {
     "name": "stdout",
     "output_type": "stream",
     "text": [
      "Time left until New Year: 355 days, 2:51:23.126454\n"
     ]
    }
   ],
   "source": [
    "# Calculate the time difference between now and new year.\n",
    "from datetime import datetime\n",
    "\n",
    "'''\n",
    "datetime.now() gets the current date and time.\n",
    "datetime(current_datetime.year + 1, 1, 1, 0, 0, 0) represents the upcoming New Year's Day at midnight.\n",
    "Subtracting current_datetime from new_year_datetime gives a timedelta object that represents the time difference.\n",
    "This will show the remaining time until New Year in the format of days, hours, minutes, and seconds.\n",
    "'''\n",
    "# Get the current datetime\n",
    "current_datetime = datetime.now()\n",
    "\n",
    "# Define the New Year datetime for the current year\n",
    "new_year_datetime = datetime(current_datetime.year + 1, 1, 1, 0, 0, 0)\n",
    "\n",
    "# Calculate the time difference\n",
    "time_difference = new_year_datetime - current_datetime\n",
    "\n",
    "# Display the result\n",
    "print(f\"Time left until New Year: {time_difference}\")"
   ]
  },
  {
   "cell_type": "code",
   "execution_count": 17,
   "metadata": {},
   "outputs": [
    {
     "name": "stdout",
     "output_type": "stream",
     "text": [
      "Time difference since 1 January 1970: 20098 days, 21:08:38.349035\n"
     ]
    }
   ],
   "source": [
    "# Calculate the time difference between 1 January 1970 and now.\n",
    "from datetime import datetime\n",
    "\n",
    "'''\n",
    "datetime(1970, 1, 1) creates a datetime object for January 1, 1970, at 00:00:00.\n",
    "datetime.now() gets the current date and time.\n",
    "Subtracting the epoch time from the current time yields a timedelta object that represents the total difference in days, hours, minutes, and seconds.\n",
    "'''\n",
    "\n",
    "# Define the epoch start time (1 January 1970)\n",
    "epoch_start = datetime(1970, 1, 1)\n",
    "\n",
    "# Get the current datetime\n",
    "current_datetime = datetime.now()\n",
    "\n",
    "# Calculate the time difference\n",
    "time_difference = current_datetime - epoch_start\n",
    "\n",
    "# Display the result\n",
    "print(f\"Time difference since 1 January 1970: {time_difference}\")"
   ]
  },
  {
   "cell_type": "code",
   "execution_count": null,
   "metadata": {},
   "outputs": [],
   "source": [
    "# Think, what can you use the datetime module for? Examples:\n",
    "# Time series analysis\n",
    "\n",
    "# To get a timestamp of any activities in an application\n",
    "\n",
    "# Adding posts on a blog\n",
    "\n",
    "# https://chatgpt.com/c/678178e3-9f6c-8012-99c0-90a8bc36ea7c\n"
   ]
  },
  {
   "cell_type": "markdown",
   "metadata": {},
   "source": [
    ">You are making a big progress. Maintain your momentum, keep the good work. Now do some exercises for your brain and muscles.\n",
    "\n",
    "💻 File Handling Exercises:\n",
    "\n",
    "__Exercises: Level 1__\n",
    "\n",
    ">Write a function which count number of lines and number of words in a text. All the files are in the data the folder: a) Read obama_speech.txt file and count number of lines and words b) Read michelle_obama_speech.txt file and count number of lines and words c) Read donald_speech.txt file and count number of lines and words d) Read melina_trump_speech.txt file and count number of lines and words\n",
    "\n",
    "Read the countries_data.json data file in data directory, create a function that finds the ten most spoken languages"
   ]
  },
  {
   "cell_type": "code",
   "execution_count": null,
   "metadata": {},
   "outputs": [],
   "source": [
    "from pathlib import Path\n",
    "\n",
    "def count_lines_and_words(file_path):\n",
    "    \"\"\"\n",
    "    Count the number of lines and words in a text file.\n",
    "    \n",
    "    Args:\n",
    "    file_path (Path): Path to the text file.\n",
    "    \n",
    "    Returns:\n",
    "    tuple: A tuple containing the number of lines and words.\n",
    "    \"\"\"\n",
    "    with file_path.open('r', encoding='utf-8') as file:\n",
    "        lines = file.readlines()\n",
    "        num_lines = len(lines)\n",
    "        num_words = sum(len(line.split()) for line in lines)\n",
    "    return num_lines, num_words\n",
    "\n",
    "def main():\n",
    "    # Define the folder and files\n",
    "    data_folder = Path('data')\n",
    "    files = [\n",
    "        \"obama_speech.txt\",\n",
    "        \"michelle_obama_speech.txt\",\n",
    "        \"donald_speech.txt\",\n",
    "        \"melina_trump_speech.txt\"\n",
    "    ]\n",
    "    \n",
    "    # Process each file\n",
    "    for file_name in files:\n",
    "        file_path = data_folder / file_name\n",
    "        if file_path.exists():\n",
    "            num_lines, num_words = count_lines_and_words(file_path)\n",
    "            print(f\"{file_name}:\")\n",
    "            print(f\"  Number of lines: {num_lines}\")\n",
    "            print(f\"  Number of words: {num_words}\")\n",
    "        else:\n",
    "            print(f\"{file_name} does not exist in the {data_folder} folder.\")\n",
    "\n",
    "# Run the main function\n",
    "if __name__ == \"__main__\":\n",
    "    main()\n"
   ]
  },
  {
   "cell_type": "code",
   "execution_count": 1,
   "metadata": {},
   "outputs": [
    {
     "ename": "SyntaxError",
     "evalue": "positional argument follows keyword argument (2812664376.py, line 2)",
     "output_type": "error",
     "traceback": [
      "\u001b[1;36m  Cell \u001b[1;32mIn[1], line 2\u001b[1;36m\u001b[0m\n\u001b[1;33m    print(most_spoken_languages(filename='./data/countries_data.json', 10))\u001b[0m\n\u001b[1;37m                                                                         ^\u001b[0m\n\u001b[1;31mSyntaxError\u001b[0m\u001b[1;31m:\u001b[0m positional argument follows keyword argument\n"
     ]
    }
   ],
   "source": [
    "# Your output should look like this\n",
    "print(most_spoken_languages(filename='./data/countries_data.json', 10))\n",
    "[(91, 'English'),\n",
    "(45, 'French'),\n",
    "(25, 'Arabic'),\n",
    "(24, 'Spanish'),\n",
    "(9, 'Russian'),\n",
    "(9, 'Portuguese'),\n",
    "(8, 'Dutch'),\n",
    "(7, 'German'),\n",
    "(5, 'Chinese'),\n",
    "(4, 'Swahili'),\n",
    "(4, 'Serbian')]\n",
    "\n",
    "# Your output should look like this\n",
    "print(most_spoken_languages(filename='./data/countries_data.json', 3))\n",
    "[(91, 'English'),\n",
    "(45, 'French'),\n",
    "(25, 'Arabic')]"
   ]
  },
  {
   "cell_type": "markdown",
   "metadata": {},
   "source": [
    "3. Read the countries_data.json data file in data directory, create a function that creates a list of the ten most populated countries"
   ]
  },
  {
   "cell_type": "code",
   "execution_count": 2,
   "metadata": {},
   "outputs": [
    {
     "ename": "SyntaxError",
     "evalue": "positional argument follows keyword argument (3258829398.py, line 2)",
     "output_type": "error",
     "traceback": [
      "\u001b[1;36m  Cell \u001b[1;32mIn[2], line 2\u001b[1;36m\u001b[0m\n\u001b[1;33m    print(most_populated_countries(filename='./data/countries_data.json', 10))\u001b[0m\n\u001b[1;37m                                                                            ^\u001b[0m\n\u001b[1;31mSyntaxError\u001b[0m\u001b[1;31m:\u001b[0m positional argument follows keyword argument\n"
     ]
    }
   ],
   "source": [
    "# Your output should look like this\n",
    "print(most_populated_countries(filename='./data/countries_data.json', 10))\n",
    "\n",
    "[\n",
    "{'country': 'China', 'population': 1377422166},\n",
    "{'country': 'India', 'population': 1295210000},\n",
    "{'country': 'United States of America', 'population': 323947000},\n",
    "{'country': 'Indonesia', 'population': 258705000},\n",
    "{'country': 'Brazil', 'population': 206135893},\n",
    "{'country': 'Pakistan', 'population': 194125062},\n",
    "{'country': 'Nigeria', 'population': 186988000},\n",
    "{'country': 'Bangladesh', 'population': 161006790},\n",
    "{'country': 'Russian Federation', 'population': 146599183},\n",
    "{'country': 'Japan', 'population': 126960000}\n",
    "]\n",
    "\n",
    "# Your output should look like this\n",
    "\n",
    "print(most_populated_countries(filename='./data/countries_data.json', 3))\n",
    "[\n",
    "{'country': 'China', 'population': 1377422166},\n",
    "{'country': 'India', 'population': 1295210000},\n",
    "{'country': 'United States of America', 'population': 323947000}\n",
    "]"
   ]
  },
  {
   "cell_type": "markdown",
   "metadata": {},
   "source": [
    "Exercises: Level 2\n",
    "Extract all incoming email addresses as a list from the email_exchange_big.txt file.\n",
    "Find the most common words in the English language. Call the name of your function find_most_common_words, it will take two parameters - a string or a file and a positive integer, indicating the number of words. Your function will return an array of tuples in descending order. Check the output"
   ]
  },
  {
   "cell_type": "code",
   "execution_count": 3,
   "metadata": {},
   "outputs": [
    {
     "ename": "NameError",
     "evalue": "name 'find_most_common_words' is not defined",
     "output_type": "error",
     "traceback": [
      "\u001b[1;31m---------------------------------------------------------------------------\u001b[0m",
      "\u001b[1;31mNameError\u001b[0m                                 Traceback (most recent call last)",
      "Cell \u001b[1;32mIn[3], line 2\u001b[0m\n\u001b[0;32m      1\u001b[0m \u001b[38;5;66;03m# Your output should look like this\u001b[39;00m\n\u001b[1;32m----> 2\u001b[0m \u001b[38;5;28mprint\u001b[39m(\u001b[43mfind_most_common_words\u001b[49m(\u001b[38;5;124m'\u001b[39m\u001b[38;5;124msample.txt\u001b[39m\u001b[38;5;124m'\u001b[39m, \u001b[38;5;241m10\u001b[39m))\n\u001b[0;32m      3\u001b[0m [(\u001b[38;5;241m10\u001b[39m, \u001b[38;5;124m'\u001b[39m\u001b[38;5;124mthe\u001b[39m\u001b[38;5;124m'\u001b[39m),\n\u001b[0;32m      4\u001b[0m (\u001b[38;5;241m8\u001b[39m, \u001b[38;5;124m'\u001b[39m\u001b[38;5;124mbe\u001b[39m\u001b[38;5;124m'\u001b[39m),\n\u001b[0;32m      5\u001b[0m (\u001b[38;5;241m6\u001b[39m, \u001b[38;5;124m'\u001b[39m\u001b[38;5;124mto\u001b[39m\u001b[38;5;124m'\u001b[39m),\n\u001b[1;32m   (...)\u001b[0m\n\u001b[0;32m     11\u001b[0m (\u001b[38;5;241m2\u001b[39m, \u001b[38;5;124m'\u001b[39m\u001b[38;5;124mhave\u001b[39m\u001b[38;5;124m'\u001b[39m),\n\u001b[0;32m     12\u001b[0m (\u001b[38;5;241m2\u001b[39m, \u001b[38;5;124m'\u001b[39m\u001b[38;5;124mI\u001b[39m\u001b[38;5;124m'\u001b[39m)]\n\u001b[0;32m     14\u001b[0m \u001b[38;5;66;03m# Your output should look like this\u001b[39;00m\n",
      "\u001b[1;31mNameError\u001b[0m: name 'find_most_common_words' is not defined"
     ]
    }
   ],
   "source": [
    "    # Your output should look like this\n",
    "    print(find_most_common_words('sample.txt', 10))\n",
    "    [(10, 'the'),\n",
    "    (8, 'be'),\n",
    "    (6, 'to'),\n",
    "    (6, 'of'),\n",
    "    (5, 'and'),\n",
    "    (4, 'a'),\n",
    "    (4, 'in'),\n",
    "    (3, 'that'),\n",
    "    (2, 'have'),\n",
    "    (2, 'I')]\n",
    "\n",
    "    # Your output should look like this\n",
    "    print(find_most_common_words('sample.txt', 5))\n",
    "\n",
    "    [(10, 'the'),\n",
    "    (8, 'be'),\n",
    "    (6, 'to'),\n",
    "    (6, 'of'),\n",
    "    (5, 'and')]"
   ]
  },
  {
   "cell_type": "markdown",
   "metadata": {},
   "source": [
    "Use the function, find_most_frequent_words to find: a) The ten most frequent words used in [Obama's speech](https://github.com/Asabeneh/30-Days-Of-Python/blob/master/data/obama_speech.txt) b) The ten most frequent words used in [Michelle's speech](https://github.com/Asabeneh/30-Days-Of-Python/blob/master/data/michelle_obama_speech.txt) c) The ten most frequent words used in [Trump's speech](https://github.com/Asabeneh/30-Days-Of-Python/blob/master/data/donald_speech.txt) d) The ten most frequent words used in [Melina's speech](https://github.com/Asabeneh/30-Days-Of-Python/blob/master/data/melina_trump_speech.txt)\n",
    "\n",
    "Write a python application that checks similarity between two texts. It takes a file or a string as a parameter and it will evaluate the similarity of the two texts. For instance check the similarity between the transcripts of [Michelle's](https://github.com/Asabeneh/30-Days-Of-Python/blob/master/data/michelle_obama_speech.txt) and [Melina's](https://github.com/Asabeneh/30-Days-Of-Python/blob/master/data/melina_trump_speech.txt) speech. You may need a couple of functions, function to clean the text(clean_text), function to remove support words(remove_support_words) and finally to check the similarity(check_text_similarity). List of [stop words](https://github.com/Asabeneh/30-Days-Of-Python/blob/master/data/stop_words.py) are in the data directory\n",
    "Find the 10 most repeated words in the romeo_and_juliet.txt\n",
    "Read the [hacker news csv](https://github.com/Asabeneh/30-Days-Of-Python/blob/master/data/hacker_news.csv) file and find out: a) Count the number of lines containing python or Python b) Count the number lines containing JavaScript, javascript or Javascript c) Count the number lines containing Java and not JavaScript\n",
    "🎉 CONGRATULATIONS ! 🎉"
   ]
  },
  {
   "cell_type": "markdown",
   "metadata": {},
   "source": [
    "__14.12 Exercises__\n",
    "\n",
    ">Exercise 14.1. Write a function called sed that takes as arguments a pattern string, a replacement string, and two filenames; it should read the first file and write the contents into the second file (creating it if necessary). If the pattern string appears anywhere in the file, it should be replaced with the replacement string.\n",
    "\n",
    ">If an error occurs while opening, reading, writing or closing files, your program should catch the exception, print an error message, and exit. Solution: http: // thinkpython2. com/ code/ sed.py\n",
    "\n",
    ">Exercise 14.2. If you download my solution to Exercise 12.2 from http: // thinkpython2. com/code/ anagram_ sets. py , you’ll see that it creates a dictionary that maps from a sorted string of letters to the list of words that can be spelled with those letters. For example, 'opst'maps to the list ['opts', 'post', 'pots', 'spot', 'stop', 'tops'].\n",
    "\n",
    ">Write a module that imports anagram_sets and provides two new functions: store_anagrams should store the anagram dictionary in a “shelf”; read_anagrams should look up a word and return a list of its anagrams. Solution: http: // thinkpython2. com/ code/ anagram_ db. py ."
   ]
  },
  {
   "cell_type": "markdown",
   "metadata": {},
   "source": [
    ">Exercise 14.3. In a large collection of MP3 files, there may be more than one copy of the same song, stored in different directories or with different file names. The goal of this exercise is to search for duplicates.\n",
    "\n",
    ">1. Write a program that searches a directory and all of its subdirectories, recursively, and returns a list of complete paths for all files with a given suffix (like .mp3). Hint: os.path provides several useful functions for manipulating file and path names.\n",
    "\n",
    ">2. To recognize duplicates, you can use md5sum to compute a “checksum” for each files. If two files have the same checksum, they probably have the same contents.\n",
    "\n",
    ">3. To double-check, you can use the Unix command diff. \n",
    "\n",
    ">Solution: http: // thinkpython2. com/ code/ find_ duplicates. py .\n"
   ]
  },
  {
   "cell_type": "markdown",
   "metadata": {},
   "source": []
  }
 ],
 "metadata": {
  "kernelspec": {
   "display_name": "base",
   "language": "python",
   "name": "python3"
  },
  "language_info": {
   "codemirror_mode": {
    "name": "ipython",
    "version": 3
   },
   "file_extension": ".py",
   "mimetype": "text/x-python",
   "name": "python",
   "nbconvert_exporter": "python",
   "pygments_lexer": "ipython3",
   "version": "3.12.7"
  }
 },
 "nbformat": 4,
 "nbformat_minor": 2
}

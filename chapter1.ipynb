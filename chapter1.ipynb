{
 "cells": [
  {
   "cell_type": "markdown",
   "metadata": {},
   "source": [
    "# TESTING FOR PYTHON VERSION USING IKERNEL ** IN JUPYTER NOTEBOOK **\n",
    "\n",
    "***\n",
    "## Aims & Objective\n",
    "1. the universal concepts of computer programming;\n",
    "2. the syntax and semantics of the Python language;\n",
    "3. practical skills in resolving typical implementation challenges;\n",
    "4. how to use the most important elements of the Python Standard Library;\n",
    "5. how to install your runtime environment;\n",
    "6. how to design, develop, test, and debug simple Python programs.\n",
    "***\n",
    "\n",
    ">🎱 Script: write a code in a file with .py (analysis.py) extension and then run the code using python analysis.py \n",
    "\n",
    ">🎱 The script can be run on code editor such as VS Code, PyCharm, Atom, Sublime etc \n",
    "\n",
    ">🎱 Python code can also be run on python Integrated Development Environment (IDE)\n",
    "\n",
    ">🎱 python code can be run on jupyter notebook or iKernel with .ipynb extension\n",
    "\n",
    ">🎱 Anaconda/miniconda can be useful in running python code for data scientist as it contains thousnds of packages for data science analysis, machine learning, mathematical computation \n"
   ]
  },
  {
   "cell_type": "markdown",
   "metadata": {},
   "source": [
    "# How does a computer program work?\n",
    "\n",
    "🎱 A program makes a computer usable. Without a program, a computer, even the most powerful one, is nothing more than an object. Similarly, without a player, a piano is nothing more than a wooden box.\n",
    "\n",
    "🎱 Computers are able to perform very complex tasks, but this ability is not innate. A computer's nature is quite different.\n",
    "\n",
    "🎱 It can execute only extremely simple operations. For example, a computer cannot understand the value of a complicated mathematical function by itself, although this isn't beyond the realms of possibility in the near future.\n",
    "\n",
    "🎱 Contemporary computers can only evaluate the results of very fundamental operations, like adding or dividing, but they can do it very fast, and can repeat these actions virtually any number of times.\n",
    "\n",
    "🎱 Imagine that you want to know the average speed you've reached during a long journey. You know the distance, you know the time, you need the speed.\n",
    "\n",
    "> Naturally, the computer will be able to compute this, but the computer is not aware of such things as distance, speed, or time. Therefore, it is necessary to instruct the computer to:\n",
    "***\n",
    "1. accept a number representing the distance;\n",
    "\n",
    "2. accept a number representing the travel time;\n",
    "\n",
    "3. divide the former value by the latter and store the result in the memory;\n",
    "\n",
    "4. display the result (representing the average speed) in a readable format.\n",
    "***\n",
    "> These four simple actions form a program. Of course, these examples are not formalized, and they are very far from what the computer can understand, but they are good enough to be translated into a language the computer can accept.\n",
    "\n",
    "***\n",
    "# Language is the keyword.\n",
    "***\n",
    "\n",
    "### 1.1.2 Natural languages vs. programming languages\n",
    "\n",
    "> A language is a means (and a tool) for expressing and recording thoughts. There are many languages all around us. Some of them require neither speaking nor writing, such as body language; it's possible to express your deepest feelings very precisely without saying a word.\n",
    "\n",
    "> Another language you use each day is your mother tongue, which you use to manifest your will and to ponder reality. Computers have their own language, too, called machine language, which is very rudimentary.\n",
    "\n",
    "> A computer, even the most technically sophisticated, is devoid of even a trace of intelligence. You could say that it is like a well-trained dog - it responds only to a predetermined set of known commands.\n",
    "\n",
    "> The commands it recognizes are very simple. We can imagine that the computer responds to orders like \"take that number, divide by another and save the result\".\n",
    "\n",
    "### Natural vs. Machine Languages\n",
    "\n",
    "> A complete set of known commands is called an instruction list, sometimes abbreviated to IL. Different types of computers may vary depending on the size of their ILs, and the instructions could be completely different in different models.\n",
    "\n",
    "#### Note: machine languages are developed by humans.\n",
    "\n",
    "> No computer is currently capable of creating a new language. However, that may change soon. Just as people use a number of very different languages, machines have many different languages, too. The difference, though, is that human languages developed naturally.\n",
    "\n",
    "> Moreover, they are still evolving, and new words are created every day as old words disappear. These languages are called natural languages.\n",
    "\n",
    "### 1.1.3 What makes a language?\n",
    "> We can say that each language (machine or natural, it doesn't matter) consists of the following elements:\n",
    "\n",
    "\n",
    "> A set of symbols used to build words of a certain language (e.g., the Latin alphabet for English, the Cyrillic alphabet for Russian, Kanji for Japanese, and so on)\n",
    "\n",
    ">A Lexis: (aka a dictionary) a set of words the language offers its users (e.g., the word \"computer\" comes from the English language dictionary, while \"cmoptrue\" doesn't; the word \"chat\" is present both in English and French dictionaries, but their meanings are different)\n",
    "\n",
    "\n",
    "> A Syntax: A set of rules (formal or informal, written or felt intuitively) used to determine if a certain string of words forms a valid sentence (e.g., \"I am a python\" is a syntactically correct phrase, while \"I a python am\" isn't)\n",
    "\n",
    "\n",
    "> Semantics: A set of rules determining if a certain phrase makes sense (e.g., \"I ate a doughnut\" makes sense, but \"A doughnut ate me\" doesn't)\n",
    "\n",
    "### 1.1.4 Machine language vs. high-level language\n",
    "\n",
    "> The IL is, in fact, the alphabet of a machine language. This is the simplest and most primary set of symbols we can use to give commands to a computer. It's the computer's mother tongue.\n",
    "\n",
    "> Unfortunately, this mother tongue is a far cry from a human mother tongue. We both (computers and humans) need something else, a common language for computers and humans, or a bridge between the two different worlds.\n",
    "\n",
    "> We need a language in which humans can write their programs and a language that computers may use to execute the programs, one that is far more complex than machine language and yet far simpler than natural language.\n",
    "\n",
    "> Such languages are often called high-level programming languages. They are at least somewhat similar to natural ones in that they use symbols, words and conventions readable to humans. These languages enable humans to express commands to computers that are much more complex than those offered by ILs.\n",
    "\n",
    ">Aprogram written in a high-level programming language is called a source code (in contrast to the machine code executed by computers). Similarly, the file containing the source code is called the source file.\n",
    "\n",
    "***\n",
    "### 1.1.5 Compilation vs. Interpretation\n",
    "***\n",
    "\n",
    ">Computer programming is the act of composing the selected programming language's elements in the order that will cause the desired effect. The effect could be different in every specific case – it's up to the programmer's imagination, knowledge and experience.\n",
    "\n",
    ">Of course, such a composition has to be correct in many senses:\n",
    "\n",
    "> 1. alphabetically – a program needs to be written in a recognizable script, such as Roman, Cyrillic, etc.\n",
    "\n",
    "> 2. lexically – each programming language has its dictionary and you need to master it; thankfully, it's much simpler and smaller than the dictionary of any natural language;\n",
    "\n",
    "> 3. syntactically – each language has its rules and they must be obeyed;\n",
    "\n",
    "> 4. semantically – the program has to make sense.\n",
    "\n",
    ">Unfortunately, a programmer can also make mistakes with each of the above four senses. Each of them can cause the program to become completely useless.\n",
    "\n",
    ">Let's assume that you've successfully written a program. How do we persuade the computer to execute it? You have to render your program into machine language. Luckily, the translation can be done by a computer itself, making the whole process fast and efficient.\n",
    "\n",
    "### There are two different ways of transforming a program from a high-level programming language into machine language:\n",
    "\n",
    "> 1. Compilation – the source program is translated once (however, this act must be repeated each time you modify the source code) by getting a file (e.g., an .exe file if the code is intended to be run under MS Windows) containing the machine code. Now you can distribute the file worldwide; the program that performs this translation is called a compiler or translator.\n",
    "\n",
    "> 2. Interpretation – you (or any user of the code) can translate the source program each time it has to be run. The program performing this kind of transformation is called an interpreter, as it interprets the code every time it is intended to be executed. It also means that you cannot just distribute the source code as-is, because the end-user also needs the interpreter to execute it.\n",
    "\n",
    "\n",
    ">Due to some very fundamental reasons, a particular high-level programming language is designed to fall into one of these two categories.\n",
    "\n",
    ">There are very few languages that can be both compiled and interpreted. Usually, a programming language is projected with this factor in its constructors' minds – will it be compiled or interpreted?\n",
    "\n",
    "### 1.1.6 What does the interpreter do?\n",
    ">Let's assume once more that you have written a program. Now, it exists as a computer file: a computer program is actually a piece of text, so the source code is usually placed in text files.\n",
    "\n",
    ">Note: it has to be pure text, without any decorations like different fonts, colors, embedded images or other media. Now you have to invoke the interpreter and let it read your source file.\n",
    "\n",
    ">The interpreter reads the source code in a way that is common in Western culture: from top to bottom and from left to right. There are some exceptions - they'll be covered later in the course.\n",
    "\n",
    ">First of all, the interpreter checks if all subsequent lines are correct (using the four aspects covered earlier). If the compiler finds an error, it finishes its work immediately. The only result in this case is an error message. The concept of Interpretation. The interpreter will inform you where the error is located and what caused it. However, these messages may be misleading, as the interpreter isn't able to follow your exact intentions, and may detect errors at some distance from their real causes. For example, if you try to use an entity of an unknown name, it will cause an error, but the error will be discovered in the place where it tries to use the entity, not where the new entity's name was introduced.\n",
    "\n",
    ">In other words, the actual reason is usually located a little earlier in the code, for example, in the place where you had to inform the interpreter that you were going to use the entity of the name. If the line looks good, the interpreter tries to execute it (note: each line is usually executed separately, so the trio \"read-check-execute\" can be repeated many times - more times than the actual number of lines in the source file, as some parts of the code may be executed more than once).\n",
    "\n",
    ">It is also possible that a significant part of the code may be executed successfully before the interpreter finds an error. This is normal behavior in this execution model.\n",
    "\n",
    ">You may ask now: which is better? The \"compiling\" model or the \"interpreting\" model? There is no obvious answer. If there had been, one of these models would have ceased to exist a long time ago. Both of them have their advantages and their disadvantages.\n",
    "\n",
    "### 1.1.7 Compilation vs. Interpretation – Advantages and Disadvantages\n",
    "\n",
    "#### What does this all mean for you?\n",
    "\n",
    ">Python is an interpreted language. This means that it inherits all the described advantages and disadvantages. Of course, it adds some of its unique features to both sets. If you want to program in Python, you'll need the Python interpreter. You won't be able to run your code without it. Fortunately, Python is free. This is one of its most important advantages. Due to historical reasons, languages designed to be utilized in the interpretation manner are often called scripting languages, while the source programs encoded using them are called scripts. Okay, let's meet Python."
   ]
  },
  {
   "cell_type": "code",
   "execution_count": 1,
   "metadata": {},
   "outputs": [
    {
     "name": "stdout",
     "output_type": "stream",
     "text": [
      "Python 3.12.7\n"
     ]
    }
   ],
   "source": [
    "# how to check python version in notebook (this is called comment)\n",
    "!python --version"
   ]
  },
  {
   "cell_type": "code",
   "execution_count": 2,
   "metadata": {},
   "outputs": [
    {
     "name": "stdout",
     "output_type": "stream",
     "text": [
      "3.12.7 (tags/v3.12.7:0b05ead, Oct  1 2024, 03:06:41) [MSC v.1941 64 bit (AMD64)]\n"
     ]
    }
   ],
   "source": [
    "# Check Python Version Using Python Code\n",
    "import sys # import system module\n",
    "\n",
    "# Print the Python version using sys module\n",
    "print(sys.version)"
   ]
  },
  {
   "cell_type": "markdown",
   "metadata": {},
   "source": [
    "#  Jupyter Notebook\n",
    "Jupyter Notebook: Jupyter Notebook is an interactive computing environment that allows you to create and share documents that contain live code, equations, visualizations and narrative text. Uses include: data cleaning and transformation, numerical simulation, statistical modeling, data visualization, machine learning, and much more.\n",
    "\n",
    "\n",
    "## Key Features of Jupyter Notebooks:\n",
    "- Interactive Coding: Run code cells interactively.\n",
    "\n",
    "- Rich Text Support: Integrate markdown and LaTeX for formatting and documentation.\n",
    "\n",
    "- Data Visualization: Support for visual output like graphs and charts.\n",
    "\n",
    "- Multiple Languages: Support for various programming languages (Python, R, Julia, etc.), with Python being the most popular.\n",
    "\n",
    "\n",
    "1. checking for python version\n",
    "2. jupyter notebook and how to run python\n",
    "3. where python code can be run \n"
   ]
  },
  {
   "cell_type": "code",
   "execution_count": 3,
   "metadata": {},
   "outputs": [
    {
     "data": {
      "image/png": "[encoded data removed]",
      "text/plain": [
       "<Figure size 640x480 with 1 Axes>"
      ]
     },
     "metadata": {},
     "output_type": "display_data"
    }
   ],
   "source": [
    "import matplotlib.pyplot as plt\n",
    "\n",
    "x = [1, 2, 3, 4, 5]\n",
    "y = [10, 20, 30, 40, 50]\n",
    "\n",
    "plt.plot(x, y)\n",
    "plt.title(\"Sample Plot\")\n",
    "\n",
    "plt.xlabel(\"X-axis\")\n",
    "plt.ylabel(\"Y-axis\")\n",
    "plt.show()"
   ]
  },
  {
   "cell_type": "markdown",
   "metadata": {},
   "source": [
    "# Pip\n",
    "PIP is a package management system used to install and manage software packages written in Python. It stands for “preferred installer program” or “Pip Installs Packages.”\n",
    "\n",
    "+ If you installed Python from source, with an installer from python.org, or via Homebrew you should already have pip.\n",
    "\n",
    "+ pip is the package installer for Python\n",
    "\n",
    "+ It’s a tool to install python packages from the Python Package Index(PyPi). PyPi is the central repository for all the open-source and third-party python packages\n",
    "\n",
    "+ It is the most popular way to install, upgrade, and remove third-party libraries.\n",
    "\n",
    "+ pip doesn’t usually come with standard python installation and we have to install pip separately. But, from python 3.4 version, pip is a part of the standard installation\n"
   ]
  },
  {
   "cell_type": "markdown",
   "metadata": {},
   "source": [
    "# virtual environment\n",
    "A virtual environment is a tool that helps to keep dependencies required by different projects separate by creating isolated spaces for them that contain per-project dependencies for them rather than being installed globally.\n",
    "\n",
    "Users can create virtual environments using one of several tools such as Pipenv or Poetry, or a conda virtual environment.\n",
    "\n",
    "## pipenv and poetry\n",
    "Pipenv and Poetry are based around Python's built-in venv library, whereas conda has its own notion of virtual environments that is lower-level (Python itself is a dependency provided in conda environments).\n",
    "\n",
    "### How to create Virtual enviroment?\n",
    "We can create a virtual environment using conda or virtualenv\n",
    "\n",
    "### Creating a virtual environment using Conda\n",
    "- conda create --name <enviroment name> - Create a new environment using the given environment name and\n",
    "- conda create --name <enviroment name> packagename1 packagename2 - Create a new environment using the given environment name and python version\n",
    "- conda activate <enviroment name> - Activate the environment\n",
    "- conda install <package name> - Install the package in the environment\n",
    "- conda deactivate - Deactivate the environment\n",
    "\n",
    "###### Note: If you’re using Conda 4.10 or later, use --name instead of -n to create a new environment.\n",
    "\n",
    "- Remember to replace <environment_name> and package names as per your needs.\n",
    "\n",
    "## Creating a virtual environment using Virtualenv\n",
    "\n",
    "1. python -m venv <enviroment name> - Create a new environment using the given environment name and\n",
    "2. source <enviroment name>/bin/activate - Activate the environment\n",
    "3. pip install <package name> - Install the package in the environment\n",
    "4. deactivate - Deactivate the environment"
   ]
  },
  {
   "cell_type": "code",
   "execution_count": null,
   "metadata": {},
   "outputs": [],
   "source": []
  }
 ],
 "metadata": {
  "kernelspec": {
   "display_name": "Python 3",
   "language": "python",
   "name": "python3"
  },
  "language_info": {
   "codemirror_mode": {
    "name": "ipython",
    "version": 3
   },
   "file_extension": ".py",
   "mimetype": "text/x-python",
   "name": "python",
   "nbconvert_exporter": "python",
   "pygments_lexer": "ipython3",
   "version": "3.12.7"
  }
 },
 "nbformat": 4,
 "nbformat_minor": 2
}

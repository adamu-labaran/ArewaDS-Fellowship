{
 "cells": [
  {
   "cell_type": "markdown",
   "metadata": {},
   "source": [
    "Tuples\n",
    "A tuple is a collection of different data types which is ordered and unchangeable (immutable). Tuples are written with round brackets, (). Once a tuple is created, we cannot change its values. We cannot use add, insert, remove methods in a tuple because it is not modifiable (mutable). Unlike list, tuple has few methods. Methods related to tuples:\n",
    "\n",
    "tuple(): to create an empty tuple\n",
    "count(): to count the number of a specified item in a tuple\n",
    "index(): to find the index of a specified item in a tuple\n",
    "operator: to join two or more tuples and to create a new tuple\n",
    "Creating a Tuple\n",
    "Empty tuple: Creating an empty tuple\n",
    "\n",
    "# syntax\n",
    "empty_tuple = ()\n",
    "# or using the tuple constructor\n",
    "empty_tuple = tuple()\n",
    "Tuple with initial values\n",
    "\n",
    "# syntax\n",
    "tpl = ('item1', 'item2','item3')\n",
    "fruits = ('banana', 'orange', 'mango', 'lemon')\n",
    "Tuple length\n",
    "We use the len() method to get the length of a tuple.\n",
    "\n",
    "# syntax\n",
    "tpl = ('item1', 'item2', 'item3')\n",
    "len(tpl)\n",
    "Accessing Tuple Items\n",
    "Positive Indexing Similar to the list data type we use positive or negative indexing to access tuple items. Accessing tuple items\n",
    "\n",
    "# Syntax\n",
    "tpl = ('item1', 'item2', 'item3')\n",
    "first_item = tpl[0]\n",
    "second_item = tpl[1]"
   ]
  },
  {
   "cell_type": "code",
   "execution_count": 1,
   "metadata": {},
   "outputs": [
    {
     "ename": "NameError",
     "evalue": "name 'las_index' is not defined",
     "output_type": "error",
     "traceback": [
      "\u001b[1;31m---------------------------------------------------------------------------\u001b[0m",
      "\u001b[1;31mNameError\u001b[0m                                 Traceback (most recent call last)",
      "Cell \u001b[1;32mIn[1], line 5\u001b[0m\n\u001b[0;32m      3\u001b[0m second_fruit \u001b[38;5;241m=\u001b[39m fruits[\u001b[38;5;241m1\u001b[39m]\n\u001b[0;32m      4\u001b[0m last_index \u001b[38;5;241m=\u001b[39m\u001b[38;5;28mlen\u001b[39m(fruits) \u001b[38;5;241m-\u001b[39m \u001b[38;5;241m1\u001b[39m\n\u001b[1;32m----> 5\u001b[0m last_fruit \u001b[38;5;241m=\u001b[39m fruits[\u001b[43mlas_index\u001b[49m]\n",
      "\u001b[1;31mNameError\u001b[0m: name 'las_index' is not defined"
     ]
    }
   ],
   "source": [
    "fruits = ('banana', 'orange', 'mango', 'lemon')\n",
    "first_fruit = fruits[0]\n",
    "second_fruit = fruits[1]\n",
    "last_index =len(fruits) - 1\n",
    "last_fruit = fruits[las_index]"
   ]
  },
  {
   "cell_type": "markdown",
   "metadata": {},
   "source": [
    "- Negative indexing Negative indexing means beginning from the end, -1 refers to the last item, -2 refers to the second last and the negative of the list/tuple length refers to the first item. Tuple Negative indexing\n",
    "\n",
    "# Syntax\n",
    "tpl = ('item1', 'item2', 'item3','item4')\n",
    "first_item = tpl[-4]\n",
    "second_item = tpl[-3]"
   ]
  },
  {
   "cell_type": "code",
   "execution_count": 2,
   "metadata": {},
   "outputs": [],
   "source": [
    "fruits = ('banana', 'orange', 'mango', 'lemon')\n",
    "first_fruit = fruits[-4]\n",
    "second_fruit = fruits[-3]\n",
    "last_fruit = fruits[-1]"
   ]
  },
  {
   "cell_type": "markdown",
   "metadata": {},
   "source": [
    "# Slicing tuples\n",
    "We can slice out a sub-tuple by specifying a range of indexes where to start and where to end in the tuple, the return value will be a new tuple with the specified items.\n",
    "\n",
    "Range of Positive Indexes\n",
    "\n",
    "# Syntax\n",
    "tpl = ('item1', 'item2', 'item3','item4')\n",
    "all_items = tpl[0:4]         # all items\n",
    "all_items = tpl[0:]         # all items\n",
    "middle_two_items = tpl[1:3]  # does not include item at index 3\n"
   ]
  },
  {
   "cell_type": "code",
   "execution_count": 3,
   "metadata": {},
   "outputs": [],
   "source": [
    "fruits = ('banana', 'orange', 'mango', 'lemon')\n",
    "all_fruits = fruits[0:4]    # all items\n",
    "all_fruits= fruits[0:]      # all items\n",
    "orange_mango = fruits[1:3]  # doesn't include item at index 3\n",
    "orange_to_the_rest = fruits[1:]"
   ]
  },
  {
   "cell_type": "markdown",
   "metadata": {},
   "source": [
    "- Range of Negative Indexes\n",
    "\n",
    "# Syntax\n",
    "tpl = ('item1', 'item2', 'item3','item4')\n",
    "all_items = tpl[-4:]         # all items\n",
    "middle_two_items = tpl[-3:-1]  # does not include item at index 3 (-1)\n"
   ]
  },
  {
   "cell_type": "code",
   "execution_count": 4,
   "metadata": {},
   "outputs": [],
   "source": [
    "fruits = ('banana', 'orange', 'mango', 'lemon')\n",
    "all_fruits = fruits[-4:]    # all items\n",
    "orange_mango = fruits[-3:-1]  # doesn't include item at index 3\n",
    "orange_to_the_rest = fruits[-3:]"
   ]
  },
  {
   "cell_type": "markdown",
   "metadata": {},
   "source": [
    "# Changing Tuples to Lists\n",
    "We can change tuples to lists and lists to tuples. Tuple is immutable if we want to modify a tuple we should change it to a list.\n",
    "\n",
    "# Syntax\n",
    "tpl = ('item1', 'item2', 'item3','item4')\n",
    "lst = list(tpl)Changing Tuples to Lists\n",
    "We can change tuples to lists and lists to tuples. Tuple is immutable if we want to modify a tuple we should change it to a list.\n",
    "\n",
    "# Syntax\n",
    "tpl = ('item1', 'item2', 'item3','item4')\n",
    "lst = list(tpl)"
   ]
  },
  {
   "cell_type": "code",
   "execution_count": 5,
   "metadata": {},
   "outputs": [
    {
     "name": "stdout",
     "output_type": "stream",
     "text": [
      "['apple', 'orange', 'mango', 'lemon']\n",
      "('apple', 'orange', 'mango', 'lemon')\n"
     ]
    }
   ],
   "source": [
    "fruits = ('banana', 'orange', 'mango', 'lemon')\n",
    "fruits = list(fruits)\n",
    "fruits[0] = 'apple'\n",
    "print(fruits)     # ['apple', 'orange', 'mango', 'lemon']\n",
    "fruits = tuple(fruits)\n",
    "print(fruits)     # ('apple', 'orange', 'mango', 'lemon')"
   ]
  },
  {
   "cell_type": "markdown",
   "metadata": {},
   "source": [
    "# Checking an Item in a Tuple\n",
    "We can check if an item exists or not in a tuple using in, it returns a boolean.\n",
    "\n",
    "# Syntax\n",
    "tpl = ('item1', 'item2', 'item3','item4')\n",
    "'item2' in tpl # True"
   ]
  },
  {
   "cell_type": "code",
   "execution_count": 6,
   "metadata": {},
   "outputs": [
    {
     "name": "stdout",
     "output_type": "stream",
     "text": [
      "True\n",
      "False\n"
     ]
    },
    {
     "ename": "TypeError",
     "evalue": "'tuple' object does not support item assignment",
     "output_type": "error",
     "traceback": [
      "\u001b[1;31m---------------------------------------------------------------------------\u001b[0m",
      "\u001b[1;31mTypeError\u001b[0m                                 Traceback (most recent call last)",
      "Cell \u001b[1;32mIn[6], line 4\u001b[0m\n\u001b[0;32m      2\u001b[0m \u001b[38;5;28mprint\u001b[39m(\u001b[38;5;124m'\u001b[39m\u001b[38;5;124morange\u001b[39m\u001b[38;5;124m'\u001b[39m \u001b[38;5;129;01min\u001b[39;00m fruits) \u001b[38;5;66;03m# True\u001b[39;00m\n\u001b[0;32m      3\u001b[0m \u001b[38;5;28mprint\u001b[39m(\u001b[38;5;124m'\u001b[39m\u001b[38;5;124mapple\u001b[39m\u001b[38;5;124m'\u001b[39m \u001b[38;5;129;01min\u001b[39;00m fruits) \u001b[38;5;66;03m# False\u001b[39;00m\n\u001b[1;32m----> 4\u001b[0m \u001b[43mfruits\u001b[49m\u001b[43m[\u001b[49m\u001b[38;5;241;43m0\u001b[39;49m\u001b[43m]\u001b[49m \u001b[38;5;241m=\u001b[39m \u001b[38;5;124m'\u001b[39m\u001b[38;5;124mapple\u001b[39m\u001b[38;5;124m'\u001b[39m \u001b[38;5;66;03m# TypeError: 'tuple' object does not support item assignment\u001b[39;00m\n",
      "\u001b[1;31mTypeError\u001b[0m: 'tuple' object does not support item assignment"
     ]
    }
   ],
   "source": [
    "fruits = ('banana', 'orange', 'mango', 'lemon')\n",
    "print('orange' in fruits) # True\n",
    "print('apple' in fruits) # False\n",
    "fruits[0] = 'apple' # TypeError: 'tuple' object does not support item assignment"
   ]
  },
  {
   "cell_type": "code",
   "execution_count": 7,
   "metadata": {},
   "outputs": [],
   "source": [
    "''' \n",
    "Joining Tuples\n",
    "We can join two or more tuples using + operator\n",
    "\n",
    "# syntax\n",
    "tpl1 = ('item1', 'item2', 'item3')\n",
    "tpl2 = ('item4', 'item5','item6')\n",
    "tpl3 = tpl1 + tpl2\n",
    "\n",
    "'''\n",
    "fruits = ('banana', 'orange', 'mango', 'lemon')\n",
    "vegetables = ('Tomato', 'Potato', 'Cabbage','Onion', 'Carrot')\n",
    "fruits_and_vegetables = fruits + vegetables"
   ]
  },
  {
   "cell_type": "markdown",
   "metadata": {},
   "source": [
    "# Deleting Tuples\n",
    "It is not possible to remove a single item in a tuple but it is possible to delete the tuple itself using del.\n",
    "\n",
    "# syntax\n",
    "tpl1 = ('item1', 'item2', 'item3')\n",
    "del tpl1\n",
    "fruits = ('banana', 'orange', 'mango', 'lemon')\n",
    "del fruits\n",
    "\n",
    "\n",
    "💻 Tuple Exercises\n",
    "Tuple Exercises: Level 1\n",
    "Create an empty tuple\n",
    "Create a tuple containing names of your sisters and your brothers (imaginary siblings are fine)\n",
    "Join brothers and sisters tuples and assign it to siblings\n",
    "How many siblings do you have?\n",
    "Modify the siblings tuple and add the name of your father and mother and assign it to family_members\n",
    "Tuple Exercises: Level 2\n",
    "Unpack siblings and parents from family_members\n",
    "Create fruits, vegetables and animal products tuples. Join the three tuples and assign it to a variable called food_stuff_tp.\n",
    "Change the about food_stuff_tp tuple to a food_stuff_lt list\n",
    "Slice out the middle item or items from the food_stuff_tp tuple or food_stuff_lt list.\n",
    "Slice out the first three items and the last three items from food_staff_lt list\n",
    "Delete the food_staff_tp tuple completely\n",
    "Check if an item exists in tuple:\n",
    "Check if 'Estonia' is a nordic country\n",
    "\n",
    "Check if 'Iceland' is a nordic country\n",
    "\n",
    "nordic_countries = ('Denmark', 'Finland','Iceland', 'Norway', 'Sweden')"
   ]
  },
  {
   "cell_type": "code",
   "execution_count": null,
   "metadata": {},
   "outputs": [],
   "source": []
  }
 ],
 "metadata": {
  "kernelspec": {
   "display_name": "base",
   "language": "python",
   "name": "python3"
  },
  "language_info": {
   "codemirror_mode": {
    "name": "ipython",
    "version": 3
   },
   "file_extension": ".py",
   "mimetype": "text/x-python",
   "name": "python",
   "nbconvert_exporter": "python",
   "pygments_lexer": "ipython3",
   "version": "3.12.7"
  }
 },
 "nbformat": 4,
 "nbformat_minor": 2
}

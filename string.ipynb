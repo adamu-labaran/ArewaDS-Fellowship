{
 "cells": [
  {
   "cell_type": "code",
   "execution_count": null,
   "metadata": {},
   "outputs": [],
   "source": [
    "f_name = \"adamu\"\n",
    "\n",
    "l_name = \"labaran\"\n",
    "\n",
    "msg = f\"hello, {f_name}.tittle() {l_name}.tittle()\"\n",
    "\n",
    "msg"
   ]
  },
  {
   "cell_type": "code",
   "execution_count": null,
   "metadata": {},
   "outputs": [
    {
     "name": "stdout",
     "output_type": "stream",
     "text": [
      "hello, Adamu Labaran!\n"
     ]
    }
   ],
   "source": [
    "f_name = \"adamu\"\n",
    "\n",
    "l_name = \"labaran\"\n",
    "\n",
    "full_name = f\"{f_name} {l_name}\"\n",
    "msg = f\"hello, {full_name.title()}!\"\n",
    "\n",
    "print(msg)\n"
   ]
  },
  {
   "cell_type": "code",
   "execution_count": null,
   "metadata": {},
   "outputs": [
    {
     "name": "stdout",
     "output_type": "stream",
     "text": [
      "\tAdamu\tadamu\n"
     ]
    }
   ],
   "source": [
    "# working with  tap \\t\n",
    "print(\"\\tAdamu\"\"\\tadamu\")\n"
   ]
  },
  {
   "cell_type": "code",
   "execution_count": 12,
   "metadata": {},
   "outputs": [
    {
     "name": "stdout",
     "output_type": "stream",
     "text": [
      "my favorite Languages: \n",
      "\tpython\n",
      "\tJavaScript\n",
      "\tC\n",
      "\tJava\n"
     ]
    }
   ],
   "source": [
    "print(\"my favorite Languages: \\n\\tpython\\n\\tJavaScript\\n\\tC\\n\\tJava\")\n"
   ]
  },
  {
   "cell_type": "code",
   "execution_count": 24,
   "metadata": {},
   "outputs": [
    {
     "name": "stdout",
     "output_type": "stream",
     "text": [
      "8\n",
      "python  \n",
      "8\n",
      "python  \n"
     ]
    },
    {
     "data": {
      "text/plain": [
       "'python'"
      ]
     },
     "execution_count": 24,
     "metadata": {},
     "output_type": "execute_result"
    }
   ],
   "source": [
    "# working with whitespace using rstripe\n",
    "\n",
    "fav_lang = \"python  \"\n",
    "print(len(fav_lang))\n",
    "print(fav_lang)\n",
    "\n",
    "\n",
    "fav_lang.rstrip()\n",
    "print(len(fav_lang))\n",
    "print(fav_lang)\n",
    "\n",
    "fav_lang.rstrip()"
   ]
  },
  {
   "cell_type": "code",
   "execution_count": 26,
   "metadata": {},
   "outputs": [
    {
     "data": {
      "text/plain": [
       "'python'"
      ]
     },
     "execution_count": 26,
     "metadata": {},
     "output_type": "execute_result"
    }
   ],
   "source": [
    "\"\"\"\n",
    "when rstrip act on fav_lang it temporarily remove the white space.\n",
    "\n",
    "However, to permanently delete the white space, the rstripe value should be associated with vaariable name\n",
    "\"\"\"\n",
    "\n",
    "fav_lang = fav_lang.rstrip()\n",
    "fav_lang"
   ]
  },
  {
   "cell_type": "code",
   "execution_count": 29,
   "metadata": {},
   "outputs": [
    {
     "data": {
      "text/plain": [
       "'github.com'"
      ]
     },
     "execution_count": 29,
     "metadata": {},
     "output_type": "execute_result"
    }
   ],
   "source": [
    "\"\"\"  \n",
    "removing prefix using removeprefix() method:\n",
    "\n",
    "such that when trying to remove the https:// and focuse on the url that the users needed\n",
    "\"\"\"\n",
    "github = \"https://github.com\"\n",
    "github = github.removeprefix(\"https://\")\n",
    "github"
   ]
  },
  {
   "cell_type": "code",
   "execution_count": null,
   "metadata": {},
   "outputs": [
    {
     "name": "stdout",
     "output_type": "stream",
     "text": [
      "Hello adamu labaran, would you like to learn Python today\n",
      "Hello ADAMU LABARAN\n",
      "Hello adamu labaran\n",
      "Hello Adamu Labaran\n",
      "Albert Einstein once said, \"A person who never made a mistke never tried anything new\n"
     ]
    }
   ],
   "source": [
    "# excercise 1\n",
    "name = \"adamu labaran\"\n",
    "print(f\"Hello {name}, would you like to learn Python today\")\n",
    "\n",
    "# excercise 2\n",
    "print(f\"Hello {name.upper()}\")\n",
    "print(f\"Hello {name.lower()}\")\n",
    "print(f\"Hello {name.title()}\")\n",
    "\n",
    "# excercise 3\n",
    "quote = 'Albert Einstein once said, \"A person who never made a mistke never tried anything new'\n",
    "print(quote)"
   ]
  },
  {
   "cell_type": "code",
   "execution_count": 35,
   "metadata": {},
   "outputs": [
    {
     "name": "stdout",
     "output_type": "stream",
     "text": [
      "Avoiding mistake is same as being \"fixed mindset\" Albert Einstein once said, \"A person who never made a mistke never tried anything new\n"
     ]
    }
   ],
   "source": [
    "# excercise 4\n",
    "famous_person = 'Albert Einstein once said, \"A person who never made a mistke never tried anything new'\n",
    "msg = f'Avoiding mistake is same as being \"fixed mindset\" {famous_person}'\n",
    "print(msg)\n",
    "\n"
   ]
  },
  {
   "cell_type": "code",
   "execution_count": null,
   "metadata": {},
   "outputs": [
    {
     "name": "stdout",
     "output_type": "stream",
     "text": [
      "my name is: adamu labaran\n",
      "names:\n",
      "\tAdamu\tLabaran\n",
      "\tIsmail\tLabaran\n",
      "\tIdris\tMikail\n",
      "\n",
      "ADAMU LABARAN\n",
      "\n"
     ]
    },
    {
     "data": {
      "text/plain": [
       "'adamu labaran    '"
      ]
     },
     "execution_count": 47,
     "metadata": {},
     "output_type": "execute_result"
    }
   ],
   "source": [
    "# excercise 5\n",
    "name = \" adamu labaran    \"\n",
    "print(f\"my name is:{name.rstrip()}\")\n",
    "print(\"names:\\n\\tAdamu\\tLabaran\\n\\tIsmail\\tLabaran\\n\\tIdris\\tMikail\")\n",
    "\n",
    "print()\n",
    "print(name.strip().upper())\n",
    "\n",
    "name.lstrip()\n"
   ]
  },
  {
   "cell_type": "code",
   "execution_count": 50,
   "metadata": {},
   "outputs": [
    {
     "data": {
      "text/plain": [
       "'ADAMU LABARAN    '"
      ]
     },
     "execution_count": 50,
     "metadata": {},
     "output_type": "execute_result"
    }
   ],
   "source": [
    "# using lstrip()\n",
    "name.lstrip().upper()"
   ]
  },
  {
   "cell_type": "code",
   "execution_count": null,
   "metadata": {},
   "outputs": [
    {
     "data": {
      "text/plain": [
       "' ADAMU LABARAN'"
      ]
     },
     "execution_count": 51,
     "metadata": {},
     "output_type": "execute_result"
    }
   ],
   "source": [
    "# using rstrip()\n",
    "name.rstrip().upper()"
   ]
  },
  {
   "cell_type": "code",
   "execution_count": 52,
   "metadata": {},
   "outputs": [
    {
     "data": {
      "text/plain": [
       "'ADAMU LABARAN'"
      ]
     },
     "execution_count": 52,
     "metadata": {},
     "output_type": "execute_result"
    }
   ],
   "source": [
    "# using strip()\n",
    "name.strip().upper()"
   ]
  },
  {
   "cell_type": "code",
   "execution_count": null,
   "metadata": {},
   "outputs": [],
   "source": []
  }
 ],
 "metadata": {
  "kernelspec": {
   "display_name": "Python 3",
   "language": "python",
   "name": "python3"
  },
  "language_info": {
   "codemirror_mode": {
    "name": "ipython",
    "version": 3
   },
   "file_extension": ".py",
   "mimetype": "text/x-python",
   "name": "python",
   "nbconvert_exporter": "python",
   "pygments_lexer": "ipython3",
   "version": "3.12.7"
  }
 },
 "nbformat": 4,
 "nbformat_minor": 2
}

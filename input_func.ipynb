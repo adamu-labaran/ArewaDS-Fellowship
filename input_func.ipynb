# input function practical use case
name = input("what is your name?: ")
msg = input(f"Hello {name}! welcome how may we help you)
print(msg)


//  be precise in writing prompt, it shoul be clearly stated what is intended to do
age = int(input("what is your age?: "))  # working with age
height = int(input("what is your height?:")) # working with height




